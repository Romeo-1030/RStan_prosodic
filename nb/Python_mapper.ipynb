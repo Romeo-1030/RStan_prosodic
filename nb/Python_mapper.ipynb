{
 "cells": [
  {
   "cell_type": "code",
   "execution_count": 6,
   "id": "fcc9c7c1-7d22-4c7c-8783-a6e850026f4c",
   "metadata": {},
   "outputs": [],
   "source": [
    "# Data wrangling\n",
    "import numpy as np\n",
    "import pandas as pd  # Not a requirement of giotto-tda, but is compatible with the gtda.mapper module\n",
    "\n",
    "# Data viz\n",
    "from gtda.plotting import plot_point_cloud\n",
    "\n",
    "# TDA magic\n",
    "from gtda.mapper import (\n",
    "    CubicalCover,\n",
    "    make_mapper_pipeline,\n",
    "    Projection,\n",
    "    plot_static_mapper_graph,\n",
    "    plot_interactive_mapper_graph,\n",
    "    MapperInteractivePlotter\n",
    ")\n",
    "\n",
    "# ML tools\n",
    "from sklearn import datasets\n",
    "from sklearn.cluster import DBSCAN\n",
    "from sklearn.decomposition import PCA\n",
    "from sklearn.manifold import MDS\n",
    "import random"
   ]
  },
  {
   "cell_type": "code",
   "execution_count": null,
   "id": "630f996a-21d3-448b-b771-b99c64805054",
   "metadata": {},
   "outputs": [],
   "source": [
    "pip install giotto-tda\n"
   ]
  },
  {
   "cell_type": "code",
   "execution_count": 7,
   "id": "c277c712-54f0-40c2-b900-7cf5cb6667ca",
   "metadata": {},
   "outputs": [],
   "source": [
    "# mds_coords = pd.read_csv(\"mds_coords_k3.csv\").values \n",
    "distance_matrix = pd.read_csv(\"/Users/lu/Desktop/Projects/RStan_prosodic/data/distance_matrix.csv\").values\n",
    "pdf_matrix = pd.read_csv(\"/Users/lu/Desktop/Projects/RStan_prosodic/data/pdf_matrix.csv\").values"
   ]
  },
  {
   "cell_type": "code",
   "execution_count": 43,
   "id": "6ec68dcf-2599-424d-8efd-183fbfd82b3b",
   "metadata": {},
   "outputs": [],
   "source": [
    "# Issues:\n",
    "# mds doesn't have .transform function\n",
    "# if no fit_transform, then .fit.transform()\n",
    "\n",
    "from sklearn.base import BaseEstimator, TransformerMixin\n",
    "from sklearn.manifold import MDS\n",
    "\n",
    "class WrappedMDS(BaseEstimator, TransformerMixin):\n",
    "    def __init__(self, n_components=5, normalized_stress='auto', random_state = None):\n",
    "        self.n_components = n_components\n",
    "        self.normalized_stress = normalized_stress\n",
    "        self.mds = MDS(n_components=n_components, \n",
    "                       #dissimilarity='euclidean', \n",
    "                       normalized_stress=normalized_stress,\n",
    "                       random_state = random_state)\n",
    "        self.random_state = random_state\n",
    "\n",
    "    def fit(self, X, y=None):\n",
    "        print(\"1\")\n",
    "        self.mds.fit(X)\n",
    "        return self\n",
    "\n",
    "    def transform(self, X):\n",
    "        print(\"2\")\n",
    "        return self.mds.fit_transform(X)\n",
    "    \n",
    "    def fit_transform(self, X, y=None):\n",
    "        print(\"3\")\n",
    "        return self.mds.fit_transform(X)\n",
    "\n",
    "\n",
    "filter_func = WrappedMDS(n_components=5, random_state=613)\n"
   ]
  },
  {
   "cell_type": "code",
   "execution_count": null,
   "id": "983e6774-0845-4987-8e04-cf263d06af70",
   "metadata": {},
   "outputs": [],
   "source": [
    "## testing which part of PCA\n",
    "#from sklearn.base import BaseEstimator, TransformerMixin\n",
    "#from sklearn.decomposition import PCA\n",
    "\n",
    "#class WrappedPCA(BaseEstimator, TransformerMixin):\n",
    "    #def __init__(self, n_components=2):\n",
    "        #self.n_components = n_components\n",
    "        #self.pca = PCA(n_components=n_components)\n",
    "\n",
    "    #def fit(self, X, y=None):\n",
    "        #self.pca.fit(X)\n",
    "        #print(\"1\")\n",
    "        #return self\n",
    "\n",
    "    #def transform(self, X):\n",
    "        #print(\"2\")\n",
    "        #return self.pca.transform(X)\n",
    "\n",
    "    #def fit_transform(self, X, y=None):\n",
    "        #print(\"3\")\n",
    "        #return self.pca.fit_transform(X)\n",
    "#filter_func = WrappedPCA(n_components=5)"
   ]
  },
  {
   "cell_type": "code",
   "execution_count": null,
   "id": "8f2f0404-f980-4dc5-82f2-e8225c8adf23",
   "metadata": {},
   "outputs": [],
   "source": [
    "mds_coords_first_two = mds_coords[:, :2]"
   ]
  },
  {
   "cell_type": "code",
   "execution_count": 46,
   "id": "e59abf96-c401-4828-a444-bf5b50f6a932",
   "metadata": {},
   "outputs": [],
   "source": [
    "#filter_func = Projection(columns=[0, 1, 2]) # input original data, dimension reduction, PCA or any\n",
    "#filter_func = MDS(n_components=5)\n",
    "\n",
    "# Define cover\n",
    "cover = CubicalCover(n_intervals=4, overlap_frac=0.3)\n",
    "# Choose clustering algorithm – default is DBSCAN\n",
    "clusterer = DBSCAN(metric = \"precomputed\").fit(distance_matrix)\n",
    "\n",
    "\n",
    "# Configure parallelism of clustering step\n",
    "n_jobs = 1\n",
    "\n",
    "# Initialise pipeline\n",
    "pipe = make_mapper_pipeline(\n",
    "    filter_func=filter_func,\n",
    "    cover=cover,\n",
    "    clusterer=clusterer, # distance matrix is calculated here. \n",
    "    verbose=False,\n",
    "    n_jobs=n_jobs,\n",
    ")\n",
    "\n",
    "#mds, euclidean for the dbscan\n",
    "#set the filter as umap"
   ]
  },
  {
   "cell_type": "code",
   "execution_count": null,
   "id": "5efce373-809a-4094-b1e8-c278c8545562",
   "metadata": {},
   "outputs": [],
   "source": [
    "np.random.seed(3047)\n",
    "fig = plot_static_mapper_graph(pipe, distance_matrix)\n",
    "fig.show(config={'scrollZoom': True})"
   ]
  },
  {
   "cell_type": "code",
   "execution_count": null,
   "id": "e7645926-812d-4a27-85af-02cadb7f1c94",
   "metadata": {},
   "outputs": [],
   "source": []
  },
  {
   "cell_type": "code",
   "execution_count": null,
   "id": "0976180e-5abc-4b72-9329-545b62279145",
   "metadata": {
    "scrolled": true,
    "tags": []
   },
   "outputs": [],
   "source": [
    "mapper_graph = pipe.fit_transform(distance_matrix)\n",
    "column_names = distance_matrix_raw.columns.tolist()\n",
    "node_elements = mapper_graph.vs[\"node_elements\"]\n",
    "\n",
    "for node_id, indices in enumerate(node_elements):\n",
    "    words = [column_names[i] for i in indices]\n",
    "    print(f\"Node {node_id}:\")\n",
    "    #print(f\"  Indices: {indices}\")\n",
    "    print(f\"Words: {words}\")\n"
   ]
  },
  {
   "cell_type": "code",
   "execution_count": null,
   "id": "cd0d5112-dab1-4bc1-8fa1-e0071f1c69f4",
   "metadata": {},
   "outputs": [],
   "source": [
    "\n",
    "mapper_graph = pipe.fit_transform(mds_coords)  # Create the mapper graph\n",
    "print(type(mapper_graph))\n",
    "\n",
    "print(mapper_graph.vs.attributes())\n",
    "\n",
    "# Find which points belong to first node of graph\n",
    "#node_id = 1\n",
    "node_elements = mapper_graph.vs[\"node_elements\"]\n",
    "#print(f\"Node ID: {node_id}, Node elements: {node_elements[node_id]}, Data points: {mds_coords[node_elements[node_id]]}\")\n"
   ]
  },
  {
   "cell_type": "code",
   "execution_count": null,
   "id": "94f013c7-4c1d-4ba6-b723-0204b4eb8573",
   "metadata": {},
   "outputs": [],
   "source": [
    "distance_matrix_raw = pd.read_csv(\"distance_matrix.csv\")"
   ]
  },
  {
   "cell_type": "code",
   "execution_count": null,
   "id": "9c391592-76e5-471f-b41e-fe0b4604c4bb",
   "metadata": {},
   "outputs": [],
   "source": []
  },
  {
   "cell_type": "code",
   "execution_count": null,
   "id": "90fe6233-f138-4676-b382-275c1a87e509",
   "metadata": {},
   "outputs": [],
   "source": []
  },
  {
   "cell_type": "code",
   "execution_count": null,
   "id": "854dfba3-b7f7-48be-bb30-09db94bed1cc",
   "metadata": {},
   "outputs": [],
   "source": [
    "\n"
   ]
  },
  {
   "cell_type": "code",
   "execution_count": null,
   "id": "354d7738-d308-4de8-877d-6e87edf8a24c",
   "metadata": {},
   "outputs": [],
   "source": []
  },
  {
   "cell_type": "code",
   "execution_count": null,
   "id": "07339636-4779-42ee-abd0-b6fabdb09aa9",
   "metadata": {
    "tags": []
   },
   "outputs": [],
   "source": [
    "import json\n",
    "import numpy as np\n",
    "\n",
    "np.random.seed(3047)\n",
    "\n",
    "mapper_graph = pipe.fit_transform(distance_matrix)\n",
    "adjacency_matrix = np.array(mapper_graph.get_adjacency()).tolist()\n",
    "node_elements = [list(map(int, ne)) for ne in mapper_graph.vs[\"node_elements\"]]\n",
    "\n",
    "mapper_result_export = {\n",
    "    \"adjacency\": adjacency_matrix,\n",
    "    \"points_in_vertex\": node_elements\n",
    "}\n",
    "\n",
    "to_remove = set()\n",
    "n = len(node_elements)\n",
    "\n",
    "for i in range(n):\n",
    "    for j in range(n):\n",
    "        if i != j:\n",
    "            set_i = set(node_elements[i])\n",
    "            set_j = set(node_elements[j])\n",
    "            if set_i < set_j:  # proper subset\n",
    "                to_remove.add(i)\n",
    "                break  # i is a proper subset of j\n",
    "\n",
    "# Step 2: Sort indices descending to delete safely\n",
    "to_remove = sorted(to_remove, reverse=True)\n",
    "\n",
    "# Step 3: Remove from points_in_vertex and adjacency\n",
    "for idx in to_remove:\n",
    "    del node_elements[idx]\n",
    "    del adjacency_matrix[idx]\n",
    "    for row in adjacency_matrix:\n",
    "        del row[idx]\n",
    "\n",
    "# Step 4: Update the export dictionary\n",
    "mapper_result_export = {\n",
    "    \"adjacency\": adjacency_matrix,\n",
    "    \"points_in_vertex\": node_elements\n",
    "}\n",
    "\n",
    "\n",
    "\n",
    "column_names = distance_matrix_raw.columns.tolist()\n",
    "# Use cleaned node_elements from mapper_result_export\n",
    "cleaned_node_elements = mapper_result_export[\"points_in_vertex\"]\n",
    "\n",
    "for node_id, indices in enumerate(cleaned_node_elements):\n",
    "    words = [column_names[i] for i in indices]\n",
    "    print(f\"Node {node_id}:\")\n",
    "    print(f\"  Words: {words}\")\n",
    "\n",
    "with open(\"mapper_result.json\", \"w\") as f:\n",
    "    json.dump(mapper_result_export, f)\n"
   ]
  },
  {
   "cell_type": "code",
   "execution_count": null,
   "id": "657187fd-2e26-4d97-b260-067aaf0532ef",
   "metadata": {},
   "outputs": [],
   "source": [
    "import json\n",
    "import numpy as np\n",
    "\n",
    "np.random.seed(4)\n",
    "\n",
    "mapper_graph = pipe.fit_transform(distance_matrix)\n",
    "adjacency_matrix = np.array(mapper_graph.get_adjacency()).tolist()\n",
    "node_elements = [list(map(int, ne)) for ne in mapper_graph.vs[\"node_elements\"]]\n",
    "\n",
    "mapper_result_export = {\n",
    "    \"adjacency\": adjacency_matrix,\n",
    "    \"points_in_vertex\": node_elements\n",
    "}\n",
    "\n",
    "to_remove = set()\n",
    "n = len(node_elements)\n",
    "\n",
    "for i in range(n):\n",
    "    for j in range(n):\n",
    "        if i != j:\n",
    "            set_i = set(node_elements[i])\n",
    "            set_j = set(node_elements[j])\n",
    "            if set_i < set_j:  # proper subset\n",
    "                to_remove.add(i)\n",
    "                break  # i is a proper subset of j\n",
    "\n",
    "# Step 2: Sort indices descending to delete safely\n",
    "to_remove = sorted(to_remove, reverse=True)\n",
    "\n",
    "# Step 3: Remove from points_in_vertex and adjacency\n",
    "for idx in to_remove:\n",
    "    del node_elements[idx]\n",
    "    del adjacency_matrix[idx]\n",
    "    for row in adjacency_matrix:\n",
    "        del row[idx]\n",
    "\n",
    "# Step 4: Update the export dictionary\n",
    "mapper_result_export = {\n",
    "    \"adjacency\": adjacency_matrix,\n",
    "    \"points_in_vertex\": node_elements\n",
    "}\n",
    "\n",
    "\n",
    "\n",
    "column_names = distance_matrix_raw.columns.tolist()\n",
    "# Use cleaned node_elements from mapper_result_export\n",
    "cleaned_node_elements = mapper_result_export[\"points_in_vertex\"]\n",
    "\n",
    "for node_id, indices in enumerate(cleaned_node_elements):\n",
    "    words = [column_names[i] for i in indices]\n",
    "    print(f\"Node {node_id}:\")\n",
    "    print(f\"  Words: {words}\")\n",
    "\n",
    "with open(\"mapper_result.json\", \"w\") as f:\n",
    "    json.dump(mapper_result_export, f)\n"
   ]
  },
  {
   "cell_type": "code",
   "execution_count": null,
   "id": "22fe3a85-16c4-4648-93c3-ce5b5228d3bd",
   "metadata": {},
   "outputs": [],
   "source": [
    "\n",
    "points_in_vertex = data[\"points_in_vertex\"]\n",
    "adjacency = data[\"adjacency\"]\n",
    "\n",
    "# Step 1: Identify proper subsets\n",
    "to_remove = set()\n",
    "n = len(points_in_vertex)\n",
    "\n",
    "for i in range(n):\n",
    "    for j in range(n):\n",
    "        if i != j:\n",
    "            set_i = set(points_in_vertex[i])\n",
    "            set_j = set(points_in_vertex[j])\n",
    "            if set_i < set_j:  # proper subset\n",
    "                to_remove.add(i)\n",
    "                break  # No need to check further once i is known to be a subset\n",
    "\n",
    "# Step 2: Sort indices in descending order so we can safely delete\n",
    "to_remove = sorted(to_remove, reverse=True)\n",
    "\n",
    "# Step 3: Remove entries from both `points_in_vertex` and `adjacency`\n",
    "for idx in to_remove:\n",
    "    del points_in_vertex[idx]\n",
    "    del adjacency[idx]\n",
    "    for row in adjacency:\n",
    "        del row[idx]\n",
    "\n",
    "# (Optional) Save the cleaned version\n",
    "data[\"points_in_vertex\"] = points_in_vertex\n",
    "data[\"adjacency\"] = adjacency\n",
    "\n",
    "with open(\"cleaned_mapper_result.json\", \"w\") as f:\n",
    "    json.dump(data, f)"
   ]
  },
  {
   "cell_type": "code",
   "execution_count": null,
   "id": "88abe4ba-75cb-46fb-893d-2e39283c3afb",
   "metadata": {},
   "outputs": [],
   "source": []
  },
  {
   "cell_type": "code",
   "execution_count": null,
   "id": "11770a8c-744b-4df9-991d-06980f8c623c",
   "metadata": {},
   "outputs": [],
   "source": []
  },
  {
   "cell_type": "markdown",
   "id": "4fef77d2-57b9-4ec3-88ac-b39a98a96cab",
   "metadata": {},
   "source": [
    "## MDS Visualization"
   ]
  },
  {
   "cell_type": "code",
   "execution_count": 21,
   "id": "82d857b7-a277-434d-b4c0-42dd5f1e767e",
   "metadata": {},
   "outputs": [],
   "source": [
    "import pandas as pd\n",
    "import numpy as np\n",
    "from sklearn.manifold import MDS\n",
    "import plotly.express as px"
   ]
  },
  {
   "cell_type": "code",
   "execution_count": 14,
   "id": "53af0dff-cc90-4664-b336-b352b31e9d91",
   "metadata": {},
   "outputs": [],
   "source": [
    "distance_matrix_raw = pd.read_csv(\"/Users/lu/Desktop/Projects/RStan_prosodic/data/distance_matrix.csv\")\n",
    "distance_matrix = distance_matrix_raw.values\n",
    "labels = distance_matrix_raw.columns.tolist()"
   ]
  },
  {
   "cell_type": "code",
   "execution_count": 27,
   "id": "e84669cd-df7e-44a4-bcc6-d65868302bc1",
   "metadata": {},
   "outputs": [
    {
     "name": "stderr",
     "output_type": "stream",
     "text": [
      "/Users/lu/opt/anaconda3/lib/python3.9/site-packages/sklearn/manifold/_mds.py:601: UserWarning:\n",
      "\n",
      "The MDS API has changed. ``fit`` now constructs an dissimilarity matrix from data. To use a custom dissimilarity matrix, set ``dissimilarity='precomputed'``.\n",
      "\n",
      "/Users/lu/opt/anaconda3/lib/python3.9/site-packages/sklearn/manifold/_mds.py:298: FutureWarning:\n",
      "\n",
      "The default value of `normalized_stress` will change to `'auto'` in version 1.4. To suppress this warning, manually set the value of `normalized_stress`.\n",
      "\n"
     ]
    }
   ],
   "source": [
    "mds = MDS(n_components=3, random_state=45)\n",
    "mds_coords = mds.fit_transform(distance_matrix)"
   ]
  },
  {
   "cell_type": "code",
   "execution_count": 28,
   "id": "e1498569-db33-43cc-bf1d-9017cec417a3",
   "metadata": {},
   "outputs": [
    {
     "data": {
      "application/vnd.plotly.v1+json": {
       "config": {
        "plotlyServerURL": "https://plot.ly"
       },
       "data": [
        {
         "hovertemplate": "<b>%{hovertext}</b><br><br>Dim1=%{x}<br>Dim2=%{y}<br>Dim3=%{z}<br>Label=%{text}<extra></extra>",
         "hovertext": [
          "'d",
          "'ll",
          "'m",
          "'re",
          "'s",
          "'ve",
          "a",
          "about",
          "after",
          "all",
          "always",
          "an",
          "and",
          "another",
          "any",
          "anything",
          "are",
          "around",
          "as",
          "at",
          "be",
          "because",
          "been",
          "before",
          "big",
          "but",
          "by",
          "ca",
          "call",
          "came",
          "can",
          "cause",
          "come",
          "could",
          "day",
          "did",
          "different",
          "do",
          "does",
          "doing",
          "down",
          "em",
          "even",
          "every",
          "everything",
          "first",
          "five",
          "for",
          "four",
          "from",
          "get",
          "getting",
          "go",
          "god",
          "goes",
          "going",
          "gon",
          "good",
          "got",
          "guess",
          "guy",
          "had",
          "has",
          "have",
          "he",
          "her",
          "here",
          "him",
          "how",
          "i",
          "if",
          "in",
          "into",
          "is",
          "it",
          "just",
          "kind",
          "kinda",
          "know",
          "let",
          "like",
          "little",
          "long",
          "look",
          "lot",
          "make",
          "maybe",
          "me",
          "mean",
          "mhm",
          "mm",
          "mom",
          "more",
          "much",
          "my",
          "n't",
          "na",
          "need",
          "never",
          "new",
          "no",
          "not",
          "now",
          "of",
          "off",
          "oh",
          "okay",
          "on",
          "one",
          "only",
          "or",
          "other",
          "our",
          "out",
          "over",
          "people",
          "pretty",
          "probably",
          "put",
          "real",
          "really",
          "right",
          "said",
          "say",
          "see",
          "she",
          "should",
          "so",
          "some",
          "something",
          "still",
          "stuff",
          "sure",
          "tell",
          "ten",
          "than",
          "that",
          "the",
          "their",
          "them",
          "then",
          "there",
          "they",
          "thing",
          "things",
          "think",
          "this",
          "those",
          "though",
          "thought",
          "three",
          "through",
          "time",
          "told",
          "too",
          "two",
          "uh",
          "um",
          "up",
          "us",
          "very",
          "wan",
          "want",
          "wanted",
          "was",
          "way",
          "we",
          "well",
          "went",
          "were",
          "what",
          "when",
          "where",
          "which",
          "who",
          "whole",
          "why",
          "will",
          "with",
          "work",
          "would",
          "yeah",
          "year",
          "years",
          "yes",
          "you",
          "your",
          "great",
          "his",
          "man",
          "remember",
          "alright",
          "give"
         ],
         "legendgroup": "",
         "marker": {
          "color": "#636efa",
          "line": {
           "color": "black",
           "width": 1
          },
          "opacity": 0.8,
          "size": 6,
          "symbol": "circle"
         },
         "mode": "markers+text",
         "name": "",
         "scene": "scene",
         "showlegend": false,
         "text": [
          "'d",
          "'ll",
          "'m",
          "'re",
          "'s",
          "'ve",
          "a",
          "about",
          "after",
          "all",
          "always",
          "an",
          "and",
          "another",
          "any",
          "anything",
          "are",
          "around",
          "as",
          "at",
          "be",
          "because",
          "been",
          "before",
          "big",
          "but",
          "by",
          "ca",
          "call",
          "came",
          "can",
          "cause",
          "come",
          "could",
          "day",
          "did",
          "different",
          "do",
          "does",
          "doing",
          "down",
          "em",
          "even",
          "every",
          "everything",
          "first",
          "five",
          "for",
          "four",
          "from",
          "get",
          "getting",
          "go",
          "god",
          "goes",
          "going",
          "gon",
          "good",
          "got",
          "guess",
          "guy",
          "had",
          "has",
          "have",
          "he",
          "her",
          "here",
          "him",
          "how",
          "i",
          "if",
          "in",
          "into",
          "is",
          "it",
          "just",
          "kind",
          "kinda",
          "know",
          "let",
          "like",
          "little",
          "long",
          "look",
          "lot",
          "make",
          "maybe",
          "me",
          "mean",
          "mhm",
          "mm",
          "mom",
          "more",
          "much",
          "my",
          "n't",
          "na",
          "need",
          "never",
          "new",
          "no",
          "not",
          "now",
          "of",
          "off",
          "oh",
          "okay",
          "on",
          "one",
          "only",
          "or",
          "other",
          "our",
          "out",
          "over",
          "people",
          "pretty",
          "probably",
          "put",
          "real",
          "really",
          "right",
          "said",
          "say",
          "see",
          "she",
          "should",
          "so",
          "some",
          "something",
          "still",
          "stuff",
          "sure",
          "tell",
          "ten",
          "than",
          "that",
          "the",
          "their",
          "them",
          "then",
          "there",
          "they",
          "thing",
          "things",
          "think",
          "this",
          "those",
          "though",
          "thought",
          "three",
          "through",
          "time",
          "told",
          "too",
          "two",
          "uh",
          "um",
          "up",
          "us",
          "very",
          "wan",
          "want",
          "wanted",
          "was",
          "way",
          "we",
          "well",
          "went",
          "were",
          "what",
          "when",
          "where",
          "which",
          "who",
          "whole",
          "why",
          "will",
          "with",
          "work",
          "would",
          "yeah",
          "year",
          "years",
          "yes",
          "you",
          "your",
          "great",
          "his",
          "man",
          "remember",
          "alright",
          "give"
         ],
         "type": "scatter3d",
         "x": [
          0.12743699166849254,
          -0.20185722541609713,
          -0.014631441290707934,
          0.4840210148945198,
          0.08710021927714937,
          0.25032930961388045,
          0.8940820194939912,
          0.2915203343123733,
          -0.09225428831213316,
          1.0511671069160442,
          0.936772230888165,
          0.4996036124122003,
          -2.6374700586738506,
          1.0307841794976549,
          0.7217410639701908,
          1.0337181361381824,
          0.32582042675225564,
          1.1903828885112375,
          1.3605116429566302,
          0.8565517859787163,
          0.7174104592422813,
          -3.031762919694284,
          1.2991176433227787,
          1.3020747077022934,
          1.1105625562595023,
          -3.697476486233448,
          0.9623907967875102,
          -0.4024346100084511,
          1.2777749350268233,
          0.9456963285663679,
          0.5089139507515891,
          -4.028160098403334,
          0.889487025687632,
          0.17457318372177014,
          -1.1765207358871312,
          -0.14211734327615738,
          1.0589343698460896,
          0.3578600098785184,
          -0.2139101774550543,
          -0.05509630440619827,
          -0.1261321255664258,
          1.1998153078744502,
          0.5890951778571963,
          0.46165254543325446,
          0.43226521265654144,
          0.8170936373989431,
          0.25543215974594474,
          0.7453861209962187,
          0.2953815936304108,
          0.6577633951464557,
          1.3555510052516664,
          0.9594819450236376,
          0.6558141310181389,
          -0.18518030981981676,
          0.8460094254710989,
          0.649298000404806,
          0.7556305141674484,
          -0.8259217452680359,
          0.6687392055184506,
          -0.2971739751898244,
          -0.13117847331035176,
          0.6644844172790132,
          0.5181337416134222,
          0.9036636180875839,
          -1.1395182267684538,
          -0.21996792152918668,
          -1.9933852384800024,
          1.2280406043988357,
          -0.9804655192753647,
          -1.7238354226109447,
          -1.321905288450005,
          0.7060428454476979,
          0.7776111790804278,
          0.209371293677789,
          -0.6927739482294383,
          0.1470519149019637,
          1.0326818938947793,
          0.8005377618879971,
          -0.007234228563804535,
          -1.683092196861755,
          0.7792911735742535,
          0.8246047782254023,
          0.036953392323851406,
          0.291138265143617,
          1.4255797428631638,
          1.122065205005704,
          -1.4932101617855091,
          -0.49574247020033535,
          -0.5605906026192403,
          -4.080581621678797,
          -2.7990510087893825,
          -1.6577221355615506,
          0.3048740304695276,
          1.1479447118649448,
          0.10529190497631107,
          0.8577107862456929,
          1.2901441273668577,
          0.7681029536746575,
          0.16226312999257944,
          0.6702336808740953,
          -2.084127443243352,
          0.6891729724255249,
          -1.489632176865293,
          0.8484419259750084,
          -0.38072923447875295,
          -3.802736920073671,
          -2.862737102569185,
          0.4203358116292491,
          0.6132486432934475,
          0.4771431646723754,
          0.5060748283587634,
          1.0409691827367615,
          0.08458460345218347,
          1.29454783998095,
          0.1132155520181862,
          0.9032429687009225,
          1.2971841437033271,
          0.16350866440734863,
          0.8520109284896179,
          0.4497118983050663,
          0.21897980043036847,
          -1.917709863658475,
          0.651289764493234,
          -0.3264092817001179,
          0.3852770140449325,
          -1.2030792271751416,
          0.09510393174751487,
          -2.197836499411266,
          1.0222494459996458,
          -0.3679811291990443,
          0.7931931149261015,
          0.8444904883261183,
          -0.2876830605788689,
          1.406595683670582,
          0.9260407133555036,
          0.7552967860667144,
          0.10789273603369026,
          0.4736542000017745,
          0.4897315681043731,
          -0.7085019328454087,
          -1.4371169343517904,
          -0.44792867425892785,
          -0.9147812864464717,
          0.9934939565108557,
          1.1964324002004794,
          0.44237055006909537,
          0.6697349279382702,
          0.7884688817070769,
          -2.799058213204207,
          0.4951329927596181,
          0.18799840562086811,
          0.4632212846995601,
          1.0752620065057281,
          0.8548232608985947,
          -1.2857812917285103,
          0.5050843984747462,
          -0.910036441988666,
          -3.734747411806543,
          1.2555219656399457,
          1.0808445511309637,
          1.319222022100645,
          0.38017532369485474,
          1.2329713547731491,
          0.9623807342596064,
          0.5741392091815036,
          -0.40270499603644955,
          -0.9632304658121124,
          -3.3766235601544343,
          0.3820378218453537,
          0.9013014473080808,
          -0.5767963825789099,
          -1.4231303433654432,
          -1.1186198546369923,
          -2.661517803050935,
          -1.2220627247472073,
          0.7233781414918363,
          -1.0097617188185035,
          0.671405880372583,
          0.5201603128277822,
          1.1607127135696294,
          0.18876964938610125,
          -3.5272406259026505,
          0.9885205184464589,
          -0.8426055065909127,
          -2.5509945825499782,
          -0.6502898028460729,
          0.38010362501532957,
          0.4726654283960168,
          0.3347327581092468,
          0.10177667917842385,
          0.5640032853625262,
          -3.0704001415025597,
          1.0083466204280387
         ],
         "y": [
          -1.5041454111234214,
          -1.8240957578732513,
          -1.5470308818632865,
          -1.1038602913497368,
          -1.4661977215299393,
          -1.3870393723727854,
          0.6619155163986901,
          0.8688628251845911,
          0.8843656844676396,
          0.802541956084814,
          0.7832465821786032,
          -0.6410663225083175,
          -0.5865552900101014,
          -0.11353652734436506,
          0.6719664532323004,
          -0.5676880113690761,
          1.205074420394314,
          -0.11423731738315292,
          0.25171019012233964,
          0.7585028675343098,
          0.7459155273213219,
          -0.8083253829679586,
          -0.18710708290745043,
          -0.41765522529844235,
          -0.5134508889364339,
          -1.5505098971423446,
          0.8154891434518321,
          -0.9163165891971549,
          0.4497644251328071,
          0.719383622468284,
          0.896940253368555,
          -2.3308874177238574,
          0.8635266632565264,
          0.17632828718340138,
          0.4933209223706684,
          0.9326722526396882,
          -0.26681858663857005,
          1.0217869315744823,
          0.9446409347785459,
          0.819908339534402,
          1.0796331751899475,
          -0.38057320953331847,
          0.9005077717824698,
          0.49080008252499163,
          -0.007751378788797021,
          1.025452770820153,
          1.105773025865209,
          0.7293176879309748,
          1.2085996741892377,
          0.9473471666767532,
          0.1049644252386591,
          0.5320739603407358,
          1.0337778443396255,
          0.08548956847991077,
          0.8155057886347316,
          0.8079321824575065,
          -0.9424461514206552,
          1.0241922152215062,
          0.5438942200099699,
          -0.5605535059615699,
          1.0882300238585885,
          -0.11208961823483271,
          0.9046799754852539,
          0.37554011298900597,
          0.7646609492813459,
          1.02448046799421,
          0.1685488110530408,
          -0.46590060526263066,
          0.4814255863878919,
          0.3786969207977344,
          0.3936918417929763,
          0.7195436242760905,
          0.2975188995749029,
          1.2287743803785625,
          0.7764068919064396,
          1.0257308665965725,
          0.6517778692570284,
          0.9218865857457014,
          -0.12980722123347296,
          0.24458479110019693,
          0.9347334668027464,
          -0.7318378168752918,
          0.655333120446122,
          1.2068638879736016,
          -0.23524307615279477,
          0.5208796614395865,
          0.6327998564690948,
          1.002747060547057,
          -2.347436559009069,
          -5.304651326869414,
          -3.9045210945688873,
          -0.22889291841802512,
          1.0848352643207027,
          0.3592574740677121,
          -0.11685227054597996,
          0.11964995732815531,
          -1.1301513521704991,
          -0.8162913236929776,
          0.5266084552773145,
          -0.9275293571131619,
          -1.6699596214350325,
          0.958941567905865,
          0.6520640778101966,
          -0.7955336459258568,
          0.7814261190755762,
          -3.389769301623867,
          -3.7531753544875417,
          0.7040239622788622,
          1.1132888391004012,
          0.4945605704917286,
          -0.7637849102383935,
          -0.31559028201779915,
          -0.6580647821370164,
          -0.2915783743069225,
          0.9208556828402968,
          0.6645455872767532,
          -0.8581701702663961,
          0.9045790604407346,
          0.6080884367497311,
          -1.2409158311809216,
          1.1229432946140854,
          -1.1224981926091588,
          0.7373973488407679,
          1.1215322516196577,
          1.1609718302243281,
          0.7076787577257794,
          -0.14171581707126737,
          0.05451818993526839,
          0.8408290564783908,
          1.1345743656042993,
          0.7576714805643204,
          -1.4601759388717113,
          -0.06676598687846301,
          -0.5949922532975911,
          -0.4522418878233507,
          0.7117235505206998,
          1.2408938798816957,
          0.008802246777655095,
          -0.5544536567826176,
          0.6966005666204859,
          -0.9149398821320557,
          1.0172606013095309,
          0.9005515261074593,
          0.23941452425182555,
          0.032055444323122864,
          -0.4110124007404659,
          1.1026363146659566,
          1.0354473310792438,
          -0.8874403181333046,
          -0.7189159251393797,
          1.1871048514997702,
          0.7218438984056776,
          -0.5876921103153259,
          0.49615119586185646,
          0.7771452788719755,
          1.1876470611482781,
          -1.327130793756785,
          -3.3967412754068462,
          -0.03261392640373604,
          -0.24330241083513623,
          -1.4790709662147579,
          -1.4988792913542852,
          0.24386657122784383,
          -0.09330411295185123,
          -0.011310630010945994,
          0.8319114697503721,
          0.736698919158426,
          -1.596119403734675,
          0.7345055154776001,
          0.8116725937233257,
          1.1459862798489606,
          0.2707357203362656,
          0.6311172541690017,
          -0.5875885238437956,
          0.5960749820105871,
          -0.8793225989927324,
          0.9233768290385803,
          1.0575187295200414,
          0.549068880335359,
          -0.43680256456073513,
          0.09442794807709662,
          -4.448904735928144,
          -1.1622381134530877,
          0.8467843558760223,
          -3.9333146534511716,
          1.1396834072966462,
          -0.5977638331106799,
          -0.8073686083798012,
          -0.615374420905937,
          -0.3719547802332295,
          1.0103043061322212,
          -4.242761042023596,
          0.48779141594863373
         ],
         "z": [
          -0.9909762922704582,
          -0.8598050107664232,
          -0.9158383057861641,
          -1.026172404973961,
          -0.8466184656015409,
          -1.0341603406858946,
          -0.9057542739273621,
          -1.009623192359473,
          0.22115372373223158,
          -0.5674250087528266,
          -0.7839947029873914,
          0.012037849767453179,
          1.4695313243061892,
          0.03767472812972355,
          -0.9886165094032792,
          1.278243895315412,
          -0.6674726411173383,
          0.7192797295850413,
          -0.3140869540513955,
          -0.8677046104423374,
          -0.9113418346395836,
          1.4911381256024803,
          -0.540998821874949,
          0.6960718150895749,
          0.3248956423379444,
          2.3868615472305668,
          -0.7067240506270683,
          -1.004990734726343,
          -0.26118741479401486,
          -0.8291952849245516,
          -0.964224925345874,
          1.515292662460958,
          -0.6976371825861774,
          -1.1485640931394916,
          -0.4539508115894778,
          -0.9173492742579739,
          0.30665707462717795,
          -0.9274727561552936,
          -0.8873353797394083,
          -0.9597239025202104,
          -0.7949151396994398,
          0.9665183061338747,
          -0.9561422164925807,
          -0.24646765784109953,
          1.2771544469092864,
          -0.586536606809874,
          -0.6265988328810629,
          -0.928387282108207,
          -0.5106892684302982,
          -0.785527704395044,
          -0.2644567030625611,
          -0.89208690468644,
          -0.7777545989124526,
          1.3963073288001335,
          -0.362684708522581,
          -0.8858186985230756,
          -0.7173555913511663,
          0.1421110669925297,
          -0.9974642283067058,
          -0.7654565752680877,
          -0.7757798236864389,
          -1.153775963778074,
          -0.976623552100742,
          -0.9493975656952002,
          -0.33668056527977425,
          -0.7932257779686114,
          0.19797698505154004,
          0.9659298882669521,
          -0.3341714926380677,
          -0.01090539991593643,
          -0.4041359945916668,
          -0.9668003676528023,
          -1.014042169796504,
          -0.5282773911416092,
          -0.5748029451530492,
          -0.7633023827642834,
          -0.7502947541370485,
          -0.5207167886152719,
          1.2076935891993883,
          -0.13569673238800042,
          -0.10404383713444117,
          0.05240480324035146,
          -0.6847339214307318,
          -0.5598265989171082,
          -0.18959896345883306,
          -0.7106996102940297,
          0.010802584088694885,
          -0.6588679751420041,
          0.20929842776560342,
          7.334032732182819,
          3.6585723098562806,
          1.2170555737050321,
          -0.8801814607980489,
          0.15439644262457516,
          -0.028912137458599163,
          -0.9428286325893637,
          -0.1208188541892387,
          -1.0196312299974892,
          -0.9422123464270435,
          0.33480837077130027,
          2.5167535060680524,
          -0.8005576216396096,
          0.30863781810537666,
          0.03760548585862507,
          -0.8362870207731841,
          4.364912748480925,
          4.631891304768987,
          -1.0521120901297658,
          -0.7194114767583257,
          -1.07473216200652,
          1.132508444851551,
          0.11495772865009767,
          0.08143659178679477,
          0.5595831304493358,
          -0.9917009930829631,
          -0.1686683427012214,
          0.13564376160955108,
          -0.6233253844050964,
          -0.8664183285921381,
          0.4735089886855096,
          0.09802390853951312,
          2.4838592694257233,
          0.11783582632580948,
          -0.6382004985138279,
          -0.20521587971053237,
          -0.28957763444852863,
          -1.0038549874778175,
          0.9254660569569644,
          -0.5974735087488398,
          -0.6069941239281654,
          -0.7901785152752676,
          1.5164542696477534,
          1.3064016529910707,
          -0.04476721609954948,
          0.7628286537180653,
          -0.9491707601463578,
          -0.6579964709911623,
          -0.2543668091462579,
          0.0923542575230762,
          -0.7024503179990544,
          0.17841378629794513,
          -0.647606019947375,
          -0.3980442562359843,
          0.5374083250131325,
          0.5368679559953645,
          -1.1467247956208229,
          -0.6724964640935059,
          -0.678298462759481,
          0.5037573494106642,
          -1.1085373029240573,
          -0.4231386456893653,
          -1.0503897720092115,
          0.9802744268708824,
          -0.9120709074743982,
          -0.0947843297579309,
          -0.656798539326217,
          2.461367680339748,
          4.496459309707797,
          0.44901154083831735,
          0.9568143558738963,
          0.8227593580845315,
          -0.9212613414129707,
          -0.6194789484060005,
          -0.7376107628680146,
          -1.0856557228487937,
          -0.8000247377199878,
          -0.5443749677681339,
          2.2872748334424804,
          -1.0010738324077084,
          -0.825865791616539,
          -0.31353708830160043,
          -0.027830444887669996,
          0.22183903309471129,
          0.9761006693641716,
          0.5607110428893306,
          0.010332381451502228,
          0.1300797814971774,
          -0.7576308758953347,
          -1.0543684439396634,
          1.026849341719426,
          -1.1557288694101833,
          4.509670984818618,
          1.4949182170239872,
          -0.5292311636877809,
          3.688637845503122,
          -0.20293631640058418,
          0.07367549136000506,
          1.437519836934358,
          0.012860067252420943,
          1.5190148195617579,
          -0.1354685924232365,
          3.866437190009283,
          -0.6909193316868495
         ]
        }
       ],
       "layout": {
        "autosize": true,
        "legend": {
         "tracegroupgap": 0
        },
        "margin": {
         "b": 0,
         "l": 0,
         "r": 0,
         "t": 30
        },
        "scene": {
         "aspectmode": "auto",
         "aspectratio": {
          "x": 0.8171193892649652,
          "y": 0.9713649033588775,
          "z": 1.2598883969460102
         },
         "camera": {
          "center": {
           "x": 0,
           "y": 0,
           "z": 0
          },
          "eye": {
           "x": 0.5014888313680581,
           "y": -0.7094849907583465,
           "z": 0.4395239056317843
          },
          "projection": {
           "type": "perspective"
          },
          "up": {
           "x": -0.1021428773681865,
           "y": -0.10844103464614657,
           "z": 0.9888414304668979
          }
         },
         "domain": {
          "x": [
           0,
           1
          ],
          "y": [
           0,
           1
          ]
         },
         "xaxis": {
          "title": {
           "text": "Dim1"
          },
          "type": "linear"
         },
         "yaxis": {
          "title": {
           "text": "Dim2"
          },
          "type": "linear"
         },
         "zaxis": {
          "title": {
           "text": "Dim3"
          },
          "type": "linear"
         }
        },
        "template": {
         "data": {
          "bar": [
           {
            "error_x": {
             "color": "#2a3f5f"
            },
            "error_y": {
             "color": "#2a3f5f"
            },
            "marker": {
             "line": {
              "color": "#E5ECF6",
              "width": 0.5
             },
             "pattern": {
              "fillmode": "overlay",
              "size": 10,
              "solidity": 0.2
             }
            },
            "type": "bar"
           }
          ],
          "barpolar": [
           {
            "marker": {
             "line": {
              "color": "#E5ECF6",
              "width": 0.5
             },
             "pattern": {
              "fillmode": "overlay",
              "size": 10,
              "solidity": 0.2
             }
            },
            "type": "barpolar"
           }
          ],
          "carpet": [
           {
            "aaxis": {
             "endlinecolor": "#2a3f5f",
             "gridcolor": "white",
             "linecolor": "white",
             "minorgridcolor": "white",
             "startlinecolor": "#2a3f5f"
            },
            "baxis": {
             "endlinecolor": "#2a3f5f",
             "gridcolor": "white",
             "linecolor": "white",
             "minorgridcolor": "white",
             "startlinecolor": "#2a3f5f"
            },
            "type": "carpet"
           }
          ],
          "choropleth": [
           {
            "colorbar": {
             "outlinewidth": 0,
             "ticks": ""
            },
            "type": "choropleth"
           }
          ],
          "contour": [
           {
            "colorbar": {
             "outlinewidth": 0,
             "ticks": ""
            },
            "colorscale": [
             [
              0,
              "#0d0887"
             ],
             [
              0.1111111111111111,
              "#46039f"
             ],
             [
              0.2222222222222222,
              "#7201a8"
             ],
             [
              0.3333333333333333,
              "#9c179e"
             ],
             [
              0.4444444444444444,
              "#bd3786"
             ],
             [
              0.5555555555555556,
              "#d8576b"
             ],
             [
              0.6666666666666666,
              "#ed7953"
             ],
             [
              0.7777777777777778,
              "#fb9f3a"
             ],
             [
              0.8888888888888888,
              "#fdca26"
             ],
             [
              1,
              "#f0f921"
             ]
            ],
            "type": "contour"
           }
          ],
          "contourcarpet": [
           {
            "colorbar": {
             "outlinewidth": 0,
             "ticks": ""
            },
            "type": "contourcarpet"
           }
          ],
          "heatmap": [
           {
            "colorbar": {
             "outlinewidth": 0,
             "ticks": ""
            },
            "colorscale": [
             [
              0,
              "#0d0887"
             ],
             [
              0.1111111111111111,
              "#46039f"
             ],
             [
              0.2222222222222222,
              "#7201a8"
             ],
             [
              0.3333333333333333,
              "#9c179e"
             ],
             [
              0.4444444444444444,
              "#bd3786"
             ],
             [
              0.5555555555555556,
              "#d8576b"
             ],
             [
              0.6666666666666666,
              "#ed7953"
             ],
             [
              0.7777777777777778,
              "#fb9f3a"
             ],
             [
              0.8888888888888888,
              "#fdca26"
             ],
             [
              1,
              "#f0f921"
             ]
            ],
            "type": "heatmap"
           }
          ],
          "heatmapgl": [
           {
            "colorbar": {
             "outlinewidth": 0,
             "ticks": ""
            },
            "colorscale": [
             [
              0,
              "#0d0887"
             ],
             [
              0.1111111111111111,
              "#46039f"
             ],
             [
              0.2222222222222222,
              "#7201a8"
             ],
             [
              0.3333333333333333,
              "#9c179e"
             ],
             [
              0.4444444444444444,
              "#bd3786"
             ],
             [
              0.5555555555555556,
              "#d8576b"
             ],
             [
              0.6666666666666666,
              "#ed7953"
             ],
             [
              0.7777777777777778,
              "#fb9f3a"
             ],
             [
              0.8888888888888888,
              "#fdca26"
             ],
             [
              1,
              "#f0f921"
             ]
            ],
            "type": "heatmapgl"
           }
          ],
          "histogram": [
           {
            "marker": {
             "pattern": {
              "fillmode": "overlay",
              "size": 10,
              "solidity": 0.2
             }
            },
            "type": "histogram"
           }
          ],
          "histogram2d": [
           {
            "colorbar": {
             "outlinewidth": 0,
             "ticks": ""
            },
            "colorscale": [
             [
              0,
              "#0d0887"
             ],
             [
              0.1111111111111111,
              "#46039f"
             ],
             [
              0.2222222222222222,
              "#7201a8"
             ],
             [
              0.3333333333333333,
              "#9c179e"
             ],
             [
              0.4444444444444444,
              "#bd3786"
             ],
             [
              0.5555555555555556,
              "#d8576b"
             ],
             [
              0.6666666666666666,
              "#ed7953"
             ],
             [
              0.7777777777777778,
              "#fb9f3a"
             ],
             [
              0.8888888888888888,
              "#fdca26"
             ],
             [
              1,
              "#f0f921"
             ]
            ],
            "type": "histogram2d"
           }
          ],
          "histogram2dcontour": [
           {
            "colorbar": {
             "outlinewidth": 0,
             "ticks": ""
            },
            "colorscale": [
             [
              0,
              "#0d0887"
             ],
             [
              0.1111111111111111,
              "#46039f"
             ],
             [
              0.2222222222222222,
              "#7201a8"
             ],
             [
              0.3333333333333333,
              "#9c179e"
             ],
             [
              0.4444444444444444,
              "#bd3786"
             ],
             [
              0.5555555555555556,
              "#d8576b"
             ],
             [
              0.6666666666666666,
              "#ed7953"
             ],
             [
              0.7777777777777778,
              "#fb9f3a"
             ],
             [
              0.8888888888888888,
              "#fdca26"
             ],
             [
              1,
              "#f0f921"
             ]
            ],
            "type": "histogram2dcontour"
           }
          ],
          "mesh3d": [
           {
            "colorbar": {
             "outlinewidth": 0,
             "ticks": ""
            },
            "type": "mesh3d"
           }
          ],
          "parcoords": [
           {
            "line": {
             "colorbar": {
              "outlinewidth": 0,
              "ticks": ""
             }
            },
            "type": "parcoords"
           }
          ],
          "pie": [
           {
            "automargin": true,
            "type": "pie"
           }
          ],
          "scatter": [
           {
            "fillpattern": {
             "fillmode": "overlay",
             "size": 10,
             "solidity": 0.2
            },
            "type": "scatter"
           }
          ],
          "scatter3d": [
           {
            "line": {
             "colorbar": {
              "outlinewidth": 0,
              "ticks": ""
             }
            },
            "marker": {
             "colorbar": {
              "outlinewidth": 0,
              "ticks": ""
             }
            },
            "type": "scatter3d"
           }
          ],
          "scattercarpet": [
           {
            "marker": {
             "colorbar": {
              "outlinewidth": 0,
              "ticks": ""
             }
            },
            "type": "scattercarpet"
           }
          ],
          "scattergeo": [
           {
            "marker": {
             "colorbar": {
              "outlinewidth": 0,
              "ticks": ""
             }
            },
            "type": "scattergeo"
           }
          ],
          "scattergl": [
           {
            "marker": {
             "colorbar": {
              "outlinewidth": 0,
              "ticks": ""
             }
            },
            "type": "scattergl"
           }
          ],
          "scattermapbox": [
           {
            "marker": {
             "colorbar": {
              "outlinewidth": 0,
              "ticks": ""
             }
            },
            "type": "scattermapbox"
           }
          ],
          "scatterpolar": [
           {
            "marker": {
             "colorbar": {
              "outlinewidth": 0,
              "ticks": ""
             }
            },
            "type": "scatterpolar"
           }
          ],
          "scatterpolargl": [
           {
            "marker": {
             "colorbar": {
              "outlinewidth": 0,
              "ticks": ""
             }
            },
            "type": "scatterpolargl"
           }
          ],
          "scatterternary": [
           {
            "marker": {
             "colorbar": {
              "outlinewidth": 0,
              "ticks": ""
             }
            },
            "type": "scatterternary"
           }
          ],
          "surface": [
           {
            "colorbar": {
             "outlinewidth": 0,
             "ticks": ""
            },
            "colorscale": [
             [
              0,
              "#0d0887"
             ],
             [
              0.1111111111111111,
              "#46039f"
             ],
             [
              0.2222222222222222,
              "#7201a8"
             ],
             [
              0.3333333333333333,
              "#9c179e"
             ],
             [
              0.4444444444444444,
              "#bd3786"
             ],
             [
              0.5555555555555556,
              "#d8576b"
             ],
             [
              0.6666666666666666,
              "#ed7953"
             ],
             [
              0.7777777777777778,
              "#fb9f3a"
             ],
             [
              0.8888888888888888,
              "#fdca26"
             ],
             [
              1,
              "#f0f921"
             ]
            ],
            "type": "surface"
           }
          ],
          "table": [
           {
            "cells": {
             "fill": {
              "color": "#EBF0F8"
             },
             "line": {
              "color": "white"
             }
            },
            "header": {
             "fill": {
              "color": "#C8D4E3"
             },
             "line": {
              "color": "white"
             }
            },
            "type": "table"
           }
          ]
         },
         "layout": {
          "annotationdefaults": {
           "arrowcolor": "#2a3f5f",
           "arrowhead": 0,
           "arrowwidth": 1
          },
          "autotypenumbers": "strict",
          "coloraxis": {
           "colorbar": {
            "outlinewidth": 0,
            "ticks": ""
           }
          },
          "colorscale": {
           "diverging": [
            [
             0,
             "#8e0152"
            ],
            [
             0.1,
             "#c51b7d"
            ],
            [
             0.2,
             "#de77ae"
            ],
            [
             0.3,
             "#f1b6da"
            ],
            [
             0.4,
             "#fde0ef"
            ],
            [
             0.5,
             "#f7f7f7"
            ],
            [
             0.6,
             "#e6f5d0"
            ],
            [
             0.7,
             "#b8e186"
            ],
            [
             0.8,
             "#7fbc41"
            ],
            [
             0.9,
             "#4d9221"
            ],
            [
             1,
             "#276419"
            ]
           ],
           "sequential": [
            [
             0,
             "#0d0887"
            ],
            [
             0.1111111111111111,
             "#46039f"
            ],
            [
             0.2222222222222222,
             "#7201a8"
            ],
            [
             0.3333333333333333,
             "#9c179e"
            ],
            [
             0.4444444444444444,
             "#bd3786"
            ],
            [
             0.5555555555555556,
             "#d8576b"
            ],
            [
             0.6666666666666666,
             "#ed7953"
            ],
            [
             0.7777777777777778,
             "#fb9f3a"
            ],
            [
             0.8888888888888888,
             "#fdca26"
            ],
            [
             1,
             "#f0f921"
            ]
           ],
           "sequentialminus": [
            [
             0,
             "#0d0887"
            ],
            [
             0.1111111111111111,
             "#46039f"
            ],
            [
             0.2222222222222222,
             "#7201a8"
            ],
            [
             0.3333333333333333,
             "#9c179e"
            ],
            [
             0.4444444444444444,
             "#bd3786"
            ],
            [
             0.5555555555555556,
             "#d8576b"
            ],
            [
             0.6666666666666666,
             "#ed7953"
            ],
            [
             0.7777777777777778,
             "#fb9f3a"
            ],
            [
             0.8888888888888888,
             "#fdca26"
            ],
            [
             1,
             "#f0f921"
            ]
           ]
          },
          "colorway": [
           "#636efa",
           "#EF553B",
           "#00cc96",
           "#ab63fa",
           "#FFA15A",
           "#19d3f3",
           "#FF6692",
           "#B6E880",
           "#FF97FF",
           "#FECB52"
          ],
          "font": {
           "color": "#2a3f5f"
          },
          "geo": {
           "bgcolor": "white",
           "lakecolor": "white",
           "landcolor": "#E5ECF6",
           "showlakes": true,
           "showland": true,
           "subunitcolor": "white"
          },
          "hoverlabel": {
           "align": "left"
          },
          "hovermode": "closest",
          "mapbox": {
           "style": "light"
          },
          "paper_bgcolor": "white",
          "plot_bgcolor": "#E5ECF6",
          "polar": {
           "angularaxis": {
            "gridcolor": "white",
            "linecolor": "white",
            "ticks": ""
           },
           "bgcolor": "#E5ECF6",
           "radialaxis": {
            "gridcolor": "white",
            "linecolor": "white",
            "ticks": ""
           }
          },
          "scene": {
           "xaxis": {
            "backgroundcolor": "#E5ECF6",
            "gridcolor": "white",
            "gridwidth": 2,
            "linecolor": "white",
            "showbackground": true,
            "ticks": "",
            "zerolinecolor": "white"
           },
           "yaxis": {
            "backgroundcolor": "#E5ECF6",
            "gridcolor": "white",
            "gridwidth": 2,
            "linecolor": "white",
            "showbackground": true,
            "ticks": "",
            "zerolinecolor": "white"
           },
           "zaxis": {
            "backgroundcolor": "#E5ECF6",
            "gridcolor": "white",
            "gridwidth": 2,
            "linecolor": "white",
            "showbackground": true,
            "ticks": "",
            "zerolinecolor": "white"
           }
          },
          "shapedefaults": {
           "line": {
            "color": "#2a3f5f"
           }
          },
          "ternary": {
           "aaxis": {
            "gridcolor": "white",
            "linecolor": "white",
            "ticks": ""
           },
           "baxis": {
            "gridcolor": "white",
            "linecolor": "white",
            "ticks": ""
           },
           "bgcolor": "#E5ECF6",
           "caxis": {
            "gridcolor": "white",
            "linecolor": "white",
            "ticks": ""
           }
          },
          "title": {
           "x": 0.05
          },
          "xaxis": {
           "automargin": true,
           "gridcolor": "white",
           "linecolor": "white",
           "ticks": "",
           "title": {
            "standoff": 15
           },
           "zerolinecolor": "white",
           "zerolinewidth": 2
          },
          "yaxis": {
           "automargin": true,
           "gridcolor": "white",
           "linecolor": "white",
           "ticks": "",
           "title": {
            "standoff": 15
           },
           "zerolinecolor": "white",
           "zerolinewidth": 2
          }
         }
        },
        "title": {
         "text": "Interactive 3D MDS Plot"
        }
       }
      },
      "image/png": "[encoded data removed]",
      "text/html": [
       "<div>                            <div id=\"88cd0dc1-c139-4376-883b-fa39cc14c578\" class=\"plotly-graph-div\" style=\"height:525px; width:100%;\"></div>            <script type=\"text/javascript\">                require([\"plotly\"], function(Plotly) {                    window.PLOTLYENV=window.PLOTLYENV || {};                                    if (document.getElementById(\"88cd0dc1-c139-4376-883b-fa39cc14c578\")) {                    Plotly.newPlot(                        \"88cd0dc1-c139-4376-883b-fa39cc14c578\",                        [{\"hovertemplate\":\"\\u003cb\\u003e%{hovertext}\\u003c\\u002fb\\u003e\\u003cbr\\u003e\\u003cbr\\u003eDim1=%{x}\\u003cbr\\u003eDim2=%{y}\\u003cbr\\u003eDim3=%{z}\\u003cbr\\u003eLabel=%{text}\\u003cextra\\u003e\\u003c\\u002fextra\\u003e\",\"hovertext\":[\"'d\",\"'ll\",\"'m\",\"'re\",\"'s\",\"'ve\",\"a\",\"about\",\"after\",\"all\",\"always\",\"an\",\"and\",\"another\",\"any\",\"anything\",\"are\",\"around\",\"as\",\"at\",\"be\",\"because\",\"been\",\"before\",\"big\",\"but\",\"by\",\"ca\",\"call\",\"came\",\"can\",\"cause\",\"come\",\"could\",\"day\",\"did\",\"different\",\"do\",\"does\",\"doing\",\"down\",\"em\",\"even\",\"every\",\"everything\",\"first\",\"five\",\"for\",\"four\",\"from\",\"get\",\"getting\",\"go\",\"god\",\"goes\",\"going\",\"gon\",\"good\",\"got\",\"guess\",\"guy\",\"had\",\"has\",\"have\",\"he\",\"her\",\"here\",\"him\",\"how\",\"i\",\"if\",\"in\",\"into\",\"is\",\"it\",\"just\",\"kind\",\"kinda\",\"know\",\"let\",\"like\",\"little\",\"long\",\"look\",\"lot\",\"make\",\"maybe\",\"me\",\"mean\",\"mhm\",\"mm\",\"mom\",\"more\",\"much\",\"my\",\"n't\",\"na\",\"need\",\"never\",\"new\",\"no\",\"not\",\"now\",\"of\",\"off\",\"oh\",\"okay\",\"on\",\"one\",\"only\",\"or\",\"other\",\"our\",\"out\",\"over\",\"people\",\"pretty\",\"probably\",\"put\",\"real\",\"really\",\"right\",\"said\",\"say\",\"see\",\"she\",\"should\",\"so\",\"some\",\"something\",\"still\",\"stuff\",\"sure\",\"tell\",\"ten\",\"than\",\"that\",\"the\",\"their\",\"them\",\"then\",\"there\",\"they\",\"thing\",\"things\",\"think\",\"this\",\"those\",\"though\",\"thought\",\"three\",\"through\",\"time\",\"told\",\"too\",\"two\",\"uh\",\"um\",\"up\",\"us\",\"very\",\"wan\",\"want\",\"wanted\",\"was\",\"way\",\"we\",\"well\",\"went\",\"were\",\"what\",\"when\",\"where\",\"which\",\"who\",\"whole\",\"why\",\"will\",\"with\",\"work\",\"would\",\"yeah\",\"year\",\"years\",\"yes\",\"you\",\"your\",\"great\",\"his\",\"man\",\"remember\",\"alright\",\"give\"],\"legendgroup\":\"\",\"marker\":{\"color\":\"#636efa\",\"opacity\":0.8,\"symbol\":\"circle\",\"line\":{\"color\":\"black\",\"width\":1},\"size\":6},\"mode\":\"markers+text\",\"name\":\"\",\"scene\":\"scene\",\"showlegend\":false,\"text\":[\"'d\",\"'ll\",\"'m\",\"'re\",\"'s\",\"'ve\",\"a\",\"about\",\"after\",\"all\",\"always\",\"an\",\"and\",\"another\",\"any\",\"anything\",\"are\",\"around\",\"as\",\"at\",\"be\",\"because\",\"been\",\"before\",\"big\",\"but\",\"by\",\"ca\",\"call\",\"came\",\"can\",\"cause\",\"come\",\"could\",\"day\",\"did\",\"different\",\"do\",\"does\",\"doing\",\"down\",\"em\",\"even\",\"every\",\"everything\",\"first\",\"five\",\"for\",\"four\",\"from\",\"get\",\"getting\",\"go\",\"god\",\"goes\",\"going\",\"gon\",\"good\",\"got\",\"guess\",\"guy\",\"had\",\"has\",\"have\",\"he\",\"her\",\"here\",\"him\",\"how\",\"i\",\"if\",\"in\",\"into\",\"is\",\"it\",\"just\",\"kind\",\"kinda\",\"know\",\"let\",\"like\",\"little\",\"long\",\"look\",\"lot\",\"make\",\"maybe\",\"me\",\"mean\",\"mhm\",\"mm\",\"mom\",\"more\",\"much\",\"my\",\"n't\",\"na\",\"need\",\"never\",\"new\",\"no\",\"not\",\"now\",\"of\",\"off\",\"oh\",\"okay\",\"on\",\"one\",\"only\",\"or\",\"other\",\"our\",\"out\",\"over\",\"people\",\"pretty\",\"probably\",\"put\",\"real\",\"really\",\"right\",\"said\",\"say\",\"see\",\"she\",\"should\",\"so\",\"some\",\"something\",\"still\",\"stuff\",\"sure\",\"tell\",\"ten\",\"than\",\"that\",\"the\",\"their\",\"them\",\"then\",\"there\",\"they\",\"thing\",\"things\",\"think\",\"this\",\"those\",\"though\",\"thought\",\"three\",\"through\",\"time\",\"told\",\"too\",\"two\",\"uh\",\"um\",\"up\",\"us\",\"very\",\"wan\",\"want\",\"wanted\",\"was\",\"way\",\"we\",\"well\",\"went\",\"were\",\"what\",\"when\",\"where\",\"which\",\"who\",\"whole\",\"why\",\"will\",\"with\",\"work\",\"would\",\"yeah\",\"year\",\"years\",\"yes\",\"you\",\"your\",\"great\",\"his\",\"man\",\"remember\",\"alright\",\"give\"],\"x\":[0.12743699166849254,-0.20185722541609713,-0.014631441290707934,0.4840210148945198,0.08710021927714937,0.25032930961388045,0.8940820194939912,0.2915203343123733,-0.09225428831213316,1.0511671069160442,0.936772230888165,0.4996036124122003,-2.6374700586738506,1.0307841794976549,0.7217410639701908,1.0337181361381824,0.32582042675225564,1.1903828885112375,1.3605116429566302,0.8565517859787163,0.7174104592422813,-3.031762919694284,1.2991176433227787,1.3020747077022934,1.1105625562595023,-3.697476486233448,0.9623907967875102,-0.4024346100084511,1.2777749350268233,0.9456963285663679,0.5089139507515891,-4.028160098403334,0.889487025687632,0.17457318372177014,-1.1765207358871312,-0.14211734327615738,1.0589343698460896,0.3578600098785184,-0.2139101774550543,-0.05509630440619827,-0.1261321255664258,1.1998153078744502,0.5890951778571963,0.46165254543325446,0.43226521265654144,0.8170936373989431,0.25543215974594474,0.7453861209962187,0.2953815936304108,0.6577633951464557,1.3555510052516664,0.9594819450236376,0.6558141310181389,-0.18518030981981676,0.8460094254710989,0.649298000404806,0.7556305141674484,-0.8259217452680359,0.6687392055184506,-0.2971739751898244,-0.13117847331035176,0.6644844172790132,0.5181337416134222,0.9036636180875839,-1.1395182267684538,-0.21996792152918668,-1.9933852384800024,1.2280406043988357,-0.9804655192753647,-1.7238354226109447,-1.321905288450005,0.7060428454476979,0.7776111790804278,0.209371293677789,-0.6927739482294383,0.1470519149019637,1.0326818938947793,0.8005377618879971,-0.007234228563804535,-1.683092196861755,0.7792911735742535,0.8246047782254023,0.036953392323851406,0.291138265143617,1.4255797428631638,1.122065205005704,-1.4932101617855091,-0.49574247020033535,-0.5605906026192403,-4.080581621678797,-2.7990510087893825,-1.6577221355615506,0.3048740304695276,1.1479447118649448,0.10529190497631107,0.8577107862456929,1.2901441273668577,0.7681029536746575,0.16226312999257944,0.6702336808740953,-2.084127443243352,0.6891729724255249,-1.489632176865293,0.8484419259750084,-0.38072923447875295,-3.802736920073671,-2.862737102569185,0.4203358116292491,0.6132486432934475,0.4771431646723754,0.5060748283587634,1.0409691827367615,0.08458460345218347,1.29454783998095,0.1132155520181862,0.9032429687009225,1.2971841437033271,0.16350866440734863,0.8520109284896179,0.4497118983050663,0.21897980043036847,-1.917709863658475,0.651289764493234,-0.3264092817001179,0.3852770140449325,-1.2030792271751416,0.09510393174751487,-2.197836499411266,1.0222494459996458,-0.3679811291990443,0.7931931149261015,0.8444904883261183,-0.2876830605788689,1.406595683670582,0.9260407133555036,0.7552967860667144,0.10789273603369026,0.4736542000017745,0.4897315681043731,-0.7085019328454087,-1.4371169343517904,-0.44792867425892785,-0.9147812864464717,0.9934939565108557,1.1964324002004794,0.44237055006909537,0.6697349279382702,0.7884688817070769,-2.799058213204207,0.4951329927596181,0.18799840562086811,0.4632212846995601,1.0752620065057281,0.8548232608985947,-1.2857812917285103,0.5050843984747462,-0.910036441988666,-3.734747411806543,1.2555219656399457,1.0808445511309637,1.319222022100645,0.38017532369485474,1.2329713547731491,0.9623807342596064,0.5741392091815036,-0.40270499603644955,-0.9632304658121124,-3.3766235601544343,0.3820378218453537,0.9013014473080808,-0.5767963825789099,-1.4231303433654432,-1.1186198546369923,-2.661517803050935,-1.2220627247472073,0.7233781414918363,-1.0097617188185035,0.671405880372583,0.5201603128277822,1.1607127135696294,0.18876964938610125,-3.5272406259026505,0.9885205184464589,-0.8426055065909127,-2.5509945825499782,-0.6502898028460729,0.38010362501532957,0.4726654283960168,0.3347327581092468,0.10177667917842385,0.5640032853625262,-3.0704001415025597,1.0083466204280387],\"y\":[-1.5041454111234214,-1.8240957578732513,-1.5470308818632865,-1.1038602913497368,-1.4661977215299393,-1.3870393723727854,0.6619155163986901,0.8688628251845911,0.8843656844676396,0.802541956084814,0.7832465821786032,-0.6410663225083175,-0.5865552900101014,-0.11353652734436506,0.6719664532323004,-0.5676880113690761,1.205074420394314,-0.11423731738315292,0.25171019012233964,0.7585028675343098,0.7459155273213219,-0.8083253829679586,-0.18710708290745043,-0.41765522529844235,-0.5134508889364339,-1.5505098971423446,0.8154891434518321,-0.9163165891971549,0.4497644251328071,0.719383622468284,0.896940253368555,-2.3308874177238574,0.8635266632565264,0.17632828718340138,0.4933209223706684,0.9326722526396882,-0.26681858663857005,1.0217869315744823,0.9446409347785459,0.819908339534402,1.0796331751899475,-0.38057320953331847,0.9005077717824698,0.49080008252499163,-0.007751378788797021,1.025452770820153,1.105773025865209,0.7293176879309748,1.2085996741892377,0.9473471666767532,0.1049644252386591,0.5320739603407358,1.0337778443396255,0.08548956847991077,0.8155057886347316,0.8079321824575065,-0.9424461514206552,1.0241922152215062,0.5438942200099699,-0.5605535059615699,1.0882300238585885,-0.11208961823483271,0.9046799754852539,0.37554011298900597,0.7646609492813459,1.02448046799421,0.1685488110530408,-0.46590060526263066,0.4814255863878919,0.3786969207977344,0.3936918417929763,0.7195436242760905,0.2975188995749029,1.2287743803785625,0.7764068919064396,1.0257308665965725,0.6517778692570284,0.9218865857457014,-0.12980722123347296,0.24458479110019693,0.9347334668027464,-0.7318378168752918,0.655333120446122,1.2068638879736016,-0.23524307615279477,0.5208796614395865,0.6327998564690948,1.002747060547057,-2.347436559009069,-5.304651326869414,-3.9045210945688873,-0.22889291841802512,1.0848352643207027,0.3592574740677121,-0.11685227054597996,0.11964995732815531,-1.1301513521704991,-0.8162913236929776,0.5266084552773145,-0.9275293571131619,-1.6699596214350325,0.958941567905865,0.6520640778101966,-0.7955336459258568,0.7814261190755762,-3.389769301623867,-3.7531753544875417,0.7040239622788622,1.1132888391004012,0.4945605704917286,-0.7637849102383935,-0.31559028201779915,-0.6580647821370164,-0.2915783743069225,0.9208556828402968,0.6645455872767532,-0.8581701702663961,0.9045790604407346,0.6080884367497311,-1.2409158311809216,1.1229432946140854,-1.1224981926091588,0.7373973488407679,1.1215322516196577,1.1609718302243281,0.7076787577257794,-0.14171581707126737,0.05451818993526839,0.8408290564783908,1.1345743656042993,0.7576714805643204,-1.4601759388717113,-0.06676598687846301,-0.5949922532975911,-0.4522418878233507,0.7117235505206998,1.2408938798816957,0.008802246777655095,-0.5544536567826176,0.6966005666204859,-0.9149398821320557,1.0172606013095309,0.9005515261074593,0.23941452425182555,0.032055444323122864,-0.4110124007404659,1.1026363146659566,1.0354473310792438,-0.8874403181333046,-0.7189159251393797,1.1871048514997702,0.7218438984056776,-0.5876921103153259,0.49615119586185646,0.7771452788719755,1.1876470611482781,-1.327130793756785,-3.3967412754068462,-0.03261392640373604,-0.24330241083513623,-1.4790709662147579,-1.4988792913542852,0.24386657122784383,-0.09330411295185123,-0.011310630010945994,0.8319114697503721,0.736698919158426,-1.596119403734675,0.7345055154776001,0.8116725937233257,1.1459862798489606,0.2707357203362656,0.6311172541690017,-0.5875885238437956,0.5960749820105871,-0.8793225989927324,0.9233768290385803,1.0575187295200414,0.549068880335359,-0.43680256456073513,0.09442794807709662,-4.448904735928144,-1.1622381134530877,0.8467843558760223,-3.9333146534511716,1.1396834072966462,-0.5977638331106799,-0.8073686083798012,-0.615374420905937,-0.3719547802332295,1.0103043061322212,-4.242761042023596,0.48779141594863373],\"z\":[-0.9909762922704582,-0.8598050107664232,-0.9158383057861641,-1.026172404973961,-0.8466184656015409,-1.0341603406858946,-0.9057542739273621,-1.009623192359473,0.22115372373223158,-0.5674250087528266,-0.7839947029873914,0.012037849767453179,1.4695313243061892,0.03767472812972355,-0.9886165094032792,1.278243895315412,-0.6674726411173383,0.7192797295850413,-0.3140869540513955,-0.8677046104423374,-0.9113418346395836,1.4911381256024803,-0.540998821874949,0.6960718150895749,0.3248956423379444,2.3868615472305668,-0.7067240506270683,-1.004990734726343,-0.26118741479401486,-0.8291952849245516,-0.964224925345874,1.515292662460958,-0.6976371825861774,-1.1485640931394916,-0.4539508115894778,-0.9173492742579739,0.30665707462717795,-0.9274727561552936,-0.8873353797394083,-0.9597239025202104,-0.7949151396994398,0.9665183061338747,-0.9561422164925807,-0.24646765784109953,1.2771544469092864,-0.586536606809874,-0.6265988328810629,-0.928387282108207,-0.5106892684302982,-0.785527704395044,-0.2644567030625611,-0.89208690468644,-0.7777545989124526,1.3963073288001335,-0.362684708522581,-0.8858186985230756,-0.7173555913511663,0.1421110669925297,-0.9974642283067058,-0.7654565752680877,-0.7757798236864389,-1.153775963778074,-0.976623552100742,-0.9493975656952002,-0.33668056527977425,-0.7932257779686114,0.19797698505154004,0.9659298882669521,-0.3341714926380677,-0.01090539991593643,-0.4041359945916668,-0.9668003676528023,-1.014042169796504,-0.5282773911416092,-0.5748029451530492,-0.7633023827642834,-0.7502947541370485,-0.5207167886152719,1.2076935891993883,-0.13569673238800042,-0.10404383713444117,0.05240480324035146,-0.6847339214307318,-0.5598265989171082,-0.18959896345883306,-0.7106996102940297,0.010802584088694885,-0.6588679751420041,0.20929842776560342,7.334032732182819,3.6585723098562806,1.2170555737050321,-0.8801814607980489,0.15439644262457516,-0.028912137458599163,-0.9428286325893637,-0.1208188541892387,-1.0196312299974892,-0.9422123464270435,0.33480837077130027,2.5167535060680524,-0.8005576216396096,0.30863781810537666,0.03760548585862507,-0.8362870207731841,4.364912748480925,4.631891304768987,-1.0521120901297658,-0.7194114767583257,-1.07473216200652,1.132508444851551,0.11495772865009767,0.08143659178679477,0.5595831304493358,-0.9917009930829631,-0.1686683427012214,0.13564376160955108,-0.6233253844050964,-0.8664183285921381,0.4735089886855096,0.09802390853951312,2.4838592694257233,0.11783582632580948,-0.6382004985138279,-0.20521587971053237,-0.28957763444852863,-1.0038549874778175,0.9254660569569644,-0.5974735087488398,-0.6069941239281654,-0.7901785152752676,1.5164542696477534,1.3064016529910707,-0.04476721609954948,0.7628286537180653,-0.9491707601463578,-0.6579964709911623,-0.2543668091462579,0.0923542575230762,-0.7024503179990544,0.17841378629794513,-0.647606019947375,-0.3980442562359843,0.5374083250131325,0.5368679559953645,-1.1467247956208229,-0.6724964640935059,-0.678298462759481,0.5037573494106642,-1.1085373029240573,-0.4231386456893653,-1.0503897720092115,0.9802744268708824,-0.9120709074743982,-0.0947843297579309,-0.656798539326217,2.461367680339748,4.496459309707797,0.44901154083831735,0.9568143558738963,0.8227593580845315,-0.9212613414129707,-0.6194789484060005,-0.7376107628680146,-1.0856557228487937,-0.8000247377199878,-0.5443749677681339,2.2872748334424804,-1.0010738324077084,-0.825865791616539,-0.31353708830160043,-0.027830444887669996,0.22183903309471129,0.9761006693641716,0.5607110428893306,0.010332381451502228,0.1300797814971774,-0.7576308758953347,-1.0543684439396634,1.026849341719426,-1.1557288694101833,4.509670984818618,1.4949182170239872,-0.5292311636877809,3.688637845503122,-0.20293631640058418,0.07367549136000506,1.437519836934358,0.012860067252420943,1.5190148195617579,-0.1354685924232365,3.866437190009283,-0.6909193316868495],\"type\":\"scatter3d\"}],                        {\"template\":{\"data\":{\"histogram2dcontour\":[{\"type\":\"histogram2dcontour\",\"colorbar\":{\"outlinewidth\":0,\"ticks\":\"\"},\"colorscale\":[[0.0,\"#0d0887\"],[0.1111111111111111,\"#46039f\"],[0.2222222222222222,\"#7201a8\"],[0.3333333333333333,\"#9c179e\"],[0.4444444444444444,\"#bd3786\"],[0.5555555555555556,\"#d8576b\"],[0.6666666666666666,\"#ed7953\"],[0.7777777777777778,\"#fb9f3a\"],[0.8888888888888888,\"#fdca26\"],[1.0,\"#f0f921\"]]}],\"choropleth\":[{\"type\":\"choropleth\",\"colorbar\":{\"outlinewidth\":0,\"ticks\":\"\"}}],\"histogram2d\":[{\"type\":\"histogram2d\",\"colorbar\":{\"outlinewidth\":0,\"ticks\":\"\"},\"colorscale\":[[0.0,\"#0d0887\"],[0.1111111111111111,\"#46039f\"],[0.2222222222222222,\"#7201a8\"],[0.3333333333333333,\"#9c179e\"],[0.4444444444444444,\"#bd3786\"],[0.5555555555555556,\"#d8576b\"],[0.6666666666666666,\"#ed7953\"],[0.7777777777777778,\"#fb9f3a\"],[0.8888888888888888,\"#fdca26\"],[1.0,\"#f0f921\"]]}],\"heatmap\":[{\"type\":\"heatmap\",\"colorbar\":{\"outlinewidth\":0,\"ticks\":\"\"},\"colorscale\":[[0.0,\"#0d0887\"],[0.1111111111111111,\"#46039f\"],[0.2222222222222222,\"#7201a8\"],[0.3333333333333333,\"#9c179e\"],[0.4444444444444444,\"#bd3786\"],[0.5555555555555556,\"#d8576b\"],[0.6666666666666666,\"#ed7953\"],[0.7777777777777778,\"#fb9f3a\"],[0.8888888888888888,\"#fdca26\"],[1.0,\"#f0f921\"]]}],\"heatmapgl\":[{\"type\":\"heatmapgl\",\"colorbar\":{\"outlinewidth\":0,\"ticks\":\"\"},\"colorscale\":[[0.0,\"#0d0887\"],[0.1111111111111111,\"#46039f\"],[0.2222222222222222,\"#7201a8\"],[0.3333333333333333,\"#9c179e\"],[0.4444444444444444,\"#bd3786\"],[0.5555555555555556,\"#d8576b\"],[0.6666666666666666,\"#ed7953\"],[0.7777777777777778,\"#fb9f3a\"],[0.8888888888888888,\"#fdca26\"],[1.0,\"#f0f921\"]]}],\"contourcarpet\":[{\"type\":\"contourcarpet\",\"colorbar\":{\"outlinewidth\":0,\"ticks\":\"\"}}],\"contour\":[{\"type\":\"contour\",\"colorbar\":{\"outlinewidth\":0,\"ticks\":\"\"},\"colorscale\":[[0.0,\"#0d0887\"],[0.1111111111111111,\"#46039f\"],[0.2222222222222222,\"#7201a8\"],[0.3333333333333333,\"#9c179e\"],[0.4444444444444444,\"#bd3786\"],[0.5555555555555556,\"#d8576b\"],[0.6666666666666666,\"#ed7953\"],[0.7777777777777778,\"#fb9f3a\"],[0.8888888888888888,\"#fdca26\"],[1.0,\"#f0f921\"]]}],\"surface\":[{\"type\":\"surface\",\"colorbar\":{\"outlinewidth\":0,\"ticks\":\"\"},\"colorscale\":[[0.0,\"#0d0887\"],[0.1111111111111111,\"#46039f\"],[0.2222222222222222,\"#7201a8\"],[0.3333333333333333,\"#9c179e\"],[0.4444444444444444,\"#bd3786\"],[0.5555555555555556,\"#d8576b\"],[0.6666666666666666,\"#ed7953\"],[0.7777777777777778,\"#fb9f3a\"],[0.8888888888888888,\"#fdca26\"],[1.0,\"#f0f921\"]]}],\"mesh3d\":[{\"type\":\"mesh3d\",\"colorbar\":{\"outlinewidth\":0,\"ticks\":\"\"}}],\"scatter\":[{\"fillpattern\":{\"fillmode\":\"overlay\",\"size\":10,\"solidity\":0.2},\"type\":\"scatter\"}],\"parcoords\":[{\"type\":\"parcoords\",\"line\":{\"colorbar\":{\"outlinewidth\":0,\"ticks\":\"\"}}}],\"scatterpolargl\":[{\"type\":\"scatterpolargl\",\"marker\":{\"colorbar\":{\"outlinewidth\":0,\"ticks\":\"\"}}}],\"bar\":[{\"error_x\":{\"color\":\"#2a3f5f\"},\"error_y\":{\"color\":\"#2a3f5f\"},\"marker\":{\"line\":{\"color\":\"#E5ECF6\",\"width\":0.5},\"pattern\":{\"fillmode\":\"overlay\",\"size\":10,\"solidity\":0.2}},\"type\":\"bar\"}],\"scattergeo\":[{\"type\":\"scattergeo\",\"marker\":{\"colorbar\":{\"outlinewidth\":0,\"ticks\":\"\"}}}],\"scatterpolar\":[{\"type\":\"scatterpolar\",\"marker\":{\"colorbar\":{\"outlinewidth\":0,\"ticks\":\"\"}}}],\"histogram\":[{\"marker\":{\"pattern\":{\"fillmode\":\"overlay\",\"size\":10,\"solidity\":0.2}},\"type\":\"histogram\"}],\"scattergl\":[{\"type\":\"scattergl\",\"marker\":{\"colorbar\":{\"outlinewidth\":0,\"ticks\":\"\"}}}],\"scatter3d\":[{\"type\":\"scatter3d\",\"line\":{\"colorbar\":{\"outlinewidth\":0,\"ticks\":\"\"}},\"marker\":{\"colorbar\":{\"outlinewidth\":0,\"ticks\":\"\"}}}],\"scattermapbox\":[{\"type\":\"scattermapbox\",\"marker\":{\"colorbar\":{\"outlinewidth\":0,\"ticks\":\"\"}}}],\"scatterternary\":[{\"type\":\"scatterternary\",\"marker\":{\"colorbar\":{\"outlinewidth\":0,\"ticks\":\"\"}}}],\"scattercarpet\":[{\"type\":\"scattercarpet\",\"marker\":{\"colorbar\":{\"outlinewidth\":0,\"ticks\":\"\"}}}],\"carpet\":[{\"aaxis\":{\"endlinecolor\":\"#2a3f5f\",\"gridcolor\":\"white\",\"linecolor\":\"white\",\"minorgridcolor\":\"white\",\"startlinecolor\":\"#2a3f5f\"},\"baxis\":{\"endlinecolor\":\"#2a3f5f\",\"gridcolor\":\"white\",\"linecolor\":\"white\",\"minorgridcolor\":\"white\",\"startlinecolor\":\"#2a3f5f\"},\"type\":\"carpet\"}],\"table\":[{\"cells\":{\"fill\":{\"color\":\"#EBF0F8\"},\"line\":{\"color\":\"white\"}},\"header\":{\"fill\":{\"color\":\"#C8D4E3\"},\"line\":{\"color\":\"white\"}},\"type\":\"table\"}],\"barpolar\":[{\"marker\":{\"line\":{\"color\":\"#E5ECF6\",\"width\":0.5},\"pattern\":{\"fillmode\":\"overlay\",\"size\":10,\"solidity\":0.2}},\"type\":\"barpolar\"}],\"pie\":[{\"automargin\":true,\"type\":\"pie\"}]},\"layout\":{\"autotypenumbers\":\"strict\",\"colorway\":[\"#636efa\",\"#EF553B\",\"#00cc96\",\"#ab63fa\",\"#FFA15A\",\"#19d3f3\",\"#FF6692\",\"#B6E880\",\"#FF97FF\",\"#FECB52\"],\"font\":{\"color\":\"#2a3f5f\"},\"hovermode\":\"closest\",\"hoverlabel\":{\"align\":\"left\"},\"paper_bgcolor\":\"white\",\"plot_bgcolor\":\"#E5ECF6\",\"polar\":{\"bgcolor\":\"#E5ECF6\",\"angularaxis\":{\"gridcolor\":\"white\",\"linecolor\":\"white\",\"ticks\":\"\"},\"radialaxis\":{\"gridcolor\":\"white\",\"linecolor\":\"white\",\"ticks\":\"\"}},\"ternary\":{\"bgcolor\":\"#E5ECF6\",\"aaxis\":{\"gridcolor\":\"white\",\"linecolor\":\"white\",\"ticks\":\"\"},\"baxis\":{\"gridcolor\":\"white\",\"linecolor\":\"white\",\"ticks\":\"\"},\"caxis\":{\"gridcolor\":\"white\",\"linecolor\":\"white\",\"ticks\":\"\"}},\"coloraxis\":{\"colorbar\":{\"outlinewidth\":0,\"ticks\":\"\"}},\"colorscale\":{\"sequential\":[[0.0,\"#0d0887\"],[0.1111111111111111,\"#46039f\"],[0.2222222222222222,\"#7201a8\"],[0.3333333333333333,\"#9c179e\"],[0.4444444444444444,\"#bd3786\"],[0.5555555555555556,\"#d8576b\"],[0.6666666666666666,\"#ed7953\"],[0.7777777777777778,\"#fb9f3a\"],[0.8888888888888888,\"#fdca26\"],[1.0,\"#f0f921\"]],\"sequentialminus\":[[0.0,\"#0d0887\"],[0.1111111111111111,\"#46039f\"],[0.2222222222222222,\"#7201a8\"],[0.3333333333333333,\"#9c179e\"],[0.4444444444444444,\"#bd3786\"],[0.5555555555555556,\"#d8576b\"],[0.6666666666666666,\"#ed7953\"],[0.7777777777777778,\"#fb9f3a\"],[0.8888888888888888,\"#fdca26\"],[1.0,\"#f0f921\"]],\"diverging\":[[0,\"#8e0152\"],[0.1,\"#c51b7d\"],[0.2,\"#de77ae\"],[0.3,\"#f1b6da\"],[0.4,\"#fde0ef\"],[0.5,\"#f7f7f7\"],[0.6,\"#e6f5d0\"],[0.7,\"#b8e186\"],[0.8,\"#7fbc41\"],[0.9,\"#4d9221\"],[1,\"#276419\"]]},\"xaxis\":{\"gridcolor\":\"white\",\"linecolor\":\"white\",\"ticks\":\"\",\"title\":{\"standoff\":15},\"zerolinecolor\":\"white\",\"automargin\":true,\"zerolinewidth\":2},\"yaxis\":{\"gridcolor\":\"white\",\"linecolor\":\"white\",\"ticks\":\"\",\"title\":{\"standoff\":15},\"zerolinecolor\":\"white\",\"automargin\":true,\"zerolinewidth\":2},\"scene\":{\"xaxis\":{\"backgroundcolor\":\"#E5ECF6\",\"gridcolor\":\"white\",\"linecolor\":\"white\",\"showbackground\":true,\"ticks\":\"\",\"zerolinecolor\":\"white\",\"gridwidth\":2},\"yaxis\":{\"backgroundcolor\":\"#E5ECF6\",\"gridcolor\":\"white\",\"linecolor\":\"white\",\"showbackground\":true,\"ticks\":\"\",\"zerolinecolor\":\"white\",\"gridwidth\":2},\"zaxis\":{\"backgroundcolor\":\"#E5ECF6\",\"gridcolor\":\"white\",\"linecolor\":\"white\",\"showbackground\":true,\"ticks\":\"\",\"zerolinecolor\":\"white\",\"gridwidth\":2}},\"shapedefaults\":{\"line\":{\"color\":\"#2a3f5f\"}},\"annotationdefaults\":{\"arrowcolor\":\"#2a3f5f\",\"arrowhead\":0,\"arrowwidth\":1},\"geo\":{\"bgcolor\":\"white\",\"landcolor\":\"#E5ECF6\",\"subunitcolor\":\"white\",\"showland\":true,\"showlakes\":true,\"lakecolor\":\"white\"},\"title\":{\"x\":0.05},\"mapbox\":{\"style\":\"light\"}}},\"scene\":{\"domain\":{\"x\":[0.0,1.0],\"y\":[0.0,1.0]},\"xaxis\":{\"title\":{\"text\":\"Dim1\"}},\"yaxis\":{\"title\":{\"text\":\"Dim2\"}},\"zaxis\":{\"title\":{\"text\":\"Dim3\"}}},\"legend\":{\"tracegroupgap\":0},\"title\":{\"text\":\"Interactive 3D MDS Plot\"},\"margin\":{\"l\":0,\"r\":0,\"b\":0,\"t\":30}},                        {\"responsive\": true}                    ).then(function(){\n",
       "                            \n",
       "var gd = document.getElementById('88cd0dc1-c139-4376-883b-fa39cc14c578');\n",
       "var x = new MutationObserver(function (mutations, observer) {{\n",
       "        var display = window.getComputedStyle(gd).display;\n",
       "        if (!display || display === 'none') {{\n",
       "            console.log([gd, 'removed!']);\n",
       "            Plotly.purge(gd);\n",
       "            observer.disconnect();\n",
       "        }}\n",
       "}});\n",
       "\n",
       "// Listen for the removal of the full notebook cells\n",
       "var notebookContainer = gd.closest('#notebook-container');\n",
       "if (notebookContainer) {{\n",
       "    x.observe(notebookContainer, {childList: true});\n",
       "}}\n",
       "\n",
       "// Listen for the clearing of the current output cell\n",
       "var outputEl = gd.closest('.output');\n",
       "if (outputEl) {{\n",
       "    x.observe(outputEl, {childList: true});\n",
       "}}\n",
       "\n",
       "                        })                };                });            </script>        </div>"
      ]
     },
     "metadata": {},
     "output_type": "display_data"
    }
   ],
   "source": [
    "mds_df = pd.DataFrame(mds_coords, columns=[\"Dim1\", \"Dim2\", \"Dim3\"])\n",
    "mds_df[\"Label\"] = labels\n",
    "\n",
    " \n",
    "fig = px.scatter_3d(\n",
    "    mds_df, x=\"Dim1\", y=\"Dim2\", z=\"Dim3\",\n",
    "    text=\"Label\",  # adds hover labels\n",
    "    hover_name=\"Label\",\n",
    "    title=\"Interactive 3D MDS Plot\",\n",
    "    opacity=0.8\n",
    ")\n",
    "\n",
    "fig.update_traces(marker=dict(size=6, line=dict(width=1, color='black')))\n",
    "fig.update_layout(margin=dict(l=0, r=0, b=0, t=30))\n",
    "fig.show()"
   ]
  },
  {
   "cell_type": "code",
   "execution_count": 29,
   "id": "b49eb886-abc6-456d-b373-c86c30201ca8",
   "metadata": {},
   "outputs": [
    {
     "data": {
      "image/png": "[encoded data removed]",
      "text/plain": [
       "<Figure size 800x600 with 1 Axes>"
      ]
     },
     "metadata": {},
     "output_type": "display_data"
    }
   ],
   "source": [
    "plt.figure(figsize=(8, 6))\n",
    "plt.scatter(mds_coords[:, 0], mds_coords[:, 1], color='skyblue', edgecolors='k')\n",
    "\n",
    "\n",
    "for i, label in enumerate(labels):\n",
    "    plt.text(mds_coords[i, 0] + 0.01, mds_coords[i, 1] + 0.01, label, fontsize=9)\n",
    "\n",
    "plt.title(\"2D MDS Visualization of Word Distances\")\n",
    "plt.xlabel(\"Dimension 1\")\n",
    "plt.ylabel(\"Dimension 2\")\n",
    "plt.grid(True)\n",
    "plt.tight_layout()\n",
    "plt.show()"
   ]
  },
  {
   "cell_type": "code",
   "execution_count": null,
   "id": "1ef1aa48-e24e-451c-b017-ba777a1364d8",
   "metadata": {},
   "outputs": [],
   "source": []
  },
  {
   "cell_type": "markdown",
   "id": "67d88620-40b8-4a0f-a237-fc3b3fa9ff52",
   "metadata": {},
   "source": [
    "## Vertex in interval"
   ]
  },
  {
   "cell_type": "code",
   "execution_count": null,
   "id": "c828ac31-ddff-4fce-91c8-81fdfa75032d",
   "metadata": {},
   "outputs": [],
   "source": []
  }
 ],
 "metadata": {
  "kernelspec": {
   "display_name": "Python 3 (ipykernel)",
   "language": "python",
   "name": "python3"
  },
  "language_info": {
   "codemirror_mode": {
    "name": "ipython",
    "version": 3
   },
   "file_extension": ".py",
   "mimetype": "text/x-python",
   "name": "python",
   "nbconvert_exporter": "python",
   "pygments_lexer": "ipython3",
   "version": "3.9.18"
  }
 },
 "nbformat": 4,
 "nbformat_minor": 5
}
