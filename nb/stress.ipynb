{
 "cells": [
  {
   "cell_type": "code",
   "execution_count": 2,
   "id": "ce2f6789-f0d2-4d72-baf5-4a263437c0d8",
   "metadata": {},
   "outputs": [],
   "source": [
    "distance_matrix_raw = pd.read_csv(\"../data/distance_matrix.csv\")\n",
    "distance_matrix = distance_matrix_raw.values\n",
    "labels = distance_matrix_raw.columns.tolist()"
   ]
  },
  {
   "cell_type": "code",
   "execution_count": 8,
   "id": "9309482b-3623-4627-9e4e-d4ddaf901a6a",
   "metadata": {
    "scrolled": true,
    "tags": []
   },
   "outputs": [
    {
     "name": "stdout",
     "output_type": "stream",
     "text": [
      "seed 600  stress 38.53\n",
      "seed 601  stress 40.67\n",
      "seed 602  stress 40.76\n",
      "seed 603  stress 40.05\n",
      "seed 604  stress 36.17\n",
      "seed 605  stress 38.09\n",
      "seed 606  stress 44.62\n",
      "seed 607  stress 36.51\n",
      "seed 608  stress 45.65\n",
      "seed 609  stress 36.89\n",
      "seed 610  stress 42.35\n",
      "seed 611  stress 36.36\n",
      "seed 612  stress 36.47\n",
      "seed 613  stress 39.19\n",
      "seed 614  stress 36.19\n",
      "seed 615  stress 45.25\n",
      "seed 616  stress 36.42\n",
      "seed 617  stress 36.43\n",
      "seed 618  stress 36.35\n",
      "seed 619  stress 36.88\n",
      "Best seed = 604, stress = 36.1717\n"
     ]
    }
   ],
   "source": [
    "import numpy as np\n",
    "from sklearn.manifold import MDS\n",
    "\n",
    "def run_many_seeds(dist_matrix, seeds, **mds_kwargs):\n",
    "    results = []\n",
    "    for seed in seeds:\n",
    "        mds = MDS(dissimilarity='precomputed',\n",
    "                  random_state=seed,\n",
    "                  **mds_kwargs)\n",
    "        coords = mds.fit_transform(dist_matrix)\n",
    "        results.append((seed, mds.stress_, coords))\n",
    "        print(f\"seed {seed:3d}  stress {mds.stress_:,.2f}\")\n",
    "    # pick the best one\n",
    "    best_seed, best_stress, best_coords = min(results, key=lambda t: t[1])\n",
    "    return best_coords, best_seed, best_stress, results\n",
    "\n",
    "# example usage\n",
    "seeds   = range(600, 620)            # 0 … 99\n",
    "coords, seed, stress, log = run_many_seeds(distance_matrix_raw, seeds,\n",
    "                                           n_components=2,\n",
    "                                           normalized_stress='auto',\n",
    "                                           max_iter=300)\n",
    "print(f\"Best seed = {seed}, stress = {stress:,.4f}\")\n"
   ]
  }
 ],
 "metadata": {
  "kernelspec": {
   "display_name": "Python 3 (ipykernel)",
   "language": "python",
   "name": "python3"
  },
  "language_info": {
   "codemirror_mode": {
    "name": "ipython",
    "version": 3
   },
   "file_extension": ".py",
   "mimetype": "text/x-python",
   "name": "python",
   "nbconvert_exporter": "python",
   "pygments_lexer": "ipython3",
   "version": "3.9.18"
  }
 },
 "nbformat": 4,
 "nbformat_minor": 5
}
