{
 "cells": [
  {
   "cell_type": "code",
   "execution_count": 17,
   "id": "fcc9c7c1-7d22-4c7c-8783-a6e850026f4c",
   "metadata": {},
   "outputs": [],
   "source": [
    "# Data wrangling\n",
    "import numpy as np\n",
    "import pandas as pd  # Not a requirement of giotto-tda, but is compatible with the gtda.mapper module\n",
    "\n",
    "# Data viz\n",
    "from gtda.plotting import plot_point_cloud\n",
    "\n",
    "# TDA magic\n",
    "from gtda.mapper import (\n",
    "    CubicalCover,\n",
    "    make_mapper_pipeline,\n",
    "    Projection,\n",
    "    plot_static_mapper_graph,\n",
    "    plot_interactive_mapper_graph,\n",
    "    MapperInteractivePlotter\n",
    ")\n",
    "\n",
    "# ML tools\n",
    "from sklearn import datasets\n",
    "from sklearn.cluster import DBSCAN\n",
    "from sklearn.decomposition import PCA\n",
    "from sklearn.manifold import MDS\n",
    "import random"
   ]
  },
  {
   "cell_type": "code",
   "execution_count": null,
   "id": "630f996a-21d3-448b-b771-b99c64805054",
   "metadata": {},
   "outputs": [],
   "source": [
    "pip install giotto-tda\n"
   ]
  },
  {
   "cell_type": "code",
   "execution_count": 22,
   "id": "c277c712-54f0-40c2-b900-7cf5cb6667ca",
   "metadata": {},
   "outputs": [],
   "source": [
    "mds_coords = pd.read_csv(\"mds_coords_k3.csv\").values \n",
    "distance_matrix = pd.read_csv(\"distance_matrix.csv\").values\n",
    "pdf_matrix = pd.read_csv(\"pdf_matrix.csv\").values"
   ]
  },
  {
   "cell_type": "code",
   "execution_count": 24,
   "id": "6ec68dcf-2599-424d-8efd-183fbfd82b3b",
   "metadata": {},
   "outputs": [],
   "source": [
    "# Issues:\n",
    "# mds doesn't have .transform function\n",
    "# if no fit_transform, then .fit.transform()\n",
    "\n",
    "from sklearn.base import BaseEstimator, TransformerMixin\n",
    "from sklearn.manifold import MDS\n",
    "\n",
    "class WrappedMDS(BaseEstimator, TransformerMixin):\n",
    "    def __init__(self, n_components=5, normalized_stress='auto'):\n",
    "        self.n_components = n_components\n",
    "        self.normalized_stress = normalized_stress\n",
    "        self.mds = MDS(n_components=n_components, \n",
    "                       #dissimilarity='euclidean', \n",
    "                       normalized_stress=normalized_stress)\n",
    "\n",
    "    def fit(self, X, y=None):\n",
    "        print(\"1\")\n",
    "        self.mds.fit(X)\n",
    "        return self\n",
    "\n",
    "    def transform(self, X):\n",
    "        print(\"2\")\n",
    "        return self.mds.fit_transform(X)\n",
    "    \n",
    "    def fit_transform(self, X, y=None):\n",
    "        print(\"3\")\n",
    "        return self.mds.fit_transform(X)\n",
    "\n",
    "\n",
    "filter_func = WrappedMDS(n_components=5)\n"
   ]
  },
  {
   "cell_type": "code",
   "execution_count": 100,
   "id": "983e6774-0845-4987-8e04-cf263d06af70",
   "metadata": {},
   "outputs": [],
   "source": [
    "## testing which part of PCA\n",
    "#from sklearn.base import BaseEstimator, TransformerMixin\n",
    "#from sklearn.decomposition import PCA\n",
    "\n",
    "#class WrappedPCA(BaseEstimator, TransformerMixin):\n",
    "    #def __init__(self, n_components=2):\n",
    "        #self.n_components = n_components\n",
    "        #self.pca = PCA(n_components=n_components)\n",
    "\n",
    "    #def fit(self, X, y=None):\n",
    "        #self.pca.fit(X)\n",
    "        #print(\"1\")\n",
    "        #return self\n",
    "\n",
    "    #def transform(self, X):\n",
    "        #print(\"2\")\n",
    "        #return self.pca.transform(X)\n",
    "\n",
    "    #def fit_transform(self, X, y=None):\n",
    "        #print(\"3\")\n",
    "        #return self.pca.fit_transform(X)\n",
    "#filter_func = WrappedPCA(n_components=5)"
   ]
  },
  {
   "cell_type": "code",
   "execution_count": 7,
   "id": "8f2f0404-f980-4dc5-82f2-e8225c8adf23",
   "metadata": {},
   "outputs": [],
   "source": [
    "mds_coords_first_two = mds_coords[:, :2]"
   ]
  },
  {
   "cell_type": "code",
   "execution_count": 25,
   "id": "e59abf96-c401-4828-a444-bf5b50f6a932",
   "metadata": {},
   "outputs": [],
   "source": [
    "#filter_func = Projection(columns=[0, 1, 2]) # input original data, dimension reduction, PCA or any\n",
    "#filter_func = MDS(n_components=5)\n",
    "\n",
    "# Define cover\n",
    "cover = CubicalCover(n_intervals=4, overlap_frac=0.3)\n",
    "# Choose clustering algorithm – default is DBSCAN\n",
    "clusterer = DBSCAN(metric = \"precomputed\").fit(distance_matrix)\n",
    "\n",
    "\n",
    "# Configure parallelism of clustering step\n",
    "n_jobs = 1\n",
    "\n",
    "# Initialise pipeline\n",
    "pipe = make_mapper_pipeline(\n",
    "    filter_func=filter_func,\n",
    "    cover=cover,\n",
    "    clusterer=clusterer, # distance matrix is calculated here. \n",
    "    verbose=False,\n",
    "    n_jobs=n_jobs,\n",
    ")\n",
    "\n",
    "#mds, euclidean for the dbscan\n",
    "#set the filter as umap"
   ]
  },
  {
   "cell_type": "code",
   "execution_count": 35,
   "id": "5efce373-809a-4094-b1e8-c278c8545562",
   "metadata": {},
   "outputs": [
    {
     "name": "stdout",
     "output_type": "stream",
     "text": [
      "3\n"
     ]
    },
    {
     "name": "stderr",
     "output_type": "stream",
     "text": [
      "/Users/lu/opt/anaconda3/lib/python3.9/site-packages/sklearn/manifold/_mds.py:601: UserWarning:\n",
      "\n",
      "The MDS API has changed. ``fit`` now constructs an dissimilarity matrix from data. To use a custom dissimilarity matrix, set ``dissimilarity='precomputed'``.\n",
      "\n"
     ]
    },
    {
     "data": {
      "application/vnd.plotly.v1+json": {
       "config": {
        "plotlyServerURL": "https://plot.ly",
        "scrollZoom": true
       },
       "data": [
        {
         "hoverinfo": "none",
         "line": {
          "color": "#888",
          "width": 1
         },
         "mode": "lines",
         "name": "edge_trace",
         "type": "scatter",
         "uid": "a93371d9-c5f8-4d3e-ad78-b7415de63054",
         "x": [
          -1.3700955089886655,
          -1.0303905654948942,
          null,
          -1.3700955089886655,
          -0.7760146956183,
          null,
          -1.3700955089886655,
          -0.0935745738451904,
          null,
          -1.3700955089886655,
          -2.2226297928927408,
          null,
          -1.0303905654948942,
          -0.7760146956183,
          null,
          -1.0303905654948942,
          -0.0935745738451904,
          null,
          -1.0303905654948942,
          -0.07654638301176107,
          null,
          -1.0303905654948942,
          -0.8103211029002458,
          null,
          -1.0303905654948942,
          -0.7807436758710005,
          null,
          -1.0303905654948942,
          -0.31280092631711043,
          null,
          -1.0303905654948942,
          -2.2226297928927408,
          null,
          -1.0303905654948942,
          0.07558708400508674,
          null,
          -1.0303905654948942,
          -1.3947948819449782,
          null,
          -0.7760146956183,
          -0.0935745738451904,
          null,
          -0.7760146956183,
          0.4219354234762082,
          null,
          -0.7760146956183,
          -0.025833556048279957,
          null,
          -0.0935745738451904,
          -0.07654638301176107,
          null,
          -0.0935745738451904,
          0.23113033542334496,
          null,
          -0.0935745738451904,
          0.7037756173196205,
          null,
          -0.0935745738451904,
          1.2561779866271408,
          null,
          -0.0935745738451904,
          0.4219354234762082,
          null,
          -0.0935745738451904,
          0.875592116529096,
          null,
          -0.0935745738451904,
          -0.8103211029002458,
          null,
          -0.0935745738451904,
          0.9883054825982478,
          null,
          -0.0935745738451904,
          -0.025833556048279957,
          null,
          -0.07654638301176107,
          0.23113033542334496,
          null,
          -0.07654638301176107,
          0.7037756173196205,
          null,
          -0.07654638301176107,
          1.2561779866271408,
          null,
          -0.07654638301176107,
          0.4219354234762082,
          null,
          -0.07654638301176107,
          -0.37287191159313865,
          null,
          -0.07654638301176107,
          -1.2171988096991457,
          null,
          -0.07654638301176107,
          0.875592116529096,
          null,
          -0.07654638301176107,
          -0.8103211029002458,
          null,
          -0.07654638301176107,
          0.9883054825982478,
          null,
          0.23113033542334496,
          0.7037756173196205,
          null,
          0.23113033542334496,
          1.2561779866271408,
          null,
          0.23113033542334496,
          0.4219354234762082,
          null,
          0.23113033542334496,
          -0.37287191159313865,
          null,
          0.23113033542334496,
          -1.2171988096991457,
          null,
          0.23113033542334496,
          0.875592116529096,
          null,
          0.23113033542334496,
          0.0755814035853616,
          null,
          0.23113033542334496,
          -0.7807436758710005,
          null,
          0.23113033542334496,
          -0.31280092631711043,
          null,
          0.23113033542334496,
          0.9883054825982478,
          null,
          0.23113033542334496,
          0.8084838758636362,
          null,
          0.7037756173196205,
          1.2561779866271408,
          null,
          0.7037756173196205,
          0.4219354234762082,
          null,
          0.7037756173196205,
          1.548676541619208,
          null,
          0.7037756173196205,
          0.875592116529096,
          null,
          0.7037756173196205,
          -0.2020250808506626,
          null,
          0.7037756173196205,
          0.9883054825982478,
          null,
          0.7037756173196205,
          0.07558708400508674,
          null,
          0.7037756173196205,
          0.6168280724454207,
          null,
          -1.5660839039745285,
          -0.3957140284439695,
          null,
          -1.5660839039745285,
          -1.409829468440108,
          null,
          -1.5660839039745285,
          -0.4916733645039927,
          null,
          -0.3957140284439695,
          -1.409829468440108,
          null,
          -0.3957140284439695,
          -0.4916733645039927,
          null,
          -0.3957140284439695,
          0.43151999123927537,
          null,
          -0.3957140284439695,
          -0.276270117023146,
          null,
          -0.3957140284439695,
          0.2839288771107568,
          null,
          -0.3957140284439695,
          -0.6677355348634821,
          null,
          -0.3957140284439695,
          0.7406626169651538,
          null,
          -1.409829468440108,
          -0.4916733645039927,
          null,
          -1.409829468440108,
          -0.6677355348634821,
          null,
          -1.409829468440108,
          -1.8358270243613086,
          null,
          -0.4916733645039927,
          0.43151999123927537,
          null,
          -0.4916733645039927,
          -0.276270117023146,
          null,
          -0.4916733645039927,
          0.2839288771107568,
          null,
          -0.4916733645039927,
          -0.6677355348634821,
          null,
          -0.4916733645039927,
          0.7406626169651538,
          null,
          -0.4916733645039927,
          -0.37287191159313865,
          null,
          -0.4916733645039927,
          0.0755814035853616,
          null,
          -0.4916733645039927,
          -0.7807436758710005,
          null,
          -0.4916733645039927,
          -0.31280092631711043,
          null,
          -0.4916733645039927,
          -1.3398338218699237,
          null,
          -0.4916733645039927,
          -1.8358270243613086,
          null,
          1.2561779866271408,
          0.4219354234762082,
          null,
          1.2561779866271408,
          1.548676541619208,
          null,
          1.2561779866271408,
          1.1505203682973943,
          null,
          1.2561779866271408,
          0.875592116529096,
          null,
          1.2561779866271408,
          0.9883054825982478,
          null,
          1.2561779866271408,
          0.07558708400508674,
          null,
          1.2561779866271408,
          2.149464915203275,
          null,
          1.2561779866271408,
          2.4165362615541697,
          null,
          1.2561779866271408,
          2.021965016272897,
          null,
          1.2561779866271408,
          2.4687213683802516,
          null,
          0.4219354234762082,
          0.875592116529096,
          null,
          0.4219354234762082,
          0.9883054825982478,
          null,
          0.4219354234762082,
          -0.025833556048279957,
          null,
          0.43151999123927537,
          -0.276270117023146,
          null,
          0.43151999123927537,
          0.2839288771107568,
          null,
          0.43151999123927537,
          -0.6677355348634821,
          null,
          0.43151999123927537,
          0.7406626169651538,
          null,
          0.43151999123927537,
          1.140820104810588,
          null,
          0.43151999123927537,
          0.6810988255963806,
          null,
          0.43151999123927537,
          1.4936967486327772,
          null,
          0.43151999123927537,
          1.4830153203031353,
          null,
          -0.276270117023146,
          0.2839288771107568,
          null,
          -0.276270117023146,
          -0.6677355348634821,
          null,
          -0.276270117023146,
          0.7406626169651538,
          null,
          0.2839288771107568,
          -0.6677355348634821,
          null,
          0.2839288771107568,
          0.7406626169651538,
          null,
          0.2839288771107568,
          1.140820104810588,
          null,
          0.2839288771107568,
          0.6810988255963806,
          null,
          0.2839288771107568,
          1.4936967486327772,
          null,
          0.2839288771107568,
          1.4830153203031353,
          null,
          -0.6677355348634821,
          0.7406626169651538,
          null,
          -0.6677355348634821,
          -1.8358270243613086,
          null,
          0.7406626169651538,
          1.140820104810588,
          null,
          0.7406626169651538,
          0.6810988255963806,
          null,
          0.7406626169651538,
          1.4936967486327772,
          null,
          0.7406626169651538,
          2.064150478896882,
          null,
          0.7406626169651538,
          1.6012295747603227,
          null,
          0.7406626169651538,
          1.4830153203031353,
          null,
          1.140820104810588,
          0.6810988255963806,
          null,
          1.140820104810588,
          1.0704595330237061,
          null,
          1.140820104810588,
          1.4936967486327772,
          null,
          1.140820104810588,
          1.4830153203031353,
          null,
          0.6810988255963806,
          1.4936967486327772,
          null,
          0.6810988255963806,
          1.4830153203031353,
          null,
          -0.37287191159313865,
          -1.2171988096991457,
          null,
          -0.37287191159313865,
          0.0755814035853616,
          null,
          -0.37287191159313865,
          -0.7807436758710005,
          null,
          -0.37287191159313865,
          -0.31280092631711043,
          null,
          -0.37287191159313865,
          0.8084838758636362,
          null,
          1.548676541619208,
          1.1505203682973943,
          null,
          1.548676541619208,
          0.875592116529096,
          null,
          1.548676541619208,
          0.07558708400508674,
          null,
          1.548676541619208,
          1.6012295747603227,
          null,
          1.548676541619208,
          2.149464915203275,
          null,
          1.548676541619208,
          2.4165362615541697,
          null,
          1.548676541619208,
          2.3469086998969,
          null,
          1.548676541619208,
          2.021965016272897,
          null,
          1.548676541619208,
          2.4687213683802516,
          null,
          1.1505203682973943,
          0.875592116529096,
          null,
          1.1505203682973943,
          -0.31280092631711043,
          null,
          1.1505203682973943,
          1.6012295747603227,
          null,
          1.1505203682973943,
          2.3469086998969,
          null,
          1.1505203682973943,
          2.021965016272897,
          null,
          0.875592116529096,
          0.9883054825982478,
          null,
          -0.8103211029002458,
          -0.7807436758710005,
          null,
          -0.8103211029002458,
          -0.31280092631711043,
          null,
          -0.8103211029002458,
          0.07558708400508674,
          null,
          -0.8103211029002458,
          -1.3947948819449782,
          null,
          0.0755814035853616,
          -0.7807436758710005,
          null,
          0.0755814035853616,
          0.8084838758636362,
          null,
          -0.7807436758710005,
          -0.31280092631711043,
          null,
          -0.7807436758710005,
          -1.3398338218699237,
          null,
          -0.7807436758710005,
          0.07558708400508674,
          null,
          -0.7807436758710005,
          -1.3947948819449782,
          null,
          -0.31280092631711043,
          -1.3398338218699237,
          null,
          -0.31280092631711043,
          0.07558708400508674,
          null,
          -0.31280092631711043,
          -1.3947948819449782,
          null,
          -0.2020250808506626,
          0.07558708400508674,
          null,
          -0.2020250808506626,
          0.6168280724454207,
          null,
          -6.636055401907971,
          -7.177513008282543,
          null,
          -6.636055401907971,
          -7.087235943418547,
          null,
          -6.636055401907971,
          -6.665387324888094,
          null,
          -6.636055401907971,
          -6.465772650988593,
          null,
          -6.636055401907971,
          -6.868194938672684,
          null,
          -6.636055401907971,
          -7.626492897556172,
          null,
          -6.636055401907971,
          -7.634578997642169,
          null,
          -7.177513008282543,
          -7.087235943418547,
          null,
          -7.177513008282543,
          -6.665387324888094,
          null,
          -7.177513008282543,
          -6.465772650988593,
          null,
          -7.177513008282543,
          -7.626492897556172,
          null,
          -7.177513008282543,
          -7.634578997642169,
          null,
          -7.087235943418547,
          -6.665387324888094,
          null,
          -7.087235943418547,
          -6.868194938672684,
          null,
          -7.087235943418547,
          -7.626492897556172,
          null,
          -7.087235943418547,
          -7.634578997642169,
          null,
          -6.665387324888094,
          -7.626492897556172,
          null,
          -6.665387324888094,
          -7.634578997642169,
          null,
          1.4936967486327772,
          2.064150478896882,
          null,
          1.4936967486327772,
          1.6012295747603227,
          null,
          1.4936967486327772,
          1.4830153203031353,
          null,
          0.07558708400508674,
          0.6168280724454207,
          null,
          0.07558708400508674,
          -1.3947948819449782,
          null,
          2.064150478896882,
          1.6012295747603227,
          null,
          1.6012295747603227,
          2.3469086998969,
          null,
          1.6012295747603227,
          2.021965016272897,
          null,
          2.149464915203275,
          2.4165362615541697,
          null,
          2.3469086998969,
          2.021965016272897,
          null,
          2.021965016272897,
          2.4687213683802516,
          null,
          -7.626492897556172,
          -7.634578997642169,
          null
         ],
         "y": [
          -2.3219231370455513,
          -1.419586017712722,
          null,
          -2.3219231370455513,
          -2.6711367408251867,
          null,
          -2.3219231370455513,
          -1.9611528967582457,
          null,
          -2.3219231370455513,
          -1.891058200961671,
          null,
          -1.419586017712722,
          -2.6711367408251867,
          null,
          -1.419586017712722,
          -1.9611528967582457,
          null,
          -1.419586017712722,
          -1.269630360960372,
          null,
          -1.419586017712722,
          -1.0397176504276617,
          null,
          -1.419586017712722,
          -0.10334678810436163,
          null,
          -1.419586017712722,
          -0.13408982515062748,
          null,
          -1.419586017712722,
          -1.891058200961671,
          null,
          -1.419586017712722,
          -1.0942986095287277,
          null,
          -1.419586017712722,
          -0.7581054814279549,
          null,
          -2.6711367408251867,
          -1.9611528967582457,
          null,
          -2.6711367408251867,
          -2.1914460115589414,
          null,
          -2.6711367408251867,
          -3.3499797232359776,
          null,
          -1.9611528967582457,
          -1.269630360960372,
          null,
          -1.9611528967582457,
          -0.7870838043072458,
          null,
          -1.9611528967582457,
          -1.663961580585759,
          null,
          -1.9611528967582457,
          -1.3134633602771375,
          null,
          -1.9611528967582457,
          -2.1914460115589414,
          null,
          -1.9611528967582457,
          -1.221804018559211,
          null,
          -1.9611528967582457,
          -1.0397176504276617,
          null,
          -1.9611528967582457,
          -2.0585319994616507,
          null,
          -1.9611528967582457,
          -3.3499797232359776,
          null,
          -1.269630360960372,
          -0.7870838043072458,
          null,
          -1.269630360960372,
          -1.663961580585759,
          null,
          -1.269630360960372,
          -1.3134633602771375,
          null,
          -1.269630360960372,
          -2.1914460115589414,
          null,
          -1.269630360960372,
          0.2796455647499203,
          null,
          -1.269630360960372,
          -0.5541918697721577,
          null,
          -1.269630360960372,
          -1.221804018559211,
          null,
          -1.269630360960372,
          -1.0397176504276617,
          null,
          -1.269630360960372,
          -2.0585319994616507,
          null,
          -0.7870838043072458,
          -1.663961580585759,
          null,
          -0.7870838043072458,
          -1.3134633602771375,
          null,
          -0.7870838043072458,
          -2.1914460115589414,
          null,
          -0.7870838043072458,
          0.2796455647499203,
          null,
          -0.7870838043072458,
          -0.5541918697721577,
          null,
          -0.7870838043072458,
          -1.221804018559211,
          null,
          -0.7870838043072458,
          0.4659723158018001,
          null,
          -0.7870838043072458,
          -0.10334678810436163,
          null,
          -0.7870838043072458,
          -0.13408982515062748,
          null,
          -0.7870838043072458,
          -2.0585319994616507,
          null,
          -0.7870838043072458,
          0.1421991329184229,
          null,
          -1.663961580585759,
          -1.3134633602771375,
          null,
          -1.663961580585759,
          -2.1914460115589414,
          null,
          -1.663961580585759,
          -0.6407164104352648,
          null,
          -1.663961580585759,
          -1.221804018559211,
          null,
          -1.663961580585759,
          -2.587194997079942,
          null,
          -1.663961580585759,
          -2.0585319994616507,
          null,
          -1.663961580585759,
          -1.0942986095287277,
          null,
          -1.663961580585759,
          -2.703772703342856,
          null,
          1.7477043997153623,
          1.913431483810209,
          null,
          1.7477043997153623,
          2.304908671245129,
          null,
          1.7477043997153623,
          1.2453635111369576,
          null,
          1.913431483810209,
          2.304908671245129,
          null,
          1.913431483810209,
          1.2453635111369576,
          null,
          1.913431483810209,
          2.161313746526805,
          null,
          1.913431483810209,
          2.460445190524692,
          null,
          1.913431483810209,
          2.443602401888272,
          null,
          1.913431483810209,
          2.2040522695664584,
          null,
          1.913431483810209,
          1.8019034373392453,
          null,
          2.304908671245129,
          1.2453635111369576,
          null,
          2.304908671245129,
          2.2040522695664584,
          null,
          2.304908671245129,
          1.704323645773639,
          null,
          1.2453635111369576,
          2.161313746526805,
          null,
          1.2453635111369576,
          2.460445190524692,
          null,
          1.2453635111369576,
          2.443602401888272,
          null,
          1.2453635111369576,
          2.2040522695664584,
          null,
          1.2453635111369576,
          1.8019034373392453,
          null,
          1.2453635111369576,
          0.2796455647499203,
          null,
          1.2453635111369576,
          0.4659723158018001,
          null,
          1.2453635111369576,
          -0.10334678810436163,
          null,
          1.2453635111369576,
          -0.13408982515062748,
          null,
          1.2453635111369576,
          0.6570108835114777,
          null,
          1.2453635111369576,
          1.704323645773639,
          null,
          -1.3134633602771375,
          -2.1914460115589414,
          null,
          -1.3134633602771375,
          -0.6407164104352648,
          null,
          -1.3134633602771375,
          -0.06894483815334901,
          null,
          -1.3134633602771375,
          -1.221804018559211,
          null,
          -1.3134633602771375,
          -2.0585319994616507,
          null,
          -1.3134633602771375,
          -1.0942986095287277,
          null,
          -1.3134633602771375,
          -1.8709024790948101,
          null,
          -1.3134633602771375,
          -1.4126595071250678,
          null,
          -1.3134633602771375,
          -0.2045326480593192,
          null,
          -1.3134633602771375,
          -1.0177999310374624,
          null,
          -2.1914460115589414,
          -1.221804018559211,
          null,
          -2.1914460115589414,
          -2.0585319994616507,
          null,
          -2.1914460115589414,
          -3.3499797232359776,
          null,
          2.161313746526805,
          2.460445190524692,
          null,
          2.161313746526805,
          2.443602401888272,
          null,
          2.161313746526805,
          2.2040522695664584,
          null,
          2.161313746526805,
          1.8019034373392453,
          null,
          2.161313746526805,
          3.1201345042533757,
          null,
          2.161313746526805,
          3.1213230274117443,
          null,
          2.161313746526805,
          2.088170018838485,
          null,
          2.161313746526805,
          2.7670338833380743,
          null,
          2.460445190524692,
          2.443602401888272,
          null,
          2.460445190524692,
          2.2040522695664584,
          null,
          2.460445190524692,
          1.8019034373392453,
          null,
          2.443602401888272,
          2.2040522695664584,
          null,
          2.443602401888272,
          1.8019034373392453,
          null,
          2.443602401888272,
          3.1201345042533757,
          null,
          2.443602401888272,
          3.1213230274117443,
          null,
          2.443602401888272,
          2.088170018838485,
          null,
          2.443602401888272,
          2.7670338833380743,
          null,
          2.2040522695664584,
          1.8019034373392453,
          null,
          2.2040522695664584,
          1.704323645773639,
          null,
          1.8019034373392453,
          3.1201345042533757,
          null,
          1.8019034373392453,
          3.1213230274117443,
          null,
          1.8019034373392453,
          2.088170018838485,
          null,
          1.8019034373392453,
          1.7012759579916676,
          null,
          1.8019034373392453,
          0.843304884105474,
          null,
          1.8019034373392453,
          2.7670338833380743,
          null,
          3.1201345042533757,
          3.1213230274117443,
          null,
          3.1201345042533757,
          4.331280799146093,
          null,
          3.1201345042533757,
          2.088170018838485,
          null,
          3.1201345042533757,
          2.7670338833380743,
          null,
          3.1213230274117443,
          2.088170018838485,
          null,
          3.1213230274117443,
          2.7670338833380743,
          null,
          0.2796455647499203,
          -0.5541918697721577,
          null,
          0.2796455647499203,
          0.4659723158018001,
          null,
          0.2796455647499203,
          -0.10334678810436163,
          null,
          0.2796455647499203,
          -0.13408982515062748,
          null,
          0.2796455647499203,
          0.1421991329184229,
          null,
          -0.6407164104352648,
          -0.06894483815334901,
          null,
          -0.6407164104352648,
          -1.221804018559211,
          null,
          -0.6407164104352648,
          -1.0942986095287277,
          null,
          -0.6407164104352648,
          0.843304884105474,
          null,
          -0.6407164104352648,
          -1.8709024790948101,
          null,
          -0.6407164104352648,
          -1.4126595071250678,
          null,
          -0.6407164104352648,
          0.30151177420813974,
          null,
          -0.6407164104352648,
          -0.2045326480593192,
          null,
          -0.6407164104352648,
          -1.0177999310374624,
          null,
          -0.06894483815334901,
          -1.221804018559211,
          null,
          -0.06894483815334901,
          -0.13408982515062748,
          null,
          -0.06894483815334901,
          0.843304884105474,
          null,
          -0.06894483815334901,
          0.30151177420813974,
          null,
          -0.06894483815334901,
          -0.2045326480593192,
          null,
          -1.221804018559211,
          -2.0585319994616507,
          null,
          -1.0397176504276617,
          -0.10334678810436163,
          null,
          -1.0397176504276617,
          -0.13408982515062748,
          null,
          -1.0397176504276617,
          -1.0942986095287277,
          null,
          -1.0397176504276617,
          -0.7581054814279549,
          null,
          0.4659723158018001,
          -0.10334678810436163,
          null,
          0.4659723158018001,
          0.1421991329184229,
          null,
          -0.10334678810436163,
          -0.13408982515062748,
          null,
          -0.10334678810436163,
          0.6570108835114777,
          null,
          -0.10334678810436163,
          -1.0942986095287277,
          null,
          -0.10334678810436163,
          -0.7581054814279549,
          null,
          -0.13408982515062748,
          0.6570108835114777,
          null,
          -0.13408982515062748,
          -1.0942986095287277,
          null,
          -0.13408982515062748,
          -0.7581054814279549,
          null,
          -2.587194997079942,
          -1.0942986095287277,
          null,
          -2.587194997079942,
          -2.703772703342856,
          null,
          0.8405456758178094,
          1.758647439932091,
          null,
          0.8405456758178094,
          0.36398888856493816,
          null,
          0.8405456758178094,
          1.3947448516393763,
          null,
          0.8405456758178094,
          2.33277404224511,
          null,
          0.8405456758178094,
          -0.4787663738624761,
          null,
          0.8405456758178094,
          0.6771665182048987,
          null,
          0.8405456758178094,
          1.2975030296440888,
          null,
          1.758647439932091,
          0.36398888856493816,
          null,
          1.758647439932091,
          1.3947448516393763,
          null,
          1.758647439932091,
          2.33277404224511,
          null,
          1.758647439932091,
          0.6771665182048987,
          null,
          1.758647439932091,
          1.2975030296440888,
          null,
          0.36398888856493816,
          1.3947448516393763,
          null,
          0.36398888856493816,
          -0.4787663738624761,
          null,
          0.36398888856493816,
          0.6771665182048987,
          null,
          0.36398888856493816,
          1.2975030296440888,
          null,
          1.3947448516393763,
          0.6771665182048987,
          null,
          1.3947448516393763,
          1.2975030296440888,
          null,
          2.088170018838485,
          1.7012759579916676,
          null,
          2.088170018838485,
          0.843304884105474,
          null,
          2.088170018838485,
          2.7670338833380743,
          null,
          -1.0942986095287277,
          -2.703772703342856,
          null,
          -1.0942986095287277,
          -0.7581054814279549,
          null,
          1.7012759579916676,
          0.843304884105474,
          null,
          0.843304884105474,
          0.30151177420813974,
          null,
          0.843304884105474,
          -0.2045326480593192,
          null,
          -1.8709024790948101,
          -1.4126595071250678,
          null,
          0.30151177420813974,
          -0.2045326480593192,
          null,
          -0.2045326480593192,
          -1.0177999310374624,
          null,
          0.6771665182048987,
          1.2975030296440888,
          null
         ]
        },
        {
         "hoverinfo": "text",
         "hovertext": [
          "Node ID: 0<br>Pullback set label: 49<br>Partial cluster label: 0<br>Node size: 8<br>Summary statistic: 33.0",
          "Node ID: 1<br>Pullback set label: 50<br>Partial cluster label: 0<br>Node size: 10<br>Summary statistic: 32.9",
          "Node ID: 2<br>Pullback set label: 52<br>Partial cluster label: 0<br>Node size: 10<br>Summary statistic: 57.6",
          "Node ID: 3<br>Pullback set label: 53<br>Partial cluster label: 0<br>Node size: 37<br>Summary statistic: 79.7",
          "Node ID: 4<br>Pullback set label: 54<br>Partial cluster label: 0<br>Node size: 97<br>Summary statistic: 91.2",
          "Node ID: 5<br>Pullback set label: 40<br>Partial cluster label: 0<br>Node size: 32<br>Summary statistic: 119.0",
          "Node ID: 6<br>Pullback set label: 39<br>Partial cluster label: 0<br>Node size: 19<br>Summary statistic: 103.0",
          "Node ID: 7<br>Pullback set label: 11<br>Partial cluster label: -1<br>Node size: 1<br>Summary statistic: 12.0",
          "Node ID: 8<br>Pullback set label: 12<br>Partial cluster label: -1<br>Node size: 2<br>Summary statistic: 16.5",
          "Node ID: 9<br>Pullback set label: 20<br>Partial cluster label: -1<br>Node size: 2<br>Summary statistic: 80.0",
          "Node ID: 10<br>Pullback set label: 21<br>Partial cluster label: 0<br>Node size: 7<br>Summary statistic: 91.1",
          "Node ID: 11<br>Pullback set label: 44<br>Partial cluster label: 0<br>Node size: 22<br>Summary statistic: 106.0",
          "Node ID: 12<br>Pullback set label: 56<br>Partial cluster label: 0<br>Node size: 10<br>Summary statistic: 109.0",
          "Node ID: 13<br>Pullback set label: 3<br>Partial cluster label: -1<br>Node size: 3<br>Summary statistic: 71.0",
          "Node ID: 14<br>Pullback set label: 4<br>Partial cluster label: -1<br>Node size: 1<br>Summary statistic: 21.0",
          "Node ID: 15<br>Pullback set label: 14<br>Partial cluster label: -1<br>Node size: 2<br>Summary statistic: 94.0",
          "Node ID: 16<br>Pullback set label: 16<br>Partial cluster label: -1<br>Node size: 2<br>Summary statistic: 84.5",
          "Node ID: 17<br>Pullback set label: 19<br>Partial cluster label: -1<br>Node size: 3<br>Summary statistic: 103.0",
          "Node ID: 18<br>Pullback set label: 2<br>Partial cluster label: -1<br>Node size: 3<br>Summary statistic: 74.3",
          "Node ID: 19<br>Pullback set label: 10<br>Partial cluster label: -1<br>Node size: 2<br>Summary statistic: 96.0",
          "Node ID: 20<br>Pullback set label: 1<br>Partial cluster label: -1<br>Node size: 1<br>Summary statistic: 31.0",
          "Node ID: 21<br>Pullback set label: 35<br>Partial cluster label: 0<br>Node size: 18<br>Summary statistic: 115.0",
          "Node ID: 22<br>Pullback set label: 47<br>Partial cluster label: 0<br>Node size: 8<br>Summary statistic: 115.0",
          "Node ID: 23<br>Pullback set label: 42<br>Partial cluster label: 0<br>Node size: 7<br>Summary statistic: 143.0",
          "Node ID: 24<br>Pullback set label: 43<br>Partial cluster label: 0<br>Node size: 6<br>Summary statistic: 109.0",
          "Node ID: 25<br>Pullback set label: 45<br>Partial cluster label: 0<br>Node size: 5<br>Summary statistic: 104.0",
          "Node ID: 26<br>Pullback set label: 51<br>Partial cluster label: -1<br>Node size: 2<br>Summary statistic: 99.5",
          "Node ID: 27<br>Pullback set label: 22<br>Partial cluster label: -1<br>Node size: 2<br>Summary statistic: 120.0",
          "Node ID: 28<br>Pullback set label: 34<br>Partial cluster label: -1<br>Node size: 4<br>Summary statistic: 99.8",
          "Node ID: 29<br>Pullback set label: 37<br>Partial cluster label: 0<br>Node size: 5<br>Summary statistic: 109.0",
          "Node ID: 30<br>Pullback set label: 38<br>Partial cluster label: 0<br>Node size: 5<br>Summary statistic: 115.0",
          "Node ID: 31<br>Pullback set label: 48<br>Partial cluster label: -1<br>Node size: 1<br>Summary statistic: 88.0",
          "Node ID: 32<br>Pullback set label: 0<br>Partial cluster label: -1<br>Node size: 1<br>Summary statistic: 89.0",
          "Node ID: 33<br>Pullback set label: 7<br>Partial cluster label: 0<br>Node size: 6<br>Summary statistic: 138.0",
          "Node ID: 34<br>Pullback set label: 8<br>Partial cluster label: -1<br>Node size: 4<br>Summary statistic: 136.0",
          "Node ID: 35<br>Pullback set label: 17<br>Partial cluster label: -1<br>Node size: 4<br>Summary statistic: 143.0",
          "Node ID: 36<br>Pullback set label: 18<br>Partial cluster label: -1<br>Node size: 3<br>Summary statistic: 155.0",
          "Node ID: 37<br>Pullback set label: 27<br>Partial cluster label: -1<br>Node size: 1<br>Summary statistic: 91.0",
          "Node ID: 38<br>Pullback set label: 57<br>Partial cluster label: -1<br>Node size: 3<br>Summary statistic: 117.0",
          "Node ID: 39<br>Pullback set label: 55<br>Partial cluster label: -1<br>Node size: 3<br>Summary statistic: 115.0",
          "Node ID: 40<br>Pullback set label: 23<br>Partial cluster label: -1<br>Node size: 3<br>Summary statistic: 129.0",
          "Node ID: 41<br>Pullback set label: 5<br>Partial cluster label: -1<br>Node size: 1<br>Summary statistic: 105.0",
          "Node ID: 42<br>Pullback set label: 9<br>Partial cluster label: -1<br>Node size: 1<br>Summary statistic: 106.0",
          "Node ID: 43<br>Pullback set label: 36<br>Partial cluster label: -1<br>Node size: 3<br>Summary statistic: 123.0",
          "Node ID: 44<br>Pullback set label: 26<br>Partial cluster label: -1<br>Node size: 1<br>Summary statistic: 119.0",
          "Node ID: 45<br>Pullback set label: 25<br>Partial cluster label: -1<br>Node size: 1<br>Summary statistic: 121.0",
          "Node ID: 46<br>Pullback set label: 30<br>Partial cluster label: -1<br>Node size: 2<br>Summary statistic: 138.0",
          "Node ID: 47<br>Pullback set label: 41<br>Partial cluster label: -1<br>Node size: 3<br>Summary statistic: 158.0",
          "Node ID: 48<br>Pullback set label: 46<br>Partial cluster label: -1<br>Node size: 2<br>Summary statistic: 156.0",
          "Node ID: 49<br>Pullback set label: 33<br>Partial cluster label: -1<br>Node size: 1<br>Summary statistic: 140.0",
          "Node ID: 50<br>Pullback set label: 15<br>Partial cluster label: -1<br>Node size: 1<br>Summary statistic: 148.0",
          "Node ID: 51<br>Pullback set label: 29<br>Partial cluster label: -1<br>Node size: 1<br>Summary statistic: 156.0",
          "Node ID: 52<br>Pullback set label: 31<br>Partial cluster label: -1<br>Node size: 2<br>Summary statistic: 172.0",
          "Node ID: 53<br>Pullback set label: 6<br>Partial cluster label: -1<br>Node size: 1<br>Summary statistic: 167.0",
          "Node ID: 54<br>Pullback set label: 28<br>Partial cluster label: -1<br>Node size: 1<br>Summary statistic: 174.0",
          "Node ID: 55<br>Pullback set label: 24<br>Partial cluster label: -1<br>Node size: 2<br>Summary statistic: 188.0",
          "Node ID: 56<br>Pullback set label: 32<br>Partial cluster label: -1<br>Node size: 1<br>Summary statistic: 187.0",
          "Node ID: 57<br>Pullback set label: 13<br>Partial cluster label: -1<br>Node size: 1<br>Summary statistic: 191.0"
         ],
         "marker": {
          "color": [
           33,
           32.9,
           57.6,
           79.70270270270271,
           91.23711340206185,
           118.8125,
           103.36842105263158,
           12,
           16.5,
           80,
           91.14285714285714,
           106.4090909090909,
           109.1,
           71,
           21,
           94,
           84.5,
           103,
           74.33333333333333,
           96,
           31,
           114.66666666666667,
           115.375,
           142.71428571428572,
           108.66666666666667,
           104.4,
           99.5,
           120,
           99.75,
           108.6,
           115.4,
           88,
           89,
           138.33333333333334,
           135.75,
           142.75,
           155,
           91,
           117,
           115,
           129.33333333333334,
           105,
           106,
           123,
           119,
           121,
           138.5,
           157.66666666666666,
           156.5,
           140,
           148,
           156,
           171.5,
           167,
           174,
           187.5,
           187,
           191
          ],
          "colorbar": {
           "thickness": 15,
           "title": {
            "side": "right",
            "text": ""
           },
           "xanchor": "left"
          },
          "colorscale": [
           [
            0,
            "#440154"
           ],
           [
            0.1111111111111111,
            "#482878"
           ],
           [
            0.2222222222222222,
            "#3e4989"
           ],
           [
            0.3333333333333333,
            "#31688e"
           ],
           [
            0.4444444444444444,
            "#26828e"
           ],
           [
            0.5555555555555556,
            "#1f9e89"
           ],
           [
            0.6666666666666666,
            "#35b779"
           ],
           [
            0.7777777777777778,
            "#6ece58"
           ],
           [
            0.8888888888888888,
            "#b5de2b"
           ],
           [
            1,
            "#fde725"
           ]
          ],
          "line": {
           "color": "#888",
           "width": 1
          },
          "opacity": 1,
          "reversescale": false,
          "showscale": true,
          "size": [
           8,
           10,
           10,
           37,
           97,
           32,
           19,
           1,
           2,
           2,
           7,
           22,
           10,
           3,
           1,
           2,
           2,
           3,
           3,
           2,
           1,
           18,
           8,
           7,
           6,
           5,
           2,
           2,
           4,
           5,
           5,
           1,
           1,
           6,
           4,
           4,
           3,
           1,
           3,
           3,
           3,
           1,
           1,
           3,
           1,
           1,
           2,
           3,
           2,
           1,
           1,
           1,
           2,
           1,
           1,
           2,
           1,
           1
          ],
          "sizemin": 4,
          "sizemode": "area",
          "sizeref": 1.3472222222222223
         },
         "mode": "markers",
         "name": "node_trace",
         "type": "scatter",
         "uid": "43059bae-2d5d-49c1-be97-0763127635d7",
         "x": [
          -1.3700955089886655,
          -1.0303905654948942,
          -0.7760146956183,
          -0.0935745738451904,
          -0.07654638301176107,
          0.23113033542334496,
          0.7037756173196205,
          -1.5660839039745285,
          -0.3957140284439695,
          -1.409829468440108,
          -0.4916733645039927,
          1.2561779866271408,
          0.4219354234762082,
          0.43151999123927537,
          -0.276270117023146,
          0.2839288771107568,
          -0.6677355348634821,
          0.7406626169651538,
          1.140820104810588,
          0.6810988255963806,
          1.0704595330237061,
          -0.37287191159313865,
          -1.2171988096991457,
          1.548676541619208,
          1.1505203682973943,
          0.875592116529096,
          -0.8103211029002458,
          0.0755814035853616,
          -0.7807436758710005,
          -0.31280092631711043,
          -0.2020250808506626,
          -2.2226297928927408,
          -4.9698743323245855,
          -6.636055401907971,
          -7.177513008282543,
          -7.087235943418547,
          -6.665387324888094,
          -1.3398338218699237,
          0.9883054825982478,
          -0.025833556048279957,
          1.4936967486327772,
          -6.465772650988593,
          -6.868194938672684,
          0.07558708400508674,
          0.6168280724454207,
          2.064150478896882,
          1.6012295747603227,
          2.149464915203275,
          2.4165362615541697,
          -1.3947948819449782,
          -1.8358270243613086,
          2.3469086998969,
          2.021965016272897,
          1.4830153203031353,
          0.8084838758636362,
          -7.626492897556172,
          2.4687213683802516,
          -7.634578997642169
         ],
         "y": [
          -2.3219231370455513,
          -1.419586017712722,
          -2.6711367408251867,
          -1.9611528967582457,
          -1.269630360960372,
          -0.7870838043072458,
          -1.663961580585759,
          1.7477043997153623,
          1.913431483810209,
          2.304908671245129,
          1.2453635111369576,
          -1.3134633602771375,
          -2.1914460115589414,
          2.161313746526805,
          2.460445190524692,
          2.443602401888272,
          2.2040522695664584,
          1.8019034373392453,
          3.1201345042533757,
          3.1213230274117443,
          4.331280799146093,
          0.2796455647499203,
          -0.5541918697721577,
          -0.6407164104352648,
          -0.06894483815334901,
          -1.221804018559211,
          -1.0397176504276617,
          0.4659723158018001,
          -0.10334678810436163,
          -0.13408982515062748,
          -2.587194997079942,
          -1.891058200961671,
          -5.386874224567016,
          0.8405456758178094,
          1.758647439932091,
          0.36398888856493816,
          1.3947448516393763,
          0.6570108835114777,
          -2.0585319994616507,
          -3.3499797232359776,
          2.088170018838485,
          2.33277404224511,
          -0.4787663738624761,
          -1.0942986095287277,
          -2.703772703342856,
          1.7012759579916676,
          0.843304884105474,
          -1.8709024790948101,
          -1.4126595071250678,
          -0.7581054814279549,
          1.704323645773639,
          0.30151177420813974,
          -0.2045326480593192,
          2.7670338833380743,
          0.1421991329184229,
          0.6771665182048987,
          -1.0177999310374624,
          1.2975030296440888
         ]
        }
       ],
       "layout": {
        "autosize": false,
        "height": 360,
        "hovermode": "closest",
        "margin": {
         "b": 20,
         "l": 5,
         "r": 5,
         "t": 40
        },
        "showlegend": false,
        "template": {
         "data": {
          "bar": [
           {
            "error_x": {
             "color": "rgb(36,36,36)"
            },
            "error_y": {
             "color": "rgb(36,36,36)"
            },
            "marker": {
             "line": {
              "color": "white",
              "width": 0.5
             },
             "pattern": {
              "fillmode": "overlay",
              "size": 10,
              "solidity": 0.2
             }
            },
            "type": "bar"
           }
          ],
          "barpolar": [
           {
            "marker": {
             "line": {
              "color": "white",
              "width": 0.5
             },
             "pattern": {
              "fillmode": "overlay",
              "size": 10,
              "solidity": 0.2
             }
            },
            "type": "barpolar"
           }
          ],
          "carpet": [
           {
            "aaxis": {
             "endlinecolor": "rgb(36,36,36)",
             "gridcolor": "white",
             "linecolor": "white",
             "minorgridcolor": "white",
             "startlinecolor": "rgb(36,36,36)"
            },
            "baxis": {
             "endlinecolor": "rgb(36,36,36)",
             "gridcolor": "white",
             "linecolor": "white",
             "minorgridcolor": "white",
             "startlinecolor": "rgb(36,36,36)"
            },
            "type": "carpet"
           }
          ],
          "choropleth": [
           {
            "colorbar": {
             "outlinewidth": 1,
             "tickcolor": "rgb(36,36,36)",
             "ticks": "outside"
            },
            "type": "choropleth"
           }
          ],
          "contour": [
           {
            "colorbar": {
             "outlinewidth": 1,
             "tickcolor": "rgb(36,36,36)",
             "ticks": "outside"
            },
            "colorscale": [
             [
              0,
              "#440154"
             ],
             [
              0.1111111111111111,
              "#482878"
             ],
             [
              0.2222222222222222,
              "#3e4989"
             ],
             [
              0.3333333333333333,
              "#31688e"
             ],
             [
              0.4444444444444444,
              "#26828e"
             ],
             [
              0.5555555555555556,
              "#1f9e89"
             ],
             [
              0.6666666666666666,
              "#35b779"
             ],
             [
              0.7777777777777778,
              "#6ece58"
             ],
             [
              0.8888888888888888,
              "#b5de2b"
             ],
             [
              1,
              "#fde725"
             ]
            ],
            "type": "contour"
           }
          ],
          "contourcarpet": [
           {
            "colorbar": {
             "outlinewidth": 1,
             "tickcolor": "rgb(36,36,36)",
             "ticks": "outside"
            },
            "type": "contourcarpet"
           }
          ],
          "heatmap": [
           {
            "colorbar": {
             "outlinewidth": 1,
             "tickcolor": "rgb(36,36,36)",
             "ticks": "outside"
            },
            "colorscale": [
             [
              0,
              "#440154"
             ],
             [
              0.1111111111111111,
              "#482878"
             ],
             [
              0.2222222222222222,
              "#3e4989"
             ],
             [
              0.3333333333333333,
              "#31688e"
             ],
             [
              0.4444444444444444,
              "#26828e"
             ],
             [
              0.5555555555555556,
              "#1f9e89"
             ],
             [
              0.6666666666666666,
              "#35b779"
             ],
             [
              0.7777777777777778,
              "#6ece58"
             ],
             [
              0.8888888888888888,
              "#b5de2b"
             ],
             [
              1,
              "#fde725"
             ]
            ],
            "type": "heatmap"
           }
          ],
          "heatmapgl": [
           {
            "colorbar": {
             "outlinewidth": 1,
             "tickcolor": "rgb(36,36,36)",
             "ticks": "outside"
            },
            "colorscale": [
             [
              0,
              "#440154"
             ],
             [
              0.1111111111111111,
              "#482878"
             ],
             [
              0.2222222222222222,
              "#3e4989"
             ],
             [
              0.3333333333333333,
              "#31688e"
             ],
             [
              0.4444444444444444,
              "#26828e"
             ],
             [
              0.5555555555555556,
              "#1f9e89"
             ],
             [
              0.6666666666666666,
              "#35b779"
             ],
             [
              0.7777777777777778,
              "#6ece58"
             ],
             [
              0.8888888888888888,
              "#b5de2b"
             ],
             [
              1,
              "#fde725"
             ]
            ],
            "type": "heatmapgl"
           }
          ],
          "histogram": [
           {
            "marker": {
             "line": {
              "color": "white",
              "width": 0.6
             }
            },
            "type": "histogram"
           }
          ],
          "histogram2d": [
           {
            "colorbar": {
             "outlinewidth": 1,
             "tickcolor": "rgb(36,36,36)",
             "ticks": "outside"
            },
            "colorscale": [
             [
              0,
              "#440154"
             ],
             [
              0.1111111111111111,
              "#482878"
             ],
             [
              0.2222222222222222,
              "#3e4989"
             ],
             [
              0.3333333333333333,
              "#31688e"
             ],
             [
              0.4444444444444444,
              "#26828e"
             ],
             [
              0.5555555555555556,
              "#1f9e89"
             ],
             [
              0.6666666666666666,
              "#35b779"
             ],
             [
              0.7777777777777778,
              "#6ece58"
             ],
             [
              0.8888888888888888,
              "#b5de2b"
             ],
             [
              1,
              "#fde725"
             ]
            ],
            "type": "histogram2d"
           }
          ],
          "histogram2dcontour": [
           {
            "colorbar": {
             "outlinewidth": 1,
             "tickcolor": "rgb(36,36,36)",
             "ticks": "outside"
            },
            "colorscale": [
             [
              0,
              "#440154"
             ],
             [
              0.1111111111111111,
              "#482878"
             ],
             [
              0.2222222222222222,
              "#3e4989"
             ],
             [
              0.3333333333333333,
              "#31688e"
             ],
             [
              0.4444444444444444,
              "#26828e"
             ],
             [
              0.5555555555555556,
              "#1f9e89"
             ],
             [
              0.6666666666666666,
              "#35b779"
             ],
             [
              0.7777777777777778,
              "#6ece58"
             ],
             [
              0.8888888888888888,
              "#b5de2b"
             ],
             [
              1,
              "#fde725"
             ]
            ],
            "type": "histogram2dcontour"
           }
          ],
          "mesh3d": [
           {
            "colorbar": {
             "outlinewidth": 1,
             "tickcolor": "rgb(36,36,36)",
             "ticks": "outside"
            },
            "type": "mesh3d"
           }
          ],
          "parcoords": [
           {
            "line": {
             "colorbar": {
              "outlinewidth": 1,
              "tickcolor": "rgb(36,36,36)",
              "ticks": "outside"
             }
            },
            "type": "parcoords"
           }
          ],
          "pie": [
           {
            "automargin": true,
            "type": "pie"
           }
          ],
          "scatter": [
           {
            "fillpattern": {
             "fillmode": "overlay",
             "size": 10,
             "solidity": 0.2
            },
            "type": "scatter"
           }
          ],
          "scatter3d": [
           {
            "line": {
             "colorbar": {
              "outlinewidth": 1,
              "tickcolor": "rgb(36,36,36)",
              "ticks": "outside"
             }
            },
            "marker": {
             "colorbar": {
              "outlinewidth": 1,
              "tickcolor": "rgb(36,36,36)",
              "ticks": "outside"
             }
            },
            "type": "scatter3d"
           }
          ],
          "scattercarpet": [
           {
            "marker": {
             "colorbar": {
              "outlinewidth": 1,
              "tickcolor": "rgb(36,36,36)",
              "ticks": "outside"
             }
            },
            "type": "scattercarpet"
           }
          ],
          "scattergeo": [
           {
            "marker": {
             "colorbar": {
              "outlinewidth": 1,
              "tickcolor": "rgb(36,36,36)",
              "ticks": "outside"
             }
            },
            "type": "scattergeo"
           }
          ],
          "scattergl": [
           {
            "marker": {
             "colorbar": {
              "outlinewidth": 1,
              "tickcolor": "rgb(36,36,36)",
              "ticks": "outside"
             }
            },
            "type": "scattergl"
           }
          ],
          "scattermapbox": [
           {
            "marker": {
             "colorbar": {
              "outlinewidth": 1,
              "tickcolor": "rgb(36,36,36)",
              "ticks": "outside"
             }
            },
            "type": "scattermapbox"
           }
          ],
          "scatterpolar": [
           {
            "marker": {
             "colorbar": {
              "outlinewidth": 1,
              "tickcolor": "rgb(36,36,36)",
              "ticks": "outside"
             }
            },
            "type": "scatterpolar"
           }
          ],
          "scatterpolargl": [
           {
            "marker": {
             "colorbar": {
              "outlinewidth": 1,
              "tickcolor": "rgb(36,36,36)",
              "ticks": "outside"
             }
            },
            "type": "scatterpolargl"
           }
          ],
          "scatterternary": [
           {
            "marker": {
             "colorbar": {
              "outlinewidth": 1,
              "tickcolor": "rgb(36,36,36)",
              "ticks": "outside"
             }
            },
            "type": "scatterternary"
           }
          ],
          "surface": [
           {
            "colorbar": {
             "outlinewidth": 1,
             "tickcolor": "rgb(36,36,36)",
             "ticks": "outside"
            },
            "colorscale": [
             [
              0,
              "#440154"
             ],
             [
              0.1111111111111111,
              "#482878"
             ],
             [
              0.2222222222222222,
              "#3e4989"
             ],
             [
              0.3333333333333333,
              "#31688e"
             ],
             [
              0.4444444444444444,
              "#26828e"
             ],
             [
              0.5555555555555556,
              "#1f9e89"
             ],
             [
              0.6666666666666666,
              "#35b779"
             ],
             [
              0.7777777777777778,
              "#6ece58"
             ],
             [
              0.8888888888888888,
              "#b5de2b"
             ],
             [
              1,
              "#fde725"
             ]
            ],
            "type": "surface"
           }
          ],
          "table": [
           {
            "cells": {
             "fill": {
              "color": "rgb(237,237,237)"
             },
             "line": {
              "color": "white"
             }
            },
            "header": {
             "fill": {
              "color": "rgb(217,217,217)"
             },
             "line": {
              "color": "white"
             }
            },
            "type": "table"
           }
          ]
         },
         "layout": {
          "annotationdefaults": {
           "arrowhead": 0,
           "arrowwidth": 1
          },
          "autotypenumbers": "strict",
          "coloraxis": {
           "colorbar": {
            "outlinewidth": 1,
            "tickcolor": "rgb(36,36,36)",
            "ticks": "outside"
           }
          },
          "colorscale": {
           "diverging": [
            [
             0,
             "rgb(103,0,31)"
            ],
            [
             0.1,
             "rgb(178,24,43)"
            ],
            [
             0.2,
             "rgb(214,96,77)"
            ],
            [
             0.3,
             "rgb(244,165,130)"
            ],
            [
             0.4,
             "rgb(253,219,199)"
            ],
            [
             0.5,
             "rgb(247,247,247)"
            ],
            [
             0.6,
             "rgb(209,229,240)"
            ],
            [
             0.7,
             "rgb(146,197,222)"
            ],
            [
             0.8,
             "rgb(67,147,195)"
            ],
            [
             0.9,
             "rgb(33,102,172)"
            ],
            [
             1,
             "rgb(5,48,97)"
            ]
           ],
           "sequential": [
            [
             0,
             "#440154"
            ],
            [
             0.1111111111111111,
             "#482878"
            ],
            [
             0.2222222222222222,
             "#3e4989"
            ],
            [
             0.3333333333333333,
             "#31688e"
            ],
            [
             0.4444444444444444,
             "#26828e"
            ],
            [
             0.5555555555555556,
             "#1f9e89"
            ],
            [
             0.6666666666666666,
             "#35b779"
            ],
            [
             0.7777777777777778,
             "#6ece58"
            ],
            [
             0.8888888888888888,
             "#b5de2b"
            ],
            [
             1,
             "#fde725"
            ]
           ],
           "sequentialminus": [
            [
             0,
             "#440154"
            ],
            [
             0.1111111111111111,
             "#482878"
            ],
            [
             0.2222222222222222,
             "#3e4989"
            ],
            [
             0.3333333333333333,
             "#31688e"
            ],
            [
             0.4444444444444444,
             "#26828e"
            ],
            [
             0.5555555555555556,
             "#1f9e89"
            ],
            [
             0.6666666666666666,
             "#35b779"
            ],
            [
             0.7777777777777778,
             "#6ece58"
            ],
            [
             0.8888888888888888,
             "#b5de2b"
            ],
            [
             1,
             "#fde725"
            ]
           ]
          },
          "colorway": [
           "#1F77B4",
           "#FF7F0E",
           "#2CA02C",
           "#D62728",
           "#9467BD",
           "#8C564B",
           "#E377C2",
           "#7F7F7F",
           "#BCBD22",
           "#17BECF"
          ],
          "font": {
           "color": "rgb(36,36,36)"
          },
          "geo": {
           "bgcolor": "white",
           "lakecolor": "white",
           "landcolor": "white",
           "showlakes": true,
           "showland": true,
           "subunitcolor": "white"
          },
          "hoverlabel": {
           "align": "left"
          },
          "hovermode": "closest",
          "mapbox": {
           "style": "light"
          },
          "paper_bgcolor": "white",
          "plot_bgcolor": "white",
          "polar": {
           "angularaxis": {
            "gridcolor": "rgb(232,232,232)",
            "linecolor": "rgb(36,36,36)",
            "showgrid": false,
            "showline": true,
            "ticks": "outside"
           },
           "bgcolor": "white",
           "radialaxis": {
            "gridcolor": "rgb(232,232,232)",
            "linecolor": "rgb(36,36,36)",
            "showgrid": false,
            "showline": true,
            "ticks": "outside"
           }
          },
          "scene": {
           "xaxis": {
            "backgroundcolor": "white",
            "gridcolor": "rgb(232,232,232)",
            "gridwidth": 2,
            "linecolor": "rgb(36,36,36)",
            "showbackground": true,
            "showgrid": false,
            "showline": true,
            "ticks": "outside",
            "zeroline": false,
            "zerolinecolor": "rgb(36,36,36)"
           },
           "yaxis": {
            "backgroundcolor": "white",
            "gridcolor": "rgb(232,232,232)",
            "gridwidth": 2,
            "linecolor": "rgb(36,36,36)",
            "showbackground": true,
            "showgrid": false,
            "showline": true,
            "ticks": "outside",
            "zeroline": false,
            "zerolinecolor": "rgb(36,36,36)"
           },
           "zaxis": {
            "backgroundcolor": "white",
            "gridcolor": "rgb(232,232,232)",
            "gridwidth": 2,
            "linecolor": "rgb(36,36,36)",
            "showbackground": true,
            "showgrid": false,
            "showline": true,
            "ticks": "outside",
            "zeroline": false,
            "zerolinecolor": "rgb(36,36,36)"
           }
          },
          "shapedefaults": {
           "fillcolor": "black",
           "line": {
            "width": 0
           },
           "opacity": 0.3
          },
          "ternary": {
           "aaxis": {
            "gridcolor": "rgb(232,232,232)",
            "linecolor": "rgb(36,36,36)",
            "showgrid": false,
            "showline": true,
            "ticks": "outside"
           },
           "baxis": {
            "gridcolor": "rgb(232,232,232)",
            "linecolor": "rgb(36,36,36)",
            "showgrid": false,
            "showline": true,
            "ticks": "outside"
           },
           "bgcolor": "white",
           "caxis": {
            "gridcolor": "rgb(232,232,232)",
            "linecolor": "rgb(36,36,36)",
            "showgrid": false,
            "showline": true,
            "ticks": "outside"
           }
          },
          "title": {
           "x": 0.05
          },
          "xaxis": {
           "automargin": true,
           "gridcolor": "rgb(232,232,232)",
           "linecolor": "rgb(36,36,36)",
           "showgrid": false,
           "showline": true,
           "ticks": "outside",
           "title": {
            "standoff": 15
           },
           "zeroline": false,
           "zerolinecolor": "rgb(36,36,36)"
          },
          "yaxis": {
           "automargin": true,
           "gridcolor": "rgb(232,232,232)",
           "linecolor": "rgb(36,36,36)",
           "showgrid": false,
           "showline": true,
           "ticks": "outside",
           "title": {
            "standoff": 15
           },
           "zeroline": false,
           "zerolinecolor": "rgb(36,36,36)"
          }
         }
        },
        "title": {
         "text": ""
        },
        "width": 700,
        "xaxis": {
         "autorange": true,
         "range": [
          -8.259584525392706,
          3.0937268961307876
         ],
         "showgrid": false,
         "showline": false,
         "showticklabels": false,
         "ticks": "",
         "title": {
          "text": ""
         },
         "type": "linear",
         "zeroline": false
        },
        "yaxis": {
         "autorange": true,
         "range": [
          -6.0538064320767395,
          4.998213006655816
         ],
         "showgrid": false,
         "showline": false,
         "showticklabels": false,
         "ticks": "",
         "title": {
          "text": ""
         },
         "type": "linear",
         "zeroline": false
        }
       }
      },
      "image/png": "[encoded data removed]",
      "text/html": [
       "<div>                            <div id=\"1f8f7dcf-24c4-417f-b8ba-e7d89e5de450\" class=\"plotly-graph-div\" style=\"height:525px; width:100%;\"></div>            <script type=\"text/javascript\">                require([\"plotly\"], function(Plotly) {                    window.PLOTLYENV=window.PLOTLYENV || {};                                    if (document.getElementById(\"1f8f7dcf-24c4-417f-b8ba-e7d89e5de450\")) {                    Plotly.newPlot(                        \"1f8f7dcf-24c4-417f-b8ba-e7d89e5de450\",                        [{\"hoverinfo\":\"none\",\"line\":{\"color\":\"#888\",\"width\":1},\"mode\":\"lines\",\"name\":\"edge_trace\",\"x\":[-1.3700955089886655,-1.0303905654948942,null,-1.3700955089886655,-0.7760146956183,null,-1.3700955089886655,-0.0935745738451904,null,-1.3700955089886655,-2.2226297928927408,null,-1.0303905654948942,-0.7760146956183,null,-1.0303905654948942,-0.0935745738451904,null,-1.0303905654948942,-0.07654638301176107,null,-1.0303905654948942,-0.8103211029002458,null,-1.0303905654948942,-0.7807436758710005,null,-1.0303905654948942,-0.31280092631711043,null,-1.0303905654948942,-2.2226297928927408,null,-1.0303905654948942,0.07558708400508674,null,-1.0303905654948942,-1.3947948819449782,null,-0.7760146956183,-0.0935745738451904,null,-0.7760146956183,0.4219354234762082,null,-0.7760146956183,-0.025833556048279957,null,-0.0935745738451904,-0.07654638301176107,null,-0.0935745738451904,0.23113033542334496,null,-0.0935745738451904,0.7037756173196205,null,-0.0935745738451904,1.2561779866271408,null,-0.0935745738451904,0.4219354234762082,null,-0.0935745738451904,0.875592116529096,null,-0.0935745738451904,-0.8103211029002458,null,-0.0935745738451904,0.9883054825982478,null,-0.0935745738451904,-0.025833556048279957,null,-0.07654638301176107,0.23113033542334496,null,-0.07654638301176107,0.7037756173196205,null,-0.07654638301176107,1.2561779866271408,null,-0.07654638301176107,0.4219354234762082,null,-0.07654638301176107,-0.37287191159313865,null,-0.07654638301176107,-1.2171988096991457,null,-0.07654638301176107,0.875592116529096,null,-0.07654638301176107,-0.8103211029002458,null,-0.07654638301176107,0.9883054825982478,null,0.23113033542334496,0.7037756173196205,null,0.23113033542334496,1.2561779866271408,null,0.23113033542334496,0.4219354234762082,null,0.23113033542334496,-0.37287191159313865,null,0.23113033542334496,-1.2171988096991457,null,0.23113033542334496,0.875592116529096,null,0.23113033542334496,0.0755814035853616,null,0.23113033542334496,-0.7807436758710005,null,0.23113033542334496,-0.31280092631711043,null,0.23113033542334496,0.9883054825982478,null,0.23113033542334496,0.8084838758636362,null,0.7037756173196205,1.2561779866271408,null,0.7037756173196205,0.4219354234762082,null,0.7037756173196205,1.548676541619208,null,0.7037756173196205,0.875592116529096,null,0.7037756173196205,-0.2020250808506626,null,0.7037756173196205,0.9883054825982478,null,0.7037756173196205,0.07558708400508674,null,0.7037756173196205,0.6168280724454207,null,-1.5660839039745285,-0.3957140284439695,null,-1.5660839039745285,-1.409829468440108,null,-1.5660839039745285,-0.4916733645039927,null,-0.3957140284439695,-1.409829468440108,null,-0.3957140284439695,-0.4916733645039927,null,-0.3957140284439695,0.43151999123927537,null,-0.3957140284439695,-0.276270117023146,null,-0.3957140284439695,0.2839288771107568,null,-0.3957140284439695,-0.6677355348634821,null,-0.3957140284439695,0.7406626169651538,null,-1.409829468440108,-0.4916733645039927,null,-1.409829468440108,-0.6677355348634821,null,-1.409829468440108,-1.8358270243613086,null,-0.4916733645039927,0.43151999123927537,null,-0.4916733645039927,-0.276270117023146,null,-0.4916733645039927,0.2839288771107568,null,-0.4916733645039927,-0.6677355348634821,null,-0.4916733645039927,0.7406626169651538,null,-0.4916733645039927,-0.37287191159313865,null,-0.4916733645039927,0.0755814035853616,null,-0.4916733645039927,-0.7807436758710005,null,-0.4916733645039927,-0.31280092631711043,null,-0.4916733645039927,-1.3398338218699237,null,-0.4916733645039927,-1.8358270243613086,null,1.2561779866271408,0.4219354234762082,null,1.2561779866271408,1.548676541619208,null,1.2561779866271408,1.1505203682973943,null,1.2561779866271408,0.875592116529096,null,1.2561779866271408,0.9883054825982478,null,1.2561779866271408,0.07558708400508674,null,1.2561779866271408,2.149464915203275,null,1.2561779866271408,2.4165362615541697,null,1.2561779866271408,2.021965016272897,null,1.2561779866271408,2.4687213683802516,null,0.4219354234762082,0.875592116529096,null,0.4219354234762082,0.9883054825982478,null,0.4219354234762082,-0.025833556048279957,null,0.43151999123927537,-0.276270117023146,null,0.43151999123927537,0.2839288771107568,null,0.43151999123927537,-0.6677355348634821,null,0.43151999123927537,0.7406626169651538,null,0.43151999123927537,1.140820104810588,null,0.43151999123927537,0.6810988255963806,null,0.43151999123927537,1.4936967486327772,null,0.43151999123927537,1.4830153203031353,null,-0.276270117023146,0.2839288771107568,null,-0.276270117023146,-0.6677355348634821,null,-0.276270117023146,0.7406626169651538,null,0.2839288771107568,-0.6677355348634821,null,0.2839288771107568,0.7406626169651538,null,0.2839288771107568,1.140820104810588,null,0.2839288771107568,0.6810988255963806,null,0.2839288771107568,1.4936967486327772,null,0.2839288771107568,1.4830153203031353,null,-0.6677355348634821,0.7406626169651538,null,-0.6677355348634821,-1.8358270243613086,null,0.7406626169651538,1.140820104810588,null,0.7406626169651538,0.6810988255963806,null,0.7406626169651538,1.4936967486327772,null,0.7406626169651538,2.064150478896882,null,0.7406626169651538,1.6012295747603227,null,0.7406626169651538,1.4830153203031353,null,1.140820104810588,0.6810988255963806,null,1.140820104810588,1.0704595330237061,null,1.140820104810588,1.4936967486327772,null,1.140820104810588,1.4830153203031353,null,0.6810988255963806,1.4936967486327772,null,0.6810988255963806,1.4830153203031353,null,-0.37287191159313865,-1.2171988096991457,null,-0.37287191159313865,0.0755814035853616,null,-0.37287191159313865,-0.7807436758710005,null,-0.37287191159313865,-0.31280092631711043,null,-0.37287191159313865,0.8084838758636362,null,1.548676541619208,1.1505203682973943,null,1.548676541619208,0.875592116529096,null,1.548676541619208,0.07558708400508674,null,1.548676541619208,1.6012295747603227,null,1.548676541619208,2.149464915203275,null,1.548676541619208,2.4165362615541697,null,1.548676541619208,2.3469086998969,null,1.548676541619208,2.021965016272897,null,1.548676541619208,2.4687213683802516,null,1.1505203682973943,0.875592116529096,null,1.1505203682973943,-0.31280092631711043,null,1.1505203682973943,1.6012295747603227,null,1.1505203682973943,2.3469086998969,null,1.1505203682973943,2.021965016272897,null,0.875592116529096,0.9883054825982478,null,-0.8103211029002458,-0.7807436758710005,null,-0.8103211029002458,-0.31280092631711043,null,-0.8103211029002458,0.07558708400508674,null,-0.8103211029002458,-1.3947948819449782,null,0.0755814035853616,-0.7807436758710005,null,0.0755814035853616,0.8084838758636362,null,-0.7807436758710005,-0.31280092631711043,null,-0.7807436758710005,-1.3398338218699237,null,-0.7807436758710005,0.07558708400508674,null,-0.7807436758710005,-1.3947948819449782,null,-0.31280092631711043,-1.3398338218699237,null,-0.31280092631711043,0.07558708400508674,null,-0.31280092631711043,-1.3947948819449782,null,-0.2020250808506626,0.07558708400508674,null,-0.2020250808506626,0.6168280724454207,null,-6.636055401907971,-7.177513008282543,null,-6.636055401907971,-7.087235943418547,null,-6.636055401907971,-6.665387324888094,null,-6.636055401907971,-6.465772650988593,null,-6.636055401907971,-6.868194938672684,null,-6.636055401907971,-7.626492897556172,null,-6.636055401907971,-7.634578997642169,null,-7.177513008282543,-7.087235943418547,null,-7.177513008282543,-6.665387324888094,null,-7.177513008282543,-6.465772650988593,null,-7.177513008282543,-7.626492897556172,null,-7.177513008282543,-7.634578997642169,null,-7.087235943418547,-6.665387324888094,null,-7.087235943418547,-6.868194938672684,null,-7.087235943418547,-7.626492897556172,null,-7.087235943418547,-7.634578997642169,null,-6.665387324888094,-7.626492897556172,null,-6.665387324888094,-7.634578997642169,null,1.4936967486327772,2.064150478896882,null,1.4936967486327772,1.6012295747603227,null,1.4936967486327772,1.4830153203031353,null,0.07558708400508674,0.6168280724454207,null,0.07558708400508674,-1.3947948819449782,null,2.064150478896882,1.6012295747603227,null,1.6012295747603227,2.3469086998969,null,1.6012295747603227,2.021965016272897,null,2.149464915203275,2.4165362615541697,null,2.3469086998969,2.021965016272897,null,2.021965016272897,2.4687213683802516,null,-7.626492897556172,-7.634578997642169,null],\"y\":[-2.3219231370455513,-1.419586017712722,null,-2.3219231370455513,-2.6711367408251867,null,-2.3219231370455513,-1.9611528967582457,null,-2.3219231370455513,-1.891058200961671,null,-1.419586017712722,-2.6711367408251867,null,-1.419586017712722,-1.9611528967582457,null,-1.419586017712722,-1.269630360960372,null,-1.419586017712722,-1.0397176504276617,null,-1.419586017712722,-0.10334678810436163,null,-1.419586017712722,-0.13408982515062748,null,-1.419586017712722,-1.891058200961671,null,-1.419586017712722,-1.0942986095287277,null,-1.419586017712722,-0.7581054814279549,null,-2.6711367408251867,-1.9611528967582457,null,-2.6711367408251867,-2.1914460115589414,null,-2.6711367408251867,-3.3499797232359776,null,-1.9611528967582457,-1.269630360960372,null,-1.9611528967582457,-0.7870838043072458,null,-1.9611528967582457,-1.663961580585759,null,-1.9611528967582457,-1.3134633602771375,null,-1.9611528967582457,-2.1914460115589414,null,-1.9611528967582457,-1.221804018559211,null,-1.9611528967582457,-1.0397176504276617,null,-1.9611528967582457,-2.0585319994616507,null,-1.9611528967582457,-3.3499797232359776,null,-1.269630360960372,-0.7870838043072458,null,-1.269630360960372,-1.663961580585759,null,-1.269630360960372,-1.3134633602771375,null,-1.269630360960372,-2.1914460115589414,null,-1.269630360960372,0.2796455647499203,null,-1.269630360960372,-0.5541918697721577,null,-1.269630360960372,-1.221804018559211,null,-1.269630360960372,-1.0397176504276617,null,-1.269630360960372,-2.0585319994616507,null,-0.7870838043072458,-1.663961580585759,null,-0.7870838043072458,-1.3134633602771375,null,-0.7870838043072458,-2.1914460115589414,null,-0.7870838043072458,0.2796455647499203,null,-0.7870838043072458,-0.5541918697721577,null,-0.7870838043072458,-1.221804018559211,null,-0.7870838043072458,0.4659723158018001,null,-0.7870838043072458,-0.10334678810436163,null,-0.7870838043072458,-0.13408982515062748,null,-0.7870838043072458,-2.0585319994616507,null,-0.7870838043072458,0.1421991329184229,null,-1.663961580585759,-1.3134633602771375,null,-1.663961580585759,-2.1914460115589414,null,-1.663961580585759,-0.6407164104352648,null,-1.663961580585759,-1.221804018559211,null,-1.663961580585759,-2.587194997079942,null,-1.663961580585759,-2.0585319994616507,null,-1.663961580585759,-1.0942986095287277,null,-1.663961580585759,-2.703772703342856,null,1.7477043997153623,1.913431483810209,null,1.7477043997153623,2.304908671245129,null,1.7477043997153623,1.2453635111369576,null,1.913431483810209,2.304908671245129,null,1.913431483810209,1.2453635111369576,null,1.913431483810209,2.161313746526805,null,1.913431483810209,2.460445190524692,null,1.913431483810209,2.443602401888272,null,1.913431483810209,2.2040522695664584,null,1.913431483810209,1.8019034373392453,null,2.304908671245129,1.2453635111369576,null,2.304908671245129,2.2040522695664584,null,2.304908671245129,1.704323645773639,null,1.2453635111369576,2.161313746526805,null,1.2453635111369576,2.460445190524692,null,1.2453635111369576,2.443602401888272,null,1.2453635111369576,2.2040522695664584,null,1.2453635111369576,1.8019034373392453,null,1.2453635111369576,0.2796455647499203,null,1.2453635111369576,0.4659723158018001,null,1.2453635111369576,-0.10334678810436163,null,1.2453635111369576,-0.13408982515062748,null,1.2453635111369576,0.6570108835114777,null,1.2453635111369576,1.704323645773639,null,-1.3134633602771375,-2.1914460115589414,null,-1.3134633602771375,-0.6407164104352648,null,-1.3134633602771375,-0.06894483815334901,null,-1.3134633602771375,-1.221804018559211,null,-1.3134633602771375,-2.0585319994616507,null,-1.3134633602771375,-1.0942986095287277,null,-1.3134633602771375,-1.8709024790948101,null,-1.3134633602771375,-1.4126595071250678,null,-1.3134633602771375,-0.2045326480593192,null,-1.3134633602771375,-1.0177999310374624,null,-2.1914460115589414,-1.221804018559211,null,-2.1914460115589414,-2.0585319994616507,null,-2.1914460115589414,-3.3499797232359776,null,2.161313746526805,2.460445190524692,null,2.161313746526805,2.443602401888272,null,2.161313746526805,2.2040522695664584,null,2.161313746526805,1.8019034373392453,null,2.161313746526805,3.1201345042533757,null,2.161313746526805,3.1213230274117443,null,2.161313746526805,2.088170018838485,null,2.161313746526805,2.7670338833380743,null,2.460445190524692,2.443602401888272,null,2.460445190524692,2.2040522695664584,null,2.460445190524692,1.8019034373392453,null,2.443602401888272,2.2040522695664584,null,2.443602401888272,1.8019034373392453,null,2.443602401888272,3.1201345042533757,null,2.443602401888272,3.1213230274117443,null,2.443602401888272,2.088170018838485,null,2.443602401888272,2.7670338833380743,null,2.2040522695664584,1.8019034373392453,null,2.2040522695664584,1.704323645773639,null,1.8019034373392453,3.1201345042533757,null,1.8019034373392453,3.1213230274117443,null,1.8019034373392453,2.088170018838485,null,1.8019034373392453,1.7012759579916676,null,1.8019034373392453,0.843304884105474,null,1.8019034373392453,2.7670338833380743,null,3.1201345042533757,3.1213230274117443,null,3.1201345042533757,4.331280799146093,null,3.1201345042533757,2.088170018838485,null,3.1201345042533757,2.7670338833380743,null,3.1213230274117443,2.088170018838485,null,3.1213230274117443,2.7670338833380743,null,0.2796455647499203,-0.5541918697721577,null,0.2796455647499203,0.4659723158018001,null,0.2796455647499203,-0.10334678810436163,null,0.2796455647499203,-0.13408982515062748,null,0.2796455647499203,0.1421991329184229,null,-0.6407164104352648,-0.06894483815334901,null,-0.6407164104352648,-1.221804018559211,null,-0.6407164104352648,-1.0942986095287277,null,-0.6407164104352648,0.843304884105474,null,-0.6407164104352648,-1.8709024790948101,null,-0.6407164104352648,-1.4126595071250678,null,-0.6407164104352648,0.30151177420813974,null,-0.6407164104352648,-0.2045326480593192,null,-0.6407164104352648,-1.0177999310374624,null,-0.06894483815334901,-1.221804018559211,null,-0.06894483815334901,-0.13408982515062748,null,-0.06894483815334901,0.843304884105474,null,-0.06894483815334901,0.30151177420813974,null,-0.06894483815334901,-0.2045326480593192,null,-1.221804018559211,-2.0585319994616507,null,-1.0397176504276617,-0.10334678810436163,null,-1.0397176504276617,-0.13408982515062748,null,-1.0397176504276617,-1.0942986095287277,null,-1.0397176504276617,-0.7581054814279549,null,0.4659723158018001,-0.10334678810436163,null,0.4659723158018001,0.1421991329184229,null,-0.10334678810436163,-0.13408982515062748,null,-0.10334678810436163,0.6570108835114777,null,-0.10334678810436163,-1.0942986095287277,null,-0.10334678810436163,-0.7581054814279549,null,-0.13408982515062748,0.6570108835114777,null,-0.13408982515062748,-1.0942986095287277,null,-0.13408982515062748,-0.7581054814279549,null,-2.587194997079942,-1.0942986095287277,null,-2.587194997079942,-2.703772703342856,null,0.8405456758178094,1.758647439932091,null,0.8405456758178094,0.36398888856493816,null,0.8405456758178094,1.3947448516393763,null,0.8405456758178094,2.33277404224511,null,0.8405456758178094,-0.4787663738624761,null,0.8405456758178094,0.6771665182048987,null,0.8405456758178094,1.2975030296440888,null,1.758647439932091,0.36398888856493816,null,1.758647439932091,1.3947448516393763,null,1.758647439932091,2.33277404224511,null,1.758647439932091,0.6771665182048987,null,1.758647439932091,1.2975030296440888,null,0.36398888856493816,1.3947448516393763,null,0.36398888856493816,-0.4787663738624761,null,0.36398888856493816,0.6771665182048987,null,0.36398888856493816,1.2975030296440888,null,1.3947448516393763,0.6771665182048987,null,1.3947448516393763,1.2975030296440888,null,2.088170018838485,1.7012759579916676,null,2.088170018838485,0.843304884105474,null,2.088170018838485,2.7670338833380743,null,-1.0942986095287277,-2.703772703342856,null,-1.0942986095287277,-0.7581054814279549,null,1.7012759579916676,0.843304884105474,null,0.843304884105474,0.30151177420813974,null,0.843304884105474,-0.2045326480593192,null,-1.8709024790948101,-1.4126595071250678,null,0.30151177420813974,-0.2045326480593192,null,-0.2045326480593192,-1.0177999310374624,null,0.6771665182048987,1.2975030296440888,null],\"type\":\"scatter\",\"uid\":\"a93371d9-c5f8-4d3e-ad78-b7415de63054\"},{\"hoverinfo\":\"text\",\"hovertext\":[\"Node ID: 0\\u003cbr\\u003ePullback set label: 49\\u003cbr\\u003ePartial cluster label: 0\\u003cbr\\u003eNode size: 8\\u003cbr\\u003eSummary statistic: 33.0\",\"Node ID: 1\\u003cbr\\u003ePullback set label: 50\\u003cbr\\u003ePartial cluster label: 0\\u003cbr\\u003eNode size: 10\\u003cbr\\u003eSummary statistic: 32.9\",\"Node ID: 2\\u003cbr\\u003ePullback set label: 52\\u003cbr\\u003ePartial cluster label: 0\\u003cbr\\u003eNode size: 10\\u003cbr\\u003eSummary statistic: 57.6\",\"Node ID: 3\\u003cbr\\u003ePullback set label: 53\\u003cbr\\u003ePartial cluster label: 0\\u003cbr\\u003eNode size: 37\\u003cbr\\u003eSummary statistic: 79.7\",\"Node ID: 4\\u003cbr\\u003ePullback set label: 54\\u003cbr\\u003ePartial cluster label: 0\\u003cbr\\u003eNode size: 97\\u003cbr\\u003eSummary statistic: 91.2\",\"Node ID: 5\\u003cbr\\u003ePullback set label: 40\\u003cbr\\u003ePartial cluster label: 0\\u003cbr\\u003eNode size: 32\\u003cbr\\u003eSummary statistic: 119.0\",\"Node ID: 6\\u003cbr\\u003ePullback set label: 39\\u003cbr\\u003ePartial cluster label: 0\\u003cbr\\u003eNode size: 19\\u003cbr\\u003eSummary statistic: 103.0\",\"Node ID: 7\\u003cbr\\u003ePullback set label: 11\\u003cbr\\u003ePartial cluster label: -1\\u003cbr\\u003eNode size: 1\\u003cbr\\u003eSummary statistic: 12.0\",\"Node ID: 8\\u003cbr\\u003ePullback set label: 12\\u003cbr\\u003ePartial cluster label: -1\\u003cbr\\u003eNode size: 2\\u003cbr\\u003eSummary statistic: 16.5\",\"Node ID: 9\\u003cbr\\u003ePullback set label: 20\\u003cbr\\u003ePartial cluster label: -1\\u003cbr\\u003eNode size: 2\\u003cbr\\u003eSummary statistic: 80.0\",\"Node ID: 10\\u003cbr\\u003ePullback set label: 21\\u003cbr\\u003ePartial cluster label: 0\\u003cbr\\u003eNode size: 7\\u003cbr\\u003eSummary statistic: 91.1\",\"Node ID: 11\\u003cbr\\u003ePullback set label: 44\\u003cbr\\u003ePartial cluster label: 0\\u003cbr\\u003eNode size: 22\\u003cbr\\u003eSummary statistic: 106.0\",\"Node ID: 12\\u003cbr\\u003ePullback set label: 56\\u003cbr\\u003ePartial cluster label: 0\\u003cbr\\u003eNode size: 10\\u003cbr\\u003eSummary statistic: 109.0\",\"Node ID: 13\\u003cbr\\u003ePullback set label: 3\\u003cbr\\u003ePartial cluster label: -1\\u003cbr\\u003eNode size: 3\\u003cbr\\u003eSummary statistic: 71.0\",\"Node ID: 14\\u003cbr\\u003ePullback set label: 4\\u003cbr\\u003ePartial cluster label: -1\\u003cbr\\u003eNode size: 1\\u003cbr\\u003eSummary statistic: 21.0\",\"Node ID: 15\\u003cbr\\u003ePullback set label: 14\\u003cbr\\u003ePartial cluster label: -1\\u003cbr\\u003eNode size: 2\\u003cbr\\u003eSummary statistic: 94.0\",\"Node ID: 16\\u003cbr\\u003ePullback set label: 16\\u003cbr\\u003ePartial cluster label: -1\\u003cbr\\u003eNode size: 2\\u003cbr\\u003eSummary statistic: 84.5\",\"Node ID: 17\\u003cbr\\u003ePullback set label: 19\\u003cbr\\u003ePartial cluster label: -1\\u003cbr\\u003eNode size: 3\\u003cbr\\u003eSummary statistic: 103.0\",\"Node ID: 18\\u003cbr\\u003ePullback set label: 2\\u003cbr\\u003ePartial cluster label: -1\\u003cbr\\u003eNode size: 3\\u003cbr\\u003eSummary statistic: 74.3\",\"Node ID: 19\\u003cbr\\u003ePullback set label: 10\\u003cbr\\u003ePartial cluster label: -1\\u003cbr\\u003eNode size: 2\\u003cbr\\u003eSummary statistic: 96.0\",\"Node ID: 20\\u003cbr\\u003ePullback set label: 1\\u003cbr\\u003ePartial cluster label: -1\\u003cbr\\u003eNode size: 1\\u003cbr\\u003eSummary statistic: 31.0\",\"Node ID: 21\\u003cbr\\u003ePullback set label: 35\\u003cbr\\u003ePartial cluster label: 0\\u003cbr\\u003eNode size: 18\\u003cbr\\u003eSummary statistic: 115.0\",\"Node ID: 22\\u003cbr\\u003ePullback set label: 47\\u003cbr\\u003ePartial cluster label: 0\\u003cbr\\u003eNode size: 8\\u003cbr\\u003eSummary statistic: 115.0\",\"Node ID: 23\\u003cbr\\u003ePullback set label: 42\\u003cbr\\u003ePartial cluster label: 0\\u003cbr\\u003eNode size: 7\\u003cbr\\u003eSummary statistic: 143.0\",\"Node ID: 24\\u003cbr\\u003ePullback set label: 43\\u003cbr\\u003ePartial cluster label: 0\\u003cbr\\u003eNode size: 6\\u003cbr\\u003eSummary statistic: 109.0\",\"Node ID: 25\\u003cbr\\u003ePullback set label: 45\\u003cbr\\u003ePartial cluster label: 0\\u003cbr\\u003eNode size: 5\\u003cbr\\u003eSummary statistic: 104.0\",\"Node ID: 26\\u003cbr\\u003ePullback set label: 51\\u003cbr\\u003ePartial cluster label: -1\\u003cbr\\u003eNode size: 2\\u003cbr\\u003eSummary statistic: 99.5\",\"Node ID: 27\\u003cbr\\u003ePullback set label: 22\\u003cbr\\u003ePartial cluster label: -1\\u003cbr\\u003eNode size: 2\\u003cbr\\u003eSummary statistic: 120.0\",\"Node ID: 28\\u003cbr\\u003ePullback set label: 34\\u003cbr\\u003ePartial cluster label: -1\\u003cbr\\u003eNode size: 4\\u003cbr\\u003eSummary statistic: 99.8\",\"Node ID: 29\\u003cbr\\u003ePullback set label: 37\\u003cbr\\u003ePartial cluster label: 0\\u003cbr\\u003eNode size: 5\\u003cbr\\u003eSummary statistic: 109.0\",\"Node ID: 30\\u003cbr\\u003ePullback set label: 38\\u003cbr\\u003ePartial cluster label: 0\\u003cbr\\u003eNode size: 5\\u003cbr\\u003eSummary statistic: 115.0\",\"Node ID: 31\\u003cbr\\u003ePullback set label: 48\\u003cbr\\u003ePartial cluster label: -1\\u003cbr\\u003eNode size: 1\\u003cbr\\u003eSummary statistic: 88.0\",\"Node ID: 32\\u003cbr\\u003ePullback set label: 0\\u003cbr\\u003ePartial cluster label: -1\\u003cbr\\u003eNode size: 1\\u003cbr\\u003eSummary statistic: 89.0\",\"Node ID: 33\\u003cbr\\u003ePullback set label: 7\\u003cbr\\u003ePartial cluster label: 0\\u003cbr\\u003eNode size: 6\\u003cbr\\u003eSummary statistic: 138.0\",\"Node ID: 34\\u003cbr\\u003ePullback set label: 8\\u003cbr\\u003ePartial cluster label: -1\\u003cbr\\u003eNode size: 4\\u003cbr\\u003eSummary statistic: 136.0\",\"Node ID: 35\\u003cbr\\u003ePullback set label: 17\\u003cbr\\u003ePartial cluster label: -1\\u003cbr\\u003eNode size: 4\\u003cbr\\u003eSummary statistic: 143.0\",\"Node ID: 36\\u003cbr\\u003ePullback set label: 18\\u003cbr\\u003ePartial cluster label: -1\\u003cbr\\u003eNode size: 3\\u003cbr\\u003eSummary statistic: 155.0\",\"Node ID: 37\\u003cbr\\u003ePullback set label: 27\\u003cbr\\u003ePartial cluster label: -1\\u003cbr\\u003eNode size: 1\\u003cbr\\u003eSummary statistic: 91.0\",\"Node ID: 38\\u003cbr\\u003ePullback set label: 57\\u003cbr\\u003ePartial cluster label: -1\\u003cbr\\u003eNode size: 3\\u003cbr\\u003eSummary statistic: 117.0\",\"Node ID: 39\\u003cbr\\u003ePullback set label: 55\\u003cbr\\u003ePartial cluster label: -1\\u003cbr\\u003eNode size: 3\\u003cbr\\u003eSummary statistic: 115.0\",\"Node ID: 40\\u003cbr\\u003ePullback set label: 23\\u003cbr\\u003ePartial cluster label: -1\\u003cbr\\u003eNode size: 3\\u003cbr\\u003eSummary statistic: 129.0\",\"Node ID: 41\\u003cbr\\u003ePullback set label: 5\\u003cbr\\u003ePartial cluster label: -1\\u003cbr\\u003eNode size: 1\\u003cbr\\u003eSummary statistic: 105.0\",\"Node ID: 42\\u003cbr\\u003ePullback set label: 9\\u003cbr\\u003ePartial cluster label: -1\\u003cbr\\u003eNode size: 1\\u003cbr\\u003eSummary statistic: 106.0\",\"Node ID: 43\\u003cbr\\u003ePullback set label: 36\\u003cbr\\u003ePartial cluster label: -1\\u003cbr\\u003eNode size: 3\\u003cbr\\u003eSummary statistic: 123.0\",\"Node ID: 44\\u003cbr\\u003ePullback set label: 26\\u003cbr\\u003ePartial cluster label: -1\\u003cbr\\u003eNode size: 1\\u003cbr\\u003eSummary statistic: 119.0\",\"Node ID: 45\\u003cbr\\u003ePullback set label: 25\\u003cbr\\u003ePartial cluster label: -1\\u003cbr\\u003eNode size: 1\\u003cbr\\u003eSummary statistic: 121.0\",\"Node ID: 46\\u003cbr\\u003ePullback set label: 30\\u003cbr\\u003ePartial cluster label: -1\\u003cbr\\u003eNode size: 2\\u003cbr\\u003eSummary statistic: 138.0\",\"Node ID: 47\\u003cbr\\u003ePullback set label: 41\\u003cbr\\u003ePartial cluster label: -1\\u003cbr\\u003eNode size: 3\\u003cbr\\u003eSummary statistic: 158.0\",\"Node ID: 48\\u003cbr\\u003ePullback set label: 46\\u003cbr\\u003ePartial cluster label: -1\\u003cbr\\u003eNode size: 2\\u003cbr\\u003eSummary statistic: 156.0\",\"Node ID: 49\\u003cbr\\u003ePullback set label: 33\\u003cbr\\u003ePartial cluster label: -1\\u003cbr\\u003eNode size: 1\\u003cbr\\u003eSummary statistic: 140.0\",\"Node ID: 50\\u003cbr\\u003ePullback set label: 15\\u003cbr\\u003ePartial cluster label: -1\\u003cbr\\u003eNode size: 1\\u003cbr\\u003eSummary statistic: 148.0\",\"Node ID: 51\\u003cbr\\u003ePullback set label: 29\\u003cbr\\u003ePartial cluster label: -1\\u003cbr\\u003eNode size: 1\\u003cbr\\u003eSummary statistic: 156.0\",\"Node ID: 52\\u003cbr\\u003ePullback set label: 31\\u003cbr\\u003ePartial cluster label: -1\\u003cbr\\u003eNode size: 2\\u003cbr\\u003eSummary statistic: 172.0\",\"Node ID: 53\\u003cbr\\u003ePullback set label: 6\\u003cbr\\u003ePartial cluster label: -1\\u003cbr\\u003eNode size: 1\\u003cbr\\u003eSummary statistic: 167.0\",\"Node ID: 54\\u003cbr\\u003ePullback set label: 28\\u003cbr\\u003ePartial cluster label: -1\\u003cbr\\u003eNode size: 1\\u003cbr\\u003eSummary statistic: 174.0\",\"Node ID: 55\\u003cbr\\u003ePullback set label: 24\\u003cbr\\u003ePartial cluster label: -1\\u003cbr\\u003eNode size: 2\\u003cbr\\u003eSummary statistic: 188.0\",\"Node ID: 56\\u003cbr\\u003ePullback set label: 32\\u003cbr\\u003ePartial cluster label: -1\\u003cbr\\u003eNode size: 1\\u003cbr\\u003eSummary statistic: 187.0\",\"Node ID: 57\\u003cbr\\u003ePullback set label: 13\\u003cbr\\u003ePartial cluster label: -1\\u003cbr\\u003eNode size: 1\\u003cbr\\u003eSummary statistic: 191.0\"],\"marker\":{\"color\":[33.0,32.9,57.6,79.70270270270271,91.23711340206185,118.8125,103.36842105263158,12.0,16.5,80.0,91.14285714285714,106.4090909090909,109.1,71.0,21.0,94.0,84.5,103.0,74.33333333333333,96.0,31.0,114.66666666666667,115.375,142.71428571428572,108.66666666666667,104.4,99.5,120.0,99.75,108.6,115.4,88.0,89.0,138.33333333333334,135.75,142.75,155.0,91.0,117.0,115.0,129.33333333333334,105.0,106.0,123.0,119.0,121.0,138.5,157.66666666666666,156.5,140.0,148.0,156.0,171.5,167.0,174.0,187.5,187.0,191.0],\"colorbar\":{\"thickness\":15,\"title\":{\"side\":\"right\",\"text\":\"\"},\"xanchor\":\"left\"},\"colorscale\":[[0.0,\"#440154\"],[0.1111111111111111,\"#482878\"],[0.2222222222222222,\"#3e4989\"],[0.3333333333333333,\"#31688e\"],[0.4444444444444444,\"#26828e\"],[0.5555555555555556,\"#1f9e89\"],[0.6666666666666666,\"#35b779\"],[0.7777777777777778,\"#6ece58\"],[0.8888888888888888,\"#b5de2b\"],[1.0,\"#fde725\"]],\"line\":{\"color\":\"#888\",\"width\":1},\"opacity\":1.0,\"reversescale\":false,\"showscale\":true,\"size\":[8,10,10,37,97,32,19,1,2,2,7,22,10,3,1,2,2,3,3,2,1,18,8,7,6,5,2,2,4,5,5,1,1,6,4,4,3,1,3,3,3,1,1,3,1,1,2,3,2,1,1,1,2,1,1,2,1,1],\"sizemin\":4,\"sizemode\":\"area\",\"sizeref\":1.3472222222222223},\"mode\":\"markers\",\"name\":\"node_trace\",\"x\":[-1.3700955089886655,-1.0303905654948942,-0.7760146956183,-0.0935745738451904,-0.07654638301176107,0.23113033542334496,0.7037756173196205,-1.5660839039745285,-0.3957140284439695,-1.409829468440108,-0.4916733645039927,1.2561779866271408,0.4219354234762082,0.43151999123927537,-0.276270117023146,0.2839288771107568,-0.6677355348634821,0.7406626169651538,1.140820104810588,0.6810988255963806,1.0704595330237061,-0.37287191159313865,-1.2171988096991457,1.548676541619208,1.1505203682973943,0.875592116529096,-0.8103211029002458,0.0755814035853616,-0.7807436758710005,-0.31280092631711043,-0.2020250808506626,-2.2226297928927408,-4.9698743323245855,-6.636055401907971,-7.177513008282543,-7.087235943418547,-6.665387324888094,-1.3398338218699237,0.9883054825982478,-0.025833556048279957,1.4936967486327772,-6.465772650988593,-6.868194938672684,0.07558708400508674,0.6168280724454207,2.064150478896882,1.6012295747603227,2.149464915203275,2.4165362615541697,-1.3947948819449782,-1.8358270243613086,2.3469086998969,2.021965016272897,1.4830153203031353,0.8084838758636362,-7.626492897556172,2.4687213683802516,-7.634578997642169],\"y\":[-2.3219231370455513,-1.419586017712722,-2.6711367408251867,-1.9611528967582457,-1.269630360960372,-0.7870838043072458,-1.663961580585759,1.7477043997153623,1.913431483810209,2.304908671245129,1.2453635111369576,-1.3134633602771375,-2.1914460115589414,2.161313746526805,2.460445190524692,2.443602401888272,2.2040522695664584,1.8019034373392453,3.1201345042533757,3.1213230274117443,4.331280799146093,0.2796455647499203,-0.5541918697721577,-0.6407164104352648,-0.06894483815334901,-1.221804018559211,-1.0397176504276617,0.4659723158018001,-0.10334678810436163,-0.13408982515062748,-2.587194997079942,-1.891058200961671,-5.386874224567016,0.8405456758178094,1.758647439932091,0.36398888856493816,1.3947448516393763,0.6570108835114777,-2.0585319994616507,-3.3499797232359776,2.088170018838485,2.33277404224511,-0.4787663738624761,-1.0942986095287277,-2.703772703342856,1.7012759579916676,0.843304884105474,-1.8709024790948101,-1.4126595071250678,-0.7581054814279549,1.704323645773639,0.30151177420813974,-0.2045326480593192,2.7670338833380743,0.1421991329184229,0.6771665182048987,-1.0177999310374624,1.2975030296440888],\"type\":\"scatter\",\"uid\":\"43059bae-2d5d-49c1-be97-0763127635d7\"}],                        {\"autosize\":false,\"hovermode\":\"closest\",\"margin\":{\"b\":20,\"l\":5,\"r\":5,\"t\":40},\"showlegend\":false,\"template\":{\"data\":{\"barpolar\":[{\"marker\":{\"line\":{\"color\":\"white\",\"width\":0.5},\"pattern\":{\"fillmode\":\"overlay\",\"size\":10,\"solidity\":0.2}},\"type\":\"barpolar\"}],\"bar\":[{\"error_x\":{\"color\":\"rgb(36,36,36)\"},\"error_y\":{\"color\":\"rgb(36,36,36)\"},\"marker\":{\"line\":{\"color\":\"white\",\"width\":0.5},\"pattern\":{\"fillmode\":\"overlay\",\"size\":10,\"solidity\":0.2}},\"type\":\"bar\"}],\"carpet\":[{\"aaxis\":{\"endlinecolor\":\"rgb(36,36,36)\",\"gridcolor\":\"white\",\"linecolor\":\"white\",\"minorgridcolor\":\"white\",\"startlinecolor\":\"rgb(36,36,36)\"},\"baxis\":{\"endlinecolor\":\"rgb(36,36,36)\",\"gridcolor\":\"white\",\"linecolor\":\"white\",\"minorgridcolor\":\"white\",\"startlinecolor\":\"rgb(36,36,36)\"},\"type\":\"carpet\"}],\"choropleth\":[{\"colorbar\":{\"outlinewidth\":1,\"tickcolor\":\"rgb(36,36,36)\",\"ticks\":\"outside\"},\"type\":\"choropleth\"}],\"contourcarpet\":[{\"colorbar\":{\"outlinewidth\":1,\"tickcolor\":\"rgb(36,36,36)\",\"ticks\":\"outside\"},\"type\":\"contourcarpet\"}],\"contour\":[{\"colorbar\":{\"outlinewidth\":1,\"tickcolor\":\"rgb(36,36,36)\",\"ticks\":\"outside\"},\"colorscale\":[[0.0,\"#440154\"],[0.1111111111111111,\"#482878\"],[0.2222222222222222,\"#3e4989\"],[0.3333333333333333,\"#31688e\"],[0.4444444444444444,\"#26828e\"],[0.5555555555555556,\"#1f9e89\"],[0.6666666666666666,\"#35b779\"],[0.7777777777777778,\"#6ece58\"],[0.8888888888888888,\"#b5de2b\"],[1.0,\"#fde725\"]],\"type\":\"contour\"}],\"heatmapgl\":[{\"colorbar\":{\"outlinewidth\":1,\"tickcolor\":\"rgb(36,36,36)\",\"ticks\":\"outside\"},\"colorscale\":[[0.0,\"#440154\"],[0.1111111111111111,\"#482878\"],[0.2222222222222222,\"#3e4989\"],[0.3333333333333333,\"#31688e\"],[0.4444444444444444,\"#26828e\"],[0.5555555555555556,\"#1f9e89\"],[0.6666666666666666,\"#35b779\"],[0.7777777777777778,\"#6ece58\"],[0.8888888888888888,\"#b5de2b\"],[1.0,\"#fde725\"]],\"type\":\"heatmapgl\"}],\"heatmap\":[{\"colorbar\":{\"outlinewidth\":1,\"tickcolor\":\"rgb(36,36,36)\",\"ticks\":\"outside\"},\"colorscale\":[[0.0,\"#440154\"],[0.1111111111111111,\"#482878\"],[0.2222222222222222,\"#3e4989\"],[0.3333333333333333,\"#31688e\"],[0.4444444444444444,\"#26828e\"],[0.5555555555555556,\"#1f9e89\"],[0.6666666666666666,\"#35b779\"],[0.7777777777777778,\"#6ece58\"],[0.8888888888888888,\"#b5de2b\"],[1.0,\"#fde725\"]],\"type\":\"heatmap\"}],\"histogram2dcontour\":[{\"colorbar\":{\"outlinewidth\":1,\"tickcolor\":\"rgb(36,36,36)\",\"ticks\":\"outside\"},\"colorscale\":[[0.0,\"#440154\"],[0.1111111111111111,\"#482878\"],[0.2222222222222222,\"#3e4989\"],[0.3333333333333333,\"#31688e\"],[0.4444444444444444,\"#26828e\"],[0.5555555555555556,\"#1f9e89\"],[0.6666666666666666,\"#35b779\"],[0.7777777777777778,\"#6ece58\"],[0.8888888888888888,\"#b5de2b\"],[1.0,\"#fde725\"]],\"type\":\"histogram2dcontour\"}],\"histogram2d\":[{\"colorbar\":{\"outlinewidth\":1,\"tickcolor\":\"rgb(36,36,36)\",\"ticks\":\"outside\"},\"colorscale\":[[0.0,\"#440154\"],[0.1111111111111111,\"#482878\"],[0.2222222222222222,\"#3e4989\"],[0.3333333333333333,\"#31688e\"],[0.4444444444444444,\"#26828e\"],[0.5555555555555556,\"#1f9e89\"],[0.6666666666666666,\"#35b779\"],[0.7777777777777778,\"#6ece58\"],[0.8888888888888888,\"#b5de2b\"],[1.0,\"#fde725\"]],\"type\":\"histogram2d\"}],\"histogram\":[{\"marker\":{\"line\":{\"color\":\"white\",\"width\":0.6}},\"type\":\"histogram\"}],\"mesh3d\":[{\"colorbar\":{\"outlinewidth\":1,\"tickcolor\":\"rgb(36,36,36)\",\"ticks\":\"outside\"},\"type\":\"mesh3d\"}],\"parcoords\":[{\"line\":{\"colorbar\":{\"outlinewidth\":1,\"tickcolor\":\"rgb(36,36,36)\",\"ticks\":\"outside\"}},\"type\":\"parcoords\"}],\"pie\":[{\"automargin\":true,\"type\":\"pie\"}],\"scatter3d\":[{\"line\":{\"colorbar\":{\"outlinewidth\":1,\"tickcolor\":\"rgb(36,36,36)\",\"ticks\":\"outside\"}},\"marker\":{\"colorbar\":{\"outlinewidth\":1,\"tickcolor\":\"rgb(36,36,36)\",\"ticks\":\"outside\"}},\"type\":\"scatter3d\"}],\"scattercarpet\":[{\"marker\":{\"colorbar\":{\"outlinewidth\":1,\"tickcolor\":\"rgb(36,36,36)\",\"ticks\":\"outside\"}},\"type\":\"scattercarpet\"}],\"scattergeo\":[{\"marker\":{\"colorbar\":{\"outlinewidth\":1,\"tickcolor\":\"rgb(36,36,36)\",\"ticks\":\"outside\"}},\"type\":\"scattergeo\"}],\"scattergl\":[{\"marker\":{\"colorbar\":{\"outlinewidth\":1,\"tickcolor\":\"rgb(36,36,36)\",\"ticks\":\"outside\"}},\"type\":\"scattergl\"}],\"scattermapbox\":[{\"marker\":{\"colorbar\":{\"outlinewidth\":1,\"tickcolor\":\"rgb(36,36,36)\",\"ticks\":\"outside\"}},\"type\":\"scattermapbox\"}],\"scatterpolargl\":[{\"marker\":{\"colorbar\":{\"outlinewidth\":1,\"tickcolor\":\"rgb(36,36,36)\",\"ticks\":\"outside\"}},\"type\":\"scatterpolargl\"}],\"scatterpolar\":[{\"marker\":{\"colorbar\":{\"outlinewidth\":1,\"tickcolor\":\"rgb(36,36,36)\",\"ticks\":\"outside\"}},\"type\":\"scatterpolar\"}],\"scatter\":[{\"fillpattern\":{\"fillmode\":\"overlay\",\"size\":10,\"solidity\":0.2},\"type\":\"scatter\"}],\"scatterternary\":[{\"marker\":{\"colorbar\":{\"outlinewidth\":1,\"tickcolor\":\"rgb(36,36,36)\",\"ticks\":\"outside\"}},\"type\":\"scatterternary\"}],\"surface\":[{\"colorbar\":{\"outlinewidth\":1,\"tickcolor\":\"rgb(36,36,36)\",\"ticks\":\"outside\"},\"colorscale\":[[0.0,\"#440154\"],[0.1111111111111111,\"#482878\"],[0.2222222222222222,\"#3e4989\"],[0.3333333333333333,\"#31688e\"],[0.4444444444444444,\"#26828e\"],[0.5555555555555556,\"#1f9e89\"],[0.6666666666666666,\"#35b779\"],[0.7777777777777778,\"#6ece58\"],[0.8888888888888888,\"#b5de2b\"],[1.0,\"#fde725\"]],\"type\":\"surface\"}],\"table\":[{\"cells\":{\"fill\":{\"color\":\"rgb(237,237,237)\"},\"line\":{\"color\":\"white\"}},\"header\":{\"fill\":{\"color\":\"rgb(217,217,217)\"},\"line\":{\"color\":\"white\"}},\"type\":\"table\"}]},\"layout\":{\"annotationdefaults\":{\"arrowhead\":0,\"arrowwidth\":1},\"autotypenumbers\":\"strict\",\"coloraxis\":{\"colorbar\":{\"outlinewidth\":1,\"tickcolor\":\"rgb(36,36,36)\",\"ticks\":\"outside\"}},\"colorscale\":{\"diverging\":[[0.0,\"rgb(103,0,31)\"],[0.1,\"rgb(178,24,43)\"],[0.2,\"rgb(214,96,77)\"],[0.3,\"rgb(244,165,130)\"],[0.4,\"rgb(253,219,199)\"],[0.5,\"rgb(247,247,247)\"],[0.6,\"rgb(209,229,240)\"],[0.7,\"rgb(146,197,222)\"],[0.8,\"rgb(67,147,195)\"],[0.9,\"rgb(33,102,172)\"],[1.0,\"rgb(5,48,97)\"]],\"sequential\":[[0.0,\"#440154\"],[0.1111111111111111,\"#482878\"],[0.2222222222222222,\"#3e4989\"],[0.3333333333333333,\"#31688e\"],[0.4444444444444444,\"#26828e\"],[0.5555555555555556,\"#1f9e89\"],[0.6666666666666666,\"#35b779\"],[0.7777777777777778,\"#6ece58\"],[0.8888888888888888,\"#b5de2b\"],[1.0,\"#fde725\"]],\"sequentialminus\":[[0.0,\"#440154\"],[0.1111111111111111,\"#482878\"],[0.2222222222222222,\"#3e4989\"],[0.3333333333333333,\"#31688e\"],[0.4444444444444444,\"#26828e\"],[0.5555555555555556,\"#1f9e89\"],[0.6666666666666666,\"#35b779\"],[0.7777777777777778,\"#6ece58\"],[0.8888888888888888,\"#b5de2b\"],[1.0,\"#fde725\"]]},\"colorway\":[\"#1F77B4\",\"#FF7F0E\",\"#2CA02C\",\"#D62728\",\"#9467BD\",\"#8C564B\",\"#E377C2\",\"#7F7F7F\",\"#BCBD22\",\"#17BECF\"],\"font\":{\"color\":\"rgb(36,36,36)\"},\"geo\":{\"bgcolor\":\"white\",\"lakecolor\":\"white\",\"landcolor\":\"white\",\"showlakes\":true,\"showland\":true,\"subunitcolor\":\"white\"},\"hoverlabel\":{\"align\":\"left\"},\"hovermode\":\"closest\",\"mapbox\":{\"style\":\"light\"},\"paper_bgcolor\":\"white\",\"plot_bgcolor\":\"white\",\"polar\":{\"angularaxis\":{\"gridcolor\":\"rgb(232,232,232)\",\"linecolor\":\"rgb(36,36,36)\",\"showgrid\":false,\"showline\":true,\"ticks\":\"outside\"},\"bgcolor\":\"white\",\"radialaxis\":{\"gridcolor\":\"rgb(232,232,232)\",\"linecolor\":\"rgb(36,36,36)\",\"showgrid\":false,\"showline\":true,\"ticks\":\"outside\"}},\"scene\":{\"xaxis\":{\"backgroundcolor\":\"white\",\"gridcolor\":\"rgb(232,232,232)\",\"gridwidth\":2,\"linecolor\":\"rgb(36,36,36)\",\"showbackground\":true,\"showgrid\":false,\"showline\":true,\"ticks\":\"outside\",\"zeroline\":false,\"zerolinecolor\":\"rgb(36,36,36)\"},\"yaxis\":{\"backgroundcolor\":\"white\",\"gridcolor\":\"rgb(232,232,232)\",\"gridwidth\":2,\"linecolor\":\"rgb(36,36,36)\",\"showbackground\":true,\"showgrid\":false,\"showline\":true,\"ticks\":\"outside\",\"zeroline\":false,\"zerolinecolor\":\"rgb(36,36,36)\"},\"zaxis\":{\"backgroundcolor\":\"white\",\"gridcolor\":\"rgb(232,232,232)\",\"gridwidth\":2,\"linecolor\":\"rgb(36,36,36)\",\"showbackground\":true,\"showgrid\":false,\"showline\":true,\"ticks\":\"outside\",\"zeroline\":false,\"zerolinecolor\":\"rgb(36,36,36)\"}},\"shapedefaults\":{\"fillcolor\":\"black\",\"line\":{\"width\":0},\"opacity\":0.3},\"ternary\":{\"aaxis\":{\"gridcolor\":\"rgb(232,232,232)\",\"linecolor\":\"rgb(36,36,36)\",\"showgrid\":false,\"showline\":true,\"ticks\":\"outside\"},\"baxis\":{\"gridcolor\":\"rgb(232,232,232)\",\"linecolor\":\"rgb(36,36,36)\",\"showgrid\":false,\"showline\":true,\"ticks\":\"outside\"},\"bgcolor\":\"white\",\"caxis\":{\"gridcolor\":\"rgb(232,232,232)\",\"linecolor\":\"rgb(36,36,36)\",\"showgrid\":false,\"showline\":true,\"ticks\":\"outside\"}},\"title\":{\"x\":0.05},\"xaxis\":{\"automargin\":true,\"gridcolor\":\"rgb(232,232,232)\",\"linecolor\":\"rgb(36,36,36)\",\"showgrid\":false,\"showline\":true,\"ticks\":\"outside\",\"title\":{\"standoff\":15},\"zeroline\":false,\"zerolinecolor\":\"rgb(36,36,36)\"},\"yaxis\":{\"automargin\":true,\"gridcolor\":\"rgb(232,232,232)\",\"linecolor\":\"rgb(36,36,36)\",\"showgrid\":false,\"showline\":true,\"ticks\":\"outside\",\"title\":{\"standoff\":15},\"zeroline\":false,\"zerolinecolor\":\"rgb(36,36,36)\"}}},\"title\":{\"text\":\"\"},\"xaxis\":{\"showgrid\":false,\"showline\":false,\"showticklabels\":false,\"ticks\":\"\",\"title\":{\"text\":\"\"},\"zeroline\":false},\"yaxis\":{\"showgrid\":false,\"showline\":false,\"showticklabels\":false,\"ticks\":\"\",\"title\":{\"text\":\"\"},\"zeroline\":false}},                        {\"scrollZoom\": true, \"responsive\": true}                    ).then(function(){\n",
       "                            \n",
       "var gd = document.getElementById('1f8f7dcf-24c4-417f-b8ba-e7d89e5de450');\n",
       "var x = new MutationObserver(function (mutations, observer) {{\n",
       "        var display = window.getComputedStyle(gd).display;\n",
       "        if (!display || display === 'none') {{\n",
       "            console.log([gd, 'removed!']);\n",
       "            Plotly.purge(gd);\n",
       "            observer.disconnect();\n",
       "        }}\n",
       "}});\n",
       "\n",
       "// Listen for the removal of the full notebook cells\n",
       "var notebookContainer = gd.closest('#notebook-container');\n",
       "if (notebookContainer) {{\n",
       "    x.observe(notebookContainer, {childList: true});\n",
       "}}\n",
       "\n",
       "// Listen for the clearing of the current output cell\n",
       "var outputEl = gd.closest('.output');\n",
       "if (outputEl) {{\n",
       "    x.observe(outputEl, {childList: true});\n",
       "}}\n",
       "\n",
       "                        })                };                });            </script>        </div>"
      ]
     },
     "metadata": {},
     "output_type": "display_data"
    }
   ],
   "source": [
    "np.random.seed(613)\n",
    "fig = plot_static_mapper_graph(pipe, distance_matrix)\n",
    "fig.show(config={'scrollZoom': True})"
   ]
  },
  {
   "cell_type": "code",
   "execution_count": 110,
   "id": "0976180e-5abc-4b72-9329-545b62279145",
   "metadata": {
    "scrolled": true,
    "tags": []
   },
   "outputs": [
    {
     "name": "stdout",
     "output_type": "stream",
     "text": [
      "3\n"
     ]
    },
    {
     "name": "stderr",
     "output_type": "stream",
     "text": [
      "/Users/lu/opt/anaconda3/lib/python3.9/site-packages/sklearn/manifold/_mds.py:601: UserWarning:\n",
      "\n",
      "The MDS API has changed. ``fit`` now constructs an dissimilarity matrix from data. To use a custom dissimilarity matrix, set ``dissimilarity='precomputed'``.\n",
      "\n"
     ]
    },
    {
     "name": "stdout",
     "output_type": "stream",
     "text": [
      "Node 0:\n",
      "  Words: [\"'d\", \"'m\", \"'re\", \"'s\", \"'ve\", 'as', 'been', 'ca', 'get', 'getting', 'had', 'have', 'into', 'kind', 'lot', 'make', 'much', \"n't\", 'need', 'out', 'pretty', 'should', 'tell', 'things', 'think', 'thought', 'up', 'want', 'wanted']\n",
      "Node 1:\n",
      "  Words: [\"'d\", \"'ll\", \"'m\", \"'ve\", 'gon', 'out', 'things', 'wan']\n",
      "Node 2:\n",
      "  Words: [\"'ll\", \"'m\"]\n",
      "Node 3:\n",
      "  Words: [\"'m\", 'mean']\n",
      "Node 4:\n",
      "  Words: ['a', 'all', 'always', 'any', 'at', 'by', 'came', 'come', 'could', 'every', 'for', 'from', 'getting', 'got', 'guess', 'had', 'have', 'in', 'into', 'kind', 'make', \"n't\", 'never', 'not', 'on', 'only', 'should', 'some', 'still', 'than', 'think', 'through', 'told', 'was', 'went', 'were', 'with', 'would']\n",
      "Node 5:\n",
      "  Words: ['a', 'about', 'all', 'always', 'any', 'are', 'at', 'be', 'by', 'came', 'can', 'come', 'could', 'did', 'do', 'does', 'doing', 'down', 'even', 'every', 'first', 'for', 'from', 'getting', 'go', 'going', 'got', 'guy', 'has', 'have', 'her', 'in', 'into', 'kind', 'long', 'make', 'me', 'more', 'never', 'not', 'off', 'on', 'one', 'only', 'over', 'put', 'say', 'should', 'some', 'something', 'still', 'than', 'that', 'then', 'there', 'this', 'those', 'through', 'told', 'two', 'way', 'went', 'were', 'will', 'with', 'would', 'give']\n",
      "Node 6:\n",
      "  Words: ['a', 'all', 'always', 'as', 'at', 'by', 'call', 'came', 'come', 'every', 'get', 'getting', 'got', 'guess', 'had', 'have', 'into', 'kind', 'make', \"n't\", 'pretty', 'should', 'some', 'still', 'think', 'told', 'want', 'was', 'were']\n",
      "Node 7:\n",
      "  Words: ['a', 'all', 'always', 'an', 'another', 'as', 'at', 'big', 'by', 'call', 'came', 'come', 'different', 'every', 'get', 'getting', 'got', 'have', 'into', 'kind', 'little', 'make', 'new', 'of', 'other', 'put', 'real', 'should', 'some', 'still', 'told', 'want', 'were', 'whole', 'give']\n",
      "Node 8:\n",
      "  Words: ['after', 'day', 'doing', 'down', 'guy', 'he', 'her', 'here', 'how', 'i', 'if', 'it', 'let', 'long', 'maybe', 'me', 'off', 'say', 'she', 'something', 'them', 'there', 'they', 'too', 'way', 'we', 'when', 'where', 'years']\n",
      "Node 9:\n",
      "  Words: ['after', 'here', 'maybe', 'when', 'where', 'who']\n",
      "Node 10:\n",
      "  Words: ['an', 'come', 'kinda', 'like', 'real', 'still']\n",
      "Node 11:\n",
      "  Words: ['an', 'my', 'our', 'real', 'the', 'their', 'your', 'his']\n",
      "Node 12:\n",
      "  Words: ['an', 'another', 'little', 'my', 'new', 'of', 'other', 'our', 'real', 'the', 'their', 'whole', 'your', 'his']\n",
      "Node 13:\n",
      "  Words: ['and']\n",
      "Node 14:\n",
      "  Words: ['and', 'which']\n",
      "Node 15:\n",
      "  Words: ['any', 'ca', 'getting', 'had', 'have', 'into', 'kind', 'make', \"n't\", 'should', 'think']\n",
      "Node 16:\n",
      "  Words: ['any', 'be', 'doing', 'getting', 'going', 'have', 'into', 'kind', 'long', 'make', 'off', 'people', 'put', 'should', 'then', 'way', 'give']\n",
      "Node 17:\n",
      "  Words: ['anything', 'around', 'before', 'em', 'everything', 'god', 'much', 'out', 'pretty', 'thing', 'things', 'up', 'work', 'man']\n",
      "Node 18:\n",
      "  Words: ['anything', 'around', 'em', 'much', 'out', 'thing', 'things', 'up', 'work']\n",
      "Node 19:\n",
      "  Words: ['anything', 'em', 'him', 'out', 'stuff', 'thing', 'things', 'time', 'us', 'work', 'year']\n",
      "Node 20:\n",
      "  Words: ['anything', 'em', 'him', 'out', 'stuff', 'thing', 'things', 'time', 'us', 'work']\n",
      "Node 21:\n",
      "  Words: ['anything', 'around', 'before', 'em', 'out', 'pretty', 'very', 'work']\n",
      "Node 22:\n",
      "  Words: ['anything', 'around', 'em', 'out', 'work']\n",
      "Node 23:\n",
      "  Words: ['anything', 'em', 'him', 'out', 'stuff', 'time', 'work', 'year']\n",
      "Node 24:\n",
      "  Words: ['anything', 'em', 'him', 'out', 'stuff', 'time', 'work']\n",
      "Node 25:\n",
      "  Words: ['are', 'come', 'did', 'first', 'five', 'four', 'from', 'good', 'is', 'just', 'kinda', 'like', 'look', 'never', 'not', 'probably', 'really', 'see', 'something', 'still', 'that', 'this', 'three', 'two', 'what', 'why', 'will', 'you', 'remember']\n",
      "Node 26:\n",
      "  Words: ['around', 'everything', 'god', 'or', 'pretty', 'sure', 'great', 'man']\n",
      "Node 27:\n",
      "  Words: ['around', 'big', 'different', 'new', 'real', 'ten']\n",
      "Node 28:\n",
      "  Words: ['around', 'or', 'pretty', 'great']\n",
      "Node 29:\n",
      "  Words: ['as', 'get', 'getting', 'have', 'into', 'kind', 'lot', 'make', 'much', 'of', 'out', 'people', 'put', 'should', 'things', 'up', 'want', 'wanted', 'give']\n",
      "Node 30:\n",
      "  Words: ['because']\n",
      "Node 31:\n",
      "  Words: ['because', 'but']\n",
      "Node 32:\n",
      "  Words: ['because', 'mom', 'so']\n",
      "Node 33:\n",
      "  Words: ['big', 'different', 'little', 'new', 'of', 'other', 'real', 'whole']\n",
      "Node 34:\n",
      "  Words: ['but']\n",
      "Node 35:\n",
      "  Words: ['cause']\n",
      "Node 36:\n",
      "  Words: ['come', 'five', 'from', 'goes', 'kinda', 'like', 'never', 'not', 'probably', 'really', 'said', 'see', 'still', 'remember']\n",
      "Node 37:\n",
      "  Words: ['come', 'goes', 'kinda', 'like', 'said', 'still']\n",
      "Node 38:\n",
      "  Words: ['day', 'doing', 'how', 'if', 'let', 'long', 'off', 'them', 'way', 'when']\n",
      "Node 39:\n",
      "  Words: ['everything', 'god', 'man']\n",
      "Node 40:\n",
      "  Words: ['god', 'sure']\n",
      "Node 41:\n",
      "  Words: ['god']\n",
      "Node 42:\n",
      "  Words: ['gon', 'out', 'things']\n",
      "Node 43:\n",
      "  Words: ['good', 'it', 'now', 'she', 'something', 'they', 'too', 'what', 'why', 'you']\n",
      "Node 44:\n",
      "  Words: ['good', 'mom', 'really', 'why']\n",
      "Node 45:\n",
      "  Words: ['good', 'mom', 'now', 'so', 'why']\n",
      "Node 46:\n",
      "  Words: ['here', 'i', 'let']\n",
      "Node 47:\n",
      "  Words: ['here', 'i', 'let', 'though']\n",
      "Node 48:\n",
      "  Words: ['here', 'i', 'if', 'let', 'when', 'where']\n",
      "Node 49:\n",
      "  Words: ['here']\n",
      "Node 50:\n",
      "  Words: ['here', 'though', 'which']\n",
      "Node 51:\n",
      "  Words: ['here', 'when', 'where', 'who']\n",
      "Node 52:\n",
      "  Words: ['if', 'let', 'when']\n",
      "Node 53:\n",
      "  Words: ['know', 'really', 'sure']\n",
      "Node 54:\n",
      "  Words: ['know', 'or', 'sure']\n",
      "Node 55:\n",
      "  Words: ['let']\n",
      "Node 56:\n",
      "  Words: ['little', 'new', 'of', 'other', 'real', 'whole']\n",
      "Node 57:\n",
      "  Words: ['lot', 'na', 'out', 'pretty', 'tell']\n",
      "Node 58:\n",
      "  Words: ['lot', 'of', 'out']\n",
      "Node 59:\n",
      "  Words: ['mhm']\n",
      "Node 60:\n",
      "  Words: ['mm']\n",
      "Node 61:\n",
      "  Words: ['mm', 'yes']\n",
      "Node 62:\n",
      "  Words: ['mm', 'okay', 'alright']\n",
      "Node 63:\n",
      "  Words: ['mm', 'okay', 'yeah', 'alright']\n",
      "Node 64:\n",
      "  Words: ['mm', 'okay', 'yes', 'alright']\n",
      "Node 65:\n",
      "  Words: ['mom']\n",
      "Node 66:\n",
      "  Words: ['na', 'out']\n",
      "Node 67:\n",
      "  Words: ['new', 'real']\n",
      "Node 68:\n",
      "  Words: ['no']\n",
      "Node 69:\n",
      "  Words: ['no', 'right']\n",
      "Node 70:\n",
      "  Words: ['of']\n",
      "Node 71:\n",
      "  Words: ['oh']\n",
      "Node 72:\n",
      "  Words: ['or']\n",
      "Node 73:\n",
      "  Words: ['out']\n",
      "Node 74:\n",
      "  Words: ['pretty']\n",
      "Node 75:\n",
      "  Words: ['real']\n",
      "Node 76:\n",
      "  Words: ['right']\n",
      "Node 77:\n",
      "  Words: ['stuff', 'year']\n",
      "Node 78:\n",
      "  Words: ['stuff']\n",
      "Node 79:\n",
      "  Words: ['then']\n",
      "Node 80:\n",
      "  Words: ['uh']\n",
      "Node 81:\n",
      "  Words: ['um']\n",
      "Node 82:\n",
      "  Words: ['well']\n",
      "Node 83:\n",
      "  Words: ['when']\n",
      "Node 84:\n",
      "  Words: ['yes']\n"
     ]
    }
   ],
   "source": [
    "mapper_graph = pipe.fit_transform(distance_matrix)\n",
    "column_names = distance_matrix_raw.columns.tolist()\n",
    "node_elements = mapper_graph.vs[\"node_elements\"]\n",
    "\n",
    "for node_id, indices in enumerate(node_elements):\n",
    "    words = [column_names[i] for i in indices]\n",
    "    print(f\"Node {node_id}:\")\n",
    "    #print(f\"  Indices: {indices}\")\n",
    "    print(f\"Words: {words}\")\n"
   ]
  },
  {
   "cell_type": "code",
   "execution_count": 42,
   "id": "cd0d5112-dab1-4bc1-8fa1-e0071f1c69f4",
   "metadata": {},
   "outputs": [
    {
     "name": "stdout",
     "output_type": "stream",
     "text": [
      "<class 'igraph.Graph'>\n",
      "['pullback_set_label', 'partial_cluster_label', 'node_elements']\n",
      "Node ID: 1, Node elements: [ 3 97], Data points: [[-0.20309507 -0.06242241  0.17991439  0.00251489 -0.01076365]\n",
      " [-0.20468865 -0.07222665  0.13540522 -0.00639348 -0.00048297]]\n"
     ]
    }
   ],
   "source": [
    "\n",
    "mapper_graph = pipe.fit_transform(mds_coords)  # Create the mapper graph\n",
    "print(type(mapper_graph))\n",
    "\n",
    "print(mapper_graph.vs.attributes())\n",
    "\n",
    "# Find which points belong to first node of graph\n",
    "#node_id = 1\n",
    "node_elements = mapper_graph.vs[\"node_elements\"]\n",
    "#print(f\"Node ID: {node_id}, Node elements: {node_elements[node_id]}, Data points: {mds_coords[node_elements[node_id]]}\")\n"
   ]
  },
  {
   "cell_type": "code",
   "execution_count": 39,
   "id": "94f013c7-4c1d-4ba6-b723-0204b4eb8573",
   "metadata": {},
   "outputs": [],
   "source": [
    "distance_matrix_raw = pd.read_csv(\"distance_matrix.csv\")"
   ]
  },
  {
   "cell_type": "code",
   "execution_count": null,
   "id": "9c391592-76e5-471f-b41e-fe0b4604c4bb",
   "metadata": {},
   "outputs": [],
   "source": []
  },
  {
   "cell_type": "code",
   "execution_count": null,
   "id": "90fe6233-f138-4676-b382-275c1a87e509",
   "metadata": {},
   "outputs": [],
   "source": []
  },
  {
   "cell_type": "code",
   "execution_count": null,
   "id": "854dfba3-b7f7-48be-bb30-09db94bed1cc",
   "metadata": {},
   "outputs": [],
   "source": [
    "\n"
   ]
  },
  {
   "cell_type": "code",
   "execution_count": null,
   "id": "354d7738-d308-4de8-877d-6e87edf8a24c",
   "metadata": {},
   "outputs": [],
   "source": []
  },
  {
   "cell_type": "code",
   "execution_count": 44,
   "id": "07339636-4779-42ee-abd0-b6fabdb09aa9",
   "metadata": {
    "scrolled": true,
    "tags": []
   },
   "outputs": [
    {
     "name": "stdout",
     "output_type": "stream",
     "text": [
      "3\n"
     ]
    },
    {
     "name": "stderr",
     "output_type": "stream",
     "text": [
      "/Users/lu/opt/anaconda3/lib/python3.9/site-packages/sklearn/manifold/_mds.py:601: UserWarning:\n",
      "\n",
      "The MDS API has changed. ``fit`` now constructs an dissimilarity matrix from data. To use a custom dissimilarity matrix, set ``dissimilarity='precomputed'``.\n",
      "\n"
     ]
    },
    {
     "name": "stdout",
     "output_type": "stream",
     "text": [
      "Node 0:\n",
      "  Words: [\"'d\", \"'ll\", \"'m\", \"'re\", \"'s\", \"'ve\", 'mean', 'wan']\n",
      "Node 1:\n",
      "  Words: [\"'d\", \"'ll\", \"'m\", \"'re\", \"'s\", \"'ve\", 'ca', 'guess', 'mean', 'then']\n",
      "Node 2:\n",
      "  Words: [\"'d\", \"'m\", \"'re\", \"'s\", \"'ve\", 'gon', 'na', 'pretty', 'tell', 'wan']\n",
      "Node 3:\n",
      "  Words: [\"'d\", \"'m\", \"'re\", \"'s\", \"'ve\", 'a', 'as', 'been', 'ca', 'call', 'could', 'get', 'getting', 'gon', 'got', 'guess', 'had', 'have', 'into', 'kind', 'lot', 'make', 'much', \"n't\", 'need', 'pretty', 'put', 'should', 'tell', 'think', 'thought', 'told', 'want', 'wanted', 'was', 'would', 'give']\n",
      "Node 4:\n",
      "  Words: ['a', 'about', 'all', 'always', 'any', 'are', 'at', 'be', 'by', 'call', 'came', 'can', 'come', 'could', 'day', 'did', 'do', 'does', 'doing', 'down', 'even', 'every', 'first', 'five', 'for', 'four', 'from', 'getting', 'go', 'goes', 'going', 'got', 'guess', 'guy', 'has', 'have', 'he', 'her', 'if', 'in', 'into', 'is', 'it', 'just', 'kind', 'kinda', 'like', 'long', 'look', 'make', 'me', 'more', 'much', \"n't\", 'never', 'not', 'off', 'on', 'one', 'only', 'over', 'people', 'probably', 'put', 'really', 'said', 'say', 'see', 'she', 'should', 'some', 'something', 'still', 'than', 'that', 'them', 'there', 'they', 'this', 'those', 'three', 'through', 'told', 'two', 'was', 'way', 'we', 'went', 'were', 'what', 'will', 'with', 'would', 'years', 'you', 'remember', 'give']\n",
      "Node 5:\n",
      "  Words: ['after', 'day', 'good', 'he', 'how', 'if', 'is', 'it', 'like', 'maybe', 'me', 'much', 'now', 'really', 'said', 'say', 'see', 'she', 'something', 'them', 'there', 'they', 'too', 'we', 'what', 'when', 'where', 'who', 'why', 'years', 'you', 'remember']\n",
      "Node 6:\n",
      "  Words: ['an', 'another', 'big', 'different', 'little', 'much', 'my', 'new', 'of', 'or', 'other', 'our', 'real', 'ten', 'the', 'their', 'whole', 'your', 'his']\n",
      "Node 7:\n",
      "  Words: ['and', 'because', 'here', 'mom', 'so', 'though', 'which']\n",
      "Node 8:\n",
      "  Words: ['anything', 'around', 'before', 'big', 'different', 'em', 'everything', 'him', 'much', 'or', 'out', 'stuff', 'ten', 'thing', 'things', 'time', 'up', 'us', 'work', 'year', 'great', 'man']\n",
      "Node 9:\n",
      "  Words: ['as', 'get', 'lot', 'much', 'pretty', 'tell', 'thing', 'things', 'time', 'up']\n",
      "Node 10:\n",
      "  Words: ['because', 'but', 'well']\n",
      "Node 11:\n",
      "  Words: ['because', 'right', 'well']\n",
      "Node 12:\n",
      "  Words: ['but', 'cause', 'well']\n",
      "Node 13:\n",
      "  Words: ['day', 'he', 'here', 'how', 'i', 'if', 'let', 'maybe', 'now', 'she', 'them', 'they', 'too', 'we', 'when', 'where', 'who', 'years']\n",
      "Node 14:\n",
      "  Words: ['everything', 'or', 'stuff', 'uh', 'year', 'great', 'man']\n",
      "Node 15:\n",
      "  Words: ['everything', 'god', 'know', 'sure', 'uh', 'man']\n",
      "Node 16:\n",
      "  Words: ['everything', 'god', 'much', 'thing', 'man']\n",
      "Node 17:\n",
      "  Words: ['here', 'mom', 'now', 'then']\n",
      "Node 18:\n",
      "  Words: ['know', 'mom', 'now', 'sure', 'then']\n",
      "Node 19:\n",
      "  Words: ['mhm']\n",
      "Node 20:\n",
      "  Words: ['mm', 'oh', 'okay', 'um', 'yeah', 'alright']\n",
      "Node 21:\n",
      "  Words: ['mm', 'okay', 'yes', 'alright']\n",
      "Node 22:\n",
      "  Words: ['much', 'people', 'thing']\n",
      "Node 23:\n",
      "  Words: ['no', 'right', 'well']\n",
      "Node 24:\n",
      "  Words: ['or', 'real', 'then']\n",
      "Node 25:\n",
      "  Words: ['right', 'uh']\n",
      "Node 26:\n",
      "  Words: ['stuff', 'very', 'year']\n"
     ]
    }
   ],
   "source": [
    "import json\n",
    "import numpy as np\n",
    "\n",
    "np.random.seed(613)\n",
    "\n",
    "mapper_graph = pipe.fit_transform(distance_matrix)\n",
    "adjacency_matrix = np.array(mapper_graph.get_adjacency()).tolist()\n",
    "node_elements = [list(map(int, ne)) for ne in mapper_graph.vs[\"node_elements\"]]\n",
    "\n",
    "mapper_result_export = {\n",
    "    \"adjacency\": adjacency_matrix,\n",
    "    \"points_in_vertex\": node_elements\n",
    "}\n",
    "\n",
    "to_remove = set()\n",
    "n = len(node_elements)\n",
    "\n",
    "for i in range(n):\n",
    "    for j in range(n):\n",
    "        if i != j:\n",
    "            set_i = set(node_elements[i])\n",
    "            set_j = set(node_elements[j])\n",
    "            if set_i < set_j:  # proper subset\n",
    "                to_remove.add(i)\n",
    "                break  # i is a proper subset of j\n",
    "\n",
    "# Step 2: Sort indices descending to delete safely\n",
    "to_remove = sorted(to_remove, reverse=True)\n",
    "\n",
    "# Step 3: Remove from points_in_vertex and adjacency\n",
    "for idx in to_remove:\n",
    "    del node_elements[idx]\n",
    "    del adjacency_matrix[idx]\n",
    "    for row in adjacency_matrix:\n",
    "        del row[idx]\n",
    "\n",
    "# Step 4: Update the export dictionary\n",
    "mapper_result_export = {\n",
    "    \"adjacency\": adjacency_matrix,\n",
    "    \"points_in_vertex\": node_elements\n",
    "}\n",
    "\n",
    "\n",
    "\n",
    "column_names = distance_matrix_raw.columns.tolist()\n",
    "# Use cleaned node_elements from mapper_result_export\n",
    "cleaned_node_elements = mapper_result_export[\"points_in_vertex\"]\n",
    "\n",
    "for node_id, indices in enumerate(cleaned_node_elements):\n",
    "    words = [column_names[i] for i in indices]\n",
    "    print(f\"Node {node_id}:\")\n",
    "    print(f\"  Words: {words}\")\n",
    "\n",
    "with open(\"mapper_result.json\", \"w\") as f:\n",
    "    json.dump(mapper_result_export, f)\n"
   ]
  },
  {
   "cell_type": "code",
   "execution_count": null,
   "id": "22fe3a85-16c4-4648-93c3-ce5b5228d3bd",
   "metadata": {},
   "outputs": [],
   "source": [
    "\n",
    "points_in_vertex = data[\"points_in_vertex\"]\n",
    "adjacency = data[\"adjacency\"]\n",
    "\n",
    "# Step 1: Identify proper subsets\n",
    "to_remove = set()\n",
    "n = len(points_in_vertex)\n",
    "\n",
    "for i in range(n):\n",
    "    for j in range(n):\n",
    "        if i != j:\n",
    "            set_i = set(points_in_vertex[i])\n",
    "            set_j = set(points_in_vertex[j])\n",
    "            if set_i < set_j:  # proper subset\n",
    "                to_remove.add(i)\n",
    "                break  # No need to check further once i is known to be a subset\n",
    "\n",
    "# Step 2: Sort indices in descending order so we can safely delete\n",
    "to_remove = sorted(to_remove, reverse=True)\n",
    "\n",
    "# Step 3: Remove entries from both `points_in_vertex` and `adjacency`\n",
    "for idx in to_remove:\n",
    "    del points_in_vertex[idx]\n",
    "    del adjacency[idx]\n",
    "    for row in adjacency:\n",
    "        del row[idx]\n",
    "\n",
    "# (Optional) Save the cleaned version\n",
    "data[\"points_in_vertex\"] = points_in_vertex\n",
    "data[\"adjacency\"] = adjacency\n",
    "\n",
    "with open(\"cleaned_mapper_result.json\", \"w\") as f:\n",
    "    json.dump(data, f)"
   ]
  }
 ],
 "metadata": {
  "kernelspec": {
   "display_name": "Python 3 (ipykernel)",
   "language": "python",
   "name": "python3"
  },
  "language_info": {
   "codemirror_mode": {
    "name": "ipython",
    "version": 3
   },
   "file_extension": ".py",
   "mimetype": "text/x-python",
   "name": "python",
   "nbconvert_exporter": "python",
   "pygments_lexer": "ipython3",
   "version": "3.9.18"
  }
 },
 "nbformat": 4,
 "nbformat_minor": 5
}
