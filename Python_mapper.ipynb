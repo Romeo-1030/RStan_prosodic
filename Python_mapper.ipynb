{
 "cells": [
  {
   "cell_type": "code",
   "execution_count": 1,
   "id": "fcc9c7c1-7d22-4c7c-8783-a6e850026f4c",
   "metadata": {},
   "outputs": [],
   "source": [
    "# Data wrangling\n",
    "import numpy as np\n",
    "import pandas as pd  # Not a requirement of giotto-tda, but is compatible with the gtda.mapper module\n",
    "\n",
    "# Data viz\n",
    "from gtda.plotting import plot_point_cloud\n",
    "\n",
    "# TDA magic\n",
    "from gtda.mapper import (\n",
    "    CubicalCover,\n",
    "    make_mapper_pipeline,\n",
    "    Projection,\n",
    "    plot_static_mapper_graph,\n",
    "    plot_interactive_mapper_graph,\n",
    "    MapperInteractivePlotter\n",
    ")\n",
    "\n",
    "# ML tools\n",
    "from sklearn import datasets\n",
    "from sklearn.cluster import DBSCAN\n",
    "from sklearn.decomposition import PCA\n",
    "from sklearn.manifold import MDS\n",
    "import random"
   ]
  },
  {
   "cell_type": "code",
   "execution_count": 3,
   "id": "630f996a-21d3-448b-b771-b99c64805054",
   "metadata": {},
   "outputs": [],
   "source": [
    "#pip install giotto-tda\n"
   ]
  },
  {
   "cell_type": "code",
   "execution_count": 5,
   "id": "c277c712-54f0-40c2-b900-7cf5cb6667ca",
   "metadata": {},
   "outputs": [],
   "source": [
    "mds_coords = pd.read_csv(\"mds_coords_k3.csv\").values \n",
    "distance_matrix = pd.read_csv(\"distance_matrix.csv\").values\n",
    "pdf_matrix = pd.read_csv(\"pdf_matrix.csv\").values"
   ]
  },
  {
   "cell_type": "code",
   "execution_count": 7,
   "id": "6ec68dcf-2599-424d-8efd-183fbfd82b3b",
   "metadata": {},
   "outputs": [],
   "source": [
    "# Issues:\n",
    "# mds doesn't have .transform function\n",
    "# if no fit_transform, then .fit.transform()\n",
    "\n",
    "from sklearn.base import BaseEstimator, TransformerMixin\n",
    "from sklearn.manifold import MDS\n",
    "\n",
    "class WrappedMDS(BaseEstimator, TransformerMixin):\n",
    "    def __init__(self, n_components=5, normalized_stress='auto'):\n",
    "        self.n_components = n_components\n",
    "        self.normalized_stress = normalized_stress\n",
    "        self.mds = MDS(n_components=n_components, \n",
    "                       #dissimilarity='euclidean', \n",
    "                       normalized_stress=normalized_stress)\n",
    "\n",
    "    def fit(self, X, y=None):\n",
    "        print(\"1\")\n",
    "        self.mds.fit(X)\n",
    "        return self\n",
    "\n",
    "    def transform(self, X):\n",
    "        print(\"2\")\n",
    "        return self.mds.fit_transform(X)\n",
    "    \n",
    "    def fit_transform(self, X, y=None):\n",
    "        print(\"3\")\n",
    "        return self.mds.fit_transform(X)\n",
    "\n",
    "\n",
    "filter_func = WrappedMDS(n_components=5)\n"
   ]
  },
  {
   "cell_type": "code",
   "execution_count": 100,
   "id": "983e6774-0845-4987-8e04-cf263d06af70",
   "metadata": {},
   "outputs": [],
   "source": [
    "## testing which part of PCA\n",
    "#from sklearn.base import BaseEstimator, TransformerMixin\n",
    "#from sklearn.decomposition import PCA\n",
    "\n",
    "#class WrappedPCA(BaseEstimator, TransformerMixin):\n",
    "    #def __init__(self, n_components=2):\n",
    "        #self.n_components = n_components\n",
    "        #self.pca = PCA(n_components=n_components)\n",
    "\n",
    "    #def fit(self, X, y=None):\n",
    "        #self.pca.fit(X)\n",
    "        #print(\"1\")\n",
    "        #return self\n",
    "\n",
    "    #def transform(self, X):\n",
    "        #print(\"2\")\n",
    "        #return self.pca.transform(X)\n",
    "\n",
    "    #def fit_transform(self, X, y=None):\n",
    "        #print(\"3\")\n",
    "        #return self.pca.fit_transform(X)\n",
    "#filter_func = WrappedPCA(n_components=5)"
   ]
  },
  {
   "cell_type": "code",
   "execution_count": 7,
   "id": "8f2f0404-f980-4dc5-82f2-e8225c8adf23",
   "metadata": {},
   "outputs": [],
   "source": [
    "mds_coords_first_two = mds_coords[:, :2]"
   ]
  },
  {
   "cell_type": "code",
   "execution_count": 9,
   "id": "e59abf96-c401-4828-a444-bf5b50f6a932",
   "metadata": {},
   "outputs": [],
   "source": [
    "#filter_func = Projection(columns=[0, 1, 2]) # input original data, dimension reduction, PCA or any\n",
    "#filter_func = MDS(n_components=5)\n",
    "\n",
    "# Define cover\n",
    "cover = CubicalCover(n_intervals=4, overlap_frac=0.3)\n",
    "# Choose clustering algorithm – default is DBSCAN\n",
    "clusterer = DBSCAN(metric = \"precomputed\").fit(distance_matrix)\n",
    "\n",
    "\n",
    "# Configure parallelism of clustering step\n",
    "n_jobs = 1\n",
    "\n",
    "# Initialise pipeline\n",
    "pipe = make_mapper_pipeline(\n",
    "    filter_func=filter_func,\n",
    "    cover=cover,\n",
    "    clusterer=clusterer, # distance matrix is calculated here. \n",
    "    verbose=False,\n",
    "    n_jobs=n_jobs,\n",
    ")\n",
    "\n",
    "#mds, euclidean for the dbscan\n",
    "#set the filter as umap"
   ]
  },
  {
   "cell_type": "code",
   "execution_count": 13,
   "id": "5efce373-809a-4094-b1e8-c278c8545562",
   "metadata": {},
   "outputs": [
    {
     "name": "stdout",
     "output_type": "stream",
     "text": [
      "3\n"
     ]
    },
    {
     "name": "stderr",
     "output_type": "stream",
     "text": [
      "/opt/anaconda3/envs/mapper_env/lib/python3.11/site-packages/sklearn/manifold/_mds.py:601: UserWarning:\n",
      "\n",
      "The MDS API has changed. ``fit`` now constructs an dissimilarity matrix from data. To use a custom dissimilarity matrix, set ``dissimilarity='precomputed'``.\n",
      "\n"
     ]
    },
    {
     "data": {
      "application/vnd.plotly.v1+json": {
       "config": {
        "plotlyServerURL": "https://plot.ly",
        "scrollZoom": true
       },
       "data": [
        {
         "hoverinfo": "none",
         "line": {
          "color": "#888",
          "width": 1
         },
         "mode": "lines",
         "name": "edge_trace",
         "type": "scatter",
         "uid": "4d6bfaa5-a9a4-4c30-8ee7-a336596e1f5f",
         "x": [
          -1.3708532582189021,
          -1.0366175636409318,
          null,
          -1.3708532582189021,
          -0.7736640276389727,
          null,
          -1.3708532582189021,
          -0.09673130866577136,
          null,
          -1.3708532582189021,
          -2.2273672971772673,
          null,
          -1.0366175636409318,
          -0.7736640276389727,
          null,
          -1.0366175636409318,
          -0.09673130866577136,
          null,
          -1.0366175636409318,
          -0.08543319997730187,
          null,
          -1.0366175636409318,
          -0.8186709786990319,
          null,
          -1.0366175636409318,
          -0.7966679732969227,
          null,
          -1.0366175636409318,
          -0.32658474242053515,
          null,
          -1.0366175636409318,
          -2.2273672971772673,
          null,
          -1.0366175636409318,
          0.06979525146658391,
          null,
          -1.0366175636409318,
          -1.404758229443992,
          null,
          -0.7736640276389727,
          -0.09673130866577136,
          null,
          -0.7736640276389727,
          0.41894215437956134,
          null,
          -0.7736640276389727,
          -0.021576774043550524,
          null,
          -0.09673130866577136,
          -0.08543319997730187,
          null,
          -0.09673130866577136,
          0.2175083333457651,
          null,
          -0.09673130866577136,
          0.7002134499327848,
          null,
          -0.09673130866577136,
          1.248787907381174,
          null,
          -0.09673130866577136,
          0.41894215437956134,
          null,
          -0.09673130866577136,
          0.867284380695765,
          null,
          -0.09673130866577136,
          -0.8186709786990319,
          null,
          -0.09673130866577136,
          0.9856510572948378,
          null,
          -0.09673130866577136,
          -0.021576774043550524,
          null,
          -0.08543319997730187,
          0.2175083333457651,
          null,
          -0.08543319997730187,
          0.7002134499327848,
          null,
          -0.08543319997730187,
          1.248787907381174,
          null,
          -0.08543319997730187,
          0.41894215437956134,
          null,
          -0.08543319997730187,
          -0.3961100300130882,
          null,
          -0.08543319997730187,
          -1.2348092781931252,
          null,
          -0.08543319997730187,
          0.867284380695765,
          null,
          -0.08543319997730187,
          -0.8186709786990319,
          null,
          -0.08543319997730187,
          0.9856510572948378,
          null,
          0.2175083333457651,
          0.7002134499327848,
          null,
          0.2175083333457651,
          1.248787907381174,
          null,
          0.2175083333457651,
          0.41894215437956134,
          null,
          0.2175083333457651,
          -0.3961100300130882,
          null,
          0.2175083333457651,
          -1.2348092781931252,
          null,
          0.2175083333457651,
          0.867284380695765,
          null,
          0.2175083333457651,
          0.05413912942571534,
          null,
          0.2175083333457651,
          -0.7966679732969227,
          null,
          0.2175083333457651,
          -0.32658474242053515,
          null,
          0.2175083333457651,
          0.9856510572948378,
          null,
          0.2175083333457651,
          0.7867993470064086,
          null,
          0.7002134499327848,
          1.248787907381174,
          null,
          0.7002134499327848,
          0.41894215437956134,
          null,
          0.7002134499327848,
          1.5369510745298147,
          null,
          0.7002134499327848,
          0.867284380695765,
          null,
          0.7002134499327848,
          -0.19586622723760486,
          null,
          0.7002134499327848,
          0.9856510572948378,
          null,
          0.7002134499327848,
          0.06979525146658391,
          null,
          0.7002134499327848,
          0.6288803947317603,
          null,
          -1.4193756140928684,
          -0.38071161721987434,
          null,
          -1.4193756140928684,
          -1.5582996723680675,
          null,
          -1.4193756140928684,
          -0.5174749495897165,
          null,
          -0.38071161721987434,
          -1.5582996723680675,
          null,
          -0.38071161721987434,
          -0.5174749495897165,
          null,
          -0.38071161721987434,
          0.40235224120587354,
          null,
          -0.38071161721987434,
          -0.34230700500408273,
          null,
          -0.38071161721987434,
          0.24207226753702463,
          null,
          -0.38071161721987434,
          -0.7267289147070145,
          null,
          -0.38071161721987434,
          0.7108097106216346,
          null,
          -1.5582996723680675,
          -0.5174749495897165,
          null,
          -1.5582996723680675,
          -0.7267289147070145,
          null,
          -1.5582996723680675,
          -1.878155041041343,
          null,
          -0.5174749495897165,
          0.40235224120587354,
          null,
          -0.5174749495897165,
          -0.34230700500408273,
          null,
          -0.5174749495897165,
          0.24207226753702463,
          null,
          -0.5174749495897165,
          -0.7267289147070145,
          null,
          -0.5174749495897165,
          0.7108097106216346,
          null,
          -0.5174749495897165,
          -0.3961100300130882,
          null,
          -0.5174749495897165,
          0.05413912942571534,
          null,
          -0.5174749495897165,
          -0.7966679732969227,
          null,
          -0.5174749495897165,
          -0.32658474242053515,
          null,
          -0.5174749495897165,
          -1.3572707582160155,
          null,
          -0.5174749495897165,
          -1.878155041041343,
          null,
          1.248787907381174,
          0.41894215437956134,
          null,
          1.248787907381174,
          1.5369510745298147,
          null,
          1.248787907381174,
          1.134292315453842,
          null,
          1.248787907381174,
          0.867284380695765,
          null,
          1.248787907381174,
          0.9856510572948378,
          null,
          1.248787907381174,
          0.06979525146658391,
          null,
          1.248787907381174,
          2.1470220680525705,
          null,
          1.248787907381174,
          2.410915850867977,
          null,
          1.248787907381174,
          2.0061105949604108,
          null,
          1.248787907381174,
          2.458966593200641,
          null,
          0.41894215437956134,
          0.867284380695765,
          null,
          0.41894215437956134,
          0.9856510572948378,
          null,
          0.41894215437956134,
          -0.021576774043550524,
          null,
          0.40235224120587354,
          -0.34230700500408273,
          null,
          0.40235224120587354,
          0.24207226753702463,
          null,
          0.40235224120587354,
          -0.7267289147070145,
          null,
          0.40235224120587354,
          0.7108097106216346,
          null,
          0.40235224120587354,
          1.0999563932808487,
          null,
          0.40235224120587354,
          0.6392853175674094,
          null,
          0.40235224120587354,
          1.4611299164947418,
          null,
          0.40235224120587354,
          1.444490838742998,
          null,
          -0.34230700500408273,
          0.24207226753702463,
          null,
          -0.34230700500408273,
          -0.7267289147070145,
          null,
          -0.34230700500408273,
          0.7108097106216346,
          null,
          0.24207226753702463,
          -0.7267289147070145,
          null,
          0.24207226753702463,
          0.7108097106216346,
          null,
          0.24207226753702463,
          1.0999563932808487,
          null,
          0.24207226753702463,
          0.6392853175674094,
          null,
          0.24207226753702463,
          1.4611299164947418,
          null,
          0.24207226753702463,
          1.444490838742998,
          null,
          -0.7267289147070145,
          0.7108097106216346,
          null,
          -0.7267289147070145,
          -1.878155041041343,
          null,
          0.7108097106216346,
          1.0999563932808487,
          null,
          0.7108097106216346,
          0.6392853175674094,
          null,
          0.7108097106216346,
          1.4611299164947418,
          null,
          0.7108097106216346,
          2.0345794286177257,
          null,
          0.7108097106216346,
          1.5784173485971544,
          null,
          0.7108097106216346,
          1.444490838742998,
          null,
          1.0999563932808487,
          0.6392853175674094,
          null,
          1.0999563932808487,
          1.038615143644844,
          null,
          1.0999563932808487,
          1.4611299164947418,
          null,
          1.0999563932808487,
          1.444490838742998,
          null,
          0.6392853175674094,
          1.4611299164947418,
          null,
          0.6392853175674094,
          1.444490838742998,
          null,
          -0.3961100300130882,
          -1.2348092781931252,
          null,
          -0.3961100300130882,
          0.05413912942571534,
          null,
          -0.3961100300130882,
          -0.7966679732969227,
          null,
          -0.3961100300130882,
          -0.32658474242053515,
          null,
          -0.3961100300130882,
          0.7867993470064086,
          null,
          1.5369510745298147,
          1.134292315453842,
          null,
          1.5369510745298147,
          0.867284380695765,
          null,
          1.5369510745298147,
          0.06979525146658391,
          null,
          1.5369510745298147,
          1.5784173485971544,
          null,
          1.5369510745298147,
          2.1470220680525705,
          null,
          1.5369510745298147,
          2.410915850867977,
          null,
          1.5369510745298147,
          2.328438556075017,
          null,
          1.5369510745298147,
          2.0061105949604108,
          null,
          1.5369510745298147,
          2.458966593200641,
          null,
          1.134292315453842,
          0.867284380695765,
          null,
          1.134292315453842,
          -0.32658474242053515,
          null,
          1.134292315453842,
          1.5784173485971544,
          null,
          1.134292315453842,
          2.328438556075017,
          null,
          1.134292315453842,
          2.0061105949604108,
          null,
          0.867284380695765,
          0.9856510572948378,
          null,
          -0.8186709786990319,
          -0.7966679732969227,
          null,
          -0.8186709786990319,
          -0.32658474242053515,
          null,
          -0.8186709786990319,
          0.06979525146658391,
          null,
          -0.8186709786990319,
          -1.404758229443992,
          null,
          0.05413912942571534,
          -0.7966679732969227,
          null,
          0.05413912942571534,
          0.7867993470064086,
          null,
          -0.7966679732969227,
          -0.32658474242053515,
          null,
          -0.7966679732969227,
          -1.3572707582160155,
          null,
          -0.7966679732969227,
          0.06979525146658391,
          null,
          -0.7966679732969227,
          -1.404758229443992,
          null,
          -0.32658474242053515,
          -1.3572707582160155,
          null,
          -0.32658474242053515,
          0.06979525146658391,
          null,
          -0.32658474242053515,
          -1.404758229443992,
          null,
          -0.19586622723760486,
          0.06979525146658391,
          null,
          -0.19586622723760486,
          0.6288803947317603,
          null,
          -6.672222943645271,
          -7.127406738465819,
          null,
          -6.672222943645271,
          -7.56397740707016,
          null,
          -6.672222943645271,
          -6.42262833329989,
          null,
          -6.672222943645271,
          -6.834194549346986,
          null,
          -6.672222943645271,
          -7.5986705135351675,
          null,
          -6.672222943645271,
          -7.293953885293042,
          null,
          -6.672222943645271,
          -6.722585926017221,
          null,
          -7.127406738465819,
          -7.56397740707016,
          null,
          -7.127406738465819,
          -6.42262833329989,
          null,
          -7.127406738465819,
          -6.834194549346986,
          null,
          -7.127406738465819,
          -7.293953885293042,
          null,
          -7.127406738465819,
          -6.722585926017221,
          null,
          -7.56397740707016,
          -6.42262833329989,
          null,
          -7.56397740707016,
          -7.5986705135351675,
          null,
          -7.56397740707016,
          -7.293953885293042,
          null,
          -7.56397740707016,
          -6.722585926017221,
          null,
          -6.42262833329989,
          -7.293953885293042,
          null,
          -6.42262833329989,
          -6.722585926017221,
          null,
          1.4611299164947418,
          2.0345794286177257,
          null,
          1.4611299164947418,
          1.5784173485971544,
          null,
          1.4611299164947418,
          1.444490838742998,
          null,
          0.06979525146658391,
          0.6288803947317603,
          null,
          0.06979525146658391,
          -1.404758229443992,
          null,
          2.0345794286177257,
          1.5784173485971544,
          null,
          1.5784173485971544,
          2.328438556075017,
          null,
          1.5784173485971544,
          2.0061105949604108,
          null,
          2.1470220680525705,
          2.410915850867977,
          null,
          2.328438556075017,
          2.0061105949604108,
          null,
          2.0061105949604108,
          2.458966593200641,
          null,
          -7.293953885293042,
          -6.722585926017221,
          null
         ],
         "y": [
          -2.2928086271702615,
          -1.3897365871798875,
          null,
          -2.2928086271702615,
          -2.6374055396888667,
          null,
          -2.2928086271702615,
          -1.9218353096907683,
          null,
          -2.2928086271702615,
          -1.8690714568447535,
          null,
          -1.3897365871798875,
          -2.6374055396888667,
          null,
          -1.3897365871798875,
          -1.9218353096907683,
          null,
          -1.3897365871798875,
          -1.2297192142705837,
          null,
          -1.3897365871798875,
          -1.0074934412754613,
          null,
          -1.3897365871798875,
          -0.07154547064414733,
          null,
          -1.3897365871798875,
          -0.09751792859453676,
          null,
          -1.3897365871798875,
          -1.8690714568447535,
          null,
          -1.3897365871798875,
          -1.055823903385036,
          null,
          -1.3897365871798875,
          -0.7306981586981811,
          null,
          -2.6374055396888667,
          -1.9218353096907683,
          null,
          -2.6374055396888667,
          -2.1470847970787017,
          null,
          -2.6374055396888667,
          -3.3105376081957947,
          null,
          -1.9218353096907683,
          -1.2297192142705837,
          null,
          -1.9218353096907683,
          -0.7465949173001967,
          null,
          -1.9218353096907683,
          -1.6178407604576266,
          null,
          -1.9218353096907683,
          -1.2625854450425786,
          null,
          -1.9218353096907683,
          -2.1470847970787017,
          null,
          -1.9218353096907683,
          -1.1726259365066736,
          null,
          -1.9218353096907683,
          -1.0074934412754613,
          null,
          -1.9218353096907683,
          -2.0101153319499048,
          null,
          -1.9218353096907683,
          -3.3105376081957947,
          null,
          -1.2297192142705837,
          -0.7465949173001967,
          null,
          -1.2297192142705837,
          -1.6178407604576266,
          null,
          -1.2297192142705837,
          -1.2625854450425786,
          null,
          -1.2297192142705837,
          -2.1470847970787017,
          null,
          -1.2297192142705837,
          0.3161474442363471,
          null,
          -1.2297192142705837,
          -0.525548085228081,
          null,
          -1.2297192142705837,
          -1.1726259365066736,
          null,
          -1.2297192142705837,
          -1.0074934412754613,
          null,
          -1.2297192142705837,
          -2.0101153319499048,
          null,
          -0.7465949173001967,
          -1.6178407604576266,
          null,
          -0.7465949173001967,
          -1.2625854450425786,
          null,
          -0.7465949173001967,
          -2.1470847970787017,
          null,
          -0.7465949173001967,
          0.3161474442363471,
          null,
          -0.7465949173001967,
          -0.525548085228081,
          null,
          -0.7465949173001967,
          -1.1726259365066736,
          null,
          -0.7465949173001967,
          0.505614126522291,
          null,
          -0.7465949173001967,
          -0.07154547064414733,
          null,
          -0.7465949173001967,
          -0.09751792859453676,
          null,
          -0.7465949173001967,
          -2.0101153319499048,
          null,
          -0.7465949173001967,
          0.18732589567602465,
          null,
          -1.6178407604576266,
          -1.2625854450425786,
          null,
          -1.6178407604576266,
          -2.1470847970787017,
          null,
          -1.6178407604576266,
          -0.5871809316957075,
          null,
          -1.6178407604576266,
          -1.1726259365066736,
          null,
          -1.6178407604576266,
          -2.550114483635679,
          null,
          -1.6178407604576266,
          -2.0101153319499048,
          null,
          -1.6178407604576266,
          -1.055823903385036,
          null,
          -1.6178407604576266,
          -2.657446980830927,
          null,
          2.386635342525208,
          1.979716142437778,
          null,
          2.386635342525208,
          1.923552652604299,
          null,
          2.386635342525208,
          1.2804339511761476,
          null,
          1.979716142437778,
          1.923552652604299,
          null,
          1.979716142437778,
          1.2804339511761476,
          null,
          1.979716142437778,
          2.2099657160298922,
          null,
          1.979716142437778,
          2.511407383747006,
          null,
          1.979716142437778,
          2.487279537895105,
          null,
          1.979716142437778,
          2.148006039911032,
          null,
          1.979716142437778,
          1.846454632965417,
          null,
          1.923552652604299,
          1.2804339511761476,
          null,
          1.923552652604299,
          2.148006039911032,
          null,
          1.923552652604299,
          1.573132161573591,
          null,
          1.2804339511761476,
          2.2099657160298922,
          null,
          1.2804339511761476,
          2.511407383747006,
          null,
          1.2804339511761476,
          2.487279537895105,
          null,
          1.2804339511761476,
          2.148006039911032,
          null,
          1.2804339511761476,
          1.846454632965417,
          null,
          1.2804339511761476,
          0.3161474442363471,
          null,
          1.2804339511761476,
          0.505614126522291,
          null,
          1.2804339511761476,
          -0.07154547064414733,
          null,
          1.2804339511761476,
          -0.09751792859453676,
          null,
          1.2804339511761476,
          0.687719932589005,
          null,
          1.2804339511761476,
          1.573132161573591,
          null,
          -1.2625854450425786,
          -2.1470847970787017,
          null,
          -1.2625854450425786,
          -0.5871809316957075,
          null,
          -1.2625854450425786,
          -0.01818095602248102,
          null,
          -1.2625854450425786,
          -1.1726259365066736,
          null,
          -1.2625854450425786,
          -2.0101153319499048,
          null,
          -1.2625854450425786,
          -1.055823903385036,
          null,
          -1.2625854450425786,
          -1.8109104472845827,
          null,
          -1.2625854450425786,
          -1.3503666710473692,
          null,
          -1.2625854450425786,
          -0.14579934289108498,
          null,
          -1.2625854450425786,
          -0.9566072617129613,
          null,
          -2.1470847970787017,
          -1.1726259365066736,
          null,
          -2.1470847970787017,
          -2.0101153319499048,
          null,
          -2.1470847970787017,
          -3.3105376081957947,
          null,
          2.2099657160298922,
          2.511407383747006,
          null,
          2.2099657160298922,
          2.487279537895105,
          null,
          2.2099657160298922,
          2.148006039911032,
          null,
          2.2099657160298922,
          1.846454632965417,
          null,
          2.2099657160298922,
          3.1710422739911475,
          null,
          2.2099657160298922,
          3.167468222072491,
          null,
          2.2099657160298922,
          2.1421991228364248,
          null,
          2.2099657160298922,
          2.8194884446624866,
          null,
          2.511407383747006,
          2.487279537895105,
          null,
          2.511407383747006,
          2.148006039911032,
          null,
          2.511407383747006,
          1.846454632965417,
          null,
          2.487279537895105,
          2.148006039911032,
          null,
          2.487279537895105,
          1.846454632965417,
          null,
          2.487279537895105,
          3.1710422739911475,
          null,
          2.487279537895105,
          3.167468222072491,
          null,
          2.487279537895105,
          2.1421991228364248,
          null,
          2.487279537895105,
          2.8194884446624866,
          null,
          2.148006039911032,
          1.846454632965417,
          null,
          2.148006039911032,
          1.573132161573591,
          null,
          1.846454632965417,
          3.1710422739911475,
          null,
          1.846454632965417,
          3.167468222072491,
          null,
          1.846454632965417,
          2.1421991228364248,
          null,
          1.846454632965417,
          1.75915144450159,
          null,
          1.846454632965417,
          0.8977123654700246,
          null,
          1.846454632965417,
          2.8194884446624866,
          null,
          3.1710422739911475,
          3.167468222072491,
          null,
          3.1710422739911475,
          4.3800906885020465,
          null,
          3.1710422739911475,
          2.1421991228364248,
          null,
          3.1710422739911475,
          2.8194884446624866,
          null,
          3.167468222072491,
          2.1421991228364248,
          null,
          3.167468222072491,
          2.8194884446624866,
          null,
          0.3161474442363471,
          -0.525548085228081,
          null,
          0.3161474442363471,
          0.505614126522291,
          null,
          0.3161474442363471,
          -0.07154547064414733,
          null,
          0.3161474442363471,
          -0.09751792859453676,
          null,
          0.3161474442363471,
          0.18732589567602465,
          null,
          -0.5871809316957075,
          -0.01818095602248102,
          null,
          -0.5871809316957075,
          -1.1726259365066736,
          null,
          -0.5871809316957075,
          -1.055823903385036,
          null,
          -0.5871809316957075,
          0.8977123654700246,
          null,
          -0.5871809316957075,
          -1.8109104472845827,
          null,
          -0.5871809316957075,
          -1.3503666710473692,
          null,
          -0.5871809316957075,
          0.36081107578397137,
          null,
          -0.5871809316957075,
          -0.14579934289108498,
          null,
          -0.5871809316957075,
          -0.9566072617129613,
          null,
          -0.01818095602248102,
          -1.1726259365066736,
          null,
          -0.01818095602248102,
          -0.09751792859453676,
          null,
          -0.01818095602248102,
          0.8977123654700246,
          null,
          -0.01818095602248102,
          0.36081107578397137,
          null,
          -0.01818095602248102,
          -0.14579934289108498,
          null,
          -1.1726259365066736,
          -2.0101153319499048,
          null,
          -1.0074934412754613,
          -0.07154547064414733,
          null,
          -1.0074934412754613,
          -0.09751792859453676,
          null,
          -1.0074934412754613,
          -1.055823903385036,
          null,
          -1.0074934412754613,
          -0.7306981586981811,
          null,
          0.505614126522291,
          -0.07154547064414733,
          null,
          0.505614126522291,
          0.18732589567602465,
          null,
          -0.07154547064414733,
          -0.09751792859453676,
          null,
          -0.07154547064414733,
          0.687719932589005,
          null,
          -0.07154547064414733,
          -1.055823903385036,
          null,
          -0.07154547064414733,
          -0.7306981586981811,
          null,
          -0.09751792859453676,
          0.687719932589005,
          null,
          -0.09751792859453676,
          -1.055823903385036,
          null,
          -0.09751792859453676,
          -0.7306981586981811,
          null,
          -2.550114483635679,
          -1.055823903385036,
          null,
          -2.550114483635679,
          -2.657446980830927,
          null,
          0.8744348706228725,
          0.9966878596459804,
          null,
          0.8744348706228725,
          1.363375206206757,
          null,
          0.8744348706228725,
          1.674806248655076,
          null,
          0.8744348706228725,
          -0.20512433077670672,
          null,
          0.8744348706228725,
          0.14702305568520813,
          null,
          0.8744348706228725,
          2.0341675285789744,
          null,
          0.8744348706228725,
          2.193496216751842,
          null,
          0.9966878596459804,
          1.363375206206757,
          null,
          0.9966878596459804,
          1.674806248655076,
          null,
          0.9966878596459804,
          -0.20512433077670672,
          null,
          0.9966878596459804,
          2.0341675285789744,
          null,
          0.9966878596459804,
          2.193496216751842,
          null,
          1.363375206206757,
          1.674806248655076,
          null,
          1.363375206206757,
          0.14702305568520813,
          null,
          1.363375206206757,
          2.0341675285789744,
          null,
          1.363375206206757,
          2.193496216751842,
          null,
          1.674806248655076,
          2.0341675285789744,
          null,
          1.674806248655076,
          2.193496216751842,
          null,
          2.1421991228364248,
          1.75915144450159,
          null,
          2.1421991228364248,
          0.8977123654700246,
          null,
          2.1421991228364248,
          2.8194884446624866,
          null,
          -1.055823903385036,
          -2.657446980830927,
          null,
          -1.055823903385036,
          -0.7306981586981811,
          null,
          1.75915144450159,
          0.8977123654700246,
          null,
          0.8977123654700246,
          0.36081107578397137,
          null,
          0.8977123654700246,
          -0.14579934289108498,
          null,
          -1.8109104472845827,
          -1.3503666710473692,
          null,
          0.36081107578397137,
          -0.14579934289108498,
          null,
          -0.14579934289108498,
          -0.9566072617129613,
          null,
          2.0341675285789744,
          2.193496216751842,
          null
         ]
        },
        {
         "hoverinfo": "text",
         "hovertext": [
          "Node ID: 0<br>Pullback set label: 49<br>Partial cluster label: 0<br>Node size: 8<br>Summary statistic: 33.0",
          "Node ID: 1<br>Pullback set label: 50<br>Partial cluster label: 0<br>Node size: 10<br>Summary statistic: 32.9",
          "Node ID: 2<br>Pullback set label: 52<br>Partial cluster label: 0<br>Node size: 10<br>Summary statistic: 57.6",
          "Node ID: 3<br>Pullback set label: 53<br>Partial cluster label: 0<br>Node size: 37<br>Summary statistic: 79.7",
          "Node ID: 4<br>Pullback set label: 54<br>Partial cluster label: 0<br>Node size: 97<br>Summary statistic: 91.2",
          "Node ID: 5<br>Pullback set label: 40<br>Partial cluster label: 0<br>Node size: 32<br>Summary statistic: 119.0",
          "Node ID: 6<br>Pullback set label: 39<br>Partial cluster label: 0<br>Node size: 19<br>Summary statistic: 103.0",
          "Node ID: 7<br>Pullback set label: 11<br>Partial cluster label: -1<br>Node size: 1<br>Summary statistic: 12.0",
          "Node ID: 8<br>Pullback set label: 12<br>Partial cluster label: -1<br>Node size: 2<br>Summary statistic: 16.5",
          "Node ID: 9<br>Pullback set label: 20<br>Partial cluster label: -1<br>Node size: 2<br>Summary statistic: 80.0",
          "Node ID: 10<br>Pullback set label: 21<br>Partial cluster label: 0<br>Node size: 7<br>Summary statistic: 91.1",
          "Node ID: 11<br>Pullback set label: 44<br>Partial cluster label: 0<br>Node size: 22<br>Summary statistic: 106.0",
          "Node ID: 12<br>Pullback set label: 56<br>Partial cluster label: 0<br>Node size: 10<br>Summary statistic: 109.0",
          "Node ID: 13<br>Pullback set label: 3<br>Partial cluster label: -1<br>Node size: 3<br>Summary statistic: 71.0",
          "Node ID: 14<br>Pullback set label: 4<br>Partial cluster label: -1<br>Node size: 1<br>Summary statistic: 21.0",
          "Node ID: 15<br>Pullback set label: 14<br>Partial cluster label: -1<br>Node size: 2<br>Summary statistic: 94.0",
          "Node ID: 16<br>Pullback set label: 16<br>Partial cluster label: -1<br>Node size: 2<br>Summary statistic: 84.5",
          "Node ID: 17<br>Pullback set label: 19<br>Partial cluster label: -1<br>Node size: 3<br>Summary statistic: 103.0",
          "Node ID: 18<br>Pullback set label: 2<br>Partial cluster label: -1<br>Node size: 3<br>Summary statistic: 74.3",
          "Node ID: 19<br>Pullback set label: 10<br>Partial cluster label: -1<br>Node size: 2<br>Summary statistic: 96.0",
          "Node ID: 20<br>Pullback set label: 1<br>Partial cluster label: -1<br>Node size: 1<br>Summary statistic: 31.0",
          "Node ID: 21<br>Pullback set label: 35<br>Partial cluster label: 0<br>Node size: 18<br>Summary statistic: 115.0",
          "Node ID: 22<br>Pullback set label: 47<br>Partial cluster label: 0<br>Node size: 8<br>Summary statistic: 115.0",
          "Node ID: 23<br>Pullback set label: 42<br>Partial cluster label: 0<br>Node size: 7<br>Summary statistic: 143.0",
          "Node ID: 24<br>Pullback set label: 43<br>Partial cluster label: 0<br>Node size: 6<br>Summary statistic: 109.0",
          "Node ID: 25<br>Pullback set label: 45<br>Partial cluster label: 0<br>Node size: 5<br>Summary statistic: 104.0",
          "Node ID: 26<br>Pullback set label: 51<br>Partial cluster label: -1<br>Node size: 2<br>Summary statistic: 99.5",
          "Node ID: 27<br>Pullback set label: 22<br>Partial cluster label: -1<br>Node size: 2<br>Summary statistic: 120.0",
          "Node ID: 28<br>Pullback set label: 34<br>Partial cluster label: -1<br>Node size: 4<br>Summary statistic: 99.8",
          "Node ID: 29<br>Pullback set label: 37<br>Partial cluster label: 0<br>Node size: 5<br>Summary statistic: 109.0",
          "Node ID: 30<br>Pullback set label: 38<br>Partial cluster label: 0<br>Node size: 5<br>Summary statistic: 115.0",
          "Node ID: 31<br>Pullback set label: 48<br>Partial cluster label: -1<br>Node size: 1<br>Summary statistic: 88.0",
          "Node ID: 32<br>Pullback set label: 0<br>Partial cluster label: -1<br>Node size: 1<br>Summary statistic: 89.0",
          "Node ID: 33<br>Pullback set label: 7<br>Partial cluster label: 0<br>Node size: 6<br>Summary statistic: 138.0",
          "Node ID: 34<br>Pullback set label: 8<br>Partial cluster label: -1<br>Node size: 4<br>Summary statistic: 136.0",
          "Node ID: 35<br>Pullback set label: 17<br>Partial cluster label: -1<br>Node size: 4<br>Summary statistic: 143.0",
          "Node ID: 36<br>Pullback set label: 18<br>Partial cluster label: -1<br>Node size: 3<br>Summary statistic: 155.0",
          "Node ID: 37<br>Pullback set label: 27<br>Partial cluster label: -1<br>Node size: 1<br>Summary statistic: 91.0",
          "Node ID: 38<br>Pullback set label: 57<br>Partial cluster label: -1<br>Node size: 3<br>Summary statistic: 117.0",
          "Node ID: 39<br>Pullback set label: 55<br>Partial cluster label: -1<br>Node size: 3<br>Summary statistic: 115.0",
          "Node ID: 40<br>Pullback set label: 23<br>Partial cluster label: -1<br>Node size: 3<br>Summary statistic: 129.0",
          "Node ID: 41<br>Pullback set label: 5<br>Partial cluster label: -1<br>Node size: 1<br>Summary statistic: 105.0",
          "Node ID: 42<br>Pullback set label: 9<br>Partial cluster label: -1<br>Node size: 1<br>Summary statistic: 106.0",
          "Node ID: 43<br>Pullback set label: 36<br>Partial cluster label: -1<br>Node size: 3<br>Summary statistic: 123.0",
          "Node ID: 44<br>Pullback set label: 26<br>Partial cluster label: -1<br>Node size: 1<br>Summary statistic: 119.0",
          "Node ID: 45<br>Pullback set label: 25<br>Partial cluster label: -1<br>Node size: 1<br>Summary statistic: 121.0",
          "Node ID: 46<br>Pullback set label: 30<br>Partial cluster label: -1<br>Node size: 2<br>Summary statistic: 138.0",
          "Node ID: 47<br>Pullback set label: 41<br>Partial cluster label: -1<br>Node size: 3<br>Summary statistic: 158.0",
          "Node ID: 48<br>Pullback set label: 46<br>Partial cluster label: -1<br>Node size: 2<br>Summary statistic: 156.0",
          "Node ID: 49<br>Pullback set label: 33<br>Partial cluster label: -1<br>Node size: 1<br>Summary statistic: 140.0",
          "Node ID: 50<br>Pullback set label: 15<br>Partial cluster label: -1<br>Node size: 1<br>Summary statistic: 148.0",
          "Node ID: 51<br>Pullback set label: 29<br>Partial cluster label: -1<br>Node size: 1<br>Summary statistic: 156.0",
          "Node ID: 52<br>Pullback set label: 31<br>Partial cluster label: -1<br>Node size: 2<br>Summary statistic: 172.0",
          "Node ID: 53<br>Pullback set label: 6<br>Partial cluster label: -1<br>Node size: 1<br>Summary statistic: 167.0",
          "Node ID: 54<br>Pullback set label: 28<br>Partial cluster label: -1<br>Node size: 1<br>Summary statistic: 174.0",
          "Node ID: 55<br>Pullback set label: 24<br>Partial cluster label: -1<br>Node size: 2<br>Summary statistic: 188.0",
          "Node ID: 56<br>Pullback set label: 32<br>Partial cluster label: -1<br>Node size: 1<br>Summary statistic: 187.0",
          "Node ID: 57<br>Pullback set label: 13<br>Partial cluster label: -1<br>Node size: 1<br>Summary statistic: 191.0"
         ],
         "marker": {
          "color": [
           33,
           32.9,
           57.6,
           79.70270270270271,
           91.23711340206185,
           118.8125,
           103.36842105263158,
           12,
           16.5,
           80,
           91.14285714285714,
           106.4090909090909,
           109.1,
           71,
           21,
           94,
           84.5,
           103,
           74.33333333333333,
           96,
           31,
           114.66666666666667,
           115.375,
           142.71428571428572,
           108.66666666666667,
           104.4,
           99.5,
           120,
           99.75,
           108.6,
           115.4,
           88,
           89,
           138.33333333333334,
           135.75,
           142.75,
           155,
           91,
           117,
           115,
           129.33333333333334,
           105,
           106,
           123,
           119,
           121,
           138.5,
           157.66666666666666,
           156.5,
           140,
           148,
           156,
           171.5,
           167,
           174,
           187.5,
           187,
           191
          ],
          "colorbar": {
           "thickness": 15,
           "title": {
            "side": "right",
            "text": ""
           },
           "xanchor": "left"
          },
          "colorscale": [
           [
            0,
            "#440154"
           ],
           [
            0.1111111111111111,
            "#482878"
           ],
           [
            0.2222222222222222,
            "#3e4989"
           ],
           [
            0.3333333333333333,
            "#31688e"
           ],
           [
            0.4444444444444444,
            "#26828e"
           ],
           [
            0.5555555555555556,
            "#1f9e89"
           ],
           [
            0.6666666666666666,
            "#35b779"
           ],
           [
            0.7777777777777778,
            "#6ece58"
           ],
           [
            0.8888888888888888,
            "#b5de2b"
           ],
           [
            1,
            "#fde725"
           ]
          ],
          "line": {
           "color": "#888",
           "width": 1
          },
          "opacity": 1,
          "reversescale": false,
          "showscale": true,
          "size": [
           8,
           10,
           10,
           37,
           97,
           32,
           19,
           1,
           2,
           2,
           7,
           22,
           10,
           3,
           1,
           2,
           2,
           3,
           3,
           2,
           1,
           18,
           8,
           7,
           6,
           5,
           2,
           2,
           4,
           5,
           5,
           1,
           1,
           6,
           4,
           4,
           3,
           1,
           3,
           3,
           3,
           1,
           1,
           3,
           1,
           1,
           2,
           3,
           2,
           1,
           1,
           1,
           2,
           1,
           1,
           2,
           1,
           1
          ],
          "sizemin": 4,
          "sizemode": "area",
          "sizeref": 1.3472222222222223
         },
         "mode": "markers",
         "name": "node_trace",
         "type": "scatter",
         "uid": "8da034f1-6de0-464d-ab14-98f31ae8289f",
         "x": [
          -1.3708532582189021,
          -1.0366175636409318,
          -0.7736640276389727,
          -0.09673130866577136,
          -0.08543319997730187,
          0.2175083333457651,
          0.7002134499327848,
          -1.4193756140928684,
          -0.38071161721987434,
          -1.5582996723680675,
          -0.5174749495897165,
          1.248787907381174,
          0.41894215437956134,
          0.40235224120587354,
          -0.34230700500408273,
          0.24207226753702463,
          -0.7267289147070145,
          0.7108097106216346,
          1.0999563932808487,
          0.6392853175674094,
          1.038615143644844,
          -0.3961100300130882,
          -1.2348092781931252,
          1.5369510745298147,
          1.134292315453842,
          0.867284380695765,
          -0.8186709786990319,
          0.05413912942571534,
          -0.7966679732969227,
          -0.32658474242053515,
          -0.19586622723760486,
          -2.2273672971772673,
          -5.029106065297523,
          -6.672222943645271,
          -7.127406738465819,
          -7.56397740707016,
          -6.42262833329989,
          -1.3572707582160155,
          0.9856510572948378,
          -0.021576774043550524,
          1.4611299164947418,
          -6.834194549346986,
          -7.5986705135351675,
          0.06979525146658391,
          0.6288803947317603,
          2.0345794286177257,
          1.5784173485971544,
          2.1470220680525705,
          2.410915850867977,
          -1.404758229443992,
          -1.878155041041343,
          2.328438556075017,
          2.0061105949604108,
          1.444490838742998,
          0.7867993470064086,
          -7.293953885293042,
          2.458966593200641,
          -6.722585926017221
         ],
         "y": [
          -2.2928086271702615,
          -1.3897365871798875,
          -2.6374055396888667,
          -1.9218353096907683,
          -1.2297192142705837,
          -0.7465949173001967,
          -1.6178407604576266,
          2.386635342525208,
          1.979716142437778,
          1.923552652604299,
          1.2804339511761476,
          -1.2625854450425786,
          -2.1470847970787017,
          2.2099657160298922,
          2.511407383747006,
          2.487279537895105,
          2.148006039911032,
          1.846454632965417,
          3.1710422739911475,
          3.167468222072491,
          4.3800906885020465,
          0.3161474442363471,
          -0.525548085228081,
          -0.5871809316957075,
          -0.01818095602248102,
          -1.1726259365066736,
          -1.0074934412754613,
          0.505614126522291,
          -0.07154547064414733,
          -0.09751792859453676,
          -2.550114483635679,
          -1.8690714568447535,
          -5.3007464306071865,
          0.8744348706228725,
          0.9966878596459804,
          1.363375206206757,
          1.674806248655076,
          0.687719932589005,
          -2.0101153319499048,
          -3.3105376081957947,
          2.1421991228364248,
          -0.20512433077670672,
          0.14702305568520813,
          -1.055823903385036,
          -2.657446980830927,
          1.75915144450159,
          0.8977123654700246,
          -1.8109104472845827,
          -1.3503666710473692,
          -0.7306981586981811,
          1.573132161573591,
          0.36081107578397137,
          -0.14579934289108498,
          2.8194884446624866,
          0.18732589567602465,
          2.0341675285789744,
          -0.9566072617129613,
          2.193496216751842
         ]
        }
       ],
       "layout": {
        "autosize": false,
        "height": 450,
        "hovermode": "closest",
        "margin": {
         "b": 20,
         "l": 5,
         "r": 5,
         "t": 40
        },
        "showlegend": false,
        "template": {
         "data": {
          "bar": [
           {
            "error_x": {
             "color": "rgb(36,36,36)"
            },
            "error_y": {
             "color": "rgb(36,36,36)"
            },
            "marker": {
             "line": {
              "color": "white",
              "width": 0.5
             },
             "pattern": {
              "fillmode": "overlay",
              "size": 10,
              "solidity": 0.2
             }
            },
            "type": "bar"
           }
          ],
          "barpolar": [
           {
            "marker": {
             "line": {
              "color": "white",
              "width": 0.5
             },
             "pattern": {
              "fillmode": "overlay",
              "size": 10,
              "solidity": 0.2
             }
            },
            "type": "barpolar"
           }
          ],
          "carpet": [
           {
            "aaxis": {
             "endlinecolor": "rgb(36,36,36)",
             "gridcolor": "white",
             "linecolor": "white",
             "minorgridcolor": "white",
             "startlinecolor": "rgb(36,36,36)"
            },
            "baxis": {
             "endlinecolor": "rgb(36,36,36)",
             "gridcolor": "white",
             "linecolor": "white",
             "minorgridcolor": "white",
             "startlinecolor": "rgb(36,36,36)"
            },
            "type": "carpet"
           }
          ],
          "choropleth": [
           {
            "colorbar": {
             "outlinewidth": 1,
             "tickcolor": "rgb(36,36,36)",
             "ticks": "outside"
            },
            "type": "choropleth"
           }
          ],
          "contour": [
           {
            "colorbar": {
             "outlinewidth": 1,
             "tickcolor": "rgb(36,36,36)",
             "ticks": "outside"
            },
            "colorscale": [
             [
              0,
              "#440154"
             ],
             [
              0.1111111111111111,
              "#482878"
             ],
             [
              0.2222222222222222,
              "#3e4989"
             ],
             [
              0.3333333333333333,
              "#31688e"
             ],
             [
              0.4444444444444444,
              "#26828e"
             ],
             [
              0.5555555555555556,
              "#1f9e89"
             ],
             [
              0.6666666666666666,
              "#35b779"
             ],
             [
              0.7777777777777778,
              "#6ece58"
             ],
             [
              0.8888888888888888,
              "#b5de2b"
             ],
             [
              1,
              "#fde725"
             ]
            ],
            "type": "contour"
           }
          ],
          "contourcarpet": [
           {
            "colorbar": {
             "outlinewidth": 1,
             "tickcolor": "rgb(36,36,36)",
             "ticks": "outside"
            },
            "type": "contourcarpet"
           }
          ],
          "heatmap": [
           {
            "colorbar": {
             "outlinewidth": 1,
             "tickcolor": "rgb(36,36,36)",
             "ticks": "outside"
            },
            "colorscale": [
             [
              0,
              "#440154"
             ],
             [
              0.1111111111111111,
              "#482878"
             ],
             [
              0.2222222222222222,
              "#3e4989"
             ],
             [
              0.3333333333333333,
              "#31688e"
             ],
             [
              0.4444444444444444,
              "#26828e"
             ],
             [
              0.5555555555555556,
              "#1f9e89"
             ],
             [
              0.6666666666666666,
              "#35b779"
             ],
             [
              0.7777777777777778,
              "#6ece58"
             ],
             [
              0.8888888888888888,
              "#b5de2b"
             ],
             [
              1,
              "#fde725"
             ]
            ],
            "type": "heatmap"
           }
          ],
          "heatmapgl": [
           {
            "colorbar": {
             "outlinewidth": 1,
             "tickcolor": "rgb(36,36,36)",
             "ticks": "outside"
            },
            "colorscale": [
             [
              0,
              "#440154"
             ],
             [
              0.1111111111111111,
              "#482878"
             ],
             [
              0.2222222222222222,
              "#3e4989"
             ],
             [
              0.3333333333333333,
              "#31688e"
             ],
             [
              0.4444444444444444,
              "#26828e"
             ],
             [
              0.5555555555555556,
              "#1f9e89"
             ],
             [
              0.6666666666666666,
              "#35b779"
             ],
             [
              0.7777777777777778,
              "#6ece58"
             ],
             [
              0.8888888888888888,
              "#b5de2b"
             ],
             [
              1,
              "#fde725"
             ]
            ],
            "type": "heatmapgl"
           }
          ],
          "histogram": [
           {
            "marker": {
             "line": {
              "color": "white",
              "width": 0.6
             }
            },
            "type": "histogram"
           }
          ],
          "histogram2d": [
           {
            "colorbar": {
             "outlinewidth": 1,
             "tickcolor": "rgb(36,36,36)",
             "ticks": "outside"
            },
            "colorscale": [
             [
              0,
              "#440154"
             ],
             [
              0.1111111111111111,
              "#482878"
             ],
             [
              0.2222222222222222,
              "#3e4989"
             ],
             [
              0.3333333333333333,
              "#31688e"
             ],
             [
              0.4444444444444444,
              "#26828e"
             ],
             [
              0.5555555555555556,
              "#1f9e89"
             ],
             [
              0.6666666666666666,
              "#35b779"
             ],
             [
              0.7777777777777778,
              "#6ece58"
             ],
             [
              0.8888888888888888,
              "#b5de2b"
             ],
             [
              1,
              "#fde725"
             ]
            ],
            "type": "histogram2d"
           }
          ],
          "histogram2dcontour": [
           {
            "colorbar": {
             "outlinewidth": 1,
             "tickcolor": "rgb(36,36,36)",
             "ticks": "outside"
            },
            "colorscale": [
             [
              0,
              "#440154"
             ],
             [
              0.1111111111111111,
              "#482878"
             ],
             [
              0.2222222222222222,
              "#3e4989"
             ],
             [
              0.3333333333333333,
              "#31688e"
             ],
             [
              0.4444444444444444,
              "#26828e"
             ],
             [
              0.5555555555555556,
              "#1f9e89"
             ],
             [
              0.6666666666666666,
              "#35b779"
             ],
             [
              0.7777777777777778,
              "#6ece58"
             ],
             [
              0.8888888888888888,
              "#b5de2b"
             ],
             [
              1,
              "#fde725"
             ]
            ],
            "type": "histogram2dcontour"
           }
          ],
          "mesh3d": [
           {
            "colorbar": {
             "outlinewidth": 1,
             "tickcolor": "rgb(36,36,36)",
             "ticks": "outside"
            },
            "type": "mesh3d"
           }
          ],
          "parcoords": [
           {
            "line": {
             "colorbar": {
              "outlinewidth": 1,
              "tickcolor": "rgb(36,36,36)",
              "ticks": "outside"
             }
            },
            "type": "parcoords"
           }
          ],
          "pie": [
           {
            "automargin": true,
            "type": "pie"
           }
          ],
          "scatter": [
           {
            "fillpattern": {
             "fillmode": "overlay",
             "size": 10,
             "solidity": 0.2
            },
            "type": "scatter"
           }
          ],
          "scatter3d": [
           {
            "line": {
             "colorbar": {
              "outlinewidth": 1,
              "tickcolor": "rgb(36,36,36)",
              "ticks": "outside"
             }
            },
            "marker": {
             "colorbar": {
              "outlinewidth": 1,
              "tickcolor": "rgb(36,36,36)",
              "ticks": "outside"
             }
            },
            "type": "scatter3d"
           }
          ],
          "scattercarpet": [
           {
            "marker": {
             "colorbar": {
              "outlinewidth": 1,
              "tickcolor": "rgb(36,36,36)",
              "ticks": "outside"
             }
            },
            "type": "scattercarpet"
           }
          ],
          "scattergeo": [
           {
            "marker": {
             "colorbar": {
              "outlinewidth": 1,
              "tickcolor": "rgb(36,36,36)",
              "ticks": "outside"
             }
            },
            "type": "scattergeo"
           }
          ],
          "scattergl": [
           {
            "marker": {
             "colorbar": {
              "outlinewidth": 1,
              "tickcolor": "rgb(36,36,36)",
              "ticks": "outside"
             }
            },
            "type": "scattergl"
           }
          ],
          "scattermapbox": [
           {
            "marker": {
             "colorbar": {
              "outlinewidth": 1,
              "tickcolor": "rgb(36,36,36)",
              "ticks": "outside"
             }
            },
            "type": "scattermapbox"
           }
          ],
          "scatterpolar": [
           {
            "marker": {
             "colorbar": {
              "outlinewidth": 1,
              "tickcolor": "rgb(36,36,36)",
              "ticks": "outside"
             }
            },
            "type": "scatterpolar"
           }
          ],
          "scatterpolargl": [
           {
            "marker": {
             "colorbar": {
              "outlinewidth": 1,
              "tickcolor": "rgb(36,36,36)",
              "ticks": "outside"
             }
            },
            "type": "scatterpolargl"
           }
          ],
          "scatterternary": [
           {
            "marker": {
             "colorbar": {
              "outlinewidth": 1,
              "tickcolor": "rgb(36,36,36)",
              "ticks": "outside"
             }
            },
            "type": "scatterternary"
           }
          ],
          "surface": [
           {
            "colorbar": {
             "outlinewidth": 1,
             "tickcolor": "rgb(36,36,36)",
             "ticks": "outside"
            },
            "colorscale": [
             [
              0,
              "#440154"
             ],
             [
              0.1111111111111111,
              "#482878"
             ],
             [
              0.2222222222222222,
              "#3e4989"
             ],
             [
              0.3333333333333333,
              "#31688e"
             ],
             [
              0.4444444444444444,
              "#26828e"
             ],
             [
              0.5555555555555556,
              "#1f9e89"
             ],
             [
              0.6666666666666666,
              "#35b779"
             ],
             [
              0.7777777777777778,
              "#6ece58"
             ],
             [
              0.8888888888888888,
              "#b5de2b"
             ],
             [
              1,
              "#fde725"
             ]
            ],
            "type": "surface"
           }
          ],
          "table": [
           {
            "cells": {
             "fill": {
              "color": "rgb(237,237,237)"
             },
             "line": {
              "color": "white"
             }
            },
            "header": {
             "fill": {
              "color": "rgb(217,217,217)"
             },
             "line": {
              "color": "white"
             }
            },
            "type": "table"
           }
          ]
         },
         "layout": {
          "annotationdefaults": {
           "arrowhead": 0,
           "arrowwidth": 1
          },
          "autotypenumbers": "strict",
          "coloraxis": {
           "colorbar": {
            "outlinewidth": 1,
            "tickcolor": "rgb(36,36,36)",
            "ticks": "outside"
           }
          },
          "colorscale": {
           "diverging": [
            [
             0,
             "rgb(103,0,31)"
            ],
            [
             0.1,
             "rgb(178,24,43)"
            ],
            [
             0.2,
             "rgb(214,96,77)"
            ],
            [
             0.3,
             "rgb(244,165,130)"
            ],
            [
             0.4,
             "rgb(253,219,199)"
            ],
            [
             0.5,
             "rgb(247,247,247)"
            ],
            [
             0.6,
             "rgb(209,229,240)"
            ],
            [
             0.7,
             "rgb(146,197,222)"
            ],
            [
             0.8,
             "rgb(67,147,195)"
            ],
            [
             0.9,
             "rgb(33,102,172)"
            ],
            [
             1,
             "rgb(5,48,97)"
            ]
           ],
           "sequential": [
            [
             0,
             "#440154"
            ],
            [
             0.1111111111111111,
             "#482878"
            ],
            [
             0.2222222222222222,
             "#3e4989"
            ],
            [
             0.3333333333333333,
             "#31688e"
            ],
            [
             0.4444444444444444,
             "#26828e"
            ],
            [
             0.5555555555555556,
             "#1f9e89"
            ],
            [
             0.6666666666666666,
             "#35b779"
            ],
            [
             0.7777777777777778,
             "#6ece58"
            ],
            [
             0.8888888888888888,
             "#b5de2b"
            ],
            [
             1,
             "#fde725"
            ]
           ],
           "sequentialminus": [
            [
             0,
             "#440154"
            ],
            [
             0.1111111111111111,
             "#482878"
            ],
            [
             0.2222222222222222,
             "#3e4989"
            ],
            [
             0.3333333333333333,
             "#31688e"
            ],
            [
             0.4444444444444444,
             "#26828e"
            ],
            [
             0.5555555555555556,
             "#1f9e89"
            ],
            [
             0.6666666666666666,
             "#35b779"
            ],
            [
             0.7777777777777778,
             "#6ece58"
            ],
            [
             0.8888888888888888,
             "#b5de2b"
            ],
            [
             1,
             "#fde725"
            ]
           ]
          },
          "colorway": [
           "#1F77B4",
           "#FF7F0E",
           "#2CA02C",
           "#D62728",
           "#9467BD",
           "#8C564B",
           "#E377C2",
           "#7F7F7F",
           "#BCBD22",
           "#17BECF"
          ],
          "font": {
           "color": "rgb(36,36,36)"
          },
          "geo": {
           "bgcolor": "white",
           "lakecolor": "white",
           "landcolor": "white",
           "showlakes": true,
           "showland": true,
           "subunitcolor": "white"
          },
          "hoverlabel": {
           "align": "left"
          },
          "hovermode": "closest",
          "mapbox": {
           "style": "light"
          },
          "paper_bgcolor": "white",
          "plot_bgcolor": "white",
          "polar": {
           "angularaxis": {
            "gridcolor": "rgb(232,232,232)",
            "linecolor": "rgb(36,36,36)",
            "showgrid": false,
            "showline": true,
            "ticks": "outside"
           },
           "bgcolor": "white",
           "radialaxis": {
            "gridcolor": "rgb(232,232,232)",
            "linecolor": "rgb(36,36,36)",
            "showgrid": false,
            "showline": true,
            "ticks": "outside"
           }
          },
          "scene": {
           "xaxis": {
            "backgroundcolor": "white",
            "gridcolor": "rgb(232,232,232)",
            "gridwidth": 2,
            "linecolor": "rgb(36,36,36)",
            "showbackground": true,
            "showgrid": false,
            "showline": true,
            "ticks": "outside",
            "zeroline": false,
            "zerolinecolor": "rgb(36,36,36)"
           },
           "yaxis": {
            "backgroundcolor": "white",
            "gridcolor": "rgb(232,232,232)",
            "gridwidth": 2,
            "linecolor": "rgb(36,36,36)",
            "showbackground": true,
            "showgrid": false,
            "showline": true,
            "ticks": "outside",
            "zeroline": false,
            "zerolinecolor": "rgb(36,36,36)"
           },
           "zaxis": {
            "backgroundcolor": "white",
            "gridcolor": "rgb(232,232,232)",
            "gridwidth": 2,
            "linecolor": "rgb(36,36,36)",
            "showbackground": true,
            "showgrid": false,
            "showline": true,
            "ticks": "outside",
            "zeroline": false,
            "zerolinecolor": "rgb(36,36,36)"
           }
          },
          "shapedefaults": {
           "fillcolor": "black",
           "line": {
            "width": 0
           },
           "opacity": 0.3
          },
          "ternary": {
           "aaxis": {
            "gridcolor": "rgb(232,232,232)",
            "linecolor": "rgb(36,36,36)",
            "showgrid": false,
            "showline": true,
            "ticks": "outside"
           },
           "baxis": {
            "gridcolor": "rgb(232,232,232)",
            "linecolor": "rgb(36,36,36)",
            "showgrid": false,
            "showline": true,
            "ticks": "outside"
           },
           "bgcolor": "white",
           "caxis": {
            "gridcolor": "rgb(232,232,232)",
            "linecolor": "rgb(36,36,36)",
            "showgrid": false,
            "showline": true,
            "ticks": "outside"
           }
          },
          "title": {
           "x": 0.05
          },
          "xaxis": {
           "automargin": true,
           "gridcolor": "rgb(232,232,232)",
           "linecolor": "rgb(36,36,36)",
           "showgrid": false,
           "showline": true,
           "ticks": "outside",
           "title": {
            "standoff": 15
           },
           "zeroline": false,
           "zerolinecolor": "rgb(36,36,36)"
          },
          "yaxis": {
           "automargin": true,
           "gridcolor": "rgb(232,232,232)",
           "linecolor": "rgb(36,36,36)",
           "showgrid": false,
           "showline": true,
           "ticks": "outside",
           "title": {
            "standoff": 15
           },
           "zeroline": false,
           "zerolinecolor": "rgb(36,36,36)"
          }
         }
        },
        "title": {
         "text": ""
        },
        "width": 700,
        "xaxis": {
         "autorange": false,
         "range": [
          -8.615941600109409,
          3.2655228224431796
         ],
         "showgrid": false,
         "showline": false,
         "showticklabels": false,
         "ticks": "",
         "title": {
          "text": ""
         },
         "type": "linear",
         "zeroline": false
        },
        "yaxis": {
         "autorange": false,
         "range": [
          -6.377593195812899,
          5.132317565426971
         ],
         "showgrid": false,
         "showline": false,
         "showticklabels": false,
         "ticks": "",
         "title": {
          "text": ""
         },
         "type": "linear",
         "zeroline": false
        }
       }
      },
      "image/png": "[encoded data removed]",
      "text/html": [
       "<div>                            <div id=\"4c71d0e9-8b12-4bac-9484-3d4c693d8029\" class=\"plotly-graph-div\" style=\"height:525px; width:100%;\"></div>            <script type=\"text/javascript\">                require([\"plotly\"], function(Plotly) {                    window.PLOTLYENV=window.PLOTLYENV || {};                                    if (document.getElementById(\"4c71d0e9-8b12-4bac-9484-3d4c693d8029\")) {                    Plotly.newPlot(                        \"4c71d0e9-8b12-4bac-9484-3d4c693d8029\",                        [{\"hoverinfo\":\"none\",\"line\":{\"color\":\"#888\",\"width\":1},\"mode\":\"lines\",\"name\":\"edge_trace\",\"x\":[-1.3708532582189021,-1.0366175636409318,null,-1.3708532582189021,-0.7736640276389727,null,-1.3708532582189021,-0.09673130866577136,null,-1.3708532582189021,-2.2273672971772673,null,-1.0366175636409318,-0.7736640276389727,null,-1.0366175636409318,-0.09673130866577136,null,-1.0366175636409318,-0.08543319997730187,null,-1.0366175636409318,-0.8186709786990319,null,-1.0366175636409318,-0.7966679732969227,null,-1.0366175636409318,-0.32658474242053515,null,-1.0366175636409318,-2.2273672971772673,null,-1.0366175636409318,0.06979525146658391,null,-1.0366175636409318,-1.404758229443992,null,-0.7736640276389727,-0.09673130866577136,null,-0.7736640276389727,0.41894215437956134,null,-0.7736640276389727,-0.021576774043550524,null,-0.09673130866577136,-0.08543319997730187,null,-0.09673130866577136,0.2175083333457651,null,-0.09673130866577136,0.7002134499327848,null,-0.09673130866577136,1.248787907381174,null,-0.09673130866577136,0.41894215437956134,null,-0.09673130866577136,0.867284380695765,null,-0.09673130866577136,-0.8186709786990319,null,-0.09673130866577136,0.9856510572948378,null,-0.09673130866577136,-0.021576774043550524,null,-0.08543319997730187,0.2175083333457651,null,-0.08543319997730187,0.7002134499327848,null,-0.08543319997730187,1.248787907381174,null,-0.08543319997730187,0.41894215437956134,null,-0.08543319997730187,-0.3961100300130882,null,-0.08543319997730187,-1.2348092781931252,null,-0.08543319997730187,0.867284380695765,null,-0.08543319997730187,-0.8186709786990319,null,-0.08543319997730187,0.9856510572948378,null,0.2175083333457651,0.7002134499327848,null,0.2175083333457651,1.248787907381174,null,0.2175083333457651,0.41894215437956134,null,0.2175083333457651,-0.3961100300130882,null,0.2175083333457651,-1.2348092781931252,null,0.2175083333457651,0.867284380695765,null,0.2175083333457651,0.05413912942571534,null,0.2175083333457651,-0.7966679732969227,null,0.2175083333457651,-0.32658474242053515,null,0.2175083333457651,0.9856510572948378,null,0.2175083333457651,0.7867993470064086,null,0.7002134499327848,1.248787907381174,null,0.7002134499327848,0.41894215437956134,null,0.7002134499327848,1.5369510745298147,null,0.7002134499327848,0.867284380695765,null,0.7002134499327848,-0.19586622723760486,null,0.7002134499327848,0.9856510572948378,null,0.7002134499327848,0.06979525146658391,null,0.7002134499327848,0.6288803947317603,null,-1.4193756140928684,-0.38071161721987434,null,-1.4193756140928684,-1.5582996723680675,null,-1.4193756140928684,-0.5174749495897165,null,-0.38071161721987434,-1.5582996723680675,null,-0.38071161721987434,-0.5174749495897165,null,-0.38071161721987434,0.40235224120587354,null,-0.38071161721987434,-0.34230700500408273,null,-0.38071161721987434,0.24207226753702463,null,-0.38071161721987434,-0.7267289147070145,null,-0.38071161721987434,0.7108097106216346,null,-1.5582996723680675,-0.5174749495897165,null,-1.5582996723680675,-0.7267289147070145,null,-1.5582996723680675,-1.878155041041343,null,-0.5174749495897165,0.40235224120587354,null,-0.5174749495897165,-0.34230700500408273,null,-0.5174749495897165,0.24207226753702463,null,-0.5174749495897165,-0.7267289147070145,null,-0.5174749495897165,0.7108097106216346,null,-0.5174749495897165,-0.3961100300130882,null,-0.5174749495897165,0.05413912942571534,null,-0.5174749495897165,-0.7966679732969227,null,-0.5174749495897165,-0.32658474242053515,null,-0.5174749495897165,-1.3572707582160155,null,-0.5174749495897165,-1.878155041041343,null,1.248787907381174,0.41894215437956134,null,1.248787907381174,1.5369510745298147,null,1.248787907381174,1.134292315453842,null,1.248787907381174,0.867284380695765,null,1.248787907381174,0.9856510572948378,null,1.248787907381174,0.06979525146658391,null,1.248787907381174,2.1470220680525705,null,1.248787907381174,2.410915850867977,null,1.248787907381174,2.0061105949604108,null,1.248787907381174,2.458966593200641,null,0.41894215437956134,0.867284380695765,null,0.41894215437956134,0.9856510572948378,null,0.41894215437956134,-0.021576774043550524,null,0.40235224120587354,-0.34230700500408273,null,0.40235224120587354,0.24207226753702463,null,0.40235224120587354,-0.7267289147070145,null,0.40235224120587354,0.7108097106216346,null,0.40235224120587354,1.0999563932808487,null,0.40235224120587354,0.6392853175674094,null,0.40235224120587354,1.4611299164947418,null,0.40235224120587354,1.444490838742998,null,-0.34230700500408273,0.24207226753702463,null,-0.34230700500408273,-0.7267289147070145,null,-0.34230700500408273,0.7108097106216346,null,0.24207226753702463,-0.7267289147070145,null,0.24207226753702463,0.7108097106216346,null,0.24207226753702463,1.0999563932808487,null,0.24207226753702463,0.6392853175674094,null,0.24207226753702463,1.4611299164947418,null,0.24207226753702463,1.444490838742998,null,-0.7267289147070145,0.7108097106216346,null,-0.7267289147070145,-1.878155041041343,null,0.7108097106216346,1.0999563932808487,null,0.7108097106216346,0.6392853175674094,null,0.7108097106216346,1.4611299164947418,null,0.7108097106216346,2.0345794286177257,null,0.7108097106216346,1.5784173485971544,null,0.7108097106216346,1.444490838742998,null,1.0999563932808487,0.6392853175674094,null,1.0999563932808487,1.038615143644844,null,1.0999563932808487,1.4611299164947418,null,1.0999563932808487,1.444490838742998,null,0.6392853175674094,1.4611299164947418,null,0.6392853175674094,1.444490838742998,null,-0.3961100300130882,-1.2348092781931252,null,-0.3961100300130882,0.05413912942571534,null,-0.3961100300130882,-0.7966679732969227,null,-0.3961100300130882,-0.32658474242053515,null,-0.3961100300130882,0.7867993470064086,null,1.5369510745298147,1.134292315453842,null,1.5369510745298147,0.867284380695765,null,1.5369510745298147,0.06979525146658391,null,1.5369510745298147,1.5784173485971544,null,1.5369510745298147,2.1470220680525705,null,1.5369510745298147,2.410915850867977,null,1.5369510745298147,2.328438556075017,null,1.5369510745298147,2.0061105949604108,null,1.5369510745298147,2.458966593200641,null,1.134292315453842,0.867284380695765,null,1.134292315453842,-0.32658474242053515,null,1.134292315453842,1.5784173485971544,null,1.134292315453842,2.328438556075017,null,1.134292315453842,2.0061105949604108,null,0.867284380695765,0.9856510572948378,null,-0.8186709786990319,-0.7966679732969227,null,-0.8186709786990319,-0.32658474242053515,null,-0.8186709786990319,0.06979525146658391,null,-0.8186709786990319,-1.404758229443992,null,0.05413912942571534,-0.7966679732969227,null,0.05413912942571534,0.7867993470064086,null,-0.7966679732969227,-0.32658474242053515,null,-0.7966679732969227,-1.3572707582160155,null,-0.7966679732969227,0.06979525146658391,null,-0.7966679732969227,-1.404758229443992,null,-0.32658474242053515,-1.3572707582160155,null,-0.32658474242053515,0.06979525146658391,null,-0.32658474242053515,-1.404758229443992,null,-0.19586622723760486,0.06979525146658391,null,-0.19586622723760486,0.6288803947317603,null,-6.672222943645271,-7.127406738465819,null,-6.672222943645271,-7.56397740707016,null,-6.672222943645271,-6.42262833329989,null,-6.672222943645271,-6.834194549346986,null,-6.672222943645271,-7.5986705135351675,null,-6.672222943645271,-7.293953885293042,null,-6.672222943645271,-6.722585926017221,null,-7.127406738465819,-7.56397740707016,null,-7.127406738465819,-6.42262833329989,null,-7.127406738465819,-6.834194549346986,null,-7.127406738465819,-7.293953885293042,null,-7.127406738465819,-6.722585926017221,null,-7.56397740707016,-6.42262833329989,null,-7.56397740707016,-7.5986705135351675,null,-7.56397740707016,-7.293953885293042,null,-7.56397740707016,-6.722585926017221,null,-6.42262833329989,-7.293953885293042,null,-6.42262833329989,-6.722585926017221,null,1.4611299164947418,2.0345794286177257,null,1.4611299164947418,1.5784173485971544,null,1.4611299164947418,1.444490838742998,null,0.06979525146658391,0.6288803947317603,null,0.06979525146658391,-1.404758229443992,null,2.0345794286177257,1.5784173485971544,null,1.5784173485971544,2.328438556075017,null,1.5784173485971544,2.0061105949604108,null,2.1470220680525705,2.410915850867977,null,2.328438556075017,2.0061105949604108,null,2.0061105949604108,2.458966593200641,null,-7.293953885293042,-6.722585926017221,null],\"y\":[-2.2928086271702615,-1.3897365871798875,null,-2.2928086271702615,-2.6374055396888667,null,-2.2928086271702615,-1.9218353096907683,null,-2.2928086271702615,-1.8690714568447535,null,-1.3897365871798875,-2.6374055396888667,null,-1.3897365871798875,-1.9218353096907683,null,-1.3897365871798875,-1.2297192142705837,null,-1.3897365871798875,-1.0074934412754613,null,-1.3897365871798875,-0.07154547064414733,null,-1.3897365871798875,-0.09751792859453676,null,-1.3897365871798875,-1.8690714568447535,null,-1.3897365871798875,-1.055823903385036,null,-1.3897365871798875,-0.7306981586981811,null,-2.6374055396888667,-1.9218353096907683,null,-2.6374055396888667,-2.1470847970787017,null,-2.6374055396888667,-3.3105376081957947,null,-1.9218353096907683,-1.2297192142705837,null,-1.9218353096907683,-0.7465949173001967,null,-1.9218353096907683,-1.6178407604576266,null,-1.9218353096907683,-1.2625854450425786,null,-1.9218353096907683,-2.1470847970787017,null,-1.9218353096907683,-1.1726259365066736,null,-1.9218353096907683,-1.0074934412754613,null,-1.9218353096907683,-2.0101153319499048,null,-1.9218353096907683,-3.3105376081957947,null,-1.2297192142705837,-0.7465949173001967,null,-1.2297192142705837,-1.6178407604576266,null,-1.2297192142705837,-1.2625854450425786,null,-1.2297192142705837,-2.1470847970787017,null,-1.2297192142705837,0.3161474442363471,null,-1.2297192142705837,-0.525548085228081,null,-1.2297192142705837,-1.1726259365066736,null,-1.2297192142705837,-1.0074934412754613,null,-1.2297192142705837,-2.0101153319499048,null,-0.7465949173001967,-1.6178407604576266,null,-0.7465949173001967,-1.2625854450425786,null,-0.7465949173001967,-2.1470847970787017,null,-0.7465949173001967,0.3161474442363471,null,-0.7465949173001967,-0.525548085228081,null,-0.7465949173001967,-1.1726259365066736,null,-0.7465949173001967,0.505614126522291,null,-0.7465949173001967,-0.07154547064414733,null,-0.7465949173001967,-0.09751792859453676,null,-0.7465949173001967,-2.0101153319499048,null,-0.7465949173001967,0.18732589567602465,null,-1.6178407604576266,-1.2625854450425786,null,-1.6178407604576266,-2.1470847970787017,null,-1.6178407604576266,-0.5871809316957075,null,-1.6178407604576266,-1.1726259365066736,null,-1.6178407604576266,-2.550114483635679,null,-1.6178407604576266,-2.0101153319499048,null,-1.6178407604576266,-1.055823903385036,null,-1.6178407604576266,-2.657446980830927,null,2.386635342525208,1.979716142437778,null,2.386635342525208,1.923552652604299,null,2.386635342525208,1.2804339511761476,null,1.979716142437778,1.923552652604299,null,1.979716142437778,1.2804339511761476,null,1.979716142437778,2.2099657160298922,null,1.979716142437778,2.511407383747006,null,1.979716142437778,2.487279537895105,null,1.979716142437778,2.148006039911032,null,1.979716142437778,1.846454632965417,null,1.923552652604299,1.2804339511761476,null,1.923552652604299,2.148006039911032,null,1.923552652604299,1.573132161573591,null,1.2804339511761476,2.2099657160298922,null,1.2804339511761476,2.511407383747006,null,1.2804339511761476,2.487279537895105,null,1.2804339511761476,2.148006039911032,null,1.2804339511761476,1.846454632965417,null,1.2804339511761476,0.3161474442363471,null,1.2804339511761476,0.505614126522291,null,1.2804339511761476,-0.07154547064414733,null,1.2804339511761476,-0.09751792859453676,null,1.2804339511761476,0.687719932589005,null,1.2804339511761476,1.573132161573591,null,-1.2625854450425786,-2.1470847970787017,null,-1.2625854450425786,-0.5871809316957075,null,-1.2625854450425786,-0.01818095602248102,null,-1.2625854450425786,-1.1726259365066736,null,-1.2625854450425786,-2.0101153319499048,null,-1.2625854450425786,-1.055823903385036,null,-1.2625854450425786,-1.8109104472845827,null,-1.2625854450425786,-1.3503666710473692,null,-1.2625854450425786,-0.14579934289108498,null,-1.2625854450425786,-0.9566072617129613,null,-2.1470847970787017,-1.1726259365066736,null,-2.1470847970787017,-2.0101153319499048,null,-2.1470847970787017,-3.3105376081957947,null,2.2099657160298922,2.511407383747006,null,2.2099657160298922,2.487279537895105,null,2.2099657160298922,2.148006039911032,null,2.2099657160298922,1.846454632965417,null,2.2099657160298922,3.1710422739911475,null,2.2099657160298922,3.167468222072491,null,2.2099657160298922,2.1421991228364248,null,2.2099657160298922,2.8194884446624866,null,2.511407383747006,2.487279537895105,null,2.511407383747006,2.148006039911032,null,2.511407383747006,1.846454632965417,null,2.487279537895105,2.148006039911032,null,2.487279537895105,1.846454632965417,null,2.487279537895105,3.1710422739911475,null,2.487279537895105,3.167468222072491,null,2.487279537895105,2.1421991228364248,null,2.487279537895105,2.8194884446624866,null,2.148006039911032,1.846454632965417,null,2.148006039911032,1.573132161573591,null,1.846454632965417,3.1710422739911475,null,1.846454632965417,3.167468222072491,null,1.846454632965417,2.1421991228364248,null,1.846454632965417,1.75915144450159,null,1.846454632965417,0.8977123654700246,null,1.846454632965417,2.8194884446624866,null,3.1710422739911475,3.167468222072491,null,3.1710422739911475,4.3800906885020465,null,3.1710422739911475,2.1421991228364248,null,3.1710422739911475,2.8194884446624866,null,3.167468222072491,2.1421991228364248,null,3.167468222072491,2.8194884446624866,null,0.3161474442363471,-0.525548085228081,null,0.3161474442363471,0.505614126522291,null,0.3161474442363471,-0.07154547064414733,null,0.3161474442363471,-0.09751792859453676,null,0.3161474442363471,0.18732589567602465,null,-0.5871809316957075,-0.01818095602248102,null,-0.5871809316957075,-1.1726259365066736,null,-0.5871809316957075,-1.055823903385036,null,-0.5871809316957075,0.8977123654700246,null,-0.5871809316957075,-1.8109104472845827,null,-0.5871809316957075,-1.3503666710473692,null,-0.5871809316957075,0.36081107578397137,null,-0.5871809316957075,-0.14579934289108498,null,-0.5871809316957075,-0.9566072617129613,null,-0.01818095602248102,-1.1726259365066736,null,-0.01818095602248102,-0.09751792859453676,null,-0.01818095602248102,0.8977123654700246,null,-0.01818095602248102,0.36081107578397137,null,-0.01818095602248102,-0.14579934289108498,null,-1.1726259365066736,-2.0101153319499048,null,-1.0074934412754613,-0.07154547064414733,null,-1.0074934412754613,-0.09751792859453676,null,-1.0074934412754613,-1.055823903385036,null,-1.0074934412754613,-0.7306981586981811,null,0.505614126522291,-0.07154547064414733,null,0.505614126522291,0.18732589567602465,null,-0.07154547064414733,-0.09751792859453676,null,-0.07154547064414733,0.687719932589005,null,-0.07154547064414733,-1.055823903385036,null,-0.07154547064414733,-0.7306981586981811,null,-0.09751792859453676,0.687719932589005,null,-0.09751792859453676,-1.055823903385036,null,-0.09751792859453676,-0.7306981586981811,null,-2.550114483635679,-1.055823903385036,null,-2.550114483635679,-2.657446980830927,null,0.8744348706228725,0.9966878596459804,null,0.8744348706228725,1.363375206206757,null,0.8744348706228725,1.674806248655076,null,0.8744348706228725,-0.20512433077670672,null,0.8744348706228725,0.14702305568520813,null,0.8744348706228725,2.0341675285789744,null,0.8744348706228725,2.193496216751842,null,0.9966878596459804,1.363375206206757,null,0.9966878596459804,1.674806248655076,null,0.9966878596459804,-0.20512433077670672,null,0.9966878596459804,2.0341675285789744,null,0.9966878596459804,2.193496216751842,null,1.363375206206757,1.674806248655076,null,1.363375206206757,0.14702305568520813,null,1.363375206206757,2.0341675285789744,null,1.363375206206757,2.193496216751842,null,1.674806248655076,2.0341675285789744,null,1.674806248655076,2.193496216751842,null,2.1421991228364248,1.75915144450159,null,2.1421991228364248,0.8977123654700246,null,2.1421991228364248,2.8194884446624866,null,-1.055823903385036,-2.657446980830927,null,-1.055823903385036,-0.7306981586981811,null,1.75915144450159,0.8977123654700246,null,0.8977123654700246,0.36081107578397137,null,0.8977123654700246,-0.14579934289108498,null,-1.8109104472845827,-1.3503666710473692,null,0.36081107578397137,-0.14579934289108498,null,-0.14579934289108498,-0.9566072617129613,null,2.0341675285789744,2.193496216751842,null],\"type\":\"scatter\",\"uid\":\"4d6bfaa5-a9a4-4c30-8ee7-a336596e1f5f\"},{\"hoverinfo\":\"text\",\"hovertext\":[\"Node ID: 0<br>Pullback set label: 49<br>Partial cluster label: 0<br>Node size: 8<br>Summary statistic: 33.0\",\"Node ID: 1<br>Pullback set label: 50<br>Partial cluster label: 0<br>Node size: 10<br>Summary statistic: 32.9\",\"Node ID: 2<br>Pullback set label: 52<br>Partial cluster label: 0<br>Node size: 10<br>Summary statistic: 57.6\",\"Node ID: 3<br>Pullback set label: 53<br>Partial cluster label: 0<br>Node size: 37<br>Summary statistic: 79.7\",\"Node ID: 4<br>Pullback set label: 54<br>Partial cluster label: 0<br>Node size: 97<br>Summary statistic: 91.2\",\"Node ID: 5<br>Pullback set label: 40<br>Partial cluster label: 0<br>Node size: 32<br>Summary statistic: 119.0\",\"Node ID: 6<br>Pullback set label: 39<br>Partial cluster label: 0<br>Node size: 19<br>Summary statistic: 103.0\",\"Node ID: 7<br>Pullback set label: 11<br>Partial cluster label: -1<br>Node size: 1<br>Summary statistic: 12.0\",\"Node ID: 8<br>Pullback set label: 12<br>Partial cluster label: -1<br>Node size: 2<br>Summary statistic: 16.5\",\"Node ID: 9<br>Pullback set label: 20<br>Partial cluster label: -1<br>Node size: 2<br>Summary statistic: 80.0\",\"Node ID: 10<br>Pullback set label: 21<br>Partial cluster label: 0<br>Node size: 7<br>Summary statistic: 91.1\",\"Node ID: 11<br>Pullback set label: 44<br>Partial cluster label: 0<br>Node size: 22<br>Summary statistic: 106.0\",\"Node ID: 12<br>Pullback set label: 56<br>Partial cluster label: 0<br>Node size: 10<br>Summary statistic: 109.0\",\"Node ID: 13<br>Pullback set label: 3<br>Partial cluster label: -1<br>Node size: 3<br>Summary statistic: 71.0\",\"Node ID: 14<br>Pullback set label: 4<br>Partial cluster label: -1<br>Node size: 1<br>Summary statistic: 21.0\",\"Node ID: 15<br>Pullback set label: 14<br>Partial cluster label: -1<br>Node size: 2<br>Summary statistic: 94.0\",\"Node ID: 16<br>Pullback set label: 16<br>Partial cluster label: -1<br>Node size: 2<br>Summary statistic: 84.5\",\"Node ID: 17<br>Pullback set label: 19<br>Partial cluster label: -1<br>Node size: 3<br>Summary statistic: 103.0\",\"Node ID: 18<br>Pullback set label: 2<br>Partial cluster label: -1<br>Node size: 3<br>Summary statistic: 74.3\",\"Node ID: 19<br>Pullback set label: 10<br>Partial cluster label: -1<br>Node size: 2<br>Summary statistic: 96.0\",\"Node ID: 20<br>Pullback set label: 1<br>Partial cluster label: -1<br>Node size: 1<br>Summary statistic: 31.0\",\"Node ID: 21<br>Pullback set label: 35<br>Partial cluster label: 0<br>Node size: 18<br>Summary statistic: 115.0\",\"Node ID: 22<br>Pullback set label: 47<br>Partial cluster label: 0<br>Node size: 8<br>Summary statistic: 115.0\",\"Node ID: 23<br>Pullback set label: 42<br>Partial cluster label: 0<br>Node size: 7<br>Summary statistic: 143.0\",\"Node ID: 24<br>Pullback set label: 43<br>Partial cluster label: 0<br>Node size: 6<br>Summary statistic: 109.0\",\"Node ID: 25<br>Pullback set label: 45<br>Partial cluster label: 0<br>Node size: 5<br>Summary statistic: 104.0\",\"Node ID: 26<br>Pullback set label: 51<br>Partial cluster label: -1<br>Node size: 2<br>Summary statistic: 99.5\",\"Node ID: 27<br>Pullback set label: 22<br>Partial cluster label: -1<br>Node size: 2<br>Summary statistic: 120.0\",\"Node ID: 28<br>Pullback set label: 34<br>Partial cluster label: -1<br>Node size: 4<br>Summary statistic: 99.8\",\"Node ID: 29<br>Pullback set label: 37<br>Partial cluster label: 0<br>Node size: 5<br>Summary statistic: 109.0\",\"Node ID: 30<br>Pullback set label: 38<br>Partial cluster label: 0<br>Node size: 5<br>Summary statistic: 115.0\",\"Node ID: 31<br>Pullback set label: 48<br>Partial cluster label: -1<br>Node size: 1<br>Summary statistic: 88.0\",\"Node ID: 32<br>Pullback set label: 0<br>Partial cluster label: -1<br>Node size: 1<br>Summary statistic: 89.0\",\"Node ID: 33<br>Pullback set label: 7<br>Partial cluster label: 0<br>Node size: 6<br>Summary statistic: 138.0\",\"Node ID: 34<br>Pullback set label: 8<br>Partial cluster label: -1<br>Node size: 4<br>Summary statistic: 136.0\",\"Node ID: 35<br>Pullback set label: 17<br>Partial cluster label: -1<br>Node size: 4<br>Summary statistic: 143.0\",\"Node ID: 36<br>Pullback set label: 18<br>Partial cluster label: -1<br>Node size: 3<br>Summary statistic: 155.0\",\"Node ID: 37<br>Pullback set label: 27<br>Partial cluster label: -1<br>Node size: 1<br>Summary statistic: 91.0\",\"Node ID: 38<br>Pullback set label: 57<br>Partial cluster label: -1<br>Node size: 3<br>Summary statistic: 117.0\",\"Node ID: 39<br>Pullback set label: 55<br>Partial cluster label: -1<br>Node size: 3<br>Summary statistic: 115.0\",\"Node ID: 40<br>Pullback set label: 23<br>Partial cluster label: -1<br>Node size: 3<br>Summary statistic: 129.0\",\"Node ID: 41<br>Pullback set label: 5<br>Partial cluster label: -1<br>Node size: 1<br>Summary statistic: 105.0\",\"Node ID: 42<br>Pullback set label: 9<br>Partial cluster label: -1<br>Node size: 1<br>Summary statistic: 106.0\",\"Node ID: 43<br>Pullback set label: 36<br>Partial cluster label: -1<br>Node size: 3<br>Summary statistic: 123.0\",\"Node ID: 44<br>Pullback set label: 26<br>Partial cluster label: -1<br>Node size: 1<br>Summary statistic: 119.0\",\"Node ID: 45<br>Pullback set label: 25<br>Partial cluster label: -1<br>Node size: 1<br>Summary statistic: 121.0\",\"Node ID: 46<br>Pullback set label: 30<br>Partial cluster label: -1<br>Node size: 2<br>Summary statistic: 138.0\",\"Node ID: 47<br>Pullback set label: 41<br>Partial cluster label: -1<br>Node size: 3<br>Summary statistic: 158.0\",\"Node ID: 48<br>Pullback set label: 46<br>Partial cluster label: -1<br>Node size: 2<br>Summary statistic: 156.0\",\"Node ID: 49<br>Pullback set label: 33<br>Partial cluster label: -1<br>Node size: 1<br>Summary statistic: 140.0\",\"Node ID: 50<br>Pullback set label: 15<br>Partial cluster label: -1<br>Node size: 1<br>Summary statistic: 148.0\",\"Node ID: 51<br>Pullback set label: 29<br>Partial cluster label: -1<br>Node size: 1<br>Summary statistic: 156.0\",\"Node ID: 52<br>Pullback set label: 31<br>Partial cluster label: -1<br>Node size: 2<br>Summary statistic: 172.0\",\"Node ID: 53<br>Pullback set label: 6<br>Partial cluster label: -1<br>Node size: 1<br>Summary statistic: 167.0\",\"Node ID: 54<br>Pullback set label: 28<br>Partial cluster label: -1<br>Node size: 1<br>Summary statistic: 174.0\",\"Node ID: 55<br>Pullback set label: 24<br>Partial cluster label: -1<br>Node size: 2<br>Summary statistic: 188.0\",\"Node ID: 56<br>Pullback set label: 32<br>Partial cluster label: -1<br>Node size: 1<br>Summary statistic: 187.0\",\"Node ID: 57<br>Pullback set label: 13<br>Partial cluster label: -1<br>Node size: 1<br>Summary statistic: 191.0\"],\"marker\":{\"color\":[33.0,32.9,57.6,79.70270270270271,91.23711340206185,118.8125,103.36842105263158,12.0,16.5,80.0,91.14285714285714,106.4090909090909,109.1,71.0,21.0,94.0,84.5,103.0,74.33333333333333,96.0,31.0,114.66666666666667,115.375,142.71428571428572,108.66666666666667,104.4,99.5,120.0,99.75,108.6,115.4,88.0,89.0,138.33333333333334,135.75,142.75,155.0,91.0,117.0,115.0,129.33333333333334,105.0,106.0,123.0,119.0,121.0,138.5,157.66666666666666,156.5,140.0,148.0,156.0,171.5,167.0,174.0,187.5,187.0,191.0],\"colorbar\":{\"thickness\":15,\"title\":{\"side\":\"right\",\"text\":\"\"},\"xanchor\":\"left\"},\"colorscale\":[[0.0,\"#440154\"],[0.1111111111111111,\"#482878\"],[0.2222222222222222,\"#3e4989\"],[0.3333333333333333,\"#31688e\"],[0.4444444444444444,\"#26828e\"],[0.5555555555555556,\"#1f9e89\"],[0.6666666666666666,\"#35b779\"],[0.7777777777777778,\"#6ece58\"],[0.8888888888888888,\"#b5de2b\"],[1.0,\"#fde725\"]],\"line\":{\"color\":\"#888\",\"width\":1},\"opacity\":1.0,\"reversescale\":false,\"showscale\":true,\"size\":[8,10,10,37,97,32,19,1,2,2,7,22,10,3,1,2,2,3,3,2,1,18,8,7,6,5,2,2,4,5,5,1,1,6,4,4,3,1,3,3,3,1,1,3,1,1,2,3,2,1,1,1,2,1,1,2,1,1],\"sizemin\":4,\"sizemode\":\"area\",\"sizeref\":1.3472222222222223},\"mode\":\"markers\",\"name\":\"node_trace\",\"x\":[-1.3708532582189021,-1.0366175636409318,-0.7736640276389727,-0.09673130866577136,-0.08543319997730187,0.2175083333457651,0.7002134499327848,-1.4193756140928684,-0.38071161721987434,-1.5582996723680675,-0.5174749495897165,1.248787907381174,0.41894215437956134,0.40235224120587354,-0.34230700500408273,0.24207226753702463,-0.7267289147070145,0.7108097106216346,1.0999563932808487,0.6392853175674094,1.038615143644844,-0.3961100300130882,-1.2348092781931252,1.5369510745298147,1.134292315453842,0.867284380695765,-0.8186709786990319,0.05413912942571534,-0.7966679732969227,-0.32658474242053515,-0.19586622723760486,-2.2273672971772673,-5.029106065297523,-6.672222943645271,-7.127406738465819,-7.56397740707016,-6.42262833329989,-1.3572707582160155,0.9856510572948378,-0.021576774043550524,1.4611299164947418,-6.834194549346986,-7.5986705135351675,0.06979525146658391,0.6288803947317603,2.0345794286177257,1.5784173485971544,2.1470220680525705,2.410915850867977,-1.404758229443992,-1.878155041041343,2.328438556075017,2.0061105949604108,1.444490838742998,0.7867993470064086,-7.293953885293042,2.458966593200641,-6.722585926017221],\"y\":[-2.2928086271702615,-1.3897365871798875,-2.6374055396888667,-1.9218353096907683,-1.2297192142705837,-0.7465949173001967,-1.6178407604576266,2.386635342525208,1.979716142437778,1.923552652604299,1.2804339511761476,-1.2625854450425786,-2.1470847970787017,2.2099657160298922,2.511407383747006,2.487279537895105,2.148006039911032,1.846454632965417,3.1710422739911475,3.167468222072491,4.3800906885020465,0.3161474442363471,-0.525548085228081,-0.5871809316957075,-0.01818095602248102,-1.1726259365066736,-1.0074934412754613,0.505614126522291,-0.07154547064414733,-0.09751792859453676,-2.550114483635679,-1.8690714568447535,-5.3007464306071865,0.8744348706228725,0.9966878596459804,1.363375206206757,1.674806248655076,0.687719932589005,-2.0101153319499048,-3.3105376081957947,2.1421991228364248,-0.20512433077670672,0.14702305568520813,-1.055823903385036,-2.657446980830927,1.75915144450159,0.8977123654700246,-1.8109104472845827,-1.3503666710473692,-0.7306981586981811,1.573132161573591,0.36081107578397137,-0.14579934289108498,2.8194884446624866,0.18732589567602465,2.0341675285789744,-0.9566072617129613,2.193496216751842],\"type\":\"scatter\",\"uid\":\"8da034f1-6de0-464d-ab14-98f31ae8289f\"}],                        {\"autosize\":false,\"hovermode\":\"closest\",\"margin\":{\"b\":20,\"l\":5,\"r\":5,\"t\":40},\"showlegend\":false,\"template\":{\"data\":{\"barpolar\":[{\"marker\":{\"line\":{\"color\":\"white\",\"width\":0.5},\"pattern\":{\"fillmode\":\"overlay\",\"size\":10,\"solidity\":0.2}},\"type\":\"barpolar\"}],\"bar\":[{\"error_x\":{\"color\":\"rgb(36,36,36)\"},\"error_y\":{\"color\":\"rgb(36,36,36)\"},\"marker\":{\"line\":{\"color\":\"white\",\"width\":0.5},\"pattern\":{\"fillmode\":\"overlay\",\"size\":10,\"solidity\":0.2}},\"type\":\"bar\"}],\"carpet\":[{\"aaxis\":{\"endlinecolor\":\"rgb(36,36,36)\",\"gridcolor\":\"white\",\"linecolor\":\"white\",\"minorgridcolor\":\"white\",\"startlinecolor\":\"rgb(36,36,36)\"},\"baxis\":{\"endlinecolor\":\"rgb(36,36,36)\",\"gridcolor\":\"white\",\"linecolor\":\"white\",\"minorgridcolor\":\"white\",\"startlinecolor\":\"rgb(36,36,36)\"},\"type\":\"carpet\"}],\"choropleth\":[{\"colorbar\":{\"outlinewidth\":1,\"tickcolor\":\"rgb(36,36,36)\",\"ticks\":\"outside\"},\"type\":\"choropleth\"}],\"contourcarpet\":[{\"colorbar\":{\"outlinewidth\":1,\"tickcolor\":\"rgb(36,36,36)\",\"ticks\":\"outside\"},\"type\":\"contourcarpet\"}],\"contour\":[{\"colorbar\":{\"outlinewidth\":1,\"tickcolor\":\"rgb(36,36,36)\",\"ticks\":\"outside\"},\"colorscale\":[[0.0,\"#440154\"],[0.1111111111111111,\"#482878\"],[0.2222222222222222,\"#3e4989\"],[0.3333333333333333,\"#31688e\"],[0.4444444444444444,\"#26828e\"],[0.5555555555555556,\"#1f9e89\"],[0.6666666666666666,\"#35b779\"],[0.7777777777777778,\"#6ece58\"],[0.8888888888888888,\"#b5de2b\"],[1.0,\"#fde725\"]],\"type\":\"contour\"}],\"heatmapgl\":[{\"colorbar\":{\"outlinewidth\":1,\"tickcolor\":\"rgb(36,36,36)\",\"ticks\":\"outside\"},\"colorscale\":[[0.0,\"#440154\"],[0.1111111111111111,\"#482878\"],[0.2222222222222222,\"#3e4989\"],[0.3333333333333333,\"#31688e\"],[0.4444444444444444,\"#26828e\"],[0.5555555555555556,\"#1f9e89\"],[0.6666666666666666,\"#35b779\"],[0.7777777777777778,\"#6ece58\"],[0.8888888888888888,\"#b5de2b\"],[1.0,\"#fde725\"]],\"type\":\"heatmapgl\"}],\"heatmap\":[{\"colorbar\":{\"outlinewidth\":1,\"tickcolor\":\"rgb(36,36,36)\",\"ticks\":\"outside\"},\"colorscale\":[[0.0,\"#440154\"],[0.1111111111111111,\"#482878\"],[0.2222222222222222,\"#3e4989\"],[0.3333333333333333,\"#31688e\"],[0.4444444444444444,\"#26828e\"],[0.5555555555555556,\"#1f9e89\"],[0.6666666666666666,\"#35b779\"],[0.7777777777777778,\"#6ece58\"],[0.8888888888888888,\"#b5de2b\"],[1.0,\"#fde725\"]],\"type\":\"heatmap\"}],\"histogram2dcontour\":[{\"colorbar\":{\"outlinewidth\":1,\"tickcolor\":\"rgb(36,36,36)\",\"ticks\":\"outside\"},\"colorscale\":[[0.0,\"#440154\"],[0.1111111111111111,\"#482878\"],[0.2222222222222222,\"#3e4989\"],[0.3333333333333333,\"#31688e\"],[0.4444444444444444,\"#26828e\"],[0.5555555555555556,\"#1f9e89\"],[0.6666666666666666,\"#35b779\"],[0.7777777777777778,\"#6ece58\"],[0.8888888888888888,\"#b5de2b\"],[1.0,\"#fde725\"]],\"type\":\"histogram2dcontour\"}],\"histogram2d\":[{\"colorbar\":{\"outlinewidth\":1,\"tickcolor\":\"rgb(36,36,36)\",\"ticks\":\"outside\"},\"colorscale\":[[0.0,\"#440154\"],[0.1111111111111111,\"#482878\"],[0.2222222222222222,\"#3e4989\"],[0.3333333333333333,\"#31688e\"],[0.4444444444444444,\"#26828e\"],[0.5555555555555556,\"#1f9e89\"],[0.6666666666666666,\"#35b779\"],[0.7777777777777778,\"#6ece58\"],[0.8888888888888888,\"#b5de2b\"],[1.0,\"#fde725\"]],\"type\":\"histogram2d\"}],\"histogram\":[{\"marker\":{\"line\":{\"color\":\"white\",\"width\":0.6}},\"type\":\"histogram\"}],\"mesh3d\":[{\"colorbar\":{\"outlinewidth\":1,\"tickcolor\":\"rgb(36,36,36)\",\"ticks\":\"outside\"},\"type\":\"mesh3d\"}],\"parcoords\":[{\"line\":{\"colorbar\":{\"outlinewidth\":1,\"tickcolor\":\"rgb(36,36,36)\",\"ticks\":\"outside\"}},\"type\":\"parcoords\"}],\"pie\":[{\"automargin\":true,\"type\":\"pie\"}],\"scatter3d\":[{\"line\":{\"colorbar\":{\"outlinewidth\":1,\"tickcolor\":\"rgb(36,36,36)\",\"ticks\":\"outside\"}},\"marker\":{\"colorbar\":{\"outlinewidth\":1,\"tickcolor\":\"rgb(36,36,36)\",\"ticks\":\"outside\"}},\"type\":\"scatter3d\"}],\"scattercarpet\":[{\"marker\":{\"colorbar\":{\"outlinewidth\":1,\"tickcolor\":\"rgb(36,36,36)\",\"ticks\":\"outside\"}},\"type\":\"scattercarpet\"}],\"scattergeo\":[{\"marker\":{\"colorbar\":{\"outlinewidth\":1,\"tickcolor\":\"rgb(36,36,36)\",\"ticks\":\"outside\"}},\"type\":\"scattergeo\"}],\"scattergl\":[{\"marker\":{\"colorbar\":{\"outlinewidth\":1,\"tickcolor\":\"rgb(36,36,36)\",\"ticks\":\"outside\"}},\"type\":\"scattergl\"}],\"scattermapbox\":[{\"marker\":{\"colorbar\":{\"outlinewidth\":1,\"tickcolor\":\"rgb(36,36,36)\",\"ticks\":\"outside\"}},\"type\":\"scattermapbox\"}],\"scatterpolargl\":[{\"marker\":{\"colorbar\":{\"outlinewidth\":1,\"tickcolor\":\"rgb(36,36,36)\",\"ticks\":\"outside\"}},\"type\":\"scatterpolargl\"}],\"scatterpolar\":[{\"marker\":{\"colorbar\":{\"outlinewidth\":1,\"tickcolor\":\"rgb(36,36,36)\",\"ticks\":\"outside\"}},\"type\":\"scatterpolar\"}],\"scatter\":[{\"fillpattern\":{\"fillmode\":\"overlay\",\"size\":10,\"solidity\":0.2},\"type\":\"scatter\"}],\"scatterternary\":[{\"marker\":{\"colorbar\":{\"outlinewidth\":1,\"tickcolor\":\"rgb(36,36,36)\",\"ticks\":\"outside\"}},\"type\":\"scatterternary\"}],\"surface\":[{\"colorbar\":{\"outlinewidth\":1,\"tickcolor\":\"rgb(36,36,36)\",\"ticks\":\"outside\"},\"colorscale\":[[0.0,\"#440154\"],[0.1111111111111111,\"#482878\"],[0.2222222222222222,\"#3e4989\"],[0.3333333333333333,\"#31688e\"],[0.4444444444444444,\"#26828e\"],[0.5555555555555556,\"#1f9e89\"],[0.6666666666666666,\"#35b779\"],[0.7777777777777778,\"#6ece58\"],[0.8888888888888888,\"#b5de2b\"],[1.0,\"#fde725\"]],\"type\":\"surface\"}],\"table\":[{\"cells\":{\"fill\":{\"color\":\"rgb(237,237,237)\"},\"line\":{\"color\":\"white\"}},\"header\":{\"fill\":{\"color\":\"rgb(217,217,217)\"},\"line\":{\"color\":\"white\"}},\"type\":\"table\"}]},\"layout\":{\"annotationdefaults\":{\"arrowhead\":0,\"arrowwidth\":1},\"autotypenumbers\":\"strict\",\"coloraxis\":{\"colorbar\":{\"outlinewidth\":1,\"tickcolor\":\"rgb(36,36,36)\",\"ticks\":\"outside\"}},\"colorscale\":{\"diverging\":[[0.0,\"rgb(103,0,31)\"],[0.1,\"rgb(178,24,43)\"],[0.2,\"rgb(214,96,77)\"],[0.3,\"rgb(244,165,130)\"],[0.4,\"rgb(253,219,199)\"],[0.5,\"rgb(247,247,247)\"],[0.6,\"rgb(209,229,240)\"],[0.7,\"rgb(146,197,222)\"],[0.8,\"rgb(67,147,195)\"],[0.9,\"rgb(33,102,172)\"],[1.0,\"rgb(5,48,97)\"]],\"sequential\":[[0.0,\"#440154\"],[0.1111111111111111,\"#482878\"],[0.2222222222222222,\"#3e4989\"],[0.3333333333333333,\"#31688e\"],[0.4444444444444444,\"#26828e\"],[0.5555555555555556,\"#1f9e89\"],[0.6666666666666666,\"#35b779\"],[0.7777777777777778,\"#6ece58\"],[0.8888888888888888,\"#b5de2b\"],[1.0,\"#fde725\"]],\"sequentialminus\":[[0.0,\"#440154\"],[0.1111111111111111,\"#482878\"],[0.2222222222222222,\"#3e4989\"],[0.3333333333333333,\"#31688e\"],[0.4444444444444444,\"#26828e\"],[0.5555555555555556,\"#1f9e89\"],[0.6666666666666666,\"#35b779\"],[0.7777777777777778,\"#6ece58\"],[0.8888888888888888,\"#b5de2b\"],[1.0,\"#fde725\"]]},\"colorway\":[\"#1F77B4\",\"#FF7F0E\",\"#2CA02C\",\"#D62728\",\"#9467BD\",\"#8C564B\",\"#E377C2\",\"#7F7F7F\",\"#BCBD22\",\"#17BECF\"],\"font\":{\"color\":\"rgb(36,36,36)\"},\"geo\":{\"bgcolor\":\"white\",\"lakecolor\":\"white\",\"landcolor\":\"white\",\"showlakes\":true,\"showland\":true,\"subunitcolor\":\"white\"},\"hoverlabel\":{\"align\":\"left\"},\"hovermode\":\"closest\",\"mapbox\":{\"style\":\"light\"},\"paper_bgcolor\":\"white\",\"plot_bgcolor\":\"white\",\"polar\":{\"angularaxis\":{\"gridcolor\":\"rgb(232,232,232)\",\"linecolor\":\"rgb(36,36,36)\",\"showgrid\":false,\"showline\":true,\"ticks\":\"outside\"},\"bgcolor\":\"white\",\"radialaxis\":{\"gridcolor\":\"rgb(232,232,232)\",\"linecolor\":\"rgb(36,36,36)\",\"showgrid\":false,\"showline\":true,\"ticks\":\"outside\"}},\"scene\":{\"xaxis\":{\"backgroundcolor\":\"white\",\"gridcolor\":\"rgb(232,232,232)\",\"gridwidth\":2,\"linecolor\":\"rgb(36,36,36)\",\"showbackground\":true,\"showgrid\":false,\"showline\":true,\"ticks\":\"outside\",\"zeroline\":false,\"zerolinecolor\":\"rgb(36,36,36)\"},\"yaxis\":{\"backgroundcolor\":\"white\",\"gridcolor\":\"rgb(232,232,232)\",\"gridwidth\":2,\"linecolor\":\"rgb(36,36,36)\",\"showbackground\":true,\"showgrid\":false,\"showline\":true,\"ticks\":\"outside\",\"zeroline\":false,\"zerolinecolor\":\"rgb(36,36,36)\"},\"zaxis\":{\"backgroundcolor\":\"white\",\"gridcolor\":\"rgb(232,232,232)\",\"gridwidth\":2,\"linecolor\":\"rgb(36,36,36)\",\"showbackground\":true,\"showgrid\":false,\"showline\":true,\"ticks\":\"outside\",\"zeroline\":false,\"zerolinecolor\":\"rgb(36,36,36)\"}},\"shapedefaults\":{\"fillcolor\":\"black\",\"line\":{\"width\":0},\"opacity\":0.3},\"ternary\":{\"aaxis\":{\"gridcolor\":\"rgb(232,232,232)\",\"linecolor\":\"rgb(36,36,36)\",\"showgrid\":false,\"showline\":true,\"ticks\":\"outside\"},\"baxis\":{\"gridcolor\":\"rgb(232,232,232)\",\"linecolor\":\"rgb(36,36,36)\",\"showgrid\":false,\"showline\":true,\"ticks\":\"outside\"},\"bgcolor\":\"white\",\"caxis\":{\"gridcolor\":\"rgb(232,232,232)\",\"linecolor\":\"rgb(36,36,36)\",\"showgrid\":false,\"showline\":true,\"ticks\":\"outside\"}},\"title\":{\"x\":0.05},\"xaxis\":{\"automargin\":true,\"gridcolor\":\"rgb(232,232,232)\",\"linecolor\":\"rgb(36,36,36)\",\"showgrid\":false,\"showline\":true,\"ticks\":\"outside\",\"title\":{\"standoff\":15},\"zeroline\":false,\"zerolinecolor\":\"rgb(36,36,36)\"},\"yaxis\":{\"automargin\":true,\"gridcolor\":\"rgb(232,232,232)\",\"linecolor\":\"rgb(36,36,36)\",\"showgrid\":false,\"showline\":true,\"ticks\":\"outside\",\"title\":{\"standoff\":15},\"zeroline\":false,\"zerolinecolor\":\"rgb(36,36,36)\"}}},\"title\":{\"text\":\"\"},\"xaxis\":{\"showgrid\":false,\"showline\":false,\"showticklabels\":false,\"ticks\":\"\",\"title\":{\"text\":\"\"},\"zeroline\":false},\"yaxis\":{\"showgrid\":false,\"showline\":false,\"showticklabels\":false,\"ticks\":\"\",\"title\":{\"text\":\"\"},\"zeroline\":false}},                        {\"scrollZoom\": true, \"responsive\": true}                    ).then(function(){\n",
       "                            \n",
       "var gd = document.getElementById('4c71d0e9-8b12-4bac-9484-3d4c693d8029');\n",
       "var x = new MutationObserver(function (mutations, observer) {{\n",
       "        var display = window.getComputedStyle(gd).display;\n",
       "        if (!display || display === 'none') {{\n",
       "            console.log([gd, 'removed!']);\n",
       "            Plotly.purge(gd);\n",
       "            observer.disconnect();\n",
       "        }}\n",
       "}});\n",
       "\n",
       "// Listen for the removal of the full notebook cells\n",
       "var notebookContainer = gd.closest('#notebook-container');\n",
       "if (notebookContainer) {{\n",
       "    x.observe(notebookContainer, {childList: true});\n",
       "}}\n",
       "\n",
       "// Listen for the clearing of the current output cell\n",
       "var outputEl = gd.closest('.output');\n",
       "if (outputEl) {{\n",
       "    x.observe(outputEl, {childList: true});\n",
       "}}\n",
       "\n",
       "                        })                };                });            </script>        </div>"
      ]
     },
     "metadata": {},
     "output_type": "display_data"
    }
   ],
   "source": [
    "np.random.seed(613)\n",
    "fig = plot_static_mapper_graph(pipe, distance_matrix)\n",
    "fig.show(config={'scrollZoom': True})"
   ]
  },
  {
   "cell_type": "code",
   "execution_count": 15,
   "id": "0976180e-5abc-4b72-9329-545b62279145",
   "metadata": {
    "scrolled": true,
    "tags": []
   },
   "outputs": [
    {
     "name": "stdout",
     "output_type": "stream",
     "text": [
      "3\n"
     ]
    },
    {
     "name": "stderr",
     "output_type": "stream",
     "text": [
      "/opt/anaconda3/envs/mapper_env/lib/python3.11/site-packages/sklearn/manifold/_mds.py:601: UserWarning:\n",
      "\n",
      "The MDS API has changed. ``fit`` now constructs an dissimilarity matrix from data. To use a custom dissimilarity matrix, set ``dissimilarity='precomputed'``.\n",
      "\n"
     ]
    },
    {
     "ename": "NameError",
     "evalue": "name 'distance_matrix_raw' is not defined",
     "output_type": "error",
     "traceback": [
      "\u001b[31m---------------------------------------------------------------------------\u001b[39m",
      "\u001b[31mNameError\u001b[39m                                 Traceback (most recent call last)",
      "\u001b[36mCell\u001b[39m\u001b[36m \u001b[39m\u001b[32mIn[15]\u001b[39m\u001b[32m, line 2\u001b[39m\n\u001b[32m      1\u001b[39m mapper_graph = pipe.fit_transform(distance_matrix)\n\u001b[32m----> \u001b[39m\u001b[32m2\u001b[39m column_names = \u001b[43mdistance_matrix_raw\u001b[49m.columns.tolist()\n\u001b[32m      3\u001b[39m node_elements = mapper_graph.vs[\u001b[33m\"\u001b[39m\u001b[33mnode_elements\u001b[39m\u001b[33m\"\u001b[39m]\n\u001b[32m      5\u001b[39m \u001b[38;5;28;01mfor\u001b[39;00m node_id, indices \u001b[38;5;129;01min\u001b[39;00m \u001b[38;5;28menumerate\u001b[39m(node_elements):\n",
      "\u001b[31mNameError\u001b[39m: name 'distance_matrix_raw' is not defined"
     ]
    }
   ],
   "source": [
    "mapper_graph = pipe.fit_transform(distance_matrix)\n",
    "column_names = distance_matrix_raw.columns.tolist()\n",
    "node_elements = mapper_graph.vs[\"node_elements\"]\n",
    "\n",
    "for node_id, indices in enumerate(node_elements):\n",
    "    words = [column_names[i] for i in indices]\n",
    "    print(f\"Node {node_id}:\")\n",
    "    #print(f\"  Indices: {indices}\")\n",
    "    print(f\"Words: {words}\")\n"
   ]
  },
  {
   "cell_type": "code",
   "execution_count": 42,
   "id": "cd0d5112-dab1-4bc1-8fa1-e0071f1c69f4",
   "metadata": {},
   "outputs": [
    {
     "name": "stdout",
     "output_type": "stream",
     "text": [
      "<class 'igraph.Graph'>\n",
      "['pullback_set_label', 'partial_cluster_label', 'node_elements']\n",
      "Node ID: 1, Node elements: [ 3 97], Data points: [[-0.20309507 -0.06242241  0.17991439  0.00251489 -0.01076365]\n",
      " [-0.20468865 -0.07222665  0.13540522 -0.00639348 -0.00048297]]\n"
     ]
    }
   ],
   "source": [
    "\n",
    "mapper_graph = pipe.fit_transform(mds_coords)  # Create the mapper graph\n",
    "print(type(mapper_graph))\n",
    "\n",
    "print(mapper_graph.vs.attributes())\n",
    "\n",
    "# Find which points belong to first node of graph\n",
    "#node_id = 1\n",
    "node_elements = mapper_graph.vs[\"node_elements\"]\n",
    "#print(f\"Node ID: {node_id}, Node elements: {node_elements[node_id]}, Data points: {mds_coords[node_elements[node_id]]}\")\n"
   ]
  },
  {
   "cell_type": "code",
   "execution_count": 19,
   "id": "94f013c7-4c1d-4ba6-b723-0204b4eb8573",
   "metadata": {},
   "outputs": [],
   "source": [
    "distance_matrix_raw = pd.read_csv(\"distance_matrix.csv\")"
   ]
  },
  {
   "cell_type": "code",
   "execution_count": null,
   "id": "9c391592-76e5-471f-b41e-fe0b4604c4bb",
   "metadata": {},
   "outputs": [],
   "source": []
  },
  {
   "cell_type": "code",
   "execution_count": null,
   "id": "90fe6233-f138-4676-b382-275c1a87e509",
   "metadata": {},
   "outputs": [],
   "source": []
  },
  {
   "cell_type": "code",
   "execution_count": null,
   "id": "854dfba3-b7f7-48be-bb30-09db94bed1cc",
   "metadata": {},
   "outputs": [],
   "source": [
    "\n"
   ]
  },
  {
   "cell_type": "code",
   "execution_count": null,
   "id": "354d7738-d308-4de8-877d-6e87edf8a24c",
   "metadata": {},
   "outputs": [],
   "source": []
  },
  {
   "cell_type": "code",
   "execution_count": 25,
   "id": "07339636-4779-42ee-abd0-b6fabdb09aa9",
   "metadata": {
    "tags": []
   },
   "outputs": [
    {
     "name": "stdout",
     "output_type": "stream",
     "text": [
      "3\n"
     ]
    },
    {
     "name": "stderr",
     "output_type": "stream",
     "text": [
      "/opt/anaconda3/envs/mapper_env/lib/python3.11/site-packages/sklearn/manifold/_mds.py:601: UserWarning:\n",
      "\n",
      "The MDS API has changed. ``fit`` now constructs an dissimilarity matrix from data. To use a custom dissimilarity matrix, set ``dissimilarity='precomputed'``.\n",
      "\n"
     ]
    },
    {
     "name": "stdout",
     "output_type": "stream",
     "text": [
      "Node 0:\n",
      "  Words: [\"'d\", \"'re\", \"'s\", \"'ve\", 'gon', 'na', 'need', 'wan']\n",
      "Node 1:\n",
      "  Words: [\"'d\", \"'ll\", \"'m\", \"'re\", \"'s\", \"'ve\", 'ca']\n",
      "Node 2:\n",
      "  Words: [\"'ll\", \"'s\", 'mean']\n",
      "Node 3:\n",
      "  Words: [\"'re\", \"'s\", \"'ve\", 'a', 'about', 'all', 'always', 'any', 'as', 'at', 'be', 'been', 'by', 'call', 'came', 'can', 'come', 'could', 'do', 'even', 'five', 'for', 'from', 'get', 'getting', 'go', 'goes', 'going', 'gon', 'got', 'had', 'has', 'have', 'in', 'into', 'kind', 'kinda', 'lot', 'make', \"n't\", 'na', 'need', 'never', 'not', 'on', 'only', 'over', 'put', 'said', 'should', 'some', 'still', 'tell', 'than', 'think', 'those', 'thought', 'through', 'told', 'want', 'wanted', 'was', 'went', 'were', 'will', 'with', 'would', 'remember', 'give']\n",
      "Node 4:\n",
      "  Words: [\"'re\", \"'s\", \"'ve\", 'about', 'ca', 'could', 'did', 'do', 'five', 'guess', 'has', 'just', 'never', 'on', 'only', 'over', 'probably', 'said', 'should', 'think', 'thought', 'three', 'through', 'went', 'with', 'would', 'remember']\n",
      "Node 5:\n",
      "  Words: [\"'s\", 'na', 'pretty', 'very']\n",
      "Node 6:\n",
      "  Words: [\"'s\", 'lot', 'na', 'pretty', 'said', 'tell']\n",
      "Node 7:\n",
      "  Words: ['a', 'about', 'all', 'always', 'an', 'another', 'any', 'are', 'as', 'at', 'be', 'big', 'by', 'call', 'came', 'can', 'come', 'different', 'do', 'doing', 'even', 'every', 'first', 'five', 'for', 'four', 'from', 'get', 'getting', 'go', 'goes', 'going', 'has', 'is', 'kind', 'kinda', 'like', 'little', 'long', 'look', 'lot', 'make', 'more', 'much', 'my', 'new', 'not', 'of', 'on', 'one', 'other', 'our', 'over', 'people', 'put', 'real', 'said', 'see', 'some', 'still', 'tell', 'than', 'that', 'the', 'their', 'thing', 'things', 'this', 'those', 'through', 'two', 'up', 'want', 'wanted', 'went', 'were', 'whole', 'will', 'your', 'his', 'remember', 'give']\n",
      "Node 8:\n",
      "  Words: ['about', 'are', 'day', 'did', 'do', 'does', 'doing', 'down', 'every', 'five', 'four', 'good', 'guy', 'has', 'her', 'how', 'is', 'it', 'just', 'long', 'look', 'me', 'more', 'off', 'on', 'over', 'probably', 'really', 'said', 'say', 'see', 'something', 'that', 'them', 'there', 'they', 'three', 'through', 'two', 'way', 'we', 'went', 'what', 'years', 'you', 'remember']\n",
      "Node 9:\n",
      "  Words: ['after', 'our']\n",
      "Node 10:\n",
      "  Words: ['after', 'day', 'good', 'how', 'they', 'we', 'what', 'when', 'where', 'who', 'years', 'you']\n",
      "Node 11:\n",
      "  Words: ['and', 'because', 'though', 'which']\n",
      "Node 12:\n",
      "  Words: ['anything', 'pretty', 'real', 'stuff', 'time', 'very', 'year', 'great']\n",
      "Node 13:\n",
      "  Words: ['anything', 'around', 'before', 'big', 'different', 'em', 'everything', 'him', 'lot', 'much', 'or', 'out', 'pretty', 'real', 'said', 'tell', 'ten', 'thing', 'things', 'time', 'up', 'us', 'work', 'year', 'great']\n",
      "Node 14:\n",
      "  Words: ['because', 'but', 'well']\n",
      "Node 15:\n",
      "  Words: ['because', 'mom', 'no', 'right']\n",
      "Node 16:\n",
      "  Words: ['because', 'here', 'mom', 'so', 'though']\n",
      "Node 17:\n",
      "  Words: ['but', 'cause', 'well']\n",
      "Node 18:\n",
      "  Words: ['day', 'good', 'he', 'here', 'how', 'i', 'if', 'let', 'maybe', 'mom', 'now', 'she', 'so', 'they', 'too', 'we', 'what', 'when', 'where', 'who', 'why', 'years', 'you']\n",
      "Node 19:\n",
      "  Words: ['everything', 'god', 'know', 'or', 'said', 'sure', 'man']\n",
      "Node 20:\n",
      "  Words: ['mhm']\n",
      "Node 21:\n",
      "  Words: ['mm', 'okay', 'yeah', 'yes', 'alright']\n",
      "Node 22:\n",
      "  Words: ['oh', 'um']\n",
      "Node 23:\n",
      "  Words: ['okay', 'um', 'yeah']\n",
      "Node 24:\n",
      "  Words: ['right', 'uh']\n",
      "Node 25:\n",
      "  Words: ['then']\n"
     ]
    }
   ],
   "source": [
    "import json\n",
    "import numpy as np\n",
    "\n",
    "np.random.seed(3047)\n",
    "\n",
    "mapper_graph = pipe.fit_transform(distance_matrix)\n",
    "adjacency_matrix = np.array(mapper_graph.get_adjacency()).tolist()\n",
    "node_elements = [list(map(int, ne)) for ne in mapper_graph.vs[\"node_elements\"]]\n",
    "\n",
    "mapper_result_export = {\n",
    "    \"adjacency\": adjacency_matrix,\n",
    "    \"points_in_vertex\": node_elements\n",
    "}\n",
    "\n",
    "to_remove = set()\n",
    "n = len(node_elements)\n",
    "\n",
    "for i in range(n):\n",
    "    for j in range(n):\n",
    "        if i != j:\n",
    "            set_i = set(node_elements[i])\n",
    "            set_j = set(node_elements[j])\n",
    "            if set_i < set_j:  # proper subset\n",
    "                to_remove.add(i)\n",
    "                break  # i is a proper subset of j\n",
    "\n",
    "# Step 2: Sort indices descending to delete safely\n",
    "to_remove = sorted(to_remove, reverse=True)\n",
    "\n",
    "# Step 3: Remove from points_in_vertex and adjacency\n",
    "for idx in to_remove:\n",
    "    del node_elements[idx]\n",
    "    del adjacency_matrix[idx]\n",
    "    for row in adjacency_matrix:\n",
    "        del row[idx]\n",
    "\n",
    "# Step 4: Update the export dictionary\n",
    "mapper_result_export = {\n",
    "    \"adjacency\": adjacency_matrix,\n",
    "    \"points_in_vertex\": node_elements\n",
    "}\n",
    "\n",
    "\n",
    "\n",
    "column_names = distance_matrix_raw.columns.tolist()\n",
    "# Use cleaned node_elements from mapper_result_export\n",
    "cleaned_node_elements = mapper_result_export[\"points_in_vertex\"]\n",
    "\n",
    "for node_id, indices in enumerate(cleaned_node_elements):\n",
    "    words = [column_names[i] for i in indices]\n",
    "    print(f\"Node {node_id}:\")\n",
    "    print(f\"  Words: {words}\")\n",
    "\n",
    "with open(\"mapper_result.json\", \"w\") as f:\n",
    "    json.dump(mapper_result_export, f)\n"
   ]
  },
  {
   "cell_type": "code",
   "execution_count": 23,
   "id": "22fe3a85-16c4-4648-93c3-ce5b5228d3bd",
   "metadata": {},
   "outputs": [
    {
     "ename": "NameError",
     "evalue": "name 'data' is not defined",
     "output_type": "error",
     "traceback": [
      "\u001b[31m---------------------------------------------------------------------------\u001b[39m",
      "\u001b[31mNameError\u001b[39m                                 Traceback (most recent call last)",
      "\u001b[36mCell\u001b[39m\u001b[36m \u001b[39m\u001b[32mIn[23]\u001b[39m\u001b[32m, line 1\u001b[39m\n\u001b[32m----> \u001b[39m\u001b[32m1\u001b[39m points_in_vertex = \u001b[43mdata\u001b[49m[\u001b[33m\"\u001b[39m\u001b[33mpoints_in_vertex\u001b[39m\u001b[33m\"\u001b[39m]\n\u001b[32m      2\u001b[39m adjacency = data[\u001b[33m\"\u001b[39m\u001b[33madjacency\u001b[39m\u001b[33m\"\u001b[39m]\n\u001b[32m      4\u001b[39m \u001b[38;5;66;03m# Step 1: Identify proper subsets\u001b[39;00m\n",
      "\u001b[31mNameError\u001b[39m: name 'data' is not defined"
     ]
    }
   ],
   "source": [
    "\n",
    "points_in_vertex = data[\"points_in_vertex\"]\n",
    "adjacency = data[\"adjacency\"]\n",
    "\n",
    "# Step 1: Identify proper subsets\n",
    "to_remove = set()\n",
    "n = len(points_in_vertex)\n",
    "\n",
    "for i in range(n):\n",
    "    for j in range(n):\n",
    "        if i != j:\n",
    "            set_i = set(points_in_vertex[i])\n",
    "            set_j = set(points_in_vertex[j])\n",
    "            if set_i < set_j:  # proper subset\n",
    "                to_remove.add(i)\n",
    "                break  # No need to check further once i is known to be a subset\n",
    "\n",
    "# Step 2: Sort indices in descending order so we can safely delete\n",
    "to_remove = sorted(to_remove, reverse=True)\n",
    "\n",
    "# Step 3: Remove entries from both `points_in_vertex` and `adjacency`\n",
    "for idx in to_remove:\n",
    "    del points_in_vertex[idx]\n",
    "    del adjacency[idx]\n",
    "    for row in adjacency:\n",
    "        del row[idx]\n",
    "\n",
    "# (Optional) Save the cleaned version\n",
    "data[\"points_in_vertex\"] = points_in_vertex\n",
    "data[\"adjacency\"] = adjacency\n",
    "\n",
    "with open(\"cleaned_mapper_result.json\", \"w\") as f:\n",
    "    json.dump(data, f)"
   ]
  }
 ],
 "metadata": {
  "kernelspec": {
   "display_name": "Python (mapper_env)",
   "language": "python",
   "name": "mapper_env"
  },
  "language_info": {
   "codemirror_mode": {
    "name": "ipython",
    "version": 3
   },
   "file_extension": ".py",
   "mimetype": "text/x-python",
   "name": "python",
   "nbconvert_exporter": "python",
   "pygments_lexer": "ipython3",
   "version": "3.11.11"
  }
 },
 "nbformat": 4,
 "nbformat_minor": 5
}
