{
 "cells": [
  {
   "cell_type": "code",
   "execution_count": 17,
   "id": "fcc9c7c1-7d22-4c7c-8783-a6e850026f4c",
   "metadata": {},
   "outputs": [],
   "source": [
    "# Data wrangling\n",
    "import numpy as np\n",
    "import pandas as pd  # Not a requirement of giotto-tda, but is compatible with the gtda.mapper module\n",
    "\n",
    "# Data viz\n",
    "from gtda.plotting import plot_point_cloud\n",
    "\n",
    "# TDA magic\n",
    "from gtda.mapper import (\n",
    "    CubicalCover,\n",
    "    make_mapper_pipeline,\n",
    "    Projection,\n",
    "    plot_static_mapper_graph,\n",
    "    plot_interactive_mapper_graph,\n",
    "    MapperInteractivePlotter\n",
    ")\n",
    "\n",
    "# ML tools\n",
    "from sklearn import datasets\n",
    "from sklearn.cluster import DBSCAN\n",
    "from sklearn.decomposition import PCA\n",
    "from sklearn.manifold import MDS\n",
    "import random"
   ]
  },
  {
   "cell_type": "code",
   "execution_count": null,
   "id": "630f996a-21d3-448b-b771-b99c64805054",
   "metadata": {},
   "outputs": [],
   "source": [
    "pip install giotto-tda\n"
   ]
  },
  {
   "cell_type": "code",
   "execution_count": 22,
   "id": "c277c712-54f0-40c2-b900-7cf5cb6667ca",
   "metadata": {},
   "outputs": [],
   "source": [
    "mds_coords = pd.read_csv(\"mds_coords_k3.csv\").values \n",
    "distance_matrix = pd.read_csv(\"distance_matrix.csv\").values\n",
    "pdf_matrix = pd.read_csv(\"pdf_matrix.csv\").values"
   ]
  },
  {
   "cell_type": "code",
   "execution_count": 24,
   "id": "6ec68dcf-2599-424d-8efd-183fbfd82b3b",
   "metadata": {},
   "outputs": [],
   "source": [
    "# Issues:\n",
    "# mds doesn't have .transform function\n",
    "# if no fit_transform, then .fit.transform()\n",
    "\n",
    "from sklearn.base import BaseEstimator, TransformerMixin\n",
    "from sklearn.manifold import MDS\n",
    "\n",
    "class WrappedMDS(BaseEstimator, TransformerMixin):\n",
    "    def __init__(self, n_components=5, normalized_stress='auto'):\n",
    "        self.n_components = n_components\n",
    "        self.normalized_stress = normalized_stress\n",
    "        self.mds = MDS(n_components=n_components, \n",
    "                       #dissimilarity='euclidean', \n",
    "                       normalized_stress=normalized_stress)\n",
    "\n",
    "    def fit(self, X, y=None):\n",
    "        print(\"1\")\n",
    "        self.mds.fit(X)\n",
    "        return self\n",
    "\n",
    "    def transform(self, X):\n",
    "        print(\"2\")\n",
    "        return self.mds.fit_transform(X)\n",
    "    \n",
    "    def fit_transform(self, X, y=None):\n",
    "        print(\"3\")\n",
    "        return self.mds.fit_transform(X)\n",
    "\n",
    "\n",
    "filter_func = WrappedMDS(n_components=5)\n"
   ]
  },
  {
   "cell_type": "code",
   "execution_count": 100,
   "id": "983e6774-0845-4987-8e04-cf263d06af70",
   "metadata": {},
   "outputs": [],
   "source": [
    "## testing which part of PCA\n",
    "#from sklearn.base import BaseEstimator, TransformerMixin\n",
    "#from sklearn.decomposition import PCA\n",
    "\n",
    "#class WrappedPCA(BaseEstimator, TransformerMixin):\n",
    "    #def __init__(self, n_components=2):\n",
    "        #self.n_components = n_components\n",
    "        #self.pca = PCA(n_components=n_components)\n",
    "\n",
    "    #def fit(self, X, y=None):\n",
    "        #self.pca.fit(X)\n",
    "        #print(\"1\")\n",
    "        #return self\n",
    "\n",
    "    #def transform(self, X):\n",
    "        #print(\"2\")\n",
    "        #return self.pca.transform(X)\n",
    "\n",
    "    #def fit_transform(self, X, y=None):\n",
    "        #print(\"3\")\n",
    "        #return self.pca.fit_transform(X)\n",
    "#filter_func = WrappedPCA(n_components=5)"
   ]
  },
  {
   "cell_type": "code",
   "execution_count": 7,
   "id": "8f2f0404-f980-4dc5-82f2-e8225c8adf23",
   "metadata": {},
   "outputs": [],
   "source": [
    "mds_coords_first_two = mds_coords[:, :2]"
   ]
  },
  {
   "cell_type": "code",
   "execution_count": 25,
   "id": "e59abf96-c401-4828-a444-bf5b50f6a932",
   "metadata": {},
   "outputs": [],
   "source": [
    "#filter_func = Projection(columns=[0, 1, 2]) # input original data, dimension reduction, PCA or any\n",
    "#filter_func = MDS(n_components=5)\n",
    "\n",
    "# Define cover\n",
    "cover = CubicalCover(n_intervals=4, overlap_frac=0.3)\n",
    "# Choose clustering algorithm – default is DBSCAN\n",
    "clusterer = DBSCAN(metric = \"precomputed\").fit(distance_matrix)\n",
    "\n",
    "\n",
    "# Configure parallelism of clustering step\n",
    "n_jobs = 1\n",
    "\n",
    "# Initialise pipeline\n",
    "pipe = make_mapper_pipeline(\n",
    "    filter_func=filter_func,\n",
    "    cover=cover,\n",
    "    clusterer=clusterer, # distance matrix is calculated here. \n",
    "    verbose=False,\n",
    "    n_jobs=n_jobs,\n",
    ")\n",
    "\n",
    "#mds, euclidean for the dbscan\n",
    "#set the filter as umap"
   ]
  },
  {
   "cell_type": "code",
   "execution_count": 49,
   "id": "5efce373-809a-4094-b1e8-c278c8545562",
   "metadata": {},
   "outputs": [
    {
     "name": "stdout",
     "output_type": "stream",
     "text": [
      "3\n"
     ]
    },
    {
     "name": "stderr",
     "output_type": "stream",
     "text": [
      "/Users/lu/opt/anaconda3/lib/python3.9/site-packages/sklearn/manifold/_mds.py:601: UserWarning:\n",
      "\n",
      "The MDS API has changed. ``fit`` now constructs an dissimilarity matrix from data. To use a custom dissimilarity matrix, set ``dissimilarity='precomputed'``.\n",
      "\n"
     ]
    },
    {
     "data": {
      "application/vnd.plotly.v1+json": {
       "config": {
        "plotlyServerURL": "https://plot.ly",
        "scrollZoom": true
       },
       "data": [
        {
         "hoverinfo": "none",
         "line": {
          "color": "#888",
          "width": 1
         },
         "mode": "lines",
         "name": "edge_trace",
         "type": "scatter",
         "uid": "db1b8353-02a9-4ed2-bc88-24ea93013146",
         "x": [
          2.940933216746915,
          2.5276250445757347,
          null,
          2.940933216746915,
          3.202492315227088,
          null,
          2.940933216746915,
          2.0788587601930155,
          null,
          2.940933216746915,
          1.878149541806928,
          null,
          2.940933216746915,
          3.0521206762018274,
          null,
          2.940933216746915,
          2.2338267413420834,
          null,
          2.940933216746915,
          1.8147360638229364,
          null,
          2.5276250445757347,
          3.202492315227088,
          null,
          2.5276250445757347,
          2.0788587601930155,
          null,
          2.5276250445757347,
          1.878149541806928,
          null,
          2.5276250445757347,
          3.0521206762018274,
          null,
          2.5276250445757347,
          2.2338267413420834,
          null,
          2.5276250445757347,
          1.8147360638229364,
          null,
          3.202492315227088,
          2.0788587601930155,
          null,
          3.202492315227088,
          1.878149541806928,
          null,
          3.202492315227088,
          3.0521206762018274,
          null,
          3.202492315227088,
          2.2338267413420834,
          null,
          3.202492315227088,
          1.8147360638229364,
          null,
          2.0788587601930155,
          1.878149541806928,
          null,
          2.0788587601930155,
          3.0521206762018274,
          null,
          2.0788587601930155,
          2.2338267413420834,
          null,
          2.0788587601930155,
          1.8147360638229364,
          null,
          2.0788587601930155,
          1.4513125366302495,
          null,
          2.0788587601930155,
          0.8743312065664834,
          null,
          2.0788587601930155,
          2.02694551542966,
          null,
          2.0788587601930155,
          1.4825675510081573,
          null,
          1.878149541806928,
          3.0521206762018274,
          null,
          1.878149541806928,
          2.2338267413420834,
          null,
          1.878149541806928,
          1.8147360638229364,
          null,
          1.878149541806928,
          1.4513125366302495,
          null,
          1.878149541806928,
          0.8743312065664834,
          null,
          1.878149541806928,
          2.02694551542966,
          null,
          1.878149541806928,
          1.4825675510081573,
          null,
          3.0521206762018274,
          2.2338267413420834,
          null,
          3.0521206762018274,
          1.8147360638229364,
          null,
          3.0521206762018274,
          2.7526810524423815,
          null,
          3.0521206762018274,
          2.02694551542966,
          null,
          2.2338267413420834,
          1.8147360638229364,
          null,
          2.2338267413420834,
          1.4513125366302495,
          null,
          2.2338267413420834,
          0.8743312065664834,
          null,
          2.2338267413420834,
          2.7526810524423815,
          null,
          2.2338267413420834,
          2.02694551542966,
          null,
          2.2338267413420834,
          1.4825675510081573,
          null,
          1.8147360638229364,
          1.4513125366302495,
          null,
          1.8147360638229364,
          0.8743312065664834,
          null,
          1.8147360638229364,
          2.02694551542966,
          null,
          1.8147360638229364,
          1.4825675510081573,
          null,
          1.4513125366302495,
          0.8743312065664834,
          null,
          1.4513125366302495,
          1.2120598004753718,
          null,
          1.4513125366302495,
          2.518672449497213,
          null,
          1.4513125366302495,
          2.7526810524423815,
          null,
          1.4513125366302495,
          2.02694551542966,
          null,
          1.4513125366302495,
          1.4825675510081573,
          null,
          1.4513125366302495,
          2.0226357669134853,
          null,
          0.8743312065664834,
          0.3135908267273526,
          null,
          0.8743312065664834,
          2.02694551542966,
          null,
          0.8743312065664834,
          -0.37862504868327734,
          null,
          0.8743312065664834,
          0.08807031351506012,
          null,
          0.8743312065664834,
          1.4825675510081573,
          null,
          1.2120598004753718,
          0.3135908267273526,
          null,
          1.2120598004753718,
          2.518672449497213,
          null,
          1.2120598004753718,
          2.0226357669134853,
          null,
          0.3135908267273526,
          -0.37862504868327734,
          null,
          0.3135908267273526,
          0.08807031351506012,
          null,
          0.3135908267273526,
          -0.7948075017786485,
          null,
          0.3135908267273526,
          -0.24365652074068228,
          null,
          2.518672449497213,
          2.7526810524423815,
          null,
          2.518672449497213,
          2.02694551542966,
          null,
          2.518672449497213,
          2.0226357669134853,
          null,
          -3.0944634019881594,
          -2.3647653548791436,
          null,
          -3.0944634019881594,
          -2.5750153898373602,
          null,
          -2.3647653548791436,
          -2.5750153898373602,
          null,
          -2.3647653548791436,
          -1.9462938313682472,
          null,
          -2.3647653548791436,
          -2.743639620214288,
          null,
          -2.3647653548791436,
          -1.4291055163974105,
          null,
          -2.3647653548791436,
          -1.8276271515128595,
          null,
          -2.3647653548791436,
          -1.5912175035540115,
          null,
          -2.5750153898373602,
          -1.9462938313682472,
          null,
          -2.5750153898373602,
          -2.743639620214288,
          null,
          -2.5750153898373602,
          -1.4291055163974105,
          null,
          -2.5750153898373602,
          -1.8276271515128595,
          null,
          -2.5750153898373602,
          -1.5912175035540115,
          null,
          2.718213643034072,
          2.1163695911001676,
          null,
          2.718213643034072,
          2.7526810524423815,
          null,
          2.718213643034072,
          2.02694551542966,
          null,
          2.718213643034072,
          2.247790648369558,
          null,
          2.718213643034072,
          2.7162764814283795,
          null,
          2.718213643034072,
          3.1511892309914797,
          null,
          2.718213643034072,
          3.261656718431221,
          null,
          2.1163695911001676,
          2.7526810524423815,
          null,
          2.1163695911001676,
          2.02694551542966,
          null,
          2.1163695911001676,
          1.4560271456255733,
          null,
          2.1163695911001676,
          1.4825675510081573,
          null,
          2.1163695911001676,
          2.247790648369558,
          null,
          2.1163695911001676,
          2.7162764814283795,
          null,
          2.1163695911001676,
          3.1511892309914797,
          null,
          2.1163695911001676,
          3.261656718431221,
          null,
          2.7526810524423815,
          2.02694551542966,
          null,
          2.7526810524423815,
          2.247790648369558,
          null,
          2.7526810524423815,
          2.7162764814283795,
          null,
          2.7526810524423815,
          3.1511892309914797,
          null,
          2.7526810524423815,
          3.261656718431221,
          null,
          2.02694551542966,
          1.4560271456255733,
          null,
          2.02694551542966,
          1.4825675510081573,
          null,
          2.02694551542966,
          2.247790648369558,
          null,
          2.02694551542966,
          2.7162764814283795,
          null,
          2.02694551542966,
          3.1511892309914797,
          null,
          2.02694551542966,
          3.261656718431221,
          null,
          -1.9462938313682472,
          -2.743639620214288,
          null,
          -1.9462938313682472,
          -1.4291055163974105,
          null,
          -1.9462938313682472,
          -1.8276271515128595,
          null,
          -1.9462938313682472,
          -1.5912175035540115,
          null,
          -2.743639620214288,
          -1.4291055163974105,
          null,
          -2.743639620214288,
          -1.8276271515128595,
          null,
          -2.743639620214288,
          -1.5912175035540115,
          null,
          -2.743639620214288,
          -3.9680500268227936,
          null,
          -1.4291055163974105,
          -1.8276271515128595,
          null,
          -1.4291055163974105,
          -1.5912175035540115,
          null,
          -1.4291055163974105,
          -0.37862504868327734,
          null,
          -1.4291055163974105,
          -0.7948075017786485,
          null,
          -1.4291055163974105,
          -1.0499821314815827,
          null,
          -1.4291055163974105,
          -1.028974890327331,
          null,
          -1.4291055163974105,
          -1.4995350856721144,
          null,
          -1.8276271515128595,
          -1.5912175035540115,
          null,
          -1.8276271515128595,
          -0.37862504868327734,
          null,
          -1.8276271515128595,
          -0.7948075017786485,
          null,
          -1.8276271515128595,
          -1.0499821314815827,
          null,
          -1.8276271515128595,
          -1.028974890327331,
          null,
          -1.8276271515128595,
          -1.4995350856721144,
          null,
          -1.8276271515128595,
          -2.672691570500386,
          null,
          -1.8276271515128595,
          -2.586295453123792,
          null,
          -1.8276271515128595,
          -2.0800891124615015,
          null,
          -1.5912175035540115,
          -0.37862504868327734,
          null,
          -1.5912175035540115,
          -0.7948075017786485,
          null,
          -1.5912175035540115,
          -1.0499821314815827,
          null,
          -1.5912175035540115,
          -1.028974890327331,
          null,
          -1.5912175035540115,
          -1.4995350856721144,
          null,
          -3.9680500268227936,
          -5.082177490574773,
          null,
          -0.37862504868327734,
          0.08807031351506012,
          null,
          -0.37862504868327734,
          -0.7948075017786485,
          null,
          -0.37862504868327734,
          -1.0499821314815827,
          null,
          -0.37862504868327734,
          -1.028974890327331,
          null,
          -0.37862504868327734,
          -1.4995350856721144,
          null,
          -0.37862504868327734,
          -0.24365652074068228,
          null,
          1.4560271456255733,
          1.4825675510081573,
          null,
          1.4825675510081573,
          0.9040392765887704,
          null,
          1.4825675510081573,
          3.4222430722138655,
          null,
          -0.7948075017786485,
          -1.0499821314815827,
          null,
          -0.7948075017786485,
          -1.028974890327331,
          null,
          -0.7948075017786485,
          -1.4995350856721144,
          null,
          -0.7948075017786485,
          -0.24365652074068228,
          null,
          -1.0499821314815827,
          -1.028974890327331,
          null,
          -1.0499821314815827,
          -1.4995350856721144,
          null,
          -1.4283224474020833,
          -0.813465037211565,
          null,
          -1.4283224474020833,
          -2.018995048384267,
          null,
          -1.4283224474020833,
          -1.3402644834338608,
          null,
          -1.4283224474020833,
          -2.0406196483036734,
          null,
          -0.813465037211565,
          -2.018995048384267,
          null,
          -0.813465037211565,
          0.22355481411425804,
          null,
          -0.813465037211565,
          -1.3402644834338608,
          null,
          -0.813465037211565,
          -2.0406196483036734,
          null,
          -2.018995048384267,
          -1.3402644834338608,
          null,
          -2.018995048384267,
          -2.0406196483036734,
          null,
          -1.028974890327331,
          -1.4995350856721144,
          null,
          -1.4995350856721144,
          -2.672691570500386,
          null,
          -1.4995350856721144,
          -2.586295453123792,
          null,
          -1.4995350856721144,
          -2.0800891124615015,
          null,
          -2.672691570500386,
          -2.586295453123792,
          null,
          -2.672691570500386,
          -2.0800891124615015,
          null,
          1.2620106976724492,
          0.22355481411425804,
          null,
          1.2620106976724492,
          1.0885057432225833,
          null,
          0.22355481411425804,
          1.0885057432225833,
          null,
          -2.586295453123792,
          -2.0800891124615015,
          null,
          -2.586295453123792,
          -3.5430264155155813,
          null,
          2.247790648369558,
          2.7162764814283795,
          null,
          2.247790648369558,
          3.1511892309914797,
          null,
          2.247790648369558,
          3.261656718431221,
          null,
          2.7162764814283795,
          3.1511892309914797,
          null,
          2.7162764814283795,
          3.261656718431221,
          null,
          3.1511892309914797,
          3.261656718431221,
          null,
          -1.3402644834338608,
          -2.0406196483036734,
          null
         ],
         "y": [
          1.7569114851516472,
          1.9514049930666784,
          null,
          1.7569114851516472,
          1.373808262286667,
          null,
          1.7569114851516472,
          1.0476239133175342,
          null,
          1.7569114851516472,
          0.7028979316886649,
          null,
          1.7569114851516472,
          0.7591524500873483,
          null,
          1.7569114851516472,
          0.6649132087375834,
          null,
          1.7569114851516472,
          1.2354884790887894,
          null,
          1.9514049930666784,
          1.373808262286667,
          null,
          1.9514049930666784,
          1.0476239133175342,
          null,
          1.9514049930666784,
          0.7028979316886649,
          null,
          1.9514049930666784,
          0.7591524500873483,
          null,
          1.9514049930666784,
          0.6649132087375834,
          null,
          1.9514049930666784,
          1.2354884790887894,
          null,
          1.373808262286667,
          1.0476239133175342,
          null,
          1.373808262286667,
          0.7028979316886649,
          null,
          1.373808262286667,
          0.7591524500873483,
          null,
          1.373808262286667,
          0.6649132087375834,
          null,
          1.373808262286667,
          1.2354884790887894,
          null,
          1.0476239133175342,
          0.7028979316886649,
          null,
          1.0476239133175342,
          0.7591524500873483,
          null,
          1.0476239133175342,
          0.6649132087375834,
          null,
          1.0476239133175342,
          1.2354884790887894,
          null,
          1.0476239133175342,
          0.8853717542993731,
          null,
          1.0476239133175342,
          0.5965178881924594,
          null,
          1.0476239133175342,
          -0.06084857645845993,
          null,
          1.0476239133175342,
          -0.05367094337916022,
          null,
          0.7028979316886649,
          0.7591524500873483,
          null,
          0.7028979316886649,
          0.6649132087375834,
          null,
          0.7028979316886649,
          1.2354884790887894,
          null,
          0.7028979316886649,
          0.8853717542993731,
          null,
          0.7028979316886649,
          0.5965178881924594,
          null,
          0.7028979316886649,
          -0.06084857645845993,
          null,
          0.7028979316886649,
          -0.05367094337916022,
          null,
          0.7591524500873483,
          0.6649132087375834,
          null,
          0.7591524500873483,
          1.2354884790887894,
          null,
          0.7591524500873483,
          -0.05321954610919277,
          null,
          0.7591524500873483,
          -0.06084857645845993,
          null,
          0.6649132087375834,
          1.2354884790887894,
          null,
          0.6649132087375834,
          0.8853717542993731,
          null,
          0.6649132087375834,
          0.5965178881924594,
          null,
          0.6649132087375834,
          -0.05321954610919277,
          null,
          0.6649132087375834,
          -0.06084857645845993,
          null,
          0.6649132087375834,
          -0.05367094337916022,
          null,
          1.2354884790887894,
          0.8853717542993731,
          null,
          1.2354884790887894,
          0.5965178881924594,
          null,
          1.2354884790887894,
          -0.06084857645845993,
          null,
          1.2354884790887894,
          -0.05367094337916022,
          null,
          0.8853717542993731,
          0.5965178881924594,
          null,
          0.8853717542993731,
          2.106222806951668,
          null,
          0.8853717542993731,
          1.2988383227152254,
          null,
          0.8853717542993731,
          -0.05321954610919277,
          null,
          0.8853717542993731,
          -0.06084857645845993,
          null,
          0.8853717542993731,
          -0.05367094337916022,
          null,
          0.8853717542993731,
          2.4163684828168392,
          null,
          0.5965178881924594,
          1.535513494059,
          null,
          0.5965178881924594,
          -0.06084857645845993,
          null,
          0.5965178881924594,
          1.0177137290088267,
          null,
          0.5965178881924594,
          0.26914690009906955,
          null,
          0.5965178881924594,
          -0.05367094337916022,
          null,
          2.106222806951668,
          1.535513494059,
          null,
          2.106222806951668,
          1.2988383227152254,
          null,
          2.106222806951668,
          2.4163684828168392,
          null,
          1.535513494059,
          1.0177137290088267,
          null,
          1.535513494059,
          0.26914690009906955,
          null,
          1.535513494059,
          1.602408518987448,
          null,
          1.535513494059,
          2.445322538888806,
          null,
          1.2988383227152254,
          -0.05321954610919277,
          null,
          1.2988383227152254,
          -0.06084857645845993,
          null,
          1.2988383227152254,
          2.4163684828168392,
          null,
          3.0106143411851813,
          2.2217055039554854,
          null,
          3.0106143411851813,
          1.8659010038742074,
          null,
          2.2217055039554854,
          1.8659010038742074,
          null,
          2.2217055039554854,
          2.3253686697487312,
          null,
          2.2217055039554854,
          1.3907254555827113,
          null,
          2.2217055039554854,
          1.683899618987254,
          null,
          2.2217055039554854,
          0.9479280986003251,
          null,
          2.2217055039554854,
          1.3918154581592697,
          null,
          1.8659010038742074,
          2.3253686697487312,
          null,
          1.8659010038742074,
          1.3907254555827113,
          null,
          1.8659010038742074,
          1.683899618987254,
          null,
          1.8659010038742074,
          0.9479280986003251,
          null,
          1.8659010038742074,
          1.3918154581592697,
          null,
          -1.3143148263315092,
          -0.8982171378145147,
          null,
          -1.3143148263315092,
          -0.05321954610919277,
          null,
          -1.3143148263315092,
          -0.06084857645845993,
          null,
          -1.3143148263315092,
          -1.332793240055695,
          null,
          -1.3143148263315092,
          -0.7997702112438181,
          null,
          -1.3143148263315092,
          -1.0002289561402518,
          null,
          -1.3143148263315092,
          -0.5559864901066368,
          null,
          -0.8982171378145147,
          -0.05321954610919277,
          null,
          -0.8982171378145147,
          -0.06084857645845993,
          null,
          -0.8982171378145147,
          -1.1502131740004058,
          null,
          -0.8982171378145147,
          -0.05367094337916022,
          null,
          -0.8982171378145147,
          -1.332793240055695,
          null,
          -0.8982171378145147,
          -0.7997702112438181,
          null,
          -0.8982171378145147,
          -1.0002289561402518,
          null,
          -0.8982171378145147,
          -0.5559864901066368,
          null,
          -0.05321954610919277,
          -0.06084857645845993,
          null,
          -0.05321954610919277,
          -1.332793240055695,
          null,
          -0.05321954610919277,
          -0.7997702112438181,
          null,
          -0.05321954610919277,
          -1.0002289561402518,
          null,
          -0.05321954610919277,
          -0.5559864901066368,
          null,
          -0.06084857645845993,
          -1.1502131740004058,
          null,
          -0.06084857645845993,
          -0.05367094337916022,
          null,
          -0.06084857645845993,
          -1.332793240055695,
          null,
          -0.06084857645845993,
          -0.7997702112438181,
          null,
          -0.06084857645845993,
          -1.0002289561402518,
          null,
          -0.06084857645845993,
          -0.5559864901066368,
          null,
          2.3253686697487312,
          1.3907254555827113,
          null,
          2.3253686697487312,
          1.683899618987254,
          null,
          2.3253686697487312,
          0.9479280986003251,
          null,
          2.3253686697487312,
          1.3918154581592697,
          null,
          1.3907254555827113,
          1.683899618987254,
          null,
          1.3907254555827113,
          0.9479280986003251,
          null,
          1.3907254555827113,
          1.3918154581592697,
          null,
          1.3907254555827113,
          1.5247016100473658,
          null,
          1.683899618987254,
          0.9479280986003251,
          null,
          1.683899618987254,
          1.3918154581592697,
          null,
          1.683899618987254,
          1.0177137290088267,
          null,
          1.683899618987254,
          1.602408518987448,
          null,
          1.683899618987254,
          0.937630432022894,
          null,
          1.683899618987254,
          0.442324659183643,
          null,
          1.683899618987254,
          0.36059939102744093,
          null,
          0.9479280986003251,
          1.3918154581592697,
          null,
          0.9479280986003251,
          1.0177137290088267,
          null,
          0.9479280986003251,
          1.602408518987448,
          null,
          0.9479280986003251,
          0.937630432022894,
          null,
          0.9479280986003251,
          0.442324659183643,
          null,
          0.9479280986003251,
          0.36059939102744093,
          null,
          0.9479280986003251,
          0.37356342346677585,
          null,
          0.9479280986003251,
          -0.1548243068620789,
          null,
          0.9479280986003251,
          -0.35119402198614535,
          null,
          1.3918154581592697,
          1.0177137290088267,
          null,
          1.3918154581592697,
          1.602408518987448,
          null,
          1.3918154581592697,
          0.937630432022894,
          null,
          1.3918154581592697,
          0.442324659183643,
          null,
          1.3918154581592697,
          0.36059939102744093,
          null,
          1.5247016100473658,
          1.3871341910642283,
          null,
          1.0177137290088267,
          0.26914690009906955,
          null,
          1.0177137290088267,
          1.602408518987448,
          null,
          1.0177137290088267,
          0.937630432022894,
          null,
          1.0177137290088267,
          0.442324659183643,
          null,
          1.0177137290088267,
          0.36059939102744093,
          null,
          1.0177137290088267,
          2.445322538888806,
          null,
          -1.1502131740004058,
          -0.05367094337916022,
          null,
          -0.05367094337916022,
          -1.3355022012453392,
          null,
          -0.05367094337916022,
          -0.01942395596469987,
          null,
          1.602408518987448,
          0.937630432022894,
          null,
          1.602408518987448,
          0.442324659183643,
          null,
          1.602408518987448,
          0.36059939102744093,
          null,
          1.602408518987448,
          2.445322538888806,
          null,
          0.937630432022894,
          0.442324659183643,
          null,
          0.937630432022894,
          0.36059939102744093,
          null,
          -6.7862295626741584,
          -6.337760599920379,
          null,
          -6.7862295626741584,
          -5.839940059648537,
          null,
          -6.7862295626741584,
          -5.758617597750855,
          null,
          -6.7862295626741584,
          -6.496669595258288,
          null,
          -6.337760599920379,
          -5.839940059648537,
          null,
          -6.337760599920379,
          -6.4442675301997445,
          null,
          -6.337760599920379,
          -5.758617597750855,
          null,
          -6.337760599920379,
          -6.496669595258288,
          null,
          -5.839940059648537,
          -5.758617597750855,
          null,
          -5.839940059648537,
          -6.496669595258288,
          null,
          0.442324659183643,
          0.36059939102744093,
          null,
          0.36059939102744093,
          0.37356342346677585,
          null,
          0.36059939102744093,
          -0.1548243068620789,
          null,
          0.36059939102744093,
          -0.35119402198614535,
          null,
          0.37356342346677585,
          -0.1548243068620789,
          null,
          0.37356342346677585,
          -0.35119402198614535,
          null,
          -6.130098243227386,
          -6.4442675301997445,
          null,
          -6.130098243227386,
          -6.895950036712326,
          null,
          -6.4442675301997445,
          -6.895950036712326,
          null,
          -0.1548243068620789,
          -0.35119402198614535,
          null,
          -0.1548243068620789,
          -0.8275890813024565,
          null,
          -1.332793240055695,
          -0.7997702112438181,
          null,
          -1.332793240055695,
          -1.0002289561402518,
          null,
          -1.332793240055695,
          -0.5559864901066368,
          null,
          -0.7997702112438181,
          -1.0002289561402518,
          null,
          -0.7997702112438181,
          -0.5559864901066368,
          null,
          -1.0002289561402518,
          -0.5559864901066368,
          null,
          -5.758617597750855,
          -6.496669595258288,
          null
         ]
        },
        {
         "hoverinfo": "text",
         "hovertext": [
          "Node ID: 0<br>Pullback set label: 49<br>Partial cluster label: 0<br>Node size: 8<br>Summary statistic: 52.8",
          "Node ID: 1<br>Pullback set label: 51<br>Partial cluster label: 0<br>Node size: 7<br>Summary statistic: 6.0",
          "Node ID: 2<br>Pullback set label: 52<br>Partial cluster label: -1<br>Node size: 3<br>Summary statistic: 31.0",
          "Node ID: 3<br>Pullback set label: 53<br>Partial cluster label: 0<br>Node size: 69<br>Summary statistic: 83.5",
          "Node ID: 4<br>Pullback set label: 55<br>Partial cluster label: 0<br>Node size: 27<br>Summary statistic: 92.5",
          "Node ID: 5<br>Pullback set label: 50<br>Partial cluster label: -1<br>Node size: 4<br>Summary statistic: 94.0",
          "Node ID: 6<br>Pullback set label: 54<br>Partial cluster label: 0<br>Node size: 6<br>Summary statistic: 92.5",
          "Node ID: 7<br>Pullback set label: 56<br>Partial cluster label: -1<br>Node size: 2<br>Summary statistic: 63.0",
          "Node ID: 8<br>Pullback set label: 41<br>Partial cluster label: 0<br>Node size: 82<br>Summary statistic: 88.7",
          "Node ID: 9<br>Pullback set label: 44<br>Partial cluster label: 0<br>Node size: 46<br>Summary statistic: 99.2",
          "Node ID: 10<br>Pullback set label: 29<br>Partial cluster label: -1<br>Node size: 2<br>Summary statistic: 60.0",
          "Node ID: 11<br>Pullback set label: 32<br>Partial cluster label: 0<br>Node size: 12<br>Summary statistic: 128.0",
          "Node ID: 12<br>Pullback set label: 37<br>Partial cluster label: 0<br>Node size: 9<br>Summary statistic: 119.0",
          "Node ID: 13<br>Pullback set label: 7<br>Partial cluster label: -1<br>Node size: 1<br>Summary statistic: 12.0",
          "Node ID: 14<br>Pullback set label: 8<br>Partial cluster label: -1<br>Node size: 4<br>Summary statistic: 88.5",
          "Node ID: 15<br>Pullback set label: 9<br>Partial cluster label: -1<br>Node size: 2<br>Summary statistic: 16.5",
          "Node ID: 16<br>Pullback set label: 24<br>Partial cluster label: -1<br>Node size: 3<br>Summary statistic: 109.0",
          "Node ID: 17<br>Pullback set label: 30<br>Partial cluster label: 0<br>Node size: 6<br>Summary statistic: 103.0",
          "Node ID: 18<br>Pullback set label: 38<br>Partial cluster label: 0<br>Node size: 8<br>Summary statistic: 133.0",
          "Node ID: 19<br>Pullback set label: 42<br>Partial cluster label: 0<br>Node size: 25<br>Summary statistic: 104.0",
          "Node ID: 20<br>Pullback set label: 4<br>Partial cluster label: -1<br>Node size: 1<br>Summary statistic: 21.0",
          "Node ID: 21<br>Pullback set label: 5<br>Partial cluster label: -1<br>Node size: 3<br>Summary statistic: 71.0",
          "Node ID: 22<br>Pullback set label: 19<br>Partial cluster label: -1<br>Node size: 2<br>Summary statistic: 56.0",
          "Node ID: 23<br>Pullback set label: 20<br>Partial cluster label: -1<br>Node size: 4<br>Summary statistic: 83.2",
          "Node ID: 24<br>Pullback set label: 28<br>Partial cluster label: 0<br>Node size: 5<br>Summary statistic: 90.6",
          "Node ID: 25<br>Pullback set label: 3<br>Partial cluster label: -1<br>Node size: 3<br>Summary statistic: 74.3",
          "Node ID: 26<br>Pullback set label: 6<br>Partial cluster label: -1<br>Node size: 1<br>Summary statistic: 31.0",
          "Node ID: 27<br>Pullback set label: 34<br>Partial cluster label: 0<br>Node size: 23<br>Summary statistic: 119.0",
          "Node ID: 28<br>Pullback set label: 47<br>Partial cluster label: 0<br>Node size: 13<br>Summary statistic: 123.0",
          "Node ID: 29<br>Pullback set label: 33<br>Partial cluster label: -1<br>Node size: 2<br>Summary statistic: 48.5",
          "Node ID: 30<br>Pullback set label: 45<br>Partial cluster label: 0<br>Node size: 7<br>Summary statistic: 104.0",
          "Node ID: 31<br>Pullback set label: 27<br>Partial cluster label: 0<br>Node size: 5<br>Summary statistic: 107.0",
          "Node ID: 32<br>Pullback set label: 35<br>Partial cluster label: -1<br>Node size: 3<br>Summary statistic: 94.7",
          "Node ID: 33<br>Pullback set label: 10<br>Partial cluster label: -1<br>Node size: 1<br>Summary statistic: 89.0",
          "Node ID: 34<br>Pullback set label: 12<br>Partial cluster label: -1<br>Node size: 3<br>Summary statistic: 155.0",
          "Node ID: 35<br>Pullback set label: 13<br>Partial cluster label: 0<br>Node size: 5<br>Summary statistic: 150.0",
          "Node ID: 36<br>Pullback set label: 15<br>Partial cluster label: -1<br>Node size: 2<br>Summary statistic: 137.0",
          "Node ID: 37<br>Pullback set label: 16<br>Partial cluster label: -1<br>Node size: 1<br>Summary statistic: 91.0",
          "Node ID: 38<br>Pullback set label: 17<br>Partial cluster label: -1<br>Node size: 2<br>Summary statistic: 106.0",
          "Node ID: 39<br>Pullback set label: 21<br>Partial cluster label: -1<br>Node size: 2<br>Summary statistic: 110.0",
          "Node ID: 40<br>Pullback set label: 0<br>Partial cluster label: -1<br>Node size: 2<br>Summary statistic: 131.0",
          "Node ID: 41<br>Pullback set label: 1<br>Partial cluster label: -1<br>Node size: 3<br>Summary statistic: 148.0",
          "Node ID: 42<br>Pullback set label: 23<br>Partial cluster label: -1<br>Node size: 1<br>Summary statistic: 112.0",
          "Node ID: 43<br>Pullback set label: 18<br>Partial cluster label: -1<br>Node size: 2<br>Summary statistic: 138.0",
          "Node ID: 44<br>Pullback set label: 36<br>Partial cluster label: -1<br>Node size: 1<br>Summary statistic: 121.0",
          "Node ID: 45<br>Pullback set label: 25<br>Partial cluster label: -1<br>Node size: 2<br>Summary statistic: 156.0",
          "Node ID: 46<br>Pullback set label: 39<br>Partial cluster label: -1<br>Node size: 3<br>Summary statistic: 167.0",
          "Node ID: 47<br>Pullback set label: 48<br>Partial cluster label: -1<br>Node size: 1<br>Summary statistic: 132.0",
          "Node ID: 48<br>Pullback set label: 40<br>Partial cluster label: -1<br>Node size: 1<br>Summary statistic: 140.0",
          "Node ID: 49<br>Pullback set label: 22<br>Partial cluster label: -1<br>Node size: 1<br>Summary statistic: 156.0",
          "Node ID: 50<br>Pullback set label: 2<br>Partial cluster label: -1<br>Node size: 1<br>Summary statistic: 157.0",
          "Node ID: 51<br>Pullback set label: 26<br>Partial cluster label: -1<br>Node size: 1<br>Summary statistic: 171.0",
          "Node ID: 52<br>Pullback set label: 31<br>Partial cluster label: -1<br>Node size: 1<br>Summary statistic: 182.0",
          "Node ID: 53<br>Pullback set label: 43<br>Partial cluster label: -1<br>Node size: 2<br>Summary statistic: 184.0",
          "Node ID: 54<br>Pullback set label: 11<br>Partial cluster label: -1<br>Node size: 2<br>Summary statistic: 188.0",
          "Node ID: 55<br>Pullback set label: 14<br>Partial cluster label: -1<br>Node size: 1<br>Summary statistic: 184.0",
          "Node ID: 56<br>Pullback set label: 46<br>Partial cluster label: -1<br>Node size: 1<br>Summary statistic: 189.0"
         ],
         "marker": {
          "color": [
           52.75,
           6,
           31,
           83.47826086956522,
           92.48148148148148,
           94,
           92.5,
           63,
           88.6829268292683,
           99.17391304347827,
           60,
           127.5,
           119.33333333333333,
           12,
           88.5,
           16.5,
           109.33333333333333,
           103.33333333333333,
           132.75,
           103.8,
           21,
           71,
           56,
           83.25,
           90.6,
           74.33333333333333,
           31,
           118.73913043478261,
           122.61538461538461,
           48.5,
           104,
           106.8,
           94.66666666666667,
           89,
           155,
           150.4,
           137,
           91,
           106,
           110.5,
           131,
           148,
           112,
           138.5,
           121,
           156.5,
           166.66666666666666,
           132,
           140,
           156,
           157,
           171,
           182,
           184.5,
           187.5,
           184,
           189
          ],
          "colorbar": {
           "thickness": 15,
           "title": {
            "side": "right",
            "text": ""
           },
           "xanchor": "left"
          },
          "colorscale": [
           [
            0,
            "#440154"
           ],
           [
            0.1111111111111111,
            "#482878"
           ],
           [
            0.2222222222222222,
            "#3e4989"
           ],
           [
            0.3333333333333333,
            "#31688e"
           ],
           [
            0.4444444444444444,
            "#26828e"
           ],
           [
            0.5555555555555556,
            "#1f9e89"
           ],
           [
            0.6666666666666666,
            "#35b779"
           ],
           [
            0.7777777777777778,
            "#6ece58"
           ],
           [
            0.8888888888888888,
            "#b5de2b"
           ],
           [
            1,
            "#fde725"
           ]
          ],
          "line": {
           "color": "#888",
           "width": 1
          },
          "opacity": 1,
          "reversescale": false,
          "showscale": true,
          "size": [
           8,
           7,
           3,
           69,
           27,
           4,
           6,
           2,
           82,
           46,
           2,
           12,
           9,
           1,
           4,
           2,
           3,
           6,
           8,
           25,
           1,
           3,
           2,
           4,
           5,
           3,
           1,
           23,
           13,
           2,
           7,
           5,
           3,
           1,
           3,
           5,
           2,
           1,
           2,
           2,
           2,
           3,
           1,
           2,
           1,
           2,
           3,
           1,
           1,
           1,
           1,
           1,
           1,
           2,
           2,
           1,
           1
          ],
          "sizemin": 4,
          "sizemode": "area",
          "sizeref": 1.1388888888888888
         },
         "mode": "markers",
         "name": "node_trace",
         "type": "scatter",
         "uid": "242261a4-e31f-4266-aeb8-d95f93f1cec1",
         "x": [
          2.940933216746915,
          2.5276250445757347,
          3.202492315227088,
          2.0788587601930155,
          1.878149541806928,
          3.0521206762018274,
          2.2338267413420834,
          1.8147360638229364,
          1.4513125366302495,
          0.8743312065664834,
          1.2120598004753718,
          0.3135908267273526,
          2.518672449497213,
          -3.0944634019881594,
          -2.3647653548791436,
          -2.5750153898373602,
          2.718213643034072,
          2.1163695911001676,
          2.7526810524423815,
          2.02694551542966,
          -1.9462938313682472,
          -2.743639620214288,
          -1.4291055163974105,
          -1.8276271515128595,
          -1.5912175035540115,
          -3.9680500268227936,
          -5.082177490574773,
          -0.37862504868327734,
          0.08807031351506012,
          1.4560271456255733,
          1.4825675510081573,
          -0.7948075017786485,
          -1.0499821314815827,
          -5.178892660465168,
          -1.4283224474020833,
          -0.813465037211565,
          -2.018995048384267,
          -1.028974890327331,
          -1.4995350856721144,
          -2.672691570500386,
          1.2620106976724492,
          0.22355481411425804,
          2.0226357669134853,
          -2.586295453123792,
          -2.0800891124615015,
          2.247790648369558,
          2.7162764814283795,
          0.9040392765887704,
          -6.0499927199687775,
          -3.5430264155155813,
          1.0885057432225833,
          -0.24365652074068228,
          3.1511892309914797,
          3.261656718431221,
          -1.3402644834338608,
          -2.0406196483036734,
          3.4222430722138655
         ],
         "y": [
          1.7569114851516472,
          1.9514049930666784,
          1.373808262286667,
          1.0476239133175342,
          0.7028979316886649,
          0.7591524500873483,
          0.6649132087375834,
          1.2354884790887894,
          0.8853717542993731,
          0.5965178881924594,
          2.106222806951668,
          1.535513494059,
          1.2988383227152254,
          3.0106143411851813,
          2.2217055039554854,
          1.8659010038742074,
          -1.3143148263315092,
          -0.8982171378145147,
          -0.05321954610919277,
          -0.06084857645845993,
          2.3253686697487312,
          1.3907254555827113,
          1.683899618987254,
          0.9479280986003251,
          1.3918154581592697,
          1.5247016100473658,
          1.3871341910642283,
          1.0177137290088267,
          0.26914690009906955,
          -1.1502131740004058,
          -0.05367094337916022,
          1.602408518987448,
          0.937630432022894,
          -4.25656113879789,
          -6.7862295626741584,
          -6.337760599920379,
          -5.839940059648537,
          0.442324659183643,
          0.36059939102744093,
          0.37356342346677585,
          -6.130098243227386,
          -6.4442675301997445,
          2.4163684828168392,
          -0.1548243068620789,
          -0.35119402198614535,
          -1.332793240055695,
          -0.7997702112438181,
          -1.3355022012453392,
          -3.0266705782916077,
          -0.8275890813024565,
          -6.895950036712326,
          2.445322538888806,
          -1.0002289561402518,
          -0.5559864901066368,
          -5.758617597750855,
          -6.496669595258288,
          -0.01942395596469987
         ]
        }
       ],
       "layout": {
        "autosize": false,
        "height": 360,
        "hovermode": "closest",
        "margin": {
         "b": 20,
         "l": 5,
         "r": 5,
         "t": 40
        },
        "showlegend": false,
        "template": {
         "data": {
          "bar": [
           {
            "error_x": {
             "color": "rgb(36,36,36)"
            },
            "error_y": {
             "color": "rgb(36,36,36)"
            },
            "marker": {
             "line": {
              "color": "white",
              "width": 0.5
             },
             "pattern": {
              "fillmode": "overlay",
              "size": 10,
              "solidity": 0.2
             }
            },
            "type": "bar"
           }
          ],
          "barpolar": [
           {
            "marker": {
             "line": {
              "color": "white",
              "width": 0.5
             },
             "pattern": {
              "fillmode": "overlay",
              "size": 10,
              "solidity": 0.2
             }
            },
            "type": "barpolar"
           }
          ],
          "carpet": [
           {
            "aaxis": {
             "endlinecolor": "rgb(36,36,36)",
             "gridcolor": "white",
             "linecolor": "white",
             "minorgridcolor": "white",
             "startlinecolor": "rgb(36,36,36)"
            },
            "baxis": {
             "endlinecolor": "rgb(36,36,36)",
             "gridcolor": "white",
             "linecolor": "white",
             "minorgridcolor": "white",
             "startlinecolor": "rgb(36,36,36)"
            },
            "type": "carpet"
           }
          ],
          "choropleth": [
           {
            "colorbar": {
             "outlinewidth": 1,
             "tickcolor": "rgb(36,36,36)",
             "ticks": "outside"
            },
            "type": "choropleth"
           }
          ],
          "contour": [
           {
            "colorbar": {
             "outlinewidth": 1,
             "tickcolor": "rgb(36,36,36)",
             "ticks": "outside"
            },
            "colorscale": [
             [
              0,
              "#440154"
             ],
             [
              0.1111111111111111,
              "#482878"
             ],
             [
              0.2222222222222222,
              "#3e4989"
             ],
             [
              0.3333333333333333,
              "#31688e"
             ],
             [
              0.4444444444444444,
              "#26828e"
             ],
             [
              0.5555555555555556,
              "#1f9e89"
             ],
             [
              0.6666666666666666,
              "#35b779"
             ],
             [
              0.7777777777777778,
              "#6ece58"
             ],
             [
              0.8888888888888888,
              "#b5de2b"
             ],
             [
              1,
              "#fde725"
             ]
            ],
            "type": "contour"
           }
          ],
          "contourcarpet": [
           {
            "colorbar": {
             "outlinewidth": 1,
             "tickcolor": "rgb(36,36,36)",
             "ticks": "outside"
            },
            "type": "contourcarpet"
           }
          ],
          "heatmap": [
           {
            "colorbar": {
             "outlinewidth": 1,
             "tickcolor": "rgb(36,36,36)",
             "ticks": "outside"
            },
            "colorscale": [
             [
              0,
              "#440154"
             ],
             [
              0.1111111111111111,
              "#482878"
             ],
             [
              0.2222222222222222,
              "#3e4989"
             ],
             [
              0.3333333333333333,
              "#31688e"
             ],
             [
              0.4444444444444444,
              "#26828e"
             ],
             [
              0.5555555555555556,
              "#1f9e89"
             ],
             [
              0.6666666666666666,
              "#35b779"
             ],
             [
              0.7777777777777778,
              "#6ece58"
             ],
             [
              0.8888888888888888,
              "#b5de2b"
             ],
             [
              1,
              "#fde725"
             ]
            ],
            "type": "heatmap"
           }
          ],
          "heatmapgl": [
           {
            "colorbar": {
             "outlinewidth": 1,
             "tickcolor": "rgb(36,36,36)",
             "ticks": "outside"
            },
            "colorscale": [
             [
              0,
              "#440154"
             ],
             [
              0.1111111111111111,
              "#482878"
             ],
             [
              0.2222222222222222,
              "#3e4989"
             ],
             [
              0.3333333333333333,
              "#31688e"
             ],
             [
              0.4444444444444444,
              "#26828e"
             ],
             [
              0.5555555555555556,
              "#1f9e89"
             ],
             [
              0.6666666666666666,
              "#35b779"
             ],
             [
              0.7777777777777778,
              "#6ece58"
             ],
             [
              0.8888888888888888,
              "#b5de2b"
             ],
             [
              1,
              "#fde725"
             ]
            ],
            "type": "heatmapgl"
           }
          ],
          "histogram": [
           {
            "marker": {
             "line": {
              "color": "white",
              "width": 0.6
             }
            },
            "type": "histogram"
           }
          ],
          "histogram2d": [
           {
            "colorbar": {
             "outlinewidth": 1,
             "tickcolor": "rgb(36,36,36)",
             "ticks": "outside"
            },
            "colorscale": [
             [
              0,
              "#440154"
             ],
             [
              0.1111111111111111,
              "#482878"
             ],
             [
              0.2222222222222222,
              "#3e4989"
             ],
             [
              0.3333333333333333,
              "#31688e"
             ],
             [
              0.4444444444444444,
              "#26828e"
             ],
             [
              0.5555555555555556,
              "#1f9e89"
             ],
             [
              0.6666666666666666,
              "#35b779"
             ],
             [
              0.7777777777777778,
              "#6ece58"
             ],
             [
              0.8888888888888888,
              "#b5de2b"
             ],
             [
              1,
              "#fde725"
             ]
            ],
            "type": "histogram2d"
           }
          ],
          "histogram2dcontour": [
           {
            "colorbar": {
             "outlinewidth": 1,
             "tickcolor": "rgb(36,36,36)",
             "ticks": "outside"
            },
            "colorscale": [
             [
              0,
              "#440154"
             ],
             [
              0.1111111111111111,
              "#482878"
             ],
             [
              0.2222222222222222,
              "#3e4989"
             ],
             [
              0.3333333333333333,
              "#31688e"
             ],
             [
              0.4444444444444444,
              "#26828e"
             ],
             [
              0.5555555555555556,
              "#1f9e89"
             ],
             [
              0.6666666666666666,
              "#35b779"
             ],
             [
              0.7777777777777778,
              "#6ece58"
             ],
             [
              0.8888888888888888,
              "#b5de2b"
             ],
             [
              1,
              "#fde725"
             ]
            ],
            "type": "histogram2dcontour"
           }
          ],
          "mesh3d": [
           {
            "colorbar": {
             "outlinewidth": 1,
             "tickcolor": "rgb(36,36,36)",
             "ticks": "outside"
            },
            "type": "mesh3d"
           }
          ],
          "parcoords": [
           {
            "line": {
             "colorbar": {
              "outlinewidth": 1,
              "tickcolor": "rgb(36,36,36)",
              "ticks": "outside"
             }
            },
            "type": "parcoords"
           }
          ],
          "pie": [
           {
            "automargin": true,
            "type": "pie"
           }
          ],
          "scatter": [
           {
            "fillpattern": {
             "fillmode": "overlay",
             "size": 10,
             "solidity": 0.2
            },
            "type": "scatter"
           }
          ],
          "scatter3d": [
           {
            "line": {
             "colorbar": {
              "outlinewidth": 1,
              "tickcolor": "rgb(36,36,36)",
              "ticks": "outside"
             }
            },
            "marker": {
             "colorbar": {
              "outlinewidth": 1,
              "tickcolor": "rgb(36,36,36)",
              "ticks": "outside"
             }
            },
            "type": "scatter3d"
           }
          ],
          "scattercarpet": [
           {
            "marker": {
             "colorbar": {
              "outlinewidth": 1,
              "tickcolor": "rgb(36,36,36)",
              "ticks": "outside"
             }
            },
            "type": "scattercarpet"
           }
          ],
          "scattergeo": [
           {
            "marker": {
             "colorbar": {
              "outlinewidth": 1,
              "tickcolor": "rgb(36,36,36)",
              "ticks": "outside"
             }
            },
            "type": "scattergeo"
           }
          ],
          "scattergl": [
           {
            "marker": {
             "colorbar": {
              "outlinewidth": 1,
              "tickcolor": "rgb(36,36,36)",
              "ticks": "outside"
             }
            },
            "type": "scattergl"
           }
          ],
          "scattermapbox": [
           {
            "marker": {
             "colorbar": {
              "outlinewidth": 1,
              "tickcolor": "rgb(36,36,36)",
              "ticks": "outside"
             }
            },
            "type": "scattermapbox"
           }
          ],
          "scatterpolar": [
           {
            "marker": {
             "colorbar": {
              "outlinewidth": 1,
              "tickcolor": "rgb(36,36,36)",
              "ticks": "outside"
             }
            },
            "type": "scatterpolar"
           }
          ],
          "scatterpolargl": [
           {
            "marker": {
             "colorbar": {
              "outlinewidth": 1,
              "tickcolor": "rgb(36,36,36)",
              "ticks": "outside"
             }
            },
            "type": "scatterpolargl"
           }
          ],
          "scatterternary": [
           {
            "marker": {
             "colorbar": {
              "outlinewidth": 1,
              "tickcolor": "rgb(36,36,36)",
              "ticks": "outside"
             }
            },
            "type": "scatterternary"
           }
          ],
          "surface": [
           {
            "colorbar": {
             "outlinewidth": 1,
             "tickcolor": "rgb(36,36,36)",
             "ticks": "outside"
            },
            "colorscale": [
             [
              0,
              "#440154"
             ],
             [
              0.1111111111111111,
              "#482878"
             ],
             [
              0.2222222222222222,
              "#3e4989"
             ],
             [
              0.3333333333333333,
              "#31688e"
             ],
             [
              0.4444444444444444,
              "#26828e"
             ],
             [
              0.5555555555555556,
              "#1f9e89"
             ],
             [
              0.6666666666666666,
              "#35b779"
             ],
             [
              0.7777777777777778,
              "#6ece58"
             ],
             [
              0.8888888888888888,
              "#b5de2b"
             ],
             [
              1,
              "#fde725"
             ]
            ],
            "type": "surface"
           }
          ],
          "table": [
           {
            "cells": {
             "fill": {
              "color": "rgb(237,237,237)"
             },
             "line": {
              "color": "white"
             }
            },
            "header": {
             "fill": {
              "color": "rgb(217,217,217)"
             },
             "line": {
              "color": "white"
             }
            },
            "type": "table"
           }
          ]
         },
         "layout": {
          "annotationdefaults": {
           "arrowhead": 0,
           "arrowwidth": 1
          },
          "autotypenumbers": "strict",
          "coloraxis": {
           "colorbar": {
            "outlinewidth": 1,
            "tickcolor": "rgb(36,36,36)",
            "ticks": "outside"
           }
          },
          "colorscale": {
           "diverging": [
            [
             0,
             "rgb(103,0,31)"
            ],
            [
             0.1,
             "rgb(178,24,43)"
            ],
            [
             0.2,
             "rgb(214,96,77)"
            ],
            [
             0.3,
             "rgb(244,165,130)"
            ],
            [
             0.4,
             "rgb(253,219,199)"
            ],
            [
             0.5,
             "rgb(247,247,247)"
            ],
            [
             0.6,
             "rgb(209,229,240)"
            ],
            [
             0.7,
             "rgb(146,197,222)"
            ],
            [
             0.8,
             "rgb(67,147,195)"
            ],
            [
             0.9,
             "rgb(33,102,172)"
            ],
            [
             1,
             "rgb(5,48,97)"
            ]
           ],
           "sequential": [
            [
             0,
             "#440154"
            ],
            [
             0.1111111111111111,
             "#482878"
            ],
            [
             0.2222222222222222,
             "#3e4989"
            ],
            [
             0.3333333333333333,
             "#31688e"
            ],
            [
             0.4444444444444444,
             "#26828e"
            ],
            [
             0.5555555555555556,
             "#1f9e89"
            ],
            [
             0.6666666666666666,
             "#35b779"
            ],
            [
             0.7777777777777778,
             "#6ece58"
            ],
            [
             0.8888888888888888,
             "#b5de2b"
            ],
            [
             1,
             "#fde725"
            ]
           ],
           "sequentialminus": [
            [
             0,
             "#440154"
            ],
            [
             0.1111111111111111,
             "#482878"
            ],
            [
             0.2222222222222222,
             "#3e4989"
            ],
            [
             0.3333333333333333,
             "#31688e"
            ],
            [
             0.4444444444444444,
             "#26828e"
            ],
            [
             0.5555555555555556,
             "#1f9e89"
            ],
            [
             0.6666666666666666,
             "#35b779"
            ],
            [
             0.7777777777777778,
             "#6ece58"
            ],
            [
             0.8888888888888888,
             "#b5de2b"
            ],
            [
             1,
             "#fde725"
            ]
           ]
          },
          "colorway": [
           "#1F77B4",
           "#FF7F0E",
           "#2CA02C",
           "#D62728",
           "#9467BD",
           "#8C564B",
           "#E377C2",
           "#7F7F7F",
           "#BCBD22",
           "#17BECF"
          ],
          "font": {
           "color": "rgb(36,36,36)"
          },
          "geo": {
           "bgcolor": "white",
           "lakecolor": "white",
           "landcolor": "white",
           "showlakes": true,
           "showland": true,
           "subunitcolor": "white"
          },
          "hoverlabel": {
           "align": "left"
          },
          "hovermode": "closest",
          "mapbox": {
           "style": "light"
          },
          "paper_bgcolor": "white",
          "plot_bgcolor": "white",
          "polar": {
           "angularaxis": {
            "gridcolor": "rgb(232,232,232)",
            "linecolor": "rgb(36,36,36)",
            "showgrid": false,
            "showline": true,
            "ticks": "outside"
           },
           "bgcolor": "white",
           "radialaxis": {
            "gridcolor": "rgb(232,232,232)",
            "linecolor": "rgb(36,36,36)",
            "showgrid": false,
            "showline": true,
            "ticks": "outside"
           }
          },
          "scene": {
           "xaxis": {
            "backgroundcolor": "white",
            "gridcolor": "rgb(232,232,232)",
            "gridwidth": 2,
            "linecolor": "rgb(36,36,36)",
            "showbackground": true,
            "showgrid": false,
            "showline": true,
            "ticks": "outside",
            "zeroline": false,
            "zerolinecolor": "rgb(36,36,36)"
           },
           "yaxis": {
            "backgroundcolor": "white",
            "gridcolor": "rgb(232,232,232)",
            "gridwidth": 2,
            "linecolor": "rgb(36,36,36)",
            "showbackground": true,
            "showgrid": false,
            "showline": true,
            "ticks": "outside",
            "zeroline": false,
            "zerolinecolor": "rgb(36,36,36)"
           },
           "zaxis": {
            "backgroundcolor": "white",
            "gridcolor": "rgb(232,232,232)",
            "gridwidth": 2,
            "linecolor": "rgb(36,36,36)",
            "showbackground": true,
            "showgrid": false,
            "showline": true,
            "ticks": "outside",
            "zeroline": false,
            "zerolinecolor": "rgb(36,36,36)"
           }
          },
          "shapedefaults": {
           "fillcolor": "black",
           "line": {
            "width": 0
           },
           "opacity": 0.3
          },
          "ternary": {
           "aaxis": {
            "gridcolor": "rgb(232,232,232)",
            "linecolor": "rgb(36,36,36)",
            "showgrid": false,
            "showline": true,
            "ticks": "outside"
           },
           "baxis": {
            "gridcolor": "rgb(232,232,232)",
            "linecolor": "rgb(36,36,36)",
            "showgrid": false,
            "showline": true,
            "ticks": "outside"
           },
           "bgcolor": "white",
           "caxis": {
            "gridcolor": "rgb(232,232,232)",
            "linecolor": "rgb(36,36,36)",
            "showgrid": false,
            "showline": true,
            "ticks": "outside"
           }
          },
          "title": {
           "x": 0.05
          },
          "xaxis": {
           "automargin": true,
           "gridcolor": "rgb(232,232,232)",
           "linecolor": "rgb(36,36,36)",
           "showgrid": false,
           "showline": true,
           "ticks": "outside",
           "title": {
            "standoff": 15
           },
           "zeroline": false,
           "zerolinecolor": "rgb(36,36,36)"
          },
          "yaxis": {
           "automargin": true,
           "gridcolor": "rgb(232,232,232)",
           "linecolor": "rgb(36,36,36)",
           "showgrid": false,
           "showline": true,
           "ticks": "outside",
           "title": {
            "standoff": 15
           },
           "zeroline": false,
           "zerolinecolor": "rgb(36,36,36)"
          }
         }
        },
        "title": {
         "text": ""
        },
        "width": 700,
        "xaxis": {
         "autorange": true,
         "range": [
          -6.635959633333084,
          4.008209985578172
         ],
         "showgrid": false,
         "showline": false,
         "showticklabels": false,
         "ticks": "",
         "title": {
          "text": ""
         },
         "type": "linear",
         "zeroline": false
        },
        "yaxis": {
         "autorange": true,
         "range": [
          -7.575812297940586,
          3.6904766024134417
         ],
         "showgrid": false,
         "showline": false,
         "showticklabels": false,
         "ticks": "",
         "title": {
          "text": ""
         },
         "type": "linear",
         "zeroline": false
        }
       }
      },
      "image/png": "[encoded data removed]",
      "text/html": [
       "<div>                            <div id=\"594664dc-3794-4945-9f13-4900bbd62509\" class=\"plotly-graph-div\" style=\"height:525px; width:100%;\"></div>            <script type=\"text/javascript\">                require([\"plotly\"], function(Plotly) {                    window.PLOTLYENV=window.PLOTLYENV || {};                                    if (document.getElementById(\"594664dc-3794-4945-9f13-4900bbd62509\")) {                    Plotly.newPlot(                        \"594664dc-3794-4945-9f13-4900bbd62509\",                        [{\"hoverinfo\":\"none\",\"line\":{\"color\":\"#888\",\"width\":1},\"mode\":\"lines\",\"name\":\"edge_trace\",\"x\":[2.940933216746915,2.5276250445757347,null,2.940933216746915,3.202492315227088,null,2.940933216746915,2.0788587601930155,null,2.940933216746915,1.878149541806928,null,2.940933216746915,3.0521206762018274,null,2.940933216746915,2.2338267413420834,null,2.940933216746915,1.8147360638229364,null,2.5276250445757347,3.202492315227088,null,2.5276250445757347,2.0788587601930155,null,2.5276250445757347,1.878149541806928,null,2.5276250445757347,3.0521206762018274,null,2.5276250445757347,2.2338267413420834,null,2.5276250445757347,1.8147360638229364,null,3.202492315227088,2.0788587601930155,null,3.202492315227088,1.878149541806928,null,3.202492315227088,3.0521206762018274,null,3.202492315227088,2.2338267413420834,null,3.202492315227088,1.8147360638229364,null,2.0788587601930155,1.878149541806928,null,2.0788587601930155,3.0521206762018274,null,2.0788587601930155,2.2338267413420834,null,2.0788587601930155,1.8147360638229364,null,2.0788587601930155,1.4513125366302495,null,2.0788587601930155,0.8743312065664834,null,2.0788587601930155,2.02694551542966,null,2.0788587601930155,1.4825675510081573,null,1.878149541806928,3.0521206762018274,null,1.878149541806928,2.2338267413420834,null,1.878149541806928,1.8147360638229364,null,1.878149541806928,1.4513125366302495,null,1.878149541806928,0.8743312065664834,null,1.878149541806928,2.02694551542966,null,1.878149541806928,1.4825675510081573,null,3.0521206762018274,2.2338267413420834,null,3.0521206762018274,1.8147360638229364,null,3.0521206762018274,2.7526810524423815,null,3.0521206762018274,2.02694551542966,null,2.2338267413420834,1.8147360638229364,null,2.2338267413420834,1.4513125366302495,null,2.2338267413420834,0.8743312065664834,null,2.2338267413420834,2.7526810524423815,null,2.2338267413420834,2.02694551542966,null,2.2338267413420834,1.4825675510081573,null,1.8147360638229364,1.4513125366302495,null,1.8147360638229364,0.8743312065664834,null,1.8147360638229364,2.02694551542966,null,1.8147360638229364,1.4825675510081573,null,1.4513125366302495,0.8743312065664834,null,1.4513125366302495,1.2120598004753718,null,1.4513125366302495,2.518672449497213,null,1.4513125366302495,2.7526810524423815,null,1.4513125366302495,2.02694551542966,null,1.4513125366302495,1.4825675510081573,null,1.4513125366302495,2.0226357669134853,null,0.8743312065664834,0.3135908267273526,null,0.8743312065664834,2.02694551542966,null,0.8743312065664834,-0.37862504868327734,null,0.8743312065664834,0.08807031351506012,null,0.8743312065664834,1.4825675510081573,null,1.2120598004753718,0.3135908267273526,null,1.2120598004753718,2.518672449497213,null,1.2120598004753718,2.0226357669134853,null,0.3135908267273526,-0.37862504868327734,null,0.3135908267273526,0.08807031351506012,null,0.3135908267273526,-0.7948075017786485,null,0.3135908267273526,-0.24365652074068228,null,2.518672449497213,2.7526810524423815,null,2.518672449497213,2.02694551542966,null,2.518672449497213,2.0226357669134853,null,-3.0944634019881594,-2.3647653548791436,null,-3.0944634019881594,-2.5750153898373602,null,-2.3647653548791436,-2.5750153898373602,null,-2.3647653548791436,-1.9462938313682472,null,-2.3647653548791436,-2.743639620214288,null,-2.3647653548791436,-1.4291055163974105,null,-2.3647653548791436,-1.8276271515128595,null,-2.3647653548791436,-1.5912175035540115,null,-2.5750153898373602,-1.9462938313682472,null,-2.5750153898373602,-2.743639620214288,null,-2.5750153898373602,-1.4291055163974105,null,-2.5750153898373602,-1.8276271515128595,null,-2.5750153898373602,-1.5912175035540115,null,2.718213643034072,2.1163695911001676,null,2.718213643034072,2.7526810524423815,null,2.718213643034072,2.02694551542966,null,2.718213643034072,2.247790648369558,null,2.718213643034072,2.7162764814283795,null,2.718213643034072,3.1511892309914797,null,2.718213643034072,3.261656718431221,null,2.1163695911001676,2.7526810524423815,null,2.1163695911001676,2.02694551542966,null,2.1163695911001676,1.4560271456255733,null,2.1163695911001676,1.4825675510081573,null,2.1163695911001676,2.247790648369558,null,2.1163695911001676,2.7162764814283795,null,2.1163695911001676,3.1511892309914797,null,2.1163695911001676,3.261656718431221,null,2.7526810524423815,2.02694551542966,null,2.7526810524423815,2.247790648369558,null,2.7526810524423815,2.7162764814283795,null,2.7526810524423815,3.1511892309914797,null,2.7526810524423815,3.261656718431221,null,2.02694551542966,1.4560271456255733,null,2.02694551542966,1.4825675510081573,null,2.02694551542966,2.247790648369558,null,2.02694551542966,2.7162764814283795,null,2.02694551542966,3.1511892309914797,null,2.02694551542966,3.261656718431221,null,-1.9462938313682472,-2.743639620214288,null,-1.9462938313682472,-1.4291055163974105,null,-1.9462938313682472,-1.8276271515128595,null,-1.9462938313682472,-1.5912175035540115,null,-2.743639620214288,-1.4291055163974105,null,-2.743639620214288,-1.8276271515128595,null,-2.743639620214288,-1.5912175035540115,null,-2.743639620214288,-3.9680500268227936,null,-1.4291055163974105,-1.8276271515128595,null,-1.4291055163974105,-1.5912175035540115,null,-1.4291055163974105,-0.37862504868327734,null,-1.4291055163974105,-0.7948075017786485,null,-1.4291055163974105,-1.0499821314815827,null,-1.4291055163974105,-1.028974890327331,null,-1.4291055163974105,-1.4995350856721144,null,-1.8276271515128595,-1.5912175035540115,null,-1.8276271515128595,-0.37862504868327734,null,-1.8276271515128595,-0.7948075017786485,null,-1.8276271515128595,-1.0499821314815827,null,-1.8276271515128595,-1.028974890327331,null,-1.8276271515128595,-1.4995350856721144,null,-1.8276271515128595,-2.672691570500386,null,-1.8276271515128595,-2.586295453123792,null,-1.8276271515128595,-2.0800891124615015,null,-1.5912175035540115,-0.37862504868327734,null,-1.5912175035540115,-0.7948075017786485,null,-1.5912175035540115,-1.0499821314815827,null,-1.5912175035540115,-1.028974890327331,null,-1.5912175035540115,-1.4995350856721144,null,-3.9680500268227936,-5.082177490574773,null,-0.37862504868327734,0.08807031351506012,null,-0.37862504868327734,-0.7948075017786485,null,-0.37862504868327734,-1.0499821314815827,null,-0.37862504868327734,-1.028974890327331,null,-0.37862504868327734,-1.4995350856721144,null,-0.37862504868327734,-0.24365652074068228,null,1.4560271456255733,1.4825675510081573,null,1.4825675510081573,0.9040392765887704,null,1.4825675510081573,3.4222430722138655,null,-0.7948075017786485,-1.0499821314815827,null,-0.7948075017786485,-1.028974890327331,null,-0.7948075017786485,-1.4995350856721144,null,-0.7948075017786485,-0.24365652074068228,null,-1.0499821314815827,-1.028974890327331,null,-1.0499821314815827,-1.4995350856721144,null,-1.4283224474020833,-0.813465037211565,null,-1.4283224474020833,-2.018995048384267,null,-1.4283224474020833,-1.3402644834338608,null,-1.4283224474020833,-2.0406196483036734,null,-0.813465037211565,-2.018995048384267,null,-0.813465037211565,0.22355481411425804,null,-0.813465037211565,-1.3402644834338608,null,-0.813465037211565,-2.0406196483036734,null,-2.018995048384267,-1.3402644834338608,null,-2.018995048384267,-2.0406196483036734,null,-1.028974890327331,-1.4995350856721144,null,-1.4995350856721144,-2.672691570500386,null,-1.4995350856721144,-2.586295453123792,null,-1.4995350856721144,-2.0800891124615015,null,-2.672691570500386,-2.586295453123792,null,-2.672691570500386,-2.0800891124615015,null,1.2620106976724492,0.22355481411425804,null,1.2620106976724492,1.0885057432225833,null,0.22355481411425804,1.0885057432225833,null,-2.586295453123792,-2.0800891124615015,null,-2.586295453123792,-3.5430264155155813,null,2.247790648369558,2.7162764814283795,null,2.247790648369558,3.1511892309914797,null,2.247790648369558,3.261656718431221,null,2.7162764814283795,3.1511892309914797,null,2.7162764814283795,3.261656718431221,null,3.1511892309914797,3.261656718431221,null,-1.3402644834338608,-2.0406196483036734,null],\"y\":[1.7569114851516472,1.9514049930666784,null,1.7569114851516472,1.373808262286667,null,1.7569114851516472,1.0476239133175342,null,1.7569114851516472,0.7028979316886649,null,1.7569114851516472,0.7591524500873483,null,1.7569114851516472,0.6649132087375834,null,1.7569114851516472,1.2354884790887894,null,1.9514049930666784,1.373808262286667,null,1.9514049930666784,1.0476239133175342,null,1.9514049930666784,0.7028979316886649,null,1.9514049930666784,0.7591524500873483,null,1.9514049930666784,0.6649132087375834,null,1.9514049930666784,1.2354884790887894,null,1.373808262286667,1.0476239133175342,null,1.373808262286667,0.7028979316886649,null,1.373808262286667,0.7591524500873483,null,1.373808262286667,0.6649132087375834,null,1.373808262286667,1.2354884790887894,null,1.0476239133175342,0.7028979316886649,null,1.0476239133175342,0.7591524500873483,null,1.0476239133175342,0.6649132087375834,null,1.0476239133175342,1.2354884790887894,null,1.0476239133175342,0.8853717542993731,null,1.0476239133175342,0.5965178881924594,null,1.0476239133175342,-0.06084857645845993,null,1.0476239133175342,-0.05367094337916022,null,0.7028979316886649,0.7591524500873483,null,0.7028979316886649,0.6649132087375834,null,0.7028979316886649,1.2354884790887894,null,0.7028979316886649,0.8853717542993731,null,0.7028979316886649,0.5965178881924594,null,0.7028979316886649,-0.06084857645845993,null,0.7028979316886649,-0.05367094337916022,null,0.7591524500873483,0.6649132087375834,null,0.7591524500873483,1.2354884790887894,null,0.7591524500873483,-0.05321954610919277,null,0.7591524500873483,-0.06084857645845993,null,0.6649132087375834,1.2354884790887894,null,0.6649132087375834,0.8853717542993731,null,0.6649132087375834,0.5965178881924594,null,0.6649132087375834,-0.05321954610919277,null,0.6649132087375834,-0.06084857645845993,null,0.6649132087375834,-0.05367094337916022,null,1.2354884790887894,0.8853717542993731,null,1.2354884790887894,0.5965178881924594,null,1.2354884790887894,-0.06084857645845993,null,1.2354884790887894,-0.05367094337916022,null,0.8853717542993731,0.5965178881924594,null,0.8853717542993731,2.106222806951668,null,0.8853717542993731,1.2988383227152254,null,0.8853717542993731,-0.05321954610919277,null,0.8853717542993731,-0.06084857645845993,null,0.8853717542993731,-0.05367094337916022,null,0.8853717542993731,2.4163684828168392,null,0.5965178881924594,1.535513494059,null,0.5965178881924594,-0.06084857645845993,null,0.5965178881924594,1.0177137290088267,null,0.5965178881924594,0.26914690009906955,null,0.5965178881924594,-0.05367094337916022,null,2.106222806951668,1.535513494059,null,2.106222806951668,1.2988383227152254,null,2.106222806951668,2.4163684828168392,null,1.535513494059,1.0177137290088267,null,1.535513494059,0.26914690009906955,null,1.535513494059,1.602408518987448,null,1.535513494059,2.445322538888806,null,1.2988383227152254,-0.05321954610919277,null,1.2988383227152254,-0.06084857645845993,null,1.2988383227152254,2.4163684828168392,null,3.0106143411851813,2.2217055039554854,null,3.0106143411851813,1.8659010038742074,null,2.2217055039554854,1.8659010038742074,null,2.2217055039554854,2.3253686697487312,null,2.2217055039554854,1.3907254555827113,null,2.2217055039554854,1.683899618987254,null,2.2217055039554854,0.9479280986003251,null,2.2217055039554854,1.3918154581592697,null,1.8659010038742074,2.3253686697487312,null,1.8659010038742074,1.3907254555827113,null,1.8659010038742074,1.683899618987254,null,1.8659010038742074,0.9479280986003251,null,1.8659010038742074,1.3918154581592697,null,-1.3143148263315092,-0.8982171378145147,null,-1.3143148263315092,-0.05321954610919277,null,-1.3143148263315092,-0.06084857645845993,null,-1.3143148263315092,-1.332793240055695,null,-1.3143148263315092,-0.7997702112438181,null,-1.3143148263315092,-1.0002289561402518,null,-1.3143148263315092,-0.5559864901066368,null,-0.8982171378145147,-0.05321954610919277,null,-0.8982171378145147,-0.06084857645845993,null,-0.8982171378145147,-1.1502131740004058,null,-0.8982171378145147,-0.05367094337916022,null,-0.8982171378145147,-1.332793240055695,null,-0.8982171378145147,-0.7997702112438181,null,-0.8982171378145147,-1.0002289561402518,null,-0.8982171378145147,-0.5559864901066368,null,-0.05321954610919277,-0.06084857645845993,null,-0.05321954610919277,-1.332793240055695,null,-0.05321954610919277,-0.7997702112438181,null,-0.05321954610919277,-1.0002289561402518,null,-0.05321954610919277,-0.5559864901066368,null,-0.06084857645845993,-1.1502131740004058,null,-0.06084857645845993,-0.05367094337916022,null,-0.06084857645845993,-1.332793240055695,null,-0.06084857645845993,-0.7997702112438181,null,-0.06084857645845993,-1.0002289561402518,null,-0.06084857645845993,-0.5559864901066368,null,2.3253686697487312,1.3907254555827113,null,2.3253686697487312,1.683899618987254,null,2.3253686697487312,0.9479280986003251,null,2.3253686697487312,1.3918154581592697,null,1.3907254555827113,1.683899618987254,null,1.3907254555827113,0.9479280986003251,null,1.3907254555827113,1.3918154581592697,null,1.3907254555827113,1.5247016100473658,null,1.683899618987254,0.9479280986003251,null,1.683899618987254,1.3918154581592697,null,1.683899618987254,1.0177137290088267,null,1.683899618987254,1.602408518987448,null,1.683899618987254,0.937630432022894,null,1.683899618987254,0.442324659183643,null,1.683899618987254,0.36059939102744093,null,0.9479280986003251,1.3918154581592697,null,0.9479280986003251,1.0177137290088267,null,0.9479280986003251,1.602408518987448,null,0.9479280986003251,0.937630432022894,null,0.9479280986003251,0.442324659183643,null,0.9479280986003251,0.36059939102744093,null,0.9479280986003251,0.37356342346677585,null,0.9479280986003251,-0.1548243068620789,null,0.9479280986003251,-0.35119402198614535,null,1.3918154581592697,1.0177137290088267,null,1.3918154581592697,1.602408518987448,null,1.3918154581592697,0.937630432022894,null,1.3918154581592697,0.442324659183643,null,1.3918154581592697,0.36059939102744093,null,1.5247016100473658,1.3871341910642283,null,1.0177137290088267,0.26914690009906955,null,1.0177137290088267,1.602408518987448,null,1.0177137290088267,0.937630432022894,null,1.0177137290088267,0.442324659183643,null,1.0177137290088267,0.36059939102744093,null,1.0177137290088267,2.445322538888806,null,-1.1502131740004058,-0.05367094337916022,null,-0.05367094337916022,-1.3355022012453392,null,-0.05367094337916022,-0.01942395596469987,null,1.602408518987448,0.937630432022894,null,1.602408518987448,0.442324659183643,null,1.602408518987448,0.36059939102744093,null,1.602408518987448,2.445322538888806,null,0.937630432022894,0.442324659183643,null,0.937630432022894,0.36059939102744093,null,-6.7862295626741584,-6.337760599920379,null,-6.7862295626741584,-5.839940059648537,null,-6.7862295626741584,-5.758617597750855,null,-6.7862295626741584,-6.496669595258288,null,-6.337760599920379,-5.839940059648537,null,-6.337760599920379,-6.4442675301997445,null,-6.337760599920379,-5.758617597750855,null,-6.337760599920379,-6.496669595258288,null,-5.839940059648537,-5.758617597750855,null,-5.839940059648537,-6.496669595258288,null,0.442324659183643,0.36059939102744093,null,0.36059939102744093,0.37356342346677585,null,0.36059939102744093,-0.1548243068620789,null,0.36059939102744093,-0.35119402198614535,null,0.37356342346677585,-0.1548243068620789,null,0.37356342346677585,-0.35119402198614535,null,-6.130098243227386,-6.4442675301997445,null,-6.130098243227386,-6.895950036712326,null,-6.4442675301997445,-6.895950036712326,null,-0.1548243068620789,-0.35119402198614535,null,-0.1548243068620789,-0.8275890813024565,null,-1.332793240055695,-0.7997702112438181,null,-1.332793240055695,-1.0002289561402518,null,-1.332793240055695,-0.5559864901066368,null,-0.7997702112438181,-1.0002289561402518,null,-0.7997702112438181,-0.5559864901066368,null,-1.0002289561402518,-0.5559864901066368,null,-5.758617597750855,-6.496669595258288,null],\"type\":\"scatter\",\"uid\":\"db1b8353-02a9-4ed2-bc88-24ea93013146\"},{\"hoverinfo\":\"text\",\"hovertext\":[\"Node ID: 0\\u003cbr\\u003ePullback set label: 49\\u003cbr\\u003ePartial cluster label: 0\\u003cbr\\u003eNode size: 8\\u003cbr\\u003eSummary statistic: 52.8\",\"Node ID: 1\\u003cbr\\u003ePullback set label: 51\\u003cbr\\u003ePartial cluster label: 0\\u003cbr\\u003eNode size: 7\\u003cbr\\u003eSummary statistic: 6.0\",\"Node ID: 2\\u003cbr\\u003ePullback set label: 52\\u003cbr\\u003ePartial cluster label: -1\\u003cbr\\u003eNode size: 3\\u003cbr\\u003eSummary statistic: 31.0\",\"Node ID: 3\\u003cbr\\u003ePullback set label: 53\\u003cbr\\u003ePartial cluster label: 0\\u003cbr\\u003eNode size: 69\\u003cbr\\u003eSummary statistic: 83.5\",\"Node ID: 4\\u003cbr\\u003ePullback set label: 55\\u003cbr\\u003ePartial cluster label: 0\\u003cbr\\u003eNode size: 27\\u003cbr\\u003eSummary statistic: 92.5\",\"Node ID: 5\\u003cbr\\u003ePullback set label: 50\\u003cbr\\u003ePartial cluster label: -1\\u003cbr\\u003eNode size: 4\\u003cbr\\u003eSummary statistic: 94.0\",\"Node ID: 6\\u003cbr\\u003ePullback set label: 54\\u003cbr\\u003ePartial cluster label: 0\\u003cbr\\u003eNode size: 6\\u003cbr\\u003eSummary statistic: 92.5\",\"Node ID: 7\\u003cbr\\u003ePullback set label: 56\\u003cbr\\u003ePartial cluster label: -1\\u003cbr\\u003eNode size: 2\\u003cbr\\u003eSummary statistic: 63.0\",\"Node ID: 8\\u003cbr\\u003ePullback set label: 41\\u003cbr\\u003ePartial cluster label: 0\\u003cbr\\u003eNode size: 82\\u003cbr\\u003eSummary statistic: 88.7\",\"Node ID: 9\\u003cbr\\u003ePullback set label: 44\\u003cbr\\u003ePartial cluster label: 0\\u003cbr\\u003eNode size: 46\\u003cbr\\u003eSummary statistic: 99.2\",\"Node ID: 10\\u003cbr\\u003ePullback set label: 29\\u003cbr\\u003ePartial cluster label: -1\\u003cbr\\u003eNode size: 2\\u003cbr\\u003eSummary statistic: 60.0\",\"Node ID: 11\\u003cbr\\u003ePullback set label: 32\\u003cbr\\u003ePartial cluster label: 0\\u003cbr\\u003eNode size: 12\\u003cbr\\u003eSummary statistic: 128.0\",\"Node ID: 12\\u003cbr\\u003ePullback set label: 37\\u003cbr\\u003ePartial cluster label: 0\\u003cbr\\u003eNode size: 9\\u003cbr\\u003eSummary statistic: 119.0\",\"Node ID: 13\\u003cbr\\u003ePullback set label: 7\\u003cbr\\u003ePartial cluster label: -1\\u003cbr\\u003eNode size: 1\\u003cbr\\u003eSummary statistic: 12.0\",\"Node ID: 14\\u003cbr\\u003ePullback set label: 8\\u003cbr\\u003ePartial cluster label: -1\\u003cbr\\u003eNode size: 4\\u003cbr\\u003eSummary statistic: 88.5\",\"Node ID: 15\\u003cbr\\u003ePullback set label: 9\\u003cbr\\u003ePartial cluster label: -1\\u003cbr\\u003eNode size: 2\\u003cbr\\u003eSummary statistic: 16.5\",\"Node ID: 16\\u003cbr\\u003ePullback set label: 24\\u003cbr\\u003ePartial cluster label: -1\\u003cbr\\u003eNode size: 3\\u003cbr\\u003eSummary statistic: 109.0\",\"Node ID: 17\\u003cbr\\u003ePullback set label: 30\\u003cbr\\u003ePartial cluster label: 0\\u003cbr\\u003eNode size: 6\\u003cbr\\u003eSummary statistic: 103.0\",\"Node ID: 18\\u003cbr\\u003ePullback set label: 38\\u003cbr\\u003ePartial cluster label: 0\\u003cbr\\u003eNode size: 8\\u003cbr\\u003eSummary statistic: 133.0\",\"Node ID: 19\\u003cbr\\u003ePullback set label: 42\\u003cbr\\u003ePartial cluster label: 0\\u003cbr\\u003eNode size: 25\\u003cbr\\u003eSummary statistic: 104.0\",\"Node ID: 20\\u003cbr\\u003ePullback set label: 4\\u003cbr\\u003ePartial cluster label: -1\\u003cbr\\u003eNode size: 1\\u003cbr\\u003eSummary statistic: 21.0\",\"Node ID: 21\\u003cbr\\u003ePullback set label: 5\\u003cbr\\u003ePartial cluster label: -1\\u003cbr\\u003eNode size: 3\\u003cbr\\u003eSummary statistic: 71.0\",\"Node ID: 22\\u003cbr\\u003ePullback set label: 19\\u003cbr\\u003ePartial cluster label: -1\\u003cbr\\u003eNode size: 2\\u003cbr\\u003eSummary statistic: 56.0\",\"Node ID: 23\\u003cbr\\u003ePullback set label: 20\\u003cbr\\u003ePartial cluster label: -1\\u003cbr\\u003eNode size: 4\\u003cbr\\u003eSummary statistic: 83.2\",\"Node ID: 24\\u003cbr\\u003ePullback set label: 28\\u003cbr\\u003ePartial cluster label: 0\\u003cbr\\u003eNode size: 5\\u003cbr\\u003eSummary statistic: 90.6\",\"Node ID: 25\\u003cbr\\u003ePullback set label: 3\\u003cbr\\u003ePartial cluster label: -1\\u003cbr\\u003eNode size: 3\\u003cbr\\u003eSummary statistic: 74.3\",\"Node ID: 26\\u003cbr\\u003ePullback set label: 6\\u003cbr\\u003ePartial cluster label: -1\\u003cbr\\u003eNode size: 1\\u003cbr\\u003eSummary statistic: 31.0\",\"Node ID: 27\\u003cbr\\u003ePullback set label: 34\\u003cbr\\u003ePartial cluster label: 0\\u003cbr\\u003eNode size: 23\\u003cbr\\u003eSummary statistic: 119.0\",\"Node ID: 28\\u003cbr\\u003ePullback set label: 47\\u003cbr\\u003ePartial cluster label: 0\\u003cbr\\u003eNode size: 13\\u003cbr\\u003eSummary statistic: 123.0\",\"Node ID: 29\\u003cbr\\u003ePullback set label: 33\\u003cbr\\u003ePartial cluster label: -1\\u003cbr\\u003eNode size: 2\\u003cbr\\u003eSummary statistic: 48.5\",\"Node ID: 30\\u003cbr\\u003ePullback set label: 45\\u003cbr\\u003ePartial cluster label: 0\\u003cbr\\u003eNode size: 7\\u003cbr\\u003eSummary statistic: 104.0\",\"Node ID: 31\\u003cbr\\u003ePullback set label: 27\\u003cbr\\u003ePartial cluster label: 0\\u003cbr\\u003eNode size: 5\\u003cbr\\u003eSummary statistic: 107.0\",\"Node ID: 32\\u003cbr\\u003ePullback set label: 35\\u003cbr\\u003ePartial cluster label: -1\\u003cbr\\u003eNode size: 3\\u003cbr\\u003eSummary statistic: 94.7\",\"Node ID: 33\\u003cbr\\u003ePullback set label: 10\\u003cbr\\u003ePartial cluster label: -1\\u003cbr\\u003eNode size: 1\\u003cbr\\u003eSummary statistic: 89.0\",\"Node ID: 34\\u003cbr\\u003ePullback set label: 12\\u003cbr\\u003ePartial cluster label: -1\\u003cbr\\u003eNode size: 3\\u003cbr\\u003eSummary statistic: 155.0\",\"Node ID: 35\\u003cbr\\u003ePullback set label: 13\\u003cbr\\u003ePartial cluster label: 0\\u003cbr\\u003eNode size: 5\\u003cbr\\u003eSummary statistic: 150.0\",\"Node ID: 36\\u003cbr\\u003ePullback set label: 15\\u003cbr\\u003ePartial cluster label: -1\\u003cbr\\u003eNode size: 2\\u003cbr\\u003eSummary statistic: 137.0\",\"Node ID: 37\\u003cbr\\u003ePullback set label: 16\\u003cbr\\u003ePartial cluster label: -1\\u003cbr\\u003eNode size: 1\\u003cbr\\u003eSummary statistic: 91.0\",\"Node ID: 38\\u003cbr\\u003ePullback set label: 17\\u003cbr\\u003ePartial cluster label: -1\\u003cbr\\u003eNode size: 2\\u003cbr\\u003eSummary statistic: 106.0\",\"Node ID: 39\\u003cbr\\u003ePullback set label: 21\\u003cbr\\u003ePartial cluster label: -1\\u003cbr\\u003eNode size: 2\\u003cbr\\u003eSummary statistic: 110.0\",\"Node ID: 40\\u003cbr\\u003ePullback set label: 0\\u003cbr\\u003ePartial cluster label: -1\\u003cbr\\u003eNode size: 2\\u003cbr\\u003eSummary statistic: 131.0\",\"Node ID: 41\\u003cbr\\u003ePullback set label: 1\\u003cbr\\u003ePartial cluster label: -1\\u003cbr\\u003eNode size: 3\\u003cbr\\u003eSummary statistic: 148.0\",\"Node ID: 42\\u003cbr\\u003ePullback set label: 23\\u003cbr\\u003ePartial cluster label: -1\\u003cbr\\u003eNode size: 1\\u003cbr\\u003eSummary statistic: 112.0\",\"Node ID: 43\\u003cbr\\u003ePullback set label: 18\\u003cbr\\u003ePartial cluster label: -1\\u003cbr\\u003eNode size: 2\\u003cbr\\u003eSummary statistic: 138.0\",\"Node ID: 44\\u003cbr\\u003ePullback set label: 36\\u003cbr\\u003ePartial cluster label: -1\\u003cbr\\u003eNode size: 1\\u003cbr\\u003eSummary statistic: 121.0\",\"Node ID: 45\\u003cbr\\u003ePullback set label: 25\\u003cbr\\u003ePartial cluster label: -1\\u003cbr\\u003eNode size: 2\\u003cbr\\u003eSummary statistic: 156.0\",\"Node ID: 46\\u003cbr\\u003ePullback set label: 39\\u003cbr\\u003ePartial cluster label: -1\\u003cbr\\u003eNode size: 3\\u003cbr\\u003eSummary statistic: 167.0\",\"Node ID: 47\\u003cbr\\u003ePullback set label: 48\\u003cbr\\u003ePartial cluster label: -1\\u003cbr\\u003eNode size: 1\\u003cbr\\u003eSummary statistic: 132.0\",\"Node ID: 48\\u003cbr\\u003ePullback set label: 40\\u003cbr\\u003ePartial cluster label: -1\\u003cbr\\u003eNode size: 1\\u003cbr\\u003eSummary statistic: 140.0\",\"Node ID: 49\\u003cbr\\u003ePullback set label: 22\\u003cbr\\u003ePartial cluster label: -1\\u003cbr\\u003eNode size: 1\\u003cbr\\u003eSummary statistic: 156.0\",\"Node ID: 50\\u003cbr\\u003ePullback set label: 2\\u003cbr\\u003ePartial cluster label: -1\\u003cbr\\u003eNode size: 1\\u003cbr\\u003eSummary statistic: 157.0\",\"Node ID: 51\\u003cbr\\u003ePullback set label: 26\\u003cbr\\u003ePartial cluster label: -1\\u003cbr\\u003eNode size: 1\\u003cbr\\u003eSummary statistic: 171.0\",\"Node ID: 52\\u003cbr\\u003ePullback set label: 31\\u003cbr\\u003ePartial cluster label: -1\\u003cbr\\u003eNode size: 1\\u003cbr\\u003eSummary statistic: 182.0\",\"Node ID: 53\\u003cbr\\u003ePullback set label: 43\\u003cbr\\u003ePartial cluster label: -1\\u003cbr\\u003eNode size: 2\\u003cbr\\u003eSummary statistic: 184.0\",\"Node ID: 54\\u003cbr\\u003ePullback set label: 11\\u003cbr\\u003ePartial cluster label: -1\\u003cbr\\u003eNode size: 2\\u003cbr\\u003eSummary statistic: 188.0\",\"Node ID: 55\\u003cbr\\u003ePullback set label: 14\\u003cbr\\u003ePartial cluster label: -1\\u003cbr\\u003eNode size: 1\\u003cbr\\u003eSummary statistic: 184.0\",\"Node ID: 56\\u003cbr\\u003ePullback set label: 46\\u003cbr\\u003ePartial cluster label: -1\\u003cbr\\u003eNode size: 1\\u003cbr\\u003eSummary statistic: 189.0\"],\"marker\":{\"color\":[52.75,6.0,31.0,83.47826086956522,92.48148148148148,94.0,92.5,63.0,88.6829268292683,99.17391304347827,60.0,127.5,119.33333333333333,12.0,88.5,16.5,109.33333333333333,103.33333333333333,132.75,103.8,21.0,71.0,56.0,83.25,90.6,74.33333333333333,31.0,118.73913043478261,122.61538461538461,48.5,104.0,106.8,94.66666666666667,89.0,155.0,150.4,137.0,91.0,106.0,110.5,131.0,148.0,112.0,138.5,121.0,156.5,166.66666666666666,132.0,140.0,156.0,157.0,171.0,182.0,184.5,187.5,184.0,189.0],\"colorbar\":{\"thickness\":15,\"title\":{\"side\":\"right\",\"text\":\"\"},\"xanchor\":\"left\"},\"colorscale\":[[0.0,\"#440154\"],[0.1111111111111111,\"#482878\"],[0.2222222222222222,\"#3e4989\"],[0.3333333333333333,\"#31688e\"],[0.4444444444444444,\"#26828e\"],[0.5555555555555556,\"#1f9e89\"],[0.6666666666666666,\"#35b779\"],[0.7777777777777778,\"#6ece58\"],[0.8888888888888888,\"#b5de2b\"],[1.0,\"#fde725\"]],\"line\":{\"color\":\"#888\",\"width\":1},\"opacity\":1.0,\"reversescale\":false,\"showscale\":true,\"size\":[8,7,3,69,27,4,6,2,82,46,2,12,9,1,4,2,3,6,8,25,1,3,2,4,5,3,1,23,13,2,7,5,3,1,3,5,2,1,2,2,2,3,1,2,1,2,3,1,1,1,1,1,1,2,2,1,1],\"sizemin\":4,\"sizemode\":\"area\",\"sizeref\":1.1388888888888888},\"mode\":\"markers\",\"name\":\"node_trace\",\"x\":[2.940933216746915,2.5276250445757347,3.202492315227088,2.0788587601930155,1.878149541806928,3.0521206762018274,2.2338267413420834,1.8147360638229364,1.4513125366302495,0.8743312065664834,1.2120598004753718,0.3135908267273526,2.518672449497213,-3.0944634019881594,-2.3647653548791436,-2.5750153898373602,2.718213643034072,2.1163695911001676,2.7526810524423815,2.02694551542966,-1.9462938313682472,-2.743639620214288,-1.4291055163974105,-1.8276271515128595,-1.5912175035540115,-3.9680500268227936,-5.082177490574773,-0.37862504868327734,0.08807031351506012,1.4560271456255733,1.4825675510081573,-0.7948075017786485,-1.0499821314815827,-5.178892660465168,-1.4283224474020833,-0.813465037211565,-2.018995048384267,-1.028974890327331,-1.4995350856721144,-2.672691570500386,1.2620106976724492,0.22355481411425804,2.0226357669134853,-2.586295453123792,-2.0800891124615015,2.247790648369558,2.7162764814283795,0.9040392765887704,-6.0499927199687775,-3.5430264155155813,1.0885057432225833,-0.24365652074068228,3.1511892309914797,3.261656718431221,-1.3402644834338608,-2.0406196483036734,3.4222430722138655],\"y\":[1.7569114851516472,1.9514049930666784,1.373808262286667,1.0476239133175342,0.7028979316886649,0.7591524500873483,0.6649132087375834,1.2354884790887894,0.8853717542993731,0.5965178881924594,2.106222806951668,1.535513494059,1.2988383227152254,3.0106143411851813,2.2217055039554854,1.8659010038742074,-1.3143148263315092,-0.8982171378145147,-0.05321954610919277,-0.06084857645845993,2.3253686697487312,1.3907254555827113,1.683899618987254,0.9479280986003251,1.3918154581592697,1.5247016100473658,1.3871341910642283,1.0177137290088267,0.26914690009906955,-1.1502131740004058,-0.05367094337916022,1.602408518987448,0.937630432022894,-4.25656113879789,-6.7862295626741584,-6.337760599920379,-5.839940059648537,0.442324659183643,0.36059939102744093,0.37356342346677585,-6.130098243227386,-6.4442675301997445,2.4163684828168392,-0.1548243068620789,-0.35119402198614535,-1.332793240055695,-0.7997702112438181,-1.3355022012453392,-3.0266705782916077,-0.8275890813024565,-6.895950036712326,2.445322538888806,-1.0002289561402518,-0.5559864901066368,-5.758617597750855,-6.496669595258288,-0.01942395596469987],\"type\":\"scatter\",\"uid\":\"242261a4-e31f-4266-aeb8-d95f93f1cec1\"}],                        {\"autosize\":false,\"hovermode\":\"closest\",\"margin\":{\"b\":20,\"l\":5,\"r\":5,\"t\":40},\"showlegend\":false,\"template\":{\"data\":{\"barpolar\":[{\"marker\":{\"line\":{\"color\":\"white\",\"width\":0.5},\"pattern\":{\"fillmode\":\"overlay\",\"size\":10,\"solidity\":0.2}},\"type\":\"barpolar\"}],\"bar\":[{\"error_x\":{\"color\":\"rgb(36,36,36)\"},\"error_y\":{\"color\":\"rgb(36,36,36)\"},\"marker\":{\"line\":{\"color\":\"white\",\"width\":0.5},\"pattern\":{\"fillmode\":\"overlay\",\"size\":10,\"solidity\":0.2}},\"type\":\"bar\"}],\"carpet\":[{\"aaxis\":{\"endlinecolor\":\"rgb(36,36,36)\",\"gridcolor\":\"white\",\"linecolor\":\"white\",\"minorgridcolor\":\"white\",\"startlinecolor\":\"rgb(36,36,36)\"},\"baxis\":{\"endlinecolor\":\"rgb(36,36,36)\",\"gridcolor\":\"white\",\"linecolor\":\"white\",\"minorgridcolor\":\"white\",\"startlinecolor\":\"rgb(36,36,36)\"},\"type\":\"carpet\"}],\"choropleth\":[{\"colorbar\":{\"outlinewidth\":1,\"tickcolor\":\"rgb(36,36,36)\",\"ticks\":\"outside\"},\"type\":\"choropleth\"}],\"contourcarpet\":[{\"colorbar\":{\"outlinewidth\":1,\"tickcolor\":\"rgb(36,36,36)\",\"ticks\":\"outside\"},\"type\":\"contourcarpet\"}],\"contour\":[{\"colorbar\":{\"outlinewidth\":1,\"tickcolor\":\"rgb(36,36,36)\",\"ticks\":\"outside\"},\"colorscale\":[[0.0,\"#440154\"],[0.1111111111111111,\"#482878\"],[0.2222222222222222,\"#3e4989\"],[0.3333333333333333,\"#31688e\"],[0.4444444444444444,\"#26828e\"],[0.5555555555555556,\"#1f9e89\"],[0.6666666666666666,\"#35b779\"],[0.7777777777777778,\"#6ece58\"],[0.8888888888888888,\"#b5de2b\"],[1.0,\"#fde725\"]],\"type\":\"contour\"}],\"heatmapgl\":[{\"colorbar\":{\"outlinewidth\":1,\"tickcolor\":\"rgb(36,36,36)\",\"ticks\":\"outside\"},\"colorscale\":[[0.0,\"#440154\"],[0.1111111111111111,\"#482878\"],[0.2222222222222222,\"#3e4989\"],[0.3333333333333333,\"#31688e\"],[0.4444444444444444,\"#26828e\"],[0.5555555555555556,\"#1f9e89\"],[0.6666666666666666,\"#35b779\"],[0.7777777777777778,\"#6ece58\"],[0.8888888888888888,\"#b5de2b\"],[1.0,\"#fde725\"]],\"type\":\"heatmapgl\"}],\"heatmap\":[{\"colorbar\":{\"outlinewidth\":1,\"tickcolor\":\"rgb(36,36,36)\",\"ticks\":\"outside\"},\"colorscale\":[[0.0,\"#440154\"],[0.1111111111111111,\"#482878\"],[0.2222222222222222,\"#3e4989\"],[0.3333333333333333,\"#31688e\"],[0.4444444444444444,\"#26828e\"],[0.5555555555555556,\"#1f9e89\"],[0.6666666666666666,\"#35b779\"],[0.7777777777777778,\"#6ece58\"],[0.8888888888888888,\"#b5de2b\"],[1.0,\"#fde725\"]],\"type\":\"heatmap\"}],\"histogram2dcontour\":[{\"colorbar\":{\"outlinewidth\":1,\"tickcolor\":\"rgb(36,36,36)\",\"ticks\":\"outside\"},\"colorscale\":[[0.0,\"#440154\"],[0.1111111111111111,\"#482878\"],[0.2222222222222222,\"#3e4989\"],[0.3333333333333333,\"#31688e\"],[0.4444444444444444,\"#26828e\"],[0.5555555555555556,\"#1f9e89\"],[0.6666666666666666,\"#35b779\"],[0.7777777777777778,\"#6ece58\"],[0.8888888888888888,\"#b5de2b\"],[1.0,\"#fde725\"]],\"type\":\"histogram2dcontour\"}],\"histogram2d\":[{\"colorbar\":{\"outlinewidth\":1,\"tickcolor\":\"rgb(36,36,36)\",\"ticks\":\"outside\"},\"colorscale\":[[0.0,\"#440154\"],[0.1111111111111111,\"#482878\"],[0.2222222222222222,\"#3e4989\"],[0.3333333333333333,\"#31688e\"],[0.4444444444444444,\"#26828e\"],[0.5555555555555556,\"#1f9e89\"],[0.6666666666666666,\"#35b779\"],[0.7777777777777778,\"#6ece58\"],[0.8888888888888888,\"#b5de2b\"],[1.0,\"#fde725\"]],\"type\":\"histogram2d\"}],\"histogram\":[{\"marker\":{\"line\":{\"color\":\"white\",\"width\":0.6}},\"type\":\"histogram\"}],\"mesh3d\":[{\"colorbar\":{\"outlinewidth\":1,\"tickcolor\":\"rgb(36,36,36)\",\"ticks\":\"outside\"},\"type\":\"mesh3d\"}],\"parcoords\":[{\"line\":{\"colorbar\":{\"outlinewidth\":1,\"tickcolor\":\"rgb(36,36,36)\",\"ticks\":\"outside\"}},\"type\":\"parcoords\"}],\"pie\":[{\"automargin\":true,\"type\":\"pie\"}],\"scatter3d\":[{\"line\":{\"colorbar\":{\"outlinewidth\":1,\"tickcolor\":\"rgb(36,36,36)\",\"ticks\":\"outside\"}},\"marker\":{\"colorbar\":{\"outlinewidth\":1,\"tickcolor\":\"rgb(36,36,36)\",\"ticks\":\"outside\"}},\"type\":\"scatter3d\"}],\"scattercarpet\":[{\"marker\":{\"colorbar\":{\"outlinewidth\":1,\"tickcolor\":\"rgb(36,36,36)\",\"ticks\":\"outside\"}},\"type\":\"scattercarpet\"}],\"scattergeo\":[{\"marker\":{\"colorbar\":{\"outlinewidth\":1,\"tickcolor\":\"rgb(36,36,36)\",\"ticks\":\"outside\"}},\"type\":\"scattergeo\"}],\"scattergl\":[{\"marker\":{\"colorbar\":{\"outlinewidth\":1,\"tickcolor\":\"rgb(36,36,36)\",\"ticks\":\"outside\"}},\"type\":\"scattergl\"}],\"scattermapbox\":[{\"marker\":{\"colorbar\":{\"outlinewidth\":1,\"tickcolor\":\"rgb(36,36,36)\",\"ticks\":\"outside\"}},\"type\":\"scattermapbox\"}],\"scatterpolargl\":[{\"marker\":{\"colorbar\":{\"outlinewidth\":1,\"tickcolor\":\"rgb(36,36,36)\",\"ticks\":\"outside\"}},\"type\":\"scatterpolargl\"}],\"scatterpolar\":[{\"marker\":{\"colorbar\":{\"outlinewidth\":1,\"tickcolor\":\"rgb(36,36,36)\",\"ticks\":\"outside\"}},\"type\":\"scatterpolar\"}],\"scatter\":[{\"fillpattern\":{\"fillmode\":\"overlay\",\"size\":10,\"solidity\":0.2},\"type\":\"scatter\"}],\"scatterternary\":[{\"marker\":{\"colorbar\":{\"outlinewidth\":1,\"tickcolor\":\"rgb(36,36,36)\",\"ticks\":\"outside\"}},\"type\":\"scatterternary\"}],\"surface\":[{\"colorbar\":{\"outlinewidth\":1,\"tickcolor\":\"rgb(36,36,36)\",\"ticks\":\"outside\"},\"colorscale\":[[0.0,\"#440154\"],[0.1111111111111111,\"#482878\"],[0.2222222222222222,\"#3e4989\"],[0.3333333333333333,\"#31688e\"],[0.4444444444444444,\"#26828e\"],[0.5555555555555556,\"#1f9e89\"],[0.6666666666666666,\"#35b779\"],[0.7777777777777778,\"#6ece58\"],[0.8888888888888888,\"#b5de2b\"],[1.0,\"#fde725\"]],\"type\":\"surface\"}],\"table\":[{\"cells\":{\"fill\":{\"color\":\"rgb(237,237,237)\"},\"line\":{\"color\":\"white\"}},\"header\":{\"fill\":{\"color\":\"rgb(217,217,217)\"},\"line\":{\"color\":\"white\"}},\"type\":\"table\"}]},\"layout\":{\"annotationdefaults\":{\"arrowhead\":0,\"arrowwidth\":1},\"autotypenumbers\":\"strict\",\"coloraxis\":{\"colorbar\":{\"outlinewidth\":1,\"tickcolor\":\"rgb(36,36,36)\",\"ticks\":\"outside\"}},\"colorscale\":{\"diverging\":[[0.0,\"rgb(103,0,31)\"],[0.1,\"rgb(178,24,43)\"],[0.2,\"rgb(214,96,77)\"],[0.3,\"rgb(244,165,130)\"],[0.4,\"rgb(253,219,199)\"],[0.5,\"rgb(247,247,247)\"],[0.6,\"rgb(209,229,240)\"],[0.7,\"rgb(146,197,222)\"],[0.8,\"rgb(67,147,195)\"],[0.9,\"rgb(33,102,172)\"],[1.0,\"rgb(5,48,97)\"]],\"sequential\":[[0.0,\"#440154\"],[0.1111111111111111,\"#482878\"],[0.2222222222222222,\"#3e4989\"],[0.3333333333333333,\"#31688e\"],[0.4444444444444444,\"#26828e\"],[0.5555555555555556,\"#1f9e89\"],[0.6666666666666666,\"#35b779\"],[0.7777777777777778,\"#6ece58\"],[0.8888888888888888,\"#b5de2b\"],[1.0,\"#fde725\"]],\"sequentialminus\":[[0.0,\"#440154\"],[0.1111111111111111,\"#482878\"],[0.2222222222222222,\"#3e4989\"],[0.3333333333333333,\"#31688e\"],[0.4444444444444444,\"#26828e\"],[0.5555555555555556,\"#1f9e89\"],[0.6666666666666666,\"#35b779\"],[0.7777777777777778,\"#6ece58\"],[0.8888888888888888,\"#b5de2b\"],[1.0,\"#fde725\"]]},\"colorway\":[\"#1F77B4\",\"#FF7F0E\",\"#2CA02C\",\"#D62728\",\"#9467BD\",\"#8C564B\",\"#E377C2\",\"#7F7F7F\",\"#BCBD22\",\"#17BECF\"],\"font\":{\"color\":\"rgb(36,36,36)\"},\"geo\":{\"bgcolor\":\"white\",\"lakecolor\":\"white\",\"landcolor\":\"white\",\"showlakes\":true,\"showland\":true,\"subunitcolor\":\"white\"},\"hoverlabel\":{\"align\":\"left\"},\"hovermode\":\"closest\",\"mapbox\":{\"style\":\"light\"},\"paper_bgcolor\":\"white\",\"plot_bgcolor\":\"white\",\"polar\":{\"angularaxis\":{\"gridcolor\":\"rgb(232,232,232)\",\"linecolor\":\"rgb(36,36,36)\",\"showgrid\":false,\"showline\":true,\"ticks\":\"outside\"},\"bgcolor\":\"white\",\"radialaxis\":{\"gridcolor\":\"rgb(232,232,232)\",\"linecolor\":\"rgb(36,36,36)\",\"showgrid\":false,\"showline\":true,\"ticks\":\"outside\"}},\"scene\":{\"xaxis\":{\"backgroundcolor\":\"white\",\"gridcolor\":\"rgb(232,232,232)\",\"gridwidth\":2,\"linecolor\":\"rgb(36,36,36)\",\"showbackground\":true,\"showgrid\":false,\"showline\":true,\"ticks\":\"outside\",\"zeroline\":false,\"zerolinecolor\":\"rgb(36,36,36)\"},\"yaxis\":{\"backgroundcolor\":\"white\",\"gridcolor\":\"rgb(232,232,232)\",\"gridwidth\":2,\"linecolor\":\"rgb(36,36,36)\",\"showbackground\":true,\"showgrid\":false,\"showline\":true,\"ticks\":\"outside\",\"zeroline\":false,\"zerolinecolor\":\"rgb(36,36,36)\"},\"zaxis\":{\"backgroundcolor\":\"white\",\"gridcolor\":\"rgb(232,232,232)\",\"gridwidth\":2,\"linecolor\":\"rgb(36,36,36)\",\"showbackground\":true,\"showgrid\":false,\"showline\":true,\"ticks\":\"outside\",\"zeroline\":false,\"zerolinecolor\":\"rgb(36,36,36)\"}},\"shapedefaults\":{\"fillcolor\":\"black\",\"line\":{\"width\":0},\"opacity\":0.3},\"ternary\":{\"aaxis\":{\"gridcolor\":\"rgb(232,232,232)\",\"linecolor\":\"rgb(36,36,36)\",\"showgrid\":false,\"showline\":true,\"ticks\":\"outside\"},\"baxis\":{\"gridcolor\":\"rgb(232,232,232)\",\"linecolor\":\"rgb(36,36,36)\",\"showgrid\":false,\"showline\":true,\"ticks\":\"outside\"},\"bgcolor\":\"white\",\"caxis\":{\"gridcolor\":\"rgb(232,232,232)\",\"linecolor\":\"rgb(36,36,36)\",\"showgrid\":false,\"showline\":true,\"ticks\":\"outside\"}},\"title\":{\"x\":0.05},\"xaxis\":{\"automargin\":true,\"gridcolor\":\"rgb(232,232,232)\",\"linecolor\":\"rgb(36,36,36)\",\"showgrid\":false,\"showline\":true,\"ticks\":\"outside\",\"title\":{\"standoff\":15},\"zeroline\":false,\"zerolinecolor\":\"rgb(36,36,36)\"},\"yaxis\":{\"automargin\":true,\"gridcolor\":\"rgb(232,232,232)\",\"linecolor\":\"rgb(36,36,36)\",\"showgrid\":false,\"showline\":true,\"ticks\":\"outside\",\"title\":{\"standoff\":15},\"zeroline\":false,\"zerolinecolor\":\"rgb(36,36,36)\"}}},\"title\":{\"text\":\"\"},\"xaxis\":{\"showgrid\":false,\"showline\":false,\"showticklabels\":false,\"ticks\":\"\",\"title\":{\"text\":\"\"},\"zeroline\":false},\"yaxis\":{\"showgrid\":false,\"showline\":false,\"showticklabels\":false,\"ticks\":\"\",\"title\":{\"text\":\"\"},\"zeroline\":false}},                        {\"scrollZoom\": true, \"responsive\": true}                    ).then(function(){\n",
       "                            \n",
       "var gd = document.getElementById('594664dc-3794-4945-9f13-4900bbd62509');\n",
       "var x = new MutationObserver(function (mutations, observer) {{\n",
       "        var display = window.getComputedStyle(gd).display;\n",
       "        if (!display || display === 'none') {{\n",
       "            console.log([gd, 'removed!']);\n",
       "            Plotly.purge(gd);\n",
       "            observer.disconnect();\n",
       "        }}\n",
       "}});\n",
       "\n",
       "// Listen for the removal of the full notebook cells\n",
       "var notebookContainer = gd.closest('#notebook-container');\n",
       "if (notebookContainer) {{\n",
       "    x.observe(notebookContainer, {childList: true});\n",
       "}}\n",
       "\n",
       "// Listen for the clearing of the current output cell\n",
       "var outputEl = gd.closest('.output');\n",
       "if (outputEl) {{\n",
       "    x.observe(outputEl, {childList: true});\n",
       "}}\n",
       "\n",
       "                        })                };                });            </script>        </div>"
      ]
     },
     "metadata": {},
     "output_type": "display_data"
    }
   ],
   "source": [
    "np.random.seed(3047)\n",
    "fig = plot_static_mapper_graph(pipe, distance_matrix)\n",
    "fig.show(config={'scrollZoom': True})"
   ]
  },
  {
   "cell_type": "code",
   "execution_count": null,
   "id": "e7645926-812d-4a27-85af-02cadb7f1c94",
   "metadata": {},
   "outputs": [],
   "source": []
  },
  {
   "cell_type": "code",
   "execution_count": 110,
   "id": "0976180e-5abc-4b72-9329-545b62279145",
   "metadata": {
    "scrolled": true,
    "tags": []
   },
   "outputs": [
    {
     "name": "stdout",
     "output_type": "stream",
     "text": [
      "3\n"
     ]
    },
    {
     "name": "stderr",
     "output_type": "stream",
     "text": [
      "/Users/lu/opt/anaconda3/lib/python3.9/site-packages/sklearn/manifold/_mds.py:601: UserWarning:\n",
      "\n",
      "The MDS API has changed. ``fit`` now constructs an dissimilarity matrix from data. To use a custom dissimilarity matrix, set ``dissimilarity='precomputed'``.\n",
      "\n"
     ]
    },
    {
     "name": "stdout",
     "output_type": "stream",
     "text": [
      "Node 0:\n",
      "  Words: [\"'d\", \"'m\", \"'re\", \"'s\", \"'ve\", 'as', 'been', 'ca', 'get', 'getting', 'had', 'have', 'into', 'kind', 'lot', 'make', 'much', \"n't\", 'need', 'out', 'pretty', 'should', 'tell', 'things', 'think', 'thought', 'up', 'want', 'wanted']\n",
      "Node 1:\n",
      "  Words: [\"'d\", \"'ll\", \"'m\", \"'ve\", 'gon', 'out', 'things', 'wan']\n",
      "Node 2:\n",
      "  Words: [\"'ll\", \"'m\"]\n",
      "Node 3:\n",
      "  Words: [\"'m\", 'mean']\n",
      "Node 4:\n",
      "  Words: ['a', 'all', 'always', 'any', 'at', 'by', 'came', 'come', 'could', 'every', 'for', 'from', 'getting', 'got', 'guess', 'had', 'have', 'in', 'into', 'kind', 'make', \"n't\", 'never', 'not', 'on', 'only', 'should', 'some', 'still', 'than', 'think', 'through', 'told', 'was', 'went', 'were', 'with', 'would']\n",
      "Node 5:\n",
      "  Words: ['a', 'about', 'all', 'always', 'any', 'are', 'at', 'be', 'by', 'came', 'can', 'come', 'could', 'did', 'do', 'does', 'doing', 'down', 'even', 'every', 'first', 'for', 'from', 'getting', 'go', 'going', 'got', 'guy', 'has', 'have', 'her', 'in', 'into', 'kind', 'long', 'make', 'me', 'more', 'never', 'not', 'off', 'on', 'one', 'only', 'over', 'put', 'say', 'should', 'some', 'something', 'still', 'than', 'that', 'then', 'there', 'this', 'those', 'through', 'told', 'two', 'way', 'went', 'were', 'will', 'with', 'would', 'give']\n",
      "Node 6:\n",
      "  Words: ['a', 'all', 'always', 'as', 'at', 'by', 'call', 'came', 'come', 'every', 'get', 'getting', 'got', 'guess', 'had', 'have', 'into', 'kind', 'make', \"n't\", 'pretty', 'should', 'some', 'still', 'think', 'told', 'want', 'was', 'were']\n",
      "Node 7:\n",
      "  Words: ['a', 'all', 'always', 'an', 'another', 'as', 'at', 'big', 'by', 'call', 'came', 'come', 'different', 'every', 'get', 'getting', 'got', 'have', 'into', 'kind', 'little', 'make', 'new', 'of', 'other', 'put', 'real', 'should', 'some', 'still', 'told', 'want', 'were', 'whole', 'give']\n",
      "Node 8:\n",
      "  Words: ['after', 'day', 'doing', 'down', 'guy', 'he', 'her', 'here', 'how', 'i', 'if', 'it', 'let', 'long', 'maybe', 'me', 'off', 'say', 'she', 'something', 'them', 'there', 'they', 'too', 'way', 'we', 'when', 'where', 'years']\n",
      "Node 9:\n",
      "  Words: ['after', 'here', 'maybe', 'when', 'where', 'who']\n",
      "Node 10:\n",
      "  Words: ['an', 'come', 'kinda', 'like', 'real', 'still']\n",
      "Node 11:\n",
      "  Words: ['an', 'my', 'our', 'real', 'the', 'their', 'your', 'his']\n",
      "Node 12:\n",
      "  Words: ['an', 'another', 'little', 'my', 'new', 'of', 'other', 'our', 'real', 'the', 'their', 'whole', 'your', 'his']\n",
      "Node 13:\n",
      "  Words: ['and']\n",
      "Node 14:\n",
      "  Words: ['and', 'which']\n",
      "Node 15:\n",
      "  Words: ['any', 'ca', 'getting', 'had', 'have', 'into', 'kind', 'make', \"n't\", 'should', 'think']\n",
      "Node 16:\n",
      "  Words: ['any', 'be', 'doing', 'getting', 'going', 'have', 'into', 'kind', 'long', 'make', 'off', 'people', 'put', 'should', 'then', 'way', 'give']\n",
      "Node 17:\n",
      "  Words: ['anything', 'around', 'before', 'em', 'everything', 'god', 'much', 'out', 'pretty', 'thing', 'things', 'up', 'work', 'man']\n",
      "Node 18:\n",
      "  Words: ['anything', 'around', 'em', 'much', 'out', 'thing', 'things', 'up', 'work']\n",
      "Node 19:\n",
      "  Words: ['anything', 'em', 'him', 'out', 'stuff', 'thing', 'things', 'time', 'us', 'work', 'year']\n",
      "Node 20:\n",
      "  Words: ['anything', 'em', 'him', 'out', 'stuff', 'thing', 'things', 'time', 'us', 'work']\n",
      "Node 21:\n",
      "  Words: ['anything', 'around', 'before', 'em', 'out', 'pretty', 'very', 'work']\n",
      "Node 22:\n",
      "  Words: ['anything', 'around', 'em', 'out', 'work']\n",
      "Node 23:\n",
      "  Words: ['anything', 'em', 'him', 'out', 'stuff', 'time', 'work', 'year']\n",
      "Node 24:\n",
      "  Words: ['anything', 'em', 'him', 'out', 'stuff', 'time', 'work']\n",
      "Node 25:\n",
      "  Words: ['are', 'come', 'did', 'first', 'five', 'four', 'from', 'good', 'is', 'just', 'kinda', 'like', 'look', 'never', 'not', 'probably', 'really', 'see', 'something', 'still', 'that', 'this', 'three', 'two', 'what', 'why', 'will', 'you', 'remember']\n",
      "Node 26:\n",
      "  Words: ['around', 'everything', 'god', 'or', 'pretty', 'sure', 'great', 'man']\n",
      "Node 27:\n",
      "  Words: ['around', 'big', 'different', 'new', 'real', 'ten']\n",
      "Node 28:\n",
      "  Words: ['around', 'or', 'pretty', 'great']\n",
      "Node 29:\n",
      "  Words: ['as', 'get', 'getting', 'have', 'into', 'kind', 'lot', 'make', 'much', 'of', 'out', 'people', 'put', 'should', 'things', 'up', 'want', 'wanted', 'give']\n",
      "Node 30:\n",
      "  Words: ['because']\n",
      "Node 31:\n",
      "  Words: ['because', 'but']\n",
      "Node 32:\n",
      "  Words: ['because', 'mom', 'so']\n",
      "Node 33:\n",
      "  Words: ['big', 'different', 'little', 'new', 'of', 'other', 'real', 'whole']\n",
      "Node 34:\n",
      "  Words: ['but']\n",
      "Node 35:\n",
      "  Words: ['cause']\n",
      "Node 36:\n",
      "  Words: ['come', 'five', 'from', 'goes', 'kinda', 'like', 'never', 'not', 'probably', 'really', 'said', 'see', 'still', 'remember']\n",
      "Node 37:\n",
      "  Words: ['come', 'goes', 'kinda', 'like', 'said', 'still']\n",
      "Node 38:\n",
      "  Words: ['day', 'doing', 'how', 'if', 'let', 'long', 'off', 'them', 'way', 'when']\n",
      "Node 39:\n",
      "  Words: ['everything', 'god', 'man']\n",
      "Node 40:\n",
      "  Words: ['god', 'sure']\n",
      "Node 41:\n",
      "  Words: ['god']\n",
      "Node 42:\n",
      "  Words: ['gon', 'out', 'things']\n",
      "Node 43:\n",
      "  Words: ['good', 'it', 'now', 'she', 'something', 'they', 'too', 'what', 'why', 'you']\n",
      "Node 44:\n",
      "  Words: ['good', 'mom', 'really', 'why']\n",
      "Node 45:\n",
      "  Words: ['good', 'mom', 'now', 'so', 'why']\n",
      "Node 46:\n",
      "  Words: ['here', 'i', 'let']\n",
      "Node 47:\n",
      "  Words: ['here', 'i', 'let', 'though']\n",
      "Node 48:\n",
      "  Words: ['here', 'i', 'if', 'let', 'when', 'where']\n",
      "Node 49:\n",
      "  Words: ['here']\n",
      "Node 50:\n",
      "  Words: ['here', 'though', 'which']\n",
      "Node 51:\n",
      "  Words: ['here', 'when', 'where', 'who']\n",
      "Node 52:\n",
      "  Words: ['if', 'let', 'when']\n",
      "Node 53:\n",
      "  Words: ['know', 'really', 'sure']\n",
      "Node 54:\n",
      "  Words: ['know', 'or', 'sure']\n",
      "Node 55:\n",
      "  Words: ['let']\n",
      "Node 56:\n",
      "  Words: ['little', 'new', 'of', 'other', 'real', 'whole']\n",
      "Node 57:\n",
      "  Words: ['lot', 'na', 'out', 'pretty', 'tell']\n",
      "Node 58:\n",
      "  Words: ['lot', 'of', 'out']\n",
      "Node 59:\n",
      "  Words: ['mhm']\n",
      "Node 60:\n",
      "  Words: ['mm']\n",
      "Node 61:\n",
      "  Words: ['mm', 'yes']\n",
      "Node 62:\n",
      "  Words: ['mm', 'okay', 'alright']\n",
      "Node 63:\n",
      "  Words: ['mm', 'okay', 'yeah', 'alright']\n",
      "Node 64:\n",
      "  Words: ['mm', 'okay', 'yes', 'alright']\n",
      "Node 65:\n",
      "  Words: ['mom']\n",
      "Node 66:\n",
      "  Words: ['na', 'out']\n",
      "Node 67:\n",
      "  Words: ['new', 'real']\n",
      "Node 68:\n",
      "  Words: ['no']\n",
      "Node 69:\n",
      "  Words: ['no', 'right']\n",
      "Node 70:\n",
      "  Words: ['of']\n",
      "Node 71:\n",
      "  Words: ['oh']\n",
      "Node 72:\n",
      "  Words: ['or']\n",
      "Node 73:\n",
      "  Words: ['out']\n",
      "Node 74:\n",
      "  Words: ['pretty']\n",
      "Node 75:\n",
      "  Words: ['real']\n",
      "Node 76:\n",
      "  Words: ['right']\n",
      "Node 77:\n",
      "  Words: ['stuff', 'year']\n",
      "Node 78:\n",
      "  Words: ['stuff']\n",
      "Node 79:\n",
      "  Words: ['then']\n",
      "Node 80:\n",
      "  Words: ['uh']\n",
      "Node 81:\n",
      "  Words: ['um']\n",
      "Node 82:\n",
      "  Words: ['well']\n",
      "Node 83:\n",
      "  Words: ['when']\n",
      "Node 84:\n",
      "  Words: ['yes']\n"
     ]
    }
   ],
   "source": [
    "mapper_graph = pipe.fit_transform(distance_matrix)\n",
    "column_names = distance_matrix_raw.columns.tolist()\n",
    "node_elements = mapper_graph.vs[\"node_elements\"]\n",
    "\n",
    "for node_id, indices in enumerate(node_elements):\n",
    "    words = [column_names[i] for i in indices]\n",
    "    print(f\"Node {node_id}:\")\n",
    "    #print(f\"  Indices: {indices}\")\n",
    "    print(f\"Words: {words}\")\n"
   ]
  },
  {
   "cell_type": "code",
   "execution_count": 42,
   "id": "cd0d5112-dab1-4bc1-8fa1-e0071f1c69f4",
   "metadata": {},
   "outputs": [
    {
     "name": "stdout",
     "output_type": "stream",
     "text": [
      "<class 'igraph.Graph'>\n",
      "['pullback_set_label', 'partial_cluster_label', 'node_elements']\n",
      "Node ID: 1, Node elements: [ 3 97], Data points: [[-0.20309507 -0.06242241  0.17991439  0.00251489 -0.01076365]\n",
      " [-0.20468865 -0.07222665  0.13540522 -0.00639348 -0.00048297]]\n"
     ]
    }
   ],
   "source": [
    "\n",
    "mapper_graph = pipe.fit_transform(mds_coords)  # Create the mapper graph\n",
    "print(type(mapper_graph))\n",
    "\n",
    "print(mapper_graph.vs.attributes())\n",
    "\n",
    "# Find which points belong to first node of graph\n",
    "#node_id = 1\n",
    "node_elements = mapper_graph.vs[\"node_elements\"]\n",
    "#print(f\"Node ID: {node_id}, Node elements: {node_elements[node_id]}, Data points: {mds_coords[node_elements[node_id]]}\")\n"
   ]
  },
  {
   "cell_type": "code",
   "execution_count": 39,
   "id": "94f013c7-4c1d-4ba6-b723-0204b4eb8573",
   "metadata": {},
   "outputs": [],
   "source": [
    "distance_matrix_raw = pd.read_csv(\"distance_matrix.csv\")"
   ]
  },
  {
   "cell_type": "code",
   "execution_count": null,
   "id": "9c391592-76e5-471f-b41e-fe0b4604c4bb",
   "metadata": {},
   "outputs": [],
   "source": []
  },
  {
   "cell_type": "code",
   "execution_count": null,
   "id": "90fe6233-f138-4676-b382-275c1a87e509",
   "metadata": {},
   "outputs": [],
   "source": []
  },
  {
   "cell_type": "code",
   "execution_count": null,
   "id": "854dfba3-b7f7-48be-bb30-09db94bed1cc",
   "metadata": {},
   "outputs": [],
   "source": [
    "\n"
   ]
  },
  {
   "cell_type": "code",
   "execution_count": null,
   "id": "354d7738-d308-4de8-877d-6e87edf8a24c",
   "metadata": {},
   "outputs": [],
   "source": []
  },
  {
   "cell_type": "code",
   "execution_count": 50,
   "id": "07339636-4779-42ee-abd0-b6fabdb09aa9",
   "metadata": {
    "tags": []
   },
   "outputs": [
    {
     "name": "stdout",
     "output_type": "stream",
     "text": [
      "3\n"
     ]
    },
    {
     "name": "stderr",
     "output_type": "stream",
     "text": [
      "/Users/lu/opt/anaconda3/lib/python3.9/site-packages/sklearn/manifold/_mds.py:601: UserWarning:\n",
      "\n",
      "The MDS API has changed. ``fit`` now constructs an dissimilarity matrix from data. To use a custom dissimilarity matrix, set ``dissimilarity='precomputed'``.\n",
      "\n"
     ]
    },
    {
     "name": "stdout",
     "output_type": "stream",
     "text": [
      "Node 0:\n",
      "  Words: [\"'d\", \"'re\", \"'s\", \"'ve\", 'gon', 'na', 'need', 'wan']\n",
      "Node 1:\n",
      "  Words: [\"'d\", \"'ll\", \"'m\", \"'re\", \"'s\", \"'ve\", 'ca']\n",
      "Node 2:\n",
      "  Words: [\"'ll\", \"'s\", 'mean']\n",
      "Node 3:\n",
      "  Words: [\"'re\", \"'s\", \"'ve\", 'a', 'about', 'all', 'always', 'any', 'as', 'at', 'be', 'been', 'by', 'call', 'came', 'can', 'come', 'could', 'do', 'even', 'five', 'for', 'from', 'get', 'getting', 'go', 'goes', 'going', 'gon', 'got', 'had', 'has', 'have', 'in', 'into', 'kind', 'kinda', 'lot', 'make', \"n't\", 'na', 'need', 'never', 'not', 'on', 'only', 'over', 'put', 'said', 'should', 'some', 'still', 'tell', 'than', 'think', 'those', 'thought', 'through', 'told', 'want', 'wanted', 'was', 'went', 'were', 'will', 'with', 'would', 'remember', 'give']\n",
      "Node 4:\n",
      "  Words: [\"'re\", \"'s\", \"'ve\", 'about', 'ca', 'could', 'did', 'do', 'five', 'guess', 'has', 'just', 'never', 'on', 'only', 'over', 'probably', 'said', 'should', 'think', 'thought', 'three', 'through', 'went', 'with', 'would', 'remember']\n",
      "Node 5:\n",
      "  Words: [\"'s\", 'na', 'pretty', 'very']\n",
      "Node 6:\n",
      "  Words: [\"'s\", 'lot', 'na', 'pretty', 'said', 'tell']\n",
      "Node 7:\n",
      "  Words: ['a', 'about', 'all', 'always', 'an', 'another', 'any', 'are', 'as', 'at', 'be', 'big', 'by', 'call', 'came', 'can', 'come', 'different', 'do', 'doing', 'even', 'every', 'first', 'five', 'for', 'four', 'from', 'get', 'getting', 'go', 'goes', 'going', 'has', 'is', 'kind', 'kinda', 'like', 'little', 'long', 'look', 'lot', 'make', 'more', 'much', 'my', 'new', 'not', 'of', 'on', 'one', 'other', 'our', 'over', 'people', 'put', 'real', 'said', 'see', 'some', 'still', 'tell', 'than', 'that', 'the', 'their', 'thing', 'things', 'this', 'those', 'through', 'two', 'up', 'want', 'wanted', 'went', 'were', 'whole', 'will', 'your', 'his', 'remember', 'give']\n",
      "Node 8:\n",
      "  Words: ['about', 'are', 'day', 'did', 'do', 'does', 'doing', 'down', 'every', 'five', 'four', 'good', 'guy', 'has', 'her', 'how', 'is', 'it', 'just', 'long', 'look', 'me', 'more', 'off', 'on', 'over', 'probably', 'really', 'said', 'say', 'see', 'something', 'that', 'them', 'there', 'they', 'three', 'through', 'two', 'way', 'we', 'went', 'what', 'years', 'you', 'remember']\n",
      "Node 9:\n",
      "  Words: ['after', 'our']\n",
      "Node 10:\n",
      "  Words: ['after', 'day', 'good', 'how', 'they', 'we', 'what', 'when', 'where', 'who', 'years', 'you']\n",
      "Node 11:\n",
      "  Words: ['and', 'because', 'though', 'which']\n",
      "Node 12:\n",
      "  Words: ['anything', 'pretty', 'real', 'stuff', 'time', 'very', 'year', 'great']\n",
      "Node 13:\n",
      "  Words: ['anything', 'around', 'before', 'big', 'different', 'em', 'everything', 'him', 'lot', 'much', 'or', 'out', 'pretty', 'real', 'said', 'tell', 'ten', 'thing', 'things', 'time', 'up', 'us', 'work', 'year', 'great']\n",
      "Node 14:\n",
      "  Words: ['because', 'but', 'well']\n",
      "Node 15:\n",
      "  Words: ['because', 'mom', 'no', 'right']\n",
      "Node 16:\n",
      "  Words: ['because', 'here', 'mom', 'so', 'though']\n",
      "Node 17:\n",
      "  Words: ['but', 'cause', 'well']\n",
      "Node 18:\n",
      "  Words: ['day', 'good', 'he', 'here', 'how', 'i', 'if', 'let', 'maybe', 'mom', 'now', 'she', 'so', 'they', 'too', 'we', 'what', 'when', 'where', 'who', 'why', 'years', 'you']\n",
      "Node 19:\n",
      "  Words: ['everything', 'god', 'know', 'or', 'said', 'sure', 'man']\n",
      "Node 20:\n",
      "  Words: ['mhm']\n",
      "Node 21:\n",
      "  Words: ['mm', 'okay', 'yeah', 'yes', 'alright']\n",
      "Node 22:\n",
      "  Words: ['oh', 'um']\n",
      "Node 23:\n",
      "  Words: ['okay', 'um', 'yeah']\n",
      "Node 24:\n",
      "  Words: ['right', 'uh']\n",
      "Node 25:\n",
      "  Words: ['then']\n"
     ]
    }
   ],
   "source": [
    "import json\n",
    "import numpy as np\n",
    "\n",
    "np.random.seed(3047)\n",
    "\n",
    "mapper_graph = pipe.fit_transform(distance_matrix)\n",
    "adjacency_matrix = np.array(mapper_graph.get_adjacency()).tolist()\n",
    "node_elements = [list(map(int, ne)) for ne in mapper_graph.vs[\"node_elements\"]]\n",
    "\n",
    "mapper_result_export = {\n",
    "    \"adjacency\": adjacency_matrix,\n",
    "    \"points_in_vertex\": node_elements\n",
    "}\n",
    "\n",
    "to_remove = set()\n",
    "n = len(node_elements)\n",
    "\n",
    "for i in range(n):\n",
    "    for j in range(n):\n",
    "        if i != j:\n",
    "            set_i = set(node_elements[i])\n",
    "            set_j = set(node_elements[j])\n",
    "            if set_i < set_j:  # proper subset\n",
    "                to_remove.add(i)\n",
    "                break  # i is a proper subset of j\n",
    "\n",
    "# Step 2: Sort indices descending to delete safely\n",
    "to_remove = sorted(to_remove, reverse=True)\n",
    "\n",
    "# Step 3: Remove from points_in_vertex and adjacency\n",
    "for idx in to_remove:\n",
    "    del node_elements[idx]\n",
    "    del adjacency_matrix[idx]\n",
    "    for row in adjacency_matrix:\n",
    "        del row[idx]\n",
    "\n",
    "# Step 4: Update the export dictionary\n",
    "mapper_result_export = {\n",
    "    \"adjacency\": adjacency_matrix,\n",
    "    \"points_in_vertex\": node_elements\n",
    "}\n",
    "\n",
    "\n",
    "\n",
    "column_names = distance_matrix_raw.columns.tolist()\n",
    "# Use cleaned node_elements from mapper_result_export\n",
    "cleaned_node_elements = mapper_result_export[\"points_in_vertex\"]\n",
    "\n",
    "for node_id, indices in enumerate(cleaned_node_elements):\n",
    "    words = [column_names[i] for i in indices]\n",
    "    print(f\"Node {node_id}:\")\n",
    "    print(f\"  Words: {words}\")\n",
    "\n",
    "with open(\"mapper_result.json\", \"w\") as f:\n",
    "    json.dump(mapper_result_export, f)\n"
   ]
  },
  {
   "cell_type": "code",
   "execution_count": 51,
   "id": "657187fd-2e26-4d97-b260-067aaf0532ef",
   "metadata": {},
   "outputs": [
    {
     "name": "stdout",
     "output_type": "stream",
     "text": [
      "3\n"
     ]
    },
    {
     "name": "stderr",
     "output_type": "stream",
     "text": [
      "/Users/lu/opt/anaconda3/lib/python3.9/site-packages/sklearn/manifold/_mds.py:601: UserWarning:\n",
      "\n",
      "The MDS API has changed. ``fit`` now constructs an dissimilarity matrix from data. To use a custom dissimilarity matrix, set ``dissimilarity='precomputed'``.\n",
      "\n"
     ]
    },
    {
     "name": "stdout",
     "output_type": "stream",
     "text": [
      "Node 0:\n",
      "  Words: [\"'d\", \"'ll\", \"'m\", \"'re\", \"'s\", \"'ve\", 'ca', 'guess', 'need', 'thought', 'wan']\n",
      "Node 1:\n",
      "  Words: [\"'ll\", \"'m\", \"'s\", 'mean']\n",
      "Node 2:\n",
      "  Words: ['a', 'about', 'all', 'always', 'any', 'are', 'at', 'be', 'by', 'came', 'can', 'come', 'do', 'doing', 'down', 'even', 'every', 'first', 'five', 'for', 'four', 'from', 'getting', 'go', 'goes', 'going', 'got', 'guy', 'has', 'have', 'her', 'in', 'into', 'is', 'just', 'kind', 'kinda', 'long', 'look', 'more', 'my', \"n't\", 'never', 'not', 'off', 'on', 'one', 'only', 'our', 'over', 'probably', 'put', 'said', 'see', 'some', 'still', 'than', 'that', 'the', 'this', 'those', 'three', 'through', 'told', 'two', 'way', 'went', 'were', 'will', 'with', 'remember', 'give']\n",
      "Node 3:\n",
      "  Words: ['a', 'all', 'always', 'an', 'another', 'as', 'been', 'big', 'by', 'call', 'came', 'different', 'get', 'getting', 'have', 'into', 'kind', 'little', 'lot', 'make', 'my', \"n't\", 'new', 'of', 'other', 'our', 'put', 'real', 'some', 'the', 'their', 'told', 'want', 'wanted', 'were', 'whole', 'your', 'his', 'give']\n",
      "Node 4:\n",
      "  Words: ['about', 'any', 'could', 'doing', 'got', 'have', 'in', 'into', \"n't\", 'never', 'on', 'only', 'our', 'over', 'the', 'through', 'told', 'went', 'with', 'would']\n",
      "Node 5:\n",
      "  Words: ['after', 'four', 'good', 'is', 'look', 'maybe', 'really', 'see', 'three', 'too', 'what', 'when', 'where', 'who', 'why', 'you']\n",
      "Node 6:\n",
      "  Words: ['after', 'all', 'every', 'first', 'four', 'goes', 'is', 'like', 'look', 'people', 'really', 'said', 'see', 'some', 'three', 'remember']\n",
      "Node 7:\n",
      "  Words: ['all', 'around', 'as', 'before', 'big', 'call', 'different', 'get', 'lot', 'much', 'other', 'out', 'people', 'some', 'ten', 'things', 'up']\n",
      "Node 8:\n",
      "  Words: ['and', 'here', 'mom', 'so', 'which']\n",
      "Node 9:\n",
      "  Words: ['and', 'because', 'well', 'which']\n",
      "Node 10:\n",
      "  Words: ['and', 'then']\n",
      "Node 11:\n",
      "  Words: ['anything', 'around', 'before', 'em', 'him', 'out', 'thing', 'things', 'time', 'up', 'us', 'work']\n",
      "Node 12:\n",
      "  Words: ['anything', 'around', 'before', 'em', 'him', 'out', 'us', 'work', 'year', 'great']\n",
      "Node 13:\n",
      "  Words: ['are', 'day', 'did', 'does', 'doing', 'down', 'five', 'four', 'guy', 'he', 'her', 'how', 'if', 'is', 'it', 'just', 'let', 'look', 'maybe', 'me', 'never', 'off', 'over', 'probably', 'say', 'see', 'she', 'something', 'that', 'them', 'there', 'they', 'three', 'too', 'way', 'we', 'what', 'when', 'where', 'years', 'you']\n",
      "Node 14:\n",
      "  Words: ['around', 'before', 'much', 'out', 'thing', 'things', 'up']\n",
      "Node 15:\n",
      "  Words: ['around', 'before', 'big', 'different', 'or', 'out', 'ten']\n",
      "Node 16:\n",
      "  Words: ['around', 'before', 'lot', 'out', 'pretty', 'tell', 'things', 'up']\n",
      "Node 17:\n",
      "  Words: ['around', 'before', 'or', 'out', 'pretty', 'tell', 'very']\n",
      "Node 18:\n",
      "  Words: ['been', 'into', 'lot', \"n't\", 'na', 'of', 'pretty', 'real', 'tell', 'wanted']\n",
      "Node 19:\n",
      "  Words: ['but', 'well']\n",
      "Node 20:\n",
      "  Words: ['cause']\n",
      "Node 21:\n",
      "  Words: ['could', 'guess', 'had', 'into', \"n't\", 'need', 'should', 'think', 'thought', 'was', 'would']\n",
      "Node 22:\n",
      "  Words: ['everything', 'god', 'know', 'great', 'man']\n",
      "Node 23:\n",
      "  Words: ['gon', 'into', \"n't\", 'need']\n",
      "Node 24:\n",
      "  Words: ['good', 'here', 'i', 'maybe', 'mom', 'now', 'so', 'too', 'why']\n",
      "Node 25:\n",
      "  Words: ['guess', 'then']\n",
      "Node 26:\n",
      "  Words: ['he', 'here', 'i', 'let', 'maybe', 'now', 'she', 'they', 'too']\n",
      "Node 27:\n",
      "  Words: ['like', 'or', 'really', 'said', 'remember']\n",
      "Node 28:\n",
      "  Words: ['mhm']\n",
      "Node 29:\n",
      "  Words: ['mm', 'oh', 'yes']\n",
      "Node 30:\n",
      "  Words: ['mm', 'oh', 'um']\n",
      "Node 31:\n",
      "  Words: ['mm', 'okay', 'um', 'alright']\n",
      "Node 32:\n",
      "  Words: ['mm', 'okay', 'yeah', 'yes', 'alright']\n",
      "Node 33:\n",
      "  Words: ['no', 'right', 'well']\n",
      "Node 34:\n",
      "  Words: ['really', 'sure']\n",
      "Node 35:\n",
      "  Words: ['stuff', 'year']\n",
      "Node 36:\n",
      "  Words: ['though']\n",
      "Node 37:\n",
      "  Words: ['uh']\n"
     ]
    }
   ],
   "source": [
    "import json\n",
    "import numpy as np\n",
    "\n",
    "np.random.seed(4)\n",
    "\n",
    "mapper_graph = pipe.fit_transform(distance_matrix)\n",
    "adjacency_matrix = np.array(mapper_graph.get_adjacency()).tolist()\n",
    "node_elements = [list(map(int, ne)) for ne in mapper_graph.vs[\"node_elements\"]]\n",
    "\n",
    "mapper_result_export = {\n",
    "    \"adjacency\": adjacency_matrix,\n",
    "    \"points_in_vertex\": node_elements\n",
    "}\n",
    "\n",
    "to_remove = set()\n",
    "n = len(node_elements)\n",
    "\n",
    "for i in range(n):\n",
    "    for j in range(n):\n",
    "        if i != j:\n",
    "            set_i = set(node_elements[i])\n",
    "            set_j = set(node_elements[j])\n",
    "            if set_i < set_j:  # proper subset\n",
    "                to_remove.add(i)\n",
    "                break  # i is a proper subset of j\n",
    "\n",
    "# Step 2: Sort indices descending to delete safely\n",
    "to_remove = sorted(to_remove, reverse=True)\n",
    "\n",
    "# Step 3: Remove from points_in_vertex and adjacency\n",
    "for idx in to_remove:\n",
    "    del node_elements[idx]\n",
    "    del adjacency_matrix[idx]\n",
    "    for row in adjacency_matrix:\n",
    "        del row[idx]\n",
    "\n",
    "# Step 4: Update the export dictionary\n",
    "mapper_result_export = {\n",
    "    \"adjacency\": adjacency_matrix,\n",
    "    \"points_in_vertex\": node_elements\n",
    "}\n",
    "\n",
    "\n",
    "\n",
    "column_names = distance_matrix_raw.columns.tolist()\n",
    "# Use cleaned node_elements from mapper_result_export\n",
    "cleaned_node_elements = mapper_result_export[\"points_in_vertex\"]\n",
    "\n",
    "for node_id, indices in enumerate(cleaned_node_elements):\n",
    "    words = [column_names[i] for i in indices]\n",
    "    print(f\"Node {node_id}:\")\n",
    "    print(f\"  Words: {words}\")\n",
    "\n",
    "with open(\"mapper_result.json\", \"w\") as f:\n",
    "    json.dump(mapper_result_export, f)\n"
   ]
  },
  {
   "cell_type": "code",
   "execution_count": null,
   "id": "22fe3a85-16c4-4648-93c3-ce5b5228d3bd",
   "metadata": {},
   "outputs": [],
   "source": [
    "\n",
    "points_in_vertex = data[\"points_in_vertex\"]\n",
    "adjacency = data[\"adjacency\"]\n",
    "\n",
    "# Step 1: Identify proper subsets\n",
    "to_remove = set()\n",
    "n = len(points_in_vertex)\n",
    "\n",
    "for i in range(n):\n",
    "    for j in range(n):\n",
    "        if i != j:\n",
    "            set_i = set(points_in_vertex[i])\n",
    "            set_j = set(points_in_vertex[j])\n",
    "            if set_i < set_j:  # proper subset\n",
    "                to_remove.add(i)\n",
    "                break  # No need to check further once i is known to be a subset\n",
    "\n",
    "# Step 2: Sort indices in descending order so we can safely delete\n",
    "to_remove = sorted(to_remove, reverse=True)\n",
    "\n",
    "# Step 3: Remove entries from both `points_in_vertex` and `adjacency`\n",
    "for idx in to_remove:\n",
    "    del points_in_vertex[idx]\n",
    "    del adjacency[idx]\n",
    "    for row in adjacency:\n",
    "        del row[idx]\n",
    "\n",
    "# (Optional) Save the cleaned version\n",
    "data[\"points_in_vertex\"] = points_in_vertex\n",
    "data[\"adjacency\"] = adjacency\n",
    "\n",
    "with open(\"cleaned_mapper_result.json\", \"w\") as f:\n",
    "    json.dump(data, f)"
   ]
  }
 ],
 "metadata": {
  "kernelspec": {
   "display_name": "Python 3 (ipykernel)",
   "language": "python",
   "name": "python3"
  },
  "language_info": {
   "codemirror_mode": {
    "name": "ipython",
    "version": 3
   },
   "file_extension": ".py",
   "mimetype": "text/x-python",
   "name": "python",
   "nbconvert_exporter": "python",
   "pygments_lexer": "ipython3",
   "version": "3.9.18"
  }
 },
 "nbformat": 4,
 "nbformat_minor": 5
}
